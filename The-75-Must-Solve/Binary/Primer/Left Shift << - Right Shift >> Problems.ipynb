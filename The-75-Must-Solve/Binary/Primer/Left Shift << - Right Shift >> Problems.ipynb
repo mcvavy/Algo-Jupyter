{
 "cells": [
  {
   "cell_type": "markdown",
   "metadata": {},
   "source": [
    "> **Given a number N and index i , find wether the ith bit binary representation of N is set or not**"
   ]
  },
  {
   "cell_type": "code",
   "execution_count": 9,
   "metadata": {},
   "outputs": [
    {
     "name": "stdout",
     "output_type": "stream",
     "text": [
      "True\n",
      "False\n"
     ]
    }
   ],
   "source": [
    "def is_bit_set(N, i) -> bool:\n",
    "#     print(bin((1 << i) & N)[2:])\n",
    "    return False if (1 << i) & N == 0 else True\n",
    "\n",
    "print(is_bit_set(12,3)) # True\n",
    "print(is_bit_set(12,4)) # False"
   ]
  },
  {
   "cell_type": "code",
   "execution_count": null,
   "metadata": {},
   "outputs": [],
   "source": []
  },
  {
   "cell_type": "markdown",
   "metadata": {},
   "source": [
    "> **Count the number of set bits representation of N: Given a number N, find the number of set bits in it**"
   ]
  },
  {
   "cell_type": "code",
   "execution_count": 22,
   "metadata": {},
   "outputs": [
    {
     "data": {
      "text/plain": [
       "4"
      ]
     },
     "execution_count": 22,
     "metadata": {},
     "output_type": "execute_result"
    }
   ],
   "source": [
    "def count_set_bits(N):\n",
    "    count = 0\n",
    "    while N:\n",
    "        if N & 1 > 0:\n",
    "            count += 1\n",
    "        N = N >> 1\n",
    "    return count\n",
    "count_set_bits(29)\n",
    "        \n",
    "        "
   ]
  }
 ],
 "metadata": {
  "kernelspec": {
   "display_name": "Python 3",
   "language": "python",
   "name": "python3"
  },
  "language_info": {
   "codemirror_mode": {
    "name": "ipython",
    "version": 3
   },
   "file_extension": ".py",
   "mimetype": "text/x-python",
   "name": "python",
   "nbconvert_exporter": "python",
   "pygments_lexer": "ipython3",
   "version": "3.8.3"
  }
 },
 "nbformat": 4,
 "nbformat_minor": 4
}
