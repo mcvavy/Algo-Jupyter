{
 "cells": [
  {
   "cell_type": "markdown",
   "metadata": {},
   "source": [
    "> **XOR Queries of a Subarray**\n",
    "\n",
    "https://leetcode.com/problems/xor-queries-of-a-subarray/"
   ]
  },
  {
   "cell_type": "code",
   "execution_count": null,
   "metadata": {},
   "outputs": [],
   "source": [
    "class Solution:\n",
    "    def xorQueries(self, arr: List[int], queries: List[List[int]]) -> List[int]:\n",
    "        # pre-process a prefix for fast lookup and optimisation\n",
    "        res = []\n",
    "        preXOR = [arr[0]]\n",
    "        for i in range(1, len(arr)):\n",
    "            preXOR.append(preXOR[i - 1] ^ arr[i])\n",
    "            \n",
    "        for x in queries:\n",
    "            l = x[0]; r = x[1]\n",
    "            \n",
    "            if l == 0:\n",
    "                res.append(preXOR[r])\n",
    "            else:\n",
    "                res.append(preXOR[r] ^ preXOR[l-1])\n",
    "        return res"
   ]
  },
  {
   "cell_type": "code",
   "execution_count": null,
   "metadata": {},
   "outputs": [],
   "source": []
  },
  {
   "cell_type": "markdown",
   "metadata": {},
   "source": [
    "> **Sum of XOR of all pairs in an array**"
   ]
  },
  {
   "cell_type": "code",
   "execution_count": null,
   "metadata": {},
   "outputs": [],
   "source": []
  }
 ],
 "metadata": {
  "kernelspec": {
   "display_name": "Python 3",
   "language": "python",
   "name": "python3"
  },
  "language_info": {
   "codemirror_mode": {
    "name": "ipython",
    "version": 3
   },
   "file_extension": ".py",
   "mimetype": "text/x-python",
   "name": "python",
   "nbconvert_exporter": "python",
   "pygments_lexer": "ipython3",
   "version": "3.8.3"
  }
 },
 "nbformat": 4,
 "nbformat_minor": 4
}
