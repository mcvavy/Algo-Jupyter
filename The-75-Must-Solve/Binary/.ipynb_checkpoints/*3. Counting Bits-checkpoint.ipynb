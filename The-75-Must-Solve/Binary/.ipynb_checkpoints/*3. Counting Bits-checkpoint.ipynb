{
 "cells": [
  {
   "cell_type": "markdown",
   "metadata": {},
   "source": [
    "https://leetcode.com/problems/counting-bits/"
   ]
  },
  {
   "cell_type": "code",
   "execution_count": 2,
   "metadata": {},
   "outputs": [
    {
     "data": {
      "text/plain": [
       "[0, 1, 1, 2, 1, 2]"
      ]
     },
     "execution_count": 2,
     "metadata": {},
     "output_type": "execute_result"
    }
   ],
   "source": [
    "from typing import List\n",
    "\n",
    "class Solution:\n",
    "    def countBits(self, num: int) -> List[int]:\n",
    "        res = []\n",
    "        \n",
    "        i = 0\n",
    "        while i <= num:\n",
    "            tempCount = 0\n",
    "            n = i\n",
    "            while n:\n",
    "                if (n & 1) > 0:\n",
    "                    tempCount += 1\n",
    "                n = n >> 1\n",
    "            res.append(tempCount)\n",
    "            i += 1\n",
    "        return res\n",
    "s = Solution()\n",
    "s.countBits(5)"
   ]
  }
 ],
 "metadata": {
  "kernelspec": {
   "display_name": "Python 3",
   "language": "python",
   "name": "python3"
  },
  "language_info": {
   "codemirror_mode": {
    "name": "ipython",
    "version": 3
   },
   "file_extension": ".py",
   "mimetype": "text/x-python",
   "name": "python",
   "nbconvert_exporter": "python",
   "pygments_lexer": "ipython3",
   "version": "3.8.3"
  }
 },
 "nbformat": 4,
 "nbformat_minor": 4
}
