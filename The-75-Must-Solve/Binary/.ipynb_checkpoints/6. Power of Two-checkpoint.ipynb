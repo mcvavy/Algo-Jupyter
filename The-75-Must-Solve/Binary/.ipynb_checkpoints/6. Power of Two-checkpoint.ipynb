{
 "cells": [
  {
   "cell_type": "markdown",
   "metadata": {},
   "source": [
    "https://leetcode.com/problems/power-of-two/"
   ]
  },
  {
   "cell_type": "code",
   "execution_count": 12,
   "metadata": {},
   "outputs": [
    {
     "data": {
      "text/plain": [
       "True"
      ]
     },
     "execution_count": 12,
     "metadata": {},
     "output_type": "execute_result"
    }
   ],
   "source": [
    "class Solution:\n",
    "    def isPowerOfTwo(self, n: int) -> bool:\n",
    "        \"\"\"\n",
    "        Power of 2 should have at most 1 set bit\n",
    "        Example:\n",
    "        \n",
    "        1 --> 1\n",
    "        2 --> 10\n",
    "        4 --> 100\n",
    "        8 --> 1000\n",
    "        \"\"\"\n",
    "        counter = 0\n",
    "        if n < 0: return counter\n",
    "        while n:\n",
    "            if (n & 1) > 0:\n",
    "                counter += 1\n",
    "            n = n >> 1\n",
    "        return True if counter == 1 else False\n",
    "s = Solution()\n",
    "s.isPowerOfTwo(16)"
   ]
  }
 ],
 "metadata": {
  "kernelspec": {
   "display_name": "Python 3",
   "language": "python",
   "name": "python3"
  },
  "language_info": {
   "codemirror_mode": {
    "name": "ipython",
    "version": 3
   },
   "file_extension": ".py",
   "mimetype": "text/x-python",
   "name": "python",
   "nbconvert_exporter": "python",
   "pygments_lexer": "ipython3",
   "version": "3.8.3"
  }
 },
 "nbformat": 4,
 "nbformat_minor": 4
}
