{
 "cells": [
  {
   "cell_type": "code",
   "execution_count": 38,
   "metadata": {},
   "outputs": [
    {
     "name": "stdout",
     "output_type": "stream",
     "text": [
      "Before transpose\n",
      "[[ 5  1  9 11]\n",
      " [ 2  4  8 10]\n",
      " [13  3  6  7]\n",
      " [15 14 12 16]]\n",
      "\n",
      "After transpose\n",
      "[[ 5  2 13 15]\n",
      " [ 1  4  3 14]\n",
      " [ 9  8  6 12]\n",
      " [11 10  7 16]]\n",
      "\n",
      "After rotation\n",
      "[[15 13  2  5]\n",
      " [14  3  4  1]\n",
      " [12  6  8  9]\n",
      " [16  7 10 11]]\n",
      "\n",
      "a\n"
     ]
    }
   ],
   "source": [
    "import numpy\n",
    "import string\n",
    "\n",
    "def reverse(arr):\n",
    "    start = 0; end = len(arr) - 1\n",
    "    while start < end:\n",
    "        arr[start], arr[end] = arr[end], arr[start]\n",
    "        start +=1; end -= 1\n",
    "    \n",
    "    \n",
    "\n",
    "matrix = [[5,1,9,11],[2,4,8,10],[13,3,6,7],[15,14,12,16]]\n",
    "print(\"Before transpose\")\n",
    "print(numpy.matrix(matrix), end=\"\\n\\n\")\n",
    "\n",
    "n = len(matrix[0])\n",
    "\n",
    "for i in range(n):\n",
    "    for j in range(i, n):\n",
    "        matrix[i][j], matrix[j][i] = matrix[j][i], matrix[i][j]\n",
    "\n",
    "print(\"After transpose\")\n",
    "print(numpy.matrix(matrix), end=\"\\n\\n\")\n",
    "\n",
    "for row in matrix:\n",
    "    reverse(row)\n",
    "\n",
    "print(\"After rotation\")\n",
    "print(numpy.matrix(matrix), end=\"\\n\\n\")\n",
    "\n",
    "print(string.ascii_lowercase[0])"
   ]
  },
  {
   "cell_type": "code",
   "execution_count": null,
   "metadata": {},
   "outputs": [],
   "source": []
  },
  {
   "cell_type": "code",
   "execution_count": 47,
   "metadata": {},
   "outputs": [
    {
     "data": {
      "text/plain": [
       "1"
      ]
     },
     "execution_count": 47,
     "metadata": {},
     "output_type": "execute_result"
    }
   ],
   "source": [
    "class Solution:\n",
    "    def exist(self, board: List[List[str]], word: str) -> int:\n",
    "        self.board = board\n",
    "        self.rowLength = len(board)\n",
    "        self.colLength = len(board[0])\n",
    "    \n",
    "        count = 0\n",
    "        for i in range(self.rowLength):\n",
    "            for j in range(self.colLength):\n",
    "                if board[i][j] == word[0] and self.search(word, i, j, 0):\n",
    "                    count =+ 1\n",
    "        return count\n",
    "    \n",
    "    def search(self, word, row, col, index):\n",
    "        if index == len(word) - 1:\n",
    "            return True\n",
    "        character = self.board[row][col]\n",
    "        self.board[row][col] = \"$\"\n",
    "        \n",
    "        if row < self.rowLength - 1 and self.board[row + 1][col] == word[index + 1] and self.search(word, row + 1, col, index + 1):\n",
    "            return True\n",
    "        if col < self.colLength - 1 and self.board[row][col + 1] == word[index + 1] and self.search(word, row, col + 1, index + 1):\n",
    "            return True\n",
    "        if row > 0 and self.board[row - 1][col] == word[index + 1] and self.search(word, row - 1, col, index + 1):\n",
    "            return True\n",
    "        if col > 0 and self.board[row][col-1] == word[index + 1] and self.search(word, row, col-1, index + 1):\n",
    "            return True\n",
    "        \n",
    "        self.board[row][col] = character\n",
    "        \n",
    "        return False\n",
    "A = [\n",
    "  ['s', 'o', 's', 'o'],\n",
    "  ['s', 'o', 'o', 's'],\n",
    "  ['s', 's', 's', 's']\n",
    "]    \n",
    "Solution().exist(A,\"sos\")"
   ]
  }
 ],
 "metadata": {
  "kernelspec": {
   "display_name": "Python 3",
   "language": "python",
   "name": "python3"
  },
  "language_info": {
   "codemirror_mode": {
    "name": "ipython",
    "version": 3
   },
   "file_extension": ".py",
   "mimetype": "text/x-python",
   "name": "python",
   "nbconvert_exporter": "python",
   "pygments_lexer": "ipython3",
   "version": "3.8.3"
  }
 },
 "nbformat": 4,
 "nbformat_minor": 4
}
