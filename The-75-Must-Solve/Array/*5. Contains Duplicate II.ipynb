{
 "cells": [
  {
   "cell_type": "markdown",
   "metadata": {},
   "source": [
    "https://leetcode.com/problems/contains-duplicate/"
   ]
  },
  {
   "cell_type": "markdown",
   "metadata": {},
   "source": [
    "> solition using OrderedDict (emulating LRU)\n",
    "\n",
    "_Time complexity: $O(N)$  | Space complexity: O(N)_\n",
    "\n",
    "given an example $A$ = $[1,2,3,1]$"
   ]
  },
  {
   "cell_type": "code",
   "execution_count": 12,
   "metadata": {},
   "outputs": [
    {
     "data": {
      "text/plain": [
       "True"
      ]
     },
     "execution_count": 12,
     "metadata": {},
     "output_type": "execute_result"
    }
   ],
   "source": [
    "from typing import List\n",
    "\n",
    "from collections import OrderedDict as OD\n",
    "\n",
    "class Solution:\n",
    "    def containsNearbyDuplicate(self, nums: List[int], k: int) -> bool:\n",
    "        seen = OD()\n",
    "        \n",
    "        for i, e in enumerate(nums):\n",
    "            if e in seen:\n",
    "                return True\n",
    "\n",
    "            seen[e] = i\n",
    "            if len(seen) > k:\n",
    "                seen.popitem(last=False)\n",
    "        return False\n",
    "s = Solution()\n",
    "s.containsNearbyDuplicate([1,2,3,1], 3)"
   ]
  },
  {
   "cell_type": "code",
   "execution_count": null,
   "metadata": {},
   "outputs": [],
   "source": []
  },
  {
   "cell_type": "code",
   "execution_count": null,
   "metadata": {},
   "outputs": [],
   "source": []
  },
  {
   "cell_type": "markdown",
   "metadata": {},
   "source": [
    "> solition using set (emulating LRU)\n",
    "\n",
    "_Time complexity: $O(N)$  | Space complexity: O(N)_\n",
    "\n",
    "given an example $A$ = $[1,2,3,1]$"
   ]
  },
  {
   "cell_type": "code",
   "execution_count": 13,
   "metadata": {},
   "outputs": [
    {
     "data": {
      "text/plain": [
       "True"
      ]
     },
     "execution_count": 13,
     "metadata": {},
     "output_type": "execute_result"
    }
   ],
   "source": [
    "from typing import List\n",
    "\n",
    "class Solution:\n",
    "    def containsNearbyDuplicate(self, nums: List[int], k: int) -> bool:\n",
    "        seen = set()\n",
    "        \n",
    "        for i, e in enumerate(nums):\n",
    "            if e in seen:\n",
    "                return True\n",
    "\n",
    "            seen.add(e)\n",
    "            if len(seen) > k:\n",
    "                seen.remove(nums[i - k])\n",
    "        return False\n",
    "s = Solution()\n",
    "s.containsNearbyDuplicate([1,2,3,1], 3)"
   ]
  },
  {
   "cell_type": "code",
   "execution_count": null,
   "metadata": {},
   "outputs": [],
   "source": []
  },
  {
   "cell_type": "code",
   "execution_count": null,
   "metadata": {},
   "outputs": [],
   "source": []
  },
  {
   "cell_type": "markdown",
   "metadata": {},
   "source": [
    "> **Contains Duplicate III**  \n",
    "\n",
    "https://leetcode.com/problems/contains-duplicate-iii/\n",
    "\n",
    "- https://www.youtube.com/watch?v=z_cBIHYGvm8&ab_channel=thecodingworld"
   ]
  },
  {
   "cell_type": "code",
   "execution_count": 24,
   "metadata": {},
   "outputs": [
    {
     "data": {
      "text/plain": [
       "True"
      ]
     },
     "execution_count": 24,
     "metadata": {},
     "output_type": "execute_result"
    }
   ],
   "source": [
    "from typing import List\n",
    "\n",
    "class Solution:\n",
    "    def containsNearbyAlmostDuplicate(self, nums: List[int], k: int, t: int) -> bool:\n",
    "        n = len(nums)\n",
    "        \n",
    "        if t == 0 and len(set(nums)) == n: return False\n",
    "        \n",
    "        for idx, val in enumerate(nums):\n",
    "            for j in range(idx + 1, min(idx+1+k, n)):\n",
    "                if abs(val - nums[j]) <= t:\n",
    "                    return True\n",
    "        return False\n",
    "s = Solution()\n",
    "s.containsNearbyAlmostDuplicate([1,0,1,1], 1, 2)"
   ]
  }
 ],
 "metadata": {
  "kernelspec": {
   "display_name": "Python 3",
   "language": "python",
   "name": "python3"
  },
  "language_info": {
   "codemirror_mode": {
    "name": "ipython",
    "version": 3
   },
   "file_extension": ".py",
   "mimetype": "text/x-python",
   "name": "python",
   "nbconvert_exporter": "python",
   "pygments_lexer": "ipython3",
   "version": "3.8.3"
  }
 },
 "nbformat": 4,
 "nbformat_minor": 4
}
