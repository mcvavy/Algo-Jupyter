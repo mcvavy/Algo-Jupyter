{
 "cells": [
  {
   "cell_type": "markdown",
   "metadata": {},
   "source": [
    "https://leetcode.com/problems/best-time-to-buy-and-sell-stock/"
   ]
  },
  {
   "cell_type": "markdown",
   "metadata": {},
   "source": [
    "> Brute force solition  \n",
    "\n",
    "given an example $A = [7,1,5,3,6,4]$"
   ]
  },
  {
   "cell_type": "code",
   "execution_count": 13,
   "metadata": {},
   "outputs": [
    {
     "data": {
      "text/plain": [
       "5"
      ]
     },
     "execution_count": 13,
     "metadata": {},
     "output_type": "execute_result"
    }
   ],
   "source": [
    "from typing import List\n",
    "\n",
    "# Time complexity: O(n^2)\n",
    "class Solution:\n",
    "    def maxProfit(self, prices: List[int]) -> int:\n",
    "        maxProfit = 0\n",
    "        for i in range(len(prices) - 1):\n",
    "            for j in range(i+1, len(prices)):\n",
    "                if prices[j] - prices[i] > maxProfit:\n",
    "                    maxProfit = prices[j] - prices[i]\n",
    "        return maxProfit\n",
    "s = Solution()\n",
    "s.maxProfit([7,1,5,3,6,4])\n",
    "            "
   ]
  },
  {
   "cell_type": "code",
   "execution_count": null,
   "metadata": {},
   "outputs": [],
   "source": []
  },
  {
   "cell_type": "markdown",
   "metadata": {},
   "source": [
    "> **Optimimal Linear Solution O(N)**"
   ]
  },
  {
   "cell_type": "code",
   "execution_count": 23,
   "metadata": {},
   "outputs": [
    {
     "name": "stdout",
     "output_type": "stream",
     "text": [
      "Min so far is  7\n",
      "Min so far is  1\n"
     ]
    },
    {
     "data": {
      "text/plain": [
       "5"
      ]
     },
     "execution_count": 23,
     "metadata": {},
     "output_type": "execute_result"
    }
   ],
   "source": [
    "# Time complexity: O(n^2)\n",
    "class Solution:\n",
    "    def maxProfit(self, prices: List[int]) -> int:\n",
    "        min_so_far = float(\"inf\")\n",
    "        max_Profit = 0\n",
    "        \n",
    "        for i in range(len(prices)):\n",
    "            if prices[i] < min_so_far:\n",
    "                min_so_far = min(prices[i], min_so_far)\n",
    "                print(\"Min so far is \", min_so_far, end= \"\\n\")\n",
    "            max_Profit = max(prices[i] - min_so_far, max_Profit)\n",
    "        return max_Profit\n",
    "s = Solution()\n",
    "s.maxProfit([7,1,5,3,6,4])"
   ]
  }
 ],
 "metadata": {
  "kernelspec": {
   "display_name": "Python 3",
   "language": "python",
   "name": "python3"
  },
  "language_info": {
   "codemirror_mode": {
    "name": "ipython",
    "version": 3
   },
   "file_extension": ".py",
   "mimetype": "text/x-python",
   "name": "python",
   "nbconvert_exporter": "python",
   "pygments_lexer": "ipython3",
   "version": "3.8.3"
  }
 },
 "nbformat": 4,
 "nbformat_minor": 4
}
