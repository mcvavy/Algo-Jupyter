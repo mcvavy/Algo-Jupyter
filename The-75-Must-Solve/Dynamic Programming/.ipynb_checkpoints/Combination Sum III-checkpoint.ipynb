{
 "cells": [
  {
   "cell_type": "markdown",
   "metadata": {},
   "source": [
    "https://leetcode.com/problems/combination-sum-iii/\n",
    "\n",
    "<br>\n",
    "\n",
    "- [Knowledge Center](https://www.youtube.com/watch?v=rP_K3WJnRR4&ab_channel=KnowledgeCenter)"
   ]
  },
  {
   "cell_type": "code",
   "execution_count": 7,
   "metadata": {
    "code_folding": [
     5
    ]
   },
   "outputs": [
    {
     "name": "stderr",
     "output_type": "stream",
     "text": [
      "test_combinationSum3_test1 (__main__.CombinationSum3Test) ... ok\n",
      "test_combinationSum3_test2 (__main__.CombinationSum3Test) ... ok\n",
      "\n",
      "----------------------------------------------------------------------\n",
      "Ran 2 tests in 0.004s\n",
      "\n",
      "OK\n"
     ]
    },
    {
     "data": {
      "text/plain": [
       "<unittest.main.TestProgram at 0x7fb16a1d2e20>"
      ]
     },
     "execution_count": 7,
     "metadata": {},
     "output_type": "execute_result"
    }
   ],
   "source": [
    "from typing import List\n",
    "\n",
    "\"\"\"\n",
    "\"\"\"  \n",
    "class Solution:\n",
    "    def combinationSum3(self, k: int, n: int) -> List[List[int]]:\n",
    "        def bt(combination, n, start):\n",
    "            if k == len(combination) and n == 0:\n",
    "                result.append(list(combination))\n",
    "                return\n",
    "            for i in range(start, 10):\n",
    "                combination.append(i)\n",
    "                bt(combination, n-i, i + 1)\n",
    "                combination.pop()\n",
    "        result = []\n",
    "        bt([], n, 1)\n",
    "        return result\n",
    "    \n",
    "import unittest\n",
    "class CombinationSum3Test(unittest.TestCase):\n",
    "    def test_combinationSum3_test1(self):\n",
    "        result = Solution().combinationSum3(3,7)\n",
    "        self.assertEqual(result, [[1,2,4]])\n",
    "        \n",
    "    def test_combinationSum3_test2(self):\n",
    "        result = Solution().combinationSum3(3,9)\n",
    "        self.assertEqual(result, [[1,2,6],[1,3,5],[2,3,4]])\n",
    "\n",
    "        \n",
    "unittest.main(argv=[''], verbosity=2, exit=False)"
   ]
  }
 ],
 "metadata": {
  "kernelspec": {
   "display_name": "Python 3",
   "language": "python",
   "name": "python3"
  },
  "language_info": {
   "codemirror_mode": {
    "name": "ipython",
    "version": 3
   },
   "file_extension": ".py",
   "mimetype": "text/x-python",
   "name": "python",
   "nbconvert_exporter": "python",
   "pygments_lexer": "ipython3",
   "version": "3.8.3"
  }
 },
 "nbformat": 4,
 "nbformat_minor": 4
}
