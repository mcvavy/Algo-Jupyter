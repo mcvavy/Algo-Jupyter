{
 "cells": [
  {
   "cell_type": "markdown",
   "metadata": {},
   "source": [
    "https://leetcode.com/problems/word-break-ii/\n",
    "\n",
    "<br>\n",
    "\n",
    "- [Happy Coding Explanation](https://www.youtube.com/watch?v=dqxQs_6K0Xg&ab_channel=HappyCoding)\n",
    "- [Knowledge Center Explanation](https://www.youtube.com/watch?v=9-grHHGUVls&list=PL1w8k37X_6L-UQSn0c4DJJmbLb2DzDBkx&index=26&ab_channel=KnowledgeCenter)"
   ]
  },
  {
   "cell_type": "code",
   "execution_count": 10,
   "metadata": {
    "code_folding": [
     5
    ]
   },
   "outputs": [
    {
     "name": "stderr",
     "output_type": "stream",
     "text": [
      "test_wordBreak_test1 (__main__.WordBreakTest) ... FAIL\n",
      "test_wordBreak_test2 (__main__.WordBreakTest) ... FAIL\n",
      "test_wordBreak_test3 (__main__.WordBreakTest) ... ok\n",
      "\n",
      "======================================================================\n",
      "FAIL: test_wordBreak_test1 (__main__.WordBreakTest)\n",
      "----------------------------------------------------------------------\n",
      "Traceback (most recent call last):\n",
      "  File \"<ipython-input-10-9395f10f9fa6>\", line 51, in test_wordBreak_test1\n",
      "    self.assertEqual(result, [\"cats and dog\",\"cat sand dog\"])\n",
      "AssertionError: Lists differ: ['cat sand dog', 'cats and dog'] != ['cats and dog', 'cat sand dog']\n",
      "\n",
      "First differing element 0:\n",
      "'cat sand dog'\n",
      "'cats and dog'\n",
      "\n",
      "- ['cat sand dog', 'cats and dog']\n",
      "?      -                -\n",
      "\n",
      "+ ['cats and dog', 'cat sand dog']\n",
      "?       +              +\n",
      "\n",
      "\n",
      "======================================================================\n",
      "FAIL: test_wordBreak_test2 (__main__.WordBreakTest)\n",
      "----------------------------------------------------------------------\n",
      "Traceback (most recent call last):\n",
      "  File \"<ipython-input-10-9395f10f9fa6>\", line 62, in test_wordBreak_test2\n",
      "    self.assertEqual(result, o)\n",
      "AssertionError: Lists differ: ['pine apple pen apple', 'pine applepen apple', 'pineapple pen apple'] != ['pine apple pen apple', 'pineapple pen apple', 'pine applepen apple']\n",
      "\n",
      "First differing element 1:\n",
      "'pine applepen apple'\n",
      "'pineapple pen apple'\n",
      "\n",
      "- ['pine apple pen apple', 'pine applepen apple', 'pineapple pen apple']\n",
      "+ ['pine apple pen apple', 'pineapple pen apple', 'pine applepen apple']\n",
      "\n",
      "----------------------------------------------------------------------\n",
      "Ran 3 tests in 0.008s\n",
      "\n",
      "FAILED (failures=2)\n"
     ]
    },
    {
     "data": {
      "text/plain": [
       "<unittest.main.TestProgram at 0x7f77e606a700>"
      ]
     },
     "execution_count": 10,
     "metadata": {},
     "output_type": "execute_result"
    }
   ],
   "source": [
    "from typing import List\n",
    "\n",
    "\"\"\"\n",
    "\"\"\"  \n",
    "class Solution:\n",
    "    def wordBreak(self, s: str, wordDict: List[str]) -> List[str]:\n",
    "        def word_break(subStr):\n",
    "            if subStr in memo:\n",
    "                return memo[subStr]\n",
    "            result = []\n",
    "            for w in wordDict:\n",
    "                if subStr[:len(w)] == w:\n",
    "                    if len(w) == len(subStr):\n",
    "                        result.append(w)\n",
    "                    else:\n",
    "                        rest_of_word = word_break(subStr[len(w):])\n",
    "                        for wrd in rest_of_word:\n",
    "                            result.append(w + \" \" + wrd)\n",
    "            memo[subStr] = result\n",
    "            return result\n",
    "        memo = {}\n",
    "        return word_break(s)\n",
    "    \n",
    "    def wordBreakX(self, s: str, wordDict: List[str]) -> List[str]:\n",
    "        def word_break(subStr):\n",
    "            if subStr in memo:\n",
    "                return memo[subStr]\n",
    "            if not subStr:\n",
    "                return [[]]\n",
    "            result = []\n",
    "            for i in range(len(subStr)):\n",
    "                curr_word = subStr[:i + 1]\n",
    "                if curr_word in wordSet:\n",
    "                    rest_of_word = word_break(subStr[i+1:])\n",
    "                    for new_word_break in rest_of_word:\n",
    "                        result.append([curr_word] + new_word_break)\n",
    "            memo[subStr] = result\n",
    "            return result\n",
    "        memo = {}\n",
    "        wordSet = set(wordDict)\n",
    "        wordBreaks = word_break(s)\n",
    "        \n",
    "        return [\" \".join(wdbreak) for wdbreak in wordBreaks]\n",
    "        \n",
    "    \n",
    "import unittest\n",
    "class WordBreakTest(unittest.TestCase):\n",
    "    def test_wordBreak_test1(self):\n",
    "        s = \"catsanddog\"; w = [\"cat\", \"cats\", \"and\", \"sand\", \"dog\"]\n",
    "        result = Solution().wordBreak(s, w)\n",
    "        self.assertEqual(result, [\"cats and dog\",\"cat sand dog\"])\n",
    "        \n",
    "    def test_wordBreak_test2(self):\n",
    "        s = \"pineapplepenapple\"; w = [\"apple\", \"pen\", \"applepen\", \"pine\", \"pineapple\"]\n",
    "        result = Solution().wordBreak(s, w)\n",
    "        \n",
    "        o = [\n",
    "              \"pine apple pen apple\",\n",
    "              \"pineapple pen apple\",\n",
    "              \"pine applepen apple\"\n",
    "            ]\n",
    "        self.assertEqual(result, o)\n",
    "        \n",
    "    def test_wordBreak_test3(self):\n",
    "        s = \"catsandog\"; w = [\"cats\", \"dog\", \"sand\", \"and\", \"cat\"]\n",
    "        result = Solution().wordBreak(s, w)\n",
    "        self.assertEqual(result, [])\n",
    "        \n",
    "unittest.main(argv=[''], verbosity=2, exit=False)"
   ]
  }
 ],
 "metadata": {
  "kernelspec": {
   "display_name": "Python 3",
   "language": "python",
   "name": "python3"
  },
  "language_info": {
   "codemirror_mode": {
    "name": "ipython",
    "version": 3
   },
   "file_extension": ".py",
   "mimetype": "text/x-python",
   "name": "python",
   "nbconvert_exporter": "python",
   "pygments_lexer": "ipython3",
   "version": "3.8.3"
  }
 },
 "nbformat": 4,
 "nbformat_minor": 4
}
