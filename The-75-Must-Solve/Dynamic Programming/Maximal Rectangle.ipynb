{
 "cells": [
  {
   "cell_type": "markdown",
   "metadata": {},
   "source": [
    "https://leetcode.com/problems/maximal-rectangle/\n",
    "\n",
    "<br>\n"
   ]
  },
  {
   "attachments": {},
   "cell_type": "markdown",
   "metadata": {},
   "source": [
    "- [Tushar Roy Explanation](https://www.youtube.com/watch?v=g8bSdXCG-lA&ab_channel=TusharRoy-CodingMadeSimple)\n"
   ]
  },
  {
   "cell_type": "code",
   "execution_count": 6,
   "metadata": {
    "code_folding": [
     5
    ]
   },
   "outputs": [
    {
     "name": "stderr",
     "output_type": "stream",
     "text": [
      "test_maximalRectangle_test1 (__main__.MaximalRectangleTest) ... ok\n",
      "test_maximalRectangle_test2 (__main__.MaximalRectangleTest) ... ok\n",
      "test_maximalRectangle_test3 (__main__.MaximalRectangleTest) ... ok\n",
      "test_maximalRectangle_test4 (__main__.MaximalRectangleTest) ... ok\n",
      "test_maximalRectangle_test5 (__main__.MaximalRectangleTest) ... ok\n",
      "\n",
      "----------------------------------------------------------------------\n",
      "Ran 5 tests in 0.008s\n",
      "\n",
      "OK\n"
     ]
    },
    {
     "data": {
      "text/plain": [
       "<unittest.main.TestProgram at 0x7ff252d49520>"
      ]
     },
     "execution_count": 6,
     "metadata": {},
     "output_type": "execute_result"
    }
   ],
   "source": [
    "from typing import List\n",
    "\n",
    "\"\"\"\n",
    "Time complexity: O(MN)\n",
    "Space complexity: O(N) where N is the number of columns\n",
    "\"\"\"\n",
    "    \n",
    "class Solution:\n",
    "    def largestRectangleArea(self, heights: List[int]) -> int:\n",
    "        stack = [] # Pair: (index, height)\n",
    "        maxArea = 0\n",
    "        \n",
    "        for i, h in enumerate(heights):\n",
    "            start = i\n",
    "            while stack and stack[-1][1] > h:\n",
    "                index, height = stack.pop()\n",
    "                maxArea = max(maxArea, height * (i - index))\n",
    "                start = index\n",
    "            stack.append((start, h))\n",
    "        \n",
    "        for i, h in stack:\n",
    "            maxArea = max(maxArea, h * (len(heights) - i))\n",
    "        return maxArea\n",
    "    \n",
    "    def maximalRectangle(self, matrix: List[List[str]]) -> int:\n",
    "        if not matrix:\n",
    "            return 0\n",
    "        \n",
    "        m = len(matrix); n = len(matrix[0])\n",
    "        temp = [0 for _ in range(n)]\n",
    "        maxArea = 0\n",
    "        \n",
    "        for i in range(m):\n",
    "            for j in range(n):\n",
    "                if matrix[i][j] == \"0\":\n",
    "                    temp[j] = 0\n",
    "                else:\n",
    "                    temp[j] += int(matrix[i][j])\n",
    "            maxArea = max(maxArea, self.largestRectangleArea(temp))\n",
    "        return maxArea\n",
    "        \n",
    "    \n",
    "import unittest\n",
    "class MaximalRectangleTest(unittest.TestCase):\n",
    "    def test_maximalRectangle_test1(self):\n",
    "        matrix = [[\"1\",\"0\",\"1\",\"0\",\"0\"],\n",
    "                   [\"1\",\"0\",\"1\",\"1\",\"1\"],\n",
    "                   [\"1\",\"1\",\"1\",\"1\",\"1\"],\n",
    "                   [\"1\",\"0\",\"0\",\"1\",\"0\"]]\n",
    "        result = Solution().maximalRectangle(matrix)\n",
    "        self.assertEqual(result, 6)\n",
    "        \n",
    "    def test_maximalRectangle_test2(self):\n",
    "        result = Solution().maximalRectangle([])\n",
    "        self.assertEqual(result, 0)\n",
    "        \n",
    "    def test_maximalRectangle_test3(self):\n",
    "        result = Solution().maximalRectangle([[\"0\"]])\n",
    "        self.assertEqual(result, 0)\n",
    "        \n",
    "    def test_maximalRectangle_test4(self):\n",
    "        result = Solution().maximalRectangle([[\"1\"]])\n",
    "        self.assertEqual(result, 1)\n",
    "        \n",
    "    def test_maximalRectangle_test5(self):\n",
    "        result = Solution().maximalRectangle([[\"0\",\"0\"]])\n",
    "        self.assertEqual(result, 0)\n",
    "        \n",
    "unittest.main(argv=[''], verbosity=2, exit=False)"
   ]
  }
 ],
 "metadata": {
  "kernelspec": {
   "display_name": "Python 3",
   "language": "python",
   "name": "python3"
  },
  "language_info": {
   "codemirror_mode": {
    "name": "ipython",
    "version": 3
   },
   "file_extension": ".py",
   "mimetype": "text/x-python",
   "name": "python",
   "nbconvert_exporter": "python",
   "pygments_lexer": "ipython3",
   "version": "3.8.3"
  }
 },
 "nbformat": 4,
 "nbformat_minor": 4
}
