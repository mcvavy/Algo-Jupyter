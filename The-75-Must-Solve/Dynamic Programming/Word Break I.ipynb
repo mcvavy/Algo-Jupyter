{
 "cells": [
  {
   "cell_type": "markdown",
   "metadata": {},
   "source": [
    "https://leetcode.com/problems/word-break/\n",
    "\n",
    "<br>\n"
   ]
  },
  {
   "cell_type": "code",
   "execution_count": 1,
   "metadata": {
    "code_folding": [
     5
    ]
   },
   "outputs": [
    {
     "name": "stderr",
     "output_type": "stream",
     "text": [
      "test_wordBreak_test1 (__main__.WordBreakTest) ... ok\n",
      "test_wordBreak_test2 (__main__.WordBreakTest) ... ok\n",
      "test_wordBreak_test3 (__main__.WordBreakTest) ... ok\n",
      "\n",
      "----------------------------------------------------------------------\n",
      "Ran 3 tests in 0.009s\n",
      "\n",
      "OK\n"
     ]
    },
    {
     "data": {
      "text/plain": [
       "<unittest.main.TestProgram at 0x7fd2d3b14670>"
      ]
     },
     "execution_count": 1,
     "metadata": {},
     "output_type": "execute_result"
    }
   ],
   "source": [
    "from typing import List\n",
    "\n",
    "\"\"\"\n",
    "Time complexity: O(MN)\n",
    "Space complexity: O(N)\n",
    "\"\"\"  \n",
    "class Solution:\n",
    "    def wordBreak(self, s: str, wordDict: List[str]) -> bool:\n",
    "        dp = [True] + [False] * len(s)\n",
    "        \n",
    "        for i in range(1, len(s) + 1):\n",
    "            for word in wordDict:\n",
    "                if dp[i - len(word)] and s[:i].endswith(word):\n",
    "                    dp[i] = True\n",
    "        return dp[-1]\n",
    "        \n",
    "    \n",
    "import unittest\n",
    "class WordBreakTest(unittest.TestCase):\n",
    "    def test_wordBreak_test1(self):\n",
    "        s = \"leetcode\"; wordDict = [\"leet\", \"code\"]\n",
    "        result = Solution().wordBreak(s, wordDict)\n",
    "        self.assertEqual(result, True)\n",
    "        \n",
    "    def test_wordBreak_test2(self):\n",
    "        s = \"applepenapple\"; wordDict = [\"apple\", \"pen\"]\n",
    "        result = Solution().wordBreak(s, wordDict)\n",
    "        self.assertEqual(result, True)\n",
    "        \n",
    "    def test_wordBreak_test3(self):\n",
    "        s = \"catsandog\"; wordDict = [\"cats\", \"dog\", \"sand\", \"and\", \"cat\"]\n",
    "        result = Solution().wordBreak(s, wordDict)\n",
    "        self.assertEqual(result, False)\n",
    "        \n",
    "unittest.main(argv=[''], verbosity=2, exit=False)"
   ]
  }
 ],
 "metadata": {
  "kernelspec": {
   "display_name": "Python 3",
   "language": "python",
   "name": "python3"
  },
  "language_info": {
   "codemirror_mode": {
    "name": "ipython",
    "version": 3
   },
   "file_extension": ".py",
   "mimetype": "text/x-python",
   "name": "python",
   "nbconvert_exporter": "python",
   "pygments_lexer": "ipython3",
   "version": "3.8.3"
  }
 },
 "nbformat": 4,
 "nbformat_minor": 4
}
