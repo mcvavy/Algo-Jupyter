{
 "cells": [
  {
   "cell_type": "markdown",
   "metadata": {},
   "source": [
    "https://leetcode.com/problems/unique-paths/"
   ]
  },
  {
   "cell_type": "code",
   "execution_count": 32,
   "metadata": {},
   "outputs": [],
   "source": [
    "class Solution:\n",
    "    def uniquePaths(self, m: int, n: int) -> int:\n",
    "        \"\"\"\n",
    "        ----j-----\n",
    "          0    1\n",
    "        +----+----+\n",
    "      0 | *  |    |\n",
    "        +----+----+\n",
    "      1 |    |  X |\n",
    "        +----+----+\n",
    "        \n",
    "        if i > 0 and j > 0:\n",
    "            dp[i][j] = dp[i-1][j] + dp[i][j-1]\n",
    "        if i > 0 and j == 0:\n",
    "            dp[i][j] = dp[i-1][j]\n",
    "        if j > 0 and i == 0:\n",
    "            dp[i][j] = dp[i][j-1]\n",
    "        \"\"\"\n",
    "        \n",
    "        dp = [[0 for _ in range(n)] for _ in range(m)]\n",
    "        dp[0][0] = 1\n",
    "        \n",
    "        for i in range(m):\n",
    "            for j in range(n):\n",
    "                if i > 0 and j > 0:\n",
    "                    dp[i][j] = dp[i - 1][j] + dp[i][j-1]\n",
    "                elif i > 0 and j == 0:\n",
    "                    dp[i][j] = dp[i - 1][j]\n",
    "                elif j > 0 and i == 0:\n",
    "                    dp[i][j] = dp[i][j-1]\n",
    "        return dp[m-1][n-1]\n",
    "    \n",
    "import unittest\n",
    "class UniquePathsTest(unittest.TestCase):\n",
    "    def test_uniquepaths_test1(self):\n",
    "        result = Solution().uniquePaths(3,7)\n",
    "        self.assertEqual(result, 28)\n",
    "        \n",
    "    def test_uniquepaths_test2(self):\n",
    "        result = Solution().uniquePaths(3,2)\n",
    "        self.assertEqual(result, 3)\n",
    "                        \n",
    "    def test_uniquepaths_test3(self):\n",
    "        result = Solution().uniquePaths(7,3)\n",
    "        self.assertEqual(result, 28)\n",
    "        \n",
    "    def test_uniquepaths_test4(self):\n",
    "        result = Solution().uniquePaths(3, 3)\n",
    "        self.assertEqual(result, 6)\n",
    "        \n",
    "unittest.main(argv=[''], verbosity=2, exit=False)"
   ]
  },
  {
   "cell_type": "code",
   "execution_count": null,
   "metadata": {},
   "outputs": [],
   "source": []
  },
  {
   "cell_type": "code",
   "execution_count": null,
   "metadata": {},
   "outputs": [],
   "source": []
  },
  {
   "cell_type": "markdown",
   "metadata": {},
   "source": [
    ">**Unique Paths II**\n",
    "\n",
    "https://leetcode.com/problems/unique-paths-ii/"
   ]
  },
  {
   "cell_type": "code",
   "execution_count": 33,
   "metadata": {},
   "outputs": [],
   "source": [
    "from typing import List\n",
    "\n",
    "class SolutionObstacles:\n",
    "    def uniquePathsWithObstacles(self, obstacleGrid: List[List[int]]) -> int:\n",
    "        m = len(obstacleGrid); n = len(obstacleGrid[0])\n",
    "        \n",
    "        \"\"\"\n",
    "        ----j-----\n",
    "          0    1\n",
    "        +----+----+\n",
    "      0 | *  | OB |\n",
    "        +----+----+\n",
    "      1 |    |  X |\n",
    "        +----+----+\n",
    "        \n",
    "        if i > 0 and j > 0:\n",
    "            dp[i][j] = dp[i-1][j] + dp[i][j-1]\n",
    "        if i > 0 and j == 0:\n",
    "            dp[i][j] = dp[i-1][j]\n",
    "        if j > 0 and i == 0:\n",
    "            dp[i][j] = dp[i][j-1]\n",
    "        \"\"\"\n",
    "        \n",
    "        dp = [[0 for _ in range(n)] for _ in range(m)]\n",
    "        dp[0][0] = 1\n",
    "        \n",
    "        for i in range(m):\n",
    "            for j in range(n):\n",
    "                if obstacleGrid[i][j]:\n",
    "                    dp[i][j] = 0\n",
    "                    continue\n",
    "                if i > 0 and j > 0: \n",
    "                    dp[i][j] = dp[i - 1][j] + dp[i][j-1]\n",
    "                elif i > 0 and j == 0:\n",
    "                    dp[i][j] = dp[i - 1][j]\n",
    "                elif j > 0 and i == 0:\n",
    "                    dp[i][j] = dp[i][j-1]\n",
    "        return dp[m-1][n-1]\n",
    "    \n",
    "import unittest\n",
    "class UniquePathsIITest(unittest.TestCase):\n",
    "    def test_uniquePathsWithObstacles_test1(self):\n",
    "        result = SolutionObstacles().uniquePathsWithObstacles([[0,0,0],[0,1,0],[0,0,0]])\n",
    "        self.assertEqual(result, 2)\n",
    "        \n",
    "    def test_uniquePathsWithObstacles_test2(self):\n",
    "        result = SolutionObstacles().uniquePathsWithObstacles([[0,1],[0,0]])\n",
    "        self.assertEqual(result, 1)\n",
    "        \n",
    "unittest.main(argv=[''], verbosity=2, exit=False)"
   ]
  },
  {
   "cell_type": "code",
   "execution_count": null,
   "metadata": {},
   "outputs": [],
   "source": []
  },
  {
   "cell_type": "code",
   "execution_count": null,
   "metadata": {},
   "outputs": [],
   "source": []
  },
  {
   "cell_type": "code",
   "execution_count": null,
   "metadata": {},
   "outputs": [],
   "source": []
  },
  {
   "cell_type": "markdown",
   "metadata": {},
   "source": [
    ">**Minimum Path Sum**\n",
    "\n",
    "https://leetcode.com/problems/minimum-path-sum/\n",
    "\n",
    "- [minimum path sum leetcode](https://www.youtube.com/watch?v=TXpHm5PhmmM&ab_channel=thecodingworld)"
   ]
  },
  {
   "cell_type": "code",
   "execution_count": 40,
   "metadata": {},
   "outputs": [
    {
     "name": "stderr",
     "output_type": "stream",
     "text": [
      "test_minPathSum_test1 (__main__.MinimumPathSumTest) ... ok\n",
      "test_minPathSum_test2 (__main__.MinimumPathSumTest) ... ok\n",
      "test_uniquePathsWithObstacles_test1 (__main__.UniquePathsIITest) ... ok\n",
      "test_uniquePathsWithObstacles_test2 (__main__.UniquePathsIITest) ... ok\n",
      "test_uniquepaths_test1 (__main__.UniquePathsTest) ... ok\n",
      "test_uniquepaths_test2 (__main__.UniquePathsTest) ... ok\n",
      "test_uniquepaths_test3 (__main__.UniquePathsTest) ... ok\n",
      "test_uniquepaths_test4 (__main__.UniquePathsTest) ... ok\n",
      "\n",
      "----------------------------------------------------------------------\n",
      "Ran 8 tests in 0.010s\n",
      "\n",
      "OK\n"
     ]
    },
    {
     "data": {
      "text/plain": [
       "<unittest.main.TestProgram at 0x7fe19fd35b50>"
      ]
     },
     "execution_count": 40,
     "metadata": {},
     "output_type": "execute_result"
    }
   ],
   "source": [
    "class MinimumPathSum:\n",
    "    \"\"\"\n",
    "    Time complexity: O(M * N)\n",
    "    Space complexity: O(M*N)\n",
    "    \"\"\"\n",
    "    def minPathSum(self, grid: List[List[int]]) -> int:\n",
    "        \"\"\"\n",
    "        ----j-----\n",
    "          0    1\n",
    "        +----+----+\n",
    "      0 | 1  |  3 |\n",
    "        +----+----+\n",
    "      1 | 1  |  1 |\n",
    "        +----+----+\n",
    "        \n",
    "        if i > 0 and j > 0:\n",
    "            sum += grid[i][j] + min(grid[i-1][j], grid[i][j-1])\n",
    "        if i > 0 and j == 0:\n",
    "            sum += grid[i-1][j]\n",
    "        if j > 0 and i == 0:\n",
    "            sum += grid[i][j-1]\n",
    "        \"\"\"\n",
    "        m = len(grid); n = len(grid[0]); sum = 0\n",
    "        \n",
    "        for i in range(m):\n",
    "            for j in range(n):\n",
    "                if i > 0 and j > 0:\n",
    "                    grid[i][j] = grid[i][j] + min(grid[i-1][j], grid[i][j-1])\n",
    "                if i > 0 and j == 0:\n",
    "                    grid[i][j] = grid[i-1][j] + grid[i][j]\n",
    "                if j > 0 and i == 0:\n",
    "                    grid[i][j] = grid[i][j-1] + grid[i][j]\n",
    "        return grid[m-1][n-1]\n",
    "                \n",
    "        \n",
    "import unittest\n",
    "class MinimumPathSumTest(unittest.TestCase):\n",
    "    def test_minPathSum_test1(self):\n",
    "        result = MinimumPathSum().minPathSum([[1,3,1],[1,5,1],[4,2,1]])\n",
    "        self.assertEqual(result,7)\n",
    "        \n",
    "    def test_minPathSum_test2(self):\n",
    "        result = MinimumPathSum().minPathSum([[1,2,3],[4,5,6]])\n",
    "        self.assertEqual(result, 12)\n",
    "        \n",
    "unittest.main(argv=[''], verbosity=2, exit=False)"
   ]
  }
 ],
 "metadata": {
  "kernelspec": {
   "display_name": "Python 3",
   "language": "python",
   "name": "python3"
  },
  "language_info": {
   "codemirror_mode": {
    "name": "ipython",
    "version": 3
   },
   "file_extension": ".py",
   "mimetype": "text/x-python",
   "name": "python",
   "nbconvert_exporter": "python",
   "pygments_lexer": "ipython3",
   "version": "3.8.3"
  }
 },
 "nbformat": 4,
 "nbformat_minor": 4
}
