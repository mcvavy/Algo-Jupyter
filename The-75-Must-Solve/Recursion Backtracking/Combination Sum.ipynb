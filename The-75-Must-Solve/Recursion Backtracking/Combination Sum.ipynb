{
 "cells": [
  {
   "cell_type": "markdown",
   "metadata": {},
   "source": [
    "https://leetcode.com/problems/combination-sum/\n",
    "\n",
    "<br>\n",
    "\n",
    "- [Combination Sum](https://www.youtube.com/watch?v=qs1-iEla-5M&ab_channel=AnishMalla)"
   ]
  },
  {
   "cell_type": "code",
   "execution_count": 9,
   "metadata": {
    "code_folding": []
   },
   "outputs": [
    {
     "name": "stderr",
     "output_type": "stream",
     "text": [
      "test_combinationSum_test1 (__main__.CombinationSumTest) ... ok\n",
      "test_combinationSum_test2 (__main__.CombinationSumTest) ... ok\n",
      "\n",
      "----------------------------------------------------------------------\n",
      "Ran 2 tests in 0.002s\n",
      "\n",
      "OK\n"
     ]
    },
    {
     "data": {
      "text/plain": [
       "<unittest.main.TestProgram at 0x7efed55ca400>"
      ]
     },
     "execution_count": 9,
     "metadata": {},
     "output_type": "execute_result"
    }
   ],
   "source": [
    "from typing import List\n",
    "\n",
    "\"\"\"\n",
    "\n",
    "\"\"\"  \n",
    "class Solution:\n",
    "    def combinationSum(self, candidates: List[int], target: int) -> List[List[int]]:\n",
    "        self.result = []\n",
    "        self.candidates = candidates\n",
    "        self.bt([], target, 0)\n",
    "        return self.result\n",
    "    \n",
    "    def bt(self, combination, target, index):\n",
    "        if target == 0:\n",
    "            self.result.append(list(combination))\n",
    "            return\n",
    "        \n",
    "        if target < 0: return\n",
    "        \n",
    "        for i in range(index, len(self.candidates)):\n",
    "            combination.append(self.candidates[i])\n",
    "            self.bt(combination, target - self.candidates[i], i)\n",
    "            combination.pop()\n",
    "    \n",
    "import unittest\n",
    "class CombinationSumTest(unittest.TestCase):\n",
    "    def test_combinationSum_test1(self):\n",
    "        result = Solution().combinationSum([2,3,6,7],7)\n",
    "        self.assertEqual(result, [[2,2,3],[7]])\n",
    "        \n",
    "    def test_combinationSum_test2(self):\n",
    "        result = Solution().combinationSum([2,3,5], 8)\n",
    "        self.assertEqual(result, [[2,2,2,2],[2,3,3],[3,5]])\n",
    "\n",
    "        \n",
    "unittest.main(argv=[''], verbosity=2, exit=False)"
   ]
  },
  {
   "cell_type": "code",
   "execution_count": null,
   "metadata": {},
   "outputs": [],
   "source": []
  }
 ],
 "metadata": {
  "kernelspec": {
   "display_name": "Python 3",
   "language": "python",
   "name": "python3"
  },
  "language_info": {
   "codemirror_mode": {
    "name": "ipython",
    "version": 3
   },
   "file_extension": ".py",
   "mimetype": "text/x-python",
   "name": "python",
   "nbconvert_exporter": "python",
   "pygments_lexer": "ipython3",
   "version": "3.8.3"
  }
 },
 "nbformat": 4,
 "nbformat_minor": 4
}
