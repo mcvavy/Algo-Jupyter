{
 "cells": [
  {
   "cell_type": "markdown",
   "metadata": {},
   "source": [
    "> **Recursive + Backtracking**\n",
    "\n",
    "- [Leetcode 90 - Backtracking | Subsets II](https://www.youtube.com/watch?v=T_5eYs-Npg4&t=66s&ab_channel=NideeshTerapalli)"
   ]
  },
  {
   "cell_type": "code",
   "execution_count": 67,
   "metadata": {
    "code_folding": []
   },
   "outputs": [
    {
     "name": "stderr",
     "output_type": "stream",
     "text": [
      "test_subsetsWithDup_test1 (__main__.SubsetWithDupTest) ... ok\n",
      "test_subsetsWithDup_test2 (__main__.SubsetWithDupTest) ... ok\n",
      "\n",
      "----------------------------------------------------------------------\n",
      "Ran 2 tests in 0.002s\n",
      "\n",
      "OK\n"
     ]
    },
    {
     "data": {
      "text/plain": [
       "<unittest.main.TestProgram at 0x7f09eaea8580>"
      ]
     },
     "execution_count": 67,
     "metadata": {},
     "output_type": "execute_result"
    }
   ],
   "source": [
    "from typing import List\n",
    "\"\"\"\n",
    "O(N * 2^N)\n",
    "\"\"\"\n",
    "class Solution:\n",
    "    def subsetsWithDup(self, nums: List[int]) -> List[List[int]]:\n",
    "        result = []\n",
    "        def backtrack(nums, start, current_subset):\n",
    "            if current_subset not in result:\n",
    "                result.append(list(current_subset))\n",
    "            for i in range(start, len(nums)):\n",
    "                current_subset.append(nums[i])\n",
    "                backtrack(nums, i+1 ,current_subset)\n",
    "                current_subset.pop()\n",
    "        nums.sort()\n",
    "        backtrack(nums, 0, [])\n",
    "        return result\n",
    "\n",
    "\n",
    "import unittest\n",
    "class SubsetWithDupTest(unittest.TestCase):\n",
    "    def test_subsetsWithDup_test1(self):\n",
    "        result = Solution().subsetsWithDup([1,2,2])\n",
    "        self.assertEqual(result, [[],[1],[1,2],[1,2,2],[2],[2,2]])\n",
    "        \n",
    "    def test_subsetsWithDup_test2(self):\n",
    "        result = Solution().subsetsWithDup([0])\n",
    "        self.assertEqual(result,[[],[0]])\n",
    "        \n",
    "unittest.main(argv=[''], verbosity=2, exit=False)"
   ]
  },
  {
   "cell_type": "code",
   "execution_count": 72,
   "metadata": {},
   "outputs": [
    {
     "name": "stdout",
     "output_type": "stream",
     "text": [
      "{(1, 2)}\n",
      "True\n"
     ]
    }
   ],
   "source": [
    "A = [1,2]\n",
    "B = [1,2]\n",
    "\n",
    "n = set()\n",
    "n.add(tuple(A))\n",
    "n.add(tuple(B))\n",
    "\n",
    "print(n)\n",
    "print(tuple((1,2)) in n)"
   ]
  }
 ],
 "metadata": {
  "kernelspec": {
   "display_name": "Python 3",
   "language": "python",
   "name": "python3"
  },
  "language_info": {
   "codemirror_mode": {
    "name": "ipython",
    "version": 3
   },
   "file_extension": ".py",
   "mimetype": "text/x-python",
   "name": "python",
   "nbconvert_exporter": "python",
   "pygments_lexer": "ipython3",
   "version": "3.8.3"
  }
 },
 "nbformat": 4,
 "nbformat_minor": 4
}
