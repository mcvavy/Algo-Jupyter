{
 "cells": [
  {
   "cell_type": "markdown",
   "metadata": {},
   "source": [
    "> **Recursive + Backtracking**\n",
    "\n",
    "- [Leetcode 90 - Backtracking | Subsets II](https://www.youtube.com/watch?v=T_5eYs-Npg4&t=66s&ab_channel=NideeshTerapalli)"
   ]
  },
  {
   "cell_type": "code",
   "execution_count": 33,
   "metadata": {
    "code_folding": []
   },
   "outputs": [
    {
     "name": "stderr",
     "output_type": "stream",
     "text": [
      "test_subsetsWithDup_test1 (__main__.SubsetWithDupTest) ... FAIL\n",
      "test_subsetsWithDup_test2 (__main__.SubsetWithDupTest) ... ok\n",
      "\n",
      "======================================================================\n",
      "FAIL: test_subsetsWithDup_test1 (__main__.SubsetWithDupTest)\n",
      "----------------------------------------------------------------------\n",
      "Traceback (most recent call last):\n",
      "  File \"<ipython-input-33-bbf7cd6464c5>\", line 25, in test_subsetsWithDup_test1\n",
      "    self.assertEqual(result, [[],[1],[1,2],[1,2,2],[2],[2,2]])\n",
      "AssertionError: Lists differ: [[], [1], [1, 2], [1, 2, 2], [2], [2, 2], [2, 2, 2]] != [[], [1], [1, 2], [1, 2, 2], [2], [2, 2]]\n",
      "\n",
      "First list contains 1 additional elements.\n",
      "First extra element 6:\n",
      "[2, 2, 2]\n",
      "\n",
      "- [[], [1], [1, 2], [1, 2, 2], [2], [2, 2], [2, 2, 2]]\n",
      "?                                       -----------\n",
      "\n",
      "+ [[], [1], [1, 2], [1, 2, 2], [2], [2, 2]]\n",
      "\n",
      "----------------------------------------------------------------------\n",
      "Ran 2 tests in 0.004s\n",
      "\n",
      "FAILED (failures=1)\n"
     ]
    },
    {
     "data": {
      "text/plain": [
       "<unittest.main.TestProgram at 0x7f09eaea82b0>"
      ]
     },
     "execution_count": 33,
     "metadata": {},
     "output_type": "execute_result"
    }
   ],
   "source": [
    "from typing import List\n",
    "\"\"\"\n",
    "O(N * 2^N)\n",
    "\"\"\"\n",
    "class Solution:\n",
    "    def subsetsWithDup(self, nums: List[int]) -> List[List[int]]:\n",
    "    def bt(nums, temp, pos):\n",
    "        result.append(list(temp))\n",
    "        for i in range(pos, len(nums)):\n",
    "            if i > pos and nums[i] == nums[i-1]:\n",
    "                continue\n",
    "            temp.append(nums[i])\n",
    "            bt(nums, temp, pos + 1)\n",
    "            temp.pop()\n",
    "    result = []\n",
    "    nums.sort()\n",
    "    bt(nums, [], 0)\n",
    "    return result\n",
    "\n",
    "\n",
    "    def subsetsWithDupX(self, nums: List[int]) -> List[List[int]]:\n",
    "        def bt(nums, temp, pos):\n",
    "            result.append(list(temp))\n",
    "            for i in range(pos, len(nums)):\n",
    "                if i > pos and nums[i] == nums[i-1]:\n",
    "                    continue\n",
    "                temp.append(nums[i])\n",
    "                bt(nums, temp, pos + 1)\n",
    "                temp.pop()\n",
    "        result = []\n",
    "        nums.sort()\n",
    "        bt(nums, [], 0)\n",
    "        return result\n",
    "\n",
    "\n",
    "import unittest\n",
    "class SubsetWithDupTest(unittest.TestCase):\n",
    "    def test_subsetsWithDup_test1(self):\n",
    "        result = Solution().subsetsWithDup([1,2,2])\n",
    "        self.assertEqual(result, [[],[1],[1,2],[1,2,2],[2],[2,2]])\n",
    "        \n",
    "    def test_subsetsWithDup_test2(self):\n",
    "        result = Solution().subsetsWithDup([0])\n",
    "        self.assertEqual(result,[[],[0]])\n",
    "        \n",
    "unittest.main(argv=[''], verbosity=2, exit=False)"
   ]
  }
 ],
 "metadata": {
  "kernelspec": {
   "display_name": "Python 3",
   "language": "python",
   "name": "python3"
  },
  "language_info": {
   "codemirror_mode": {
    "name": "ipython",
    "version": 3
   },
   "file_extension": ".py",
   "mimetype": "text/x-python",
   "name": "python",
   "nbconvert_exporter": "python",
   "pygments_lexer": "ipython3",
   "version": "3.8.3"
  }
 },
 "nbformat": 4,
 "nbformat_minor": 4
}
