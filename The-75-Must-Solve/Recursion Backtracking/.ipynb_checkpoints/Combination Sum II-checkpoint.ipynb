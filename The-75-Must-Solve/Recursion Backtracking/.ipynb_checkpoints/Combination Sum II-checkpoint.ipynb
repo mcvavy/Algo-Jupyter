{
 "cells": [
  {
   "cell_type": "markdown",
   "metadata": {},
   "source": [
    "https://leetcode.com/problems/combination-sum-ii/"
   ]
  },
  {
   "cell_type": "code",
   "execution_count": 1,
   "metadata": {
    "code_folding": []
   },
   "outputs": [
    {
     "name": "stderr",
     "output_type": "stream",
     "text": [
      "test_combinationSum2_test1 (__main__.CombinationSum2Test) ... FAIL\n",
      "test_combinationSum2_test2 (__main__.CombinationSum2Test) ... FAIL\n",
      "\n",
      "======================================================================\n",
      "FAIL: test_combinationSum2_test1 (__main__.CombinationSum2Test)\n",
      "----------------------------------------------------------------------\n",
      "Traceback (most recent call last):\n",
      "  File \"<ipython-input-1-a0992abb83fd>\", line 32, in test_combinationSum2_test1\n",
      "    self.assertEqual(result, [[1,1,6],[1,2,5],[1,7],[2,6]])\n",
      "AssertionError: {(1, 7), (1, 1, 6), (1, 2, 5), (2, 6)} != [[1, 1, 6], [1, 2, 5], [1, 7], [2, 6]]\n",
      "\n",
      "======================================================================\n",
      "FAIL: test_combinationSum2_test2 (__main__.CombinationSum2Test)\n",
      "----------------------------------------------------------------------\n",
      "Traceback (most recent call last):\n",
      "  File \"<ipython-input-1-a0992abb83fd>\", line 36, in test_combinationSum2_test2\n",
      "    self.assertEqual(result, [[1,2,2],[5]])\n",
      "AssertionError: {(1, 2, 2), (5,)} != [[1, 2, 2], [5]]\n",
      "\n",
      "----------------------------------------------------------------------\n",
      "Ran 2 tests in 0.005s\n",
      "\n",
      "FAILED (failures=2)\n"
     ]
    },
    {
     "data": {
      "text/plain": [
       "<unittest.main.TestProgram at 0x7f35bcf81e20>"
      ]
     },
     "execution_count": 1,
     "metadata": {},
     "output_type": "execute_result"
    }
   ],
   "source": [
    "from typing import List\n",
    "\n",
    "\"\"\"\n",
    "\n",
    "\"\"\"  \n",
    "class Solution:\n",
    "    def combinationSum2(self, candidates: List[int], target: int) -> List[List[int]]:\n",
    "        candidates.sort()\n",
    "        self.result = set()\n",
    "        self.candidates = candidates\n",
    "        self.bt([], target, 0)\n",
    "        return self.result\n",
    "    \n",
    "    def bt(self, combination, target, index):\n",
    "        if target == 0:\n",
    "            self.result.add(tuple(combination))\n",
    "            return\n",
    "        \n",
    "        if target < 0: return\n",
    "        \n",
    "        for i in range(index, len(self.candidates)):\n",
    "            if i > index and self.candidates[i] == self.candidates[i - 1]:\n",
    "                continue\n",
    "            combination.append(self.candidates[i])\n",
    "            self.bt(combination, target - self.candidates[i], i+1)\n",
    "            combination.pop()\n",
    "    \n",
    "import unittest\n",
    "class CombinationSum2Test(unittest.TestCase):\n",
    "    def test_combinationSum2_test1(self):\n",
    "        result = Solution().combinationSum2([10,1,2,7,6,1,5], 8)\n",
    "        self.assertEqual(result, [[1,1,6],[1,2,5],[1,7],[2,6]])\n",
    "        \n",
    "    def test_combinationSum2_test2(self):\n",
    "        result = Solution().combinationSum2([2,5,2,1,2], 5)\n",
    "        self.assertEqual(result, [[1,2,2],[5]])\n",
    "\n",
    "        \n",
    "unittest.main(argv=[''], verbosity=2, exit=False)"
   ]
  },
  {
   "cell_type": "code",
   "execution_count": null,
   "metadata": {},
   "outputs": [],
   "source": []
  }
 ],
 "metadata": {
  "kernelspec": {
   "display_name": "Python 3",
   "language": "python",
   "name": "python3"
  },
  "language_info": {
   "codemirror_mode": {
    "name": "ipython",
    "version": 3
   },
   "file_extension": ".py",
   "mimetype": "text/x-python",
   "name": "python",
   "nbconvert_exporter": "python",
   "pygments_lexer": "ipython3",
   "version": "3.8.3"
  }
 },
 "nbformat": 4,
 "nbformat_minor": 4
}
