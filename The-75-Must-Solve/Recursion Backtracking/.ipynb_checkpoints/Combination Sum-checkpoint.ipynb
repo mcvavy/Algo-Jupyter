{
 "cells": [
  {
   "cell_type": "markdown",
   "metadata": {},
   "source": [
    "https://leetcode.com/problems/combination-sum/\n",
    "\n",
    "<br>\n",
    "\n",
    "- [Combination Sum](https://www.youtube.com/watch?v=qs1-iEla-5M&ab_channel=AnishMalla)"
   ]
  },
  {
   "cell_type": "code",
   "execution_count": 10,
   "metadata": {
    "code_folding": []
   },
   "outputs": [
    {
     "name": "stderr",
     "output_type": "stream",
     "text": [
      "test_combinationSum_test1 (__main__.Combination1SumTest) ... ERROR\n",
      "test_combinationSum_test2 (__main__.Combination1SumTest) ... ERROR\n",
      "test_combinationSum_test1 (__main__.CombinationSum3Test) ... ERROR\n",
      "test_combinationSum_test2 (__main__.CombinationSum3Test) ... ERROR\n",
      "test_combinationSum_test1 (__main__.CombinationSumTest) ... ERROR\n",
      "test_combinationSum_test2 (__main__.CombinationSumTest) ... ERROR\n",
      "\n",
      "======================================================================\n",
      "ERROR: test_combinationSum_test1 (__main__.Combination1SumTest)\n",
      "----------------------------------------------------------------------\n",
      "Traceback (most recent call last):\n",
      "  File \"<ipython-input-10-196dc23f36b4>\", line 27, in test_combinationSum_test1\n",
      "    result = Solution().combinationSum([2,3,6,7],7)\n",
      "  File \"<ipython-input-10-196dc23f36b4>\", line 9, in combinationSum\n",
      "    self.bt([], target, 0)\n",
      "TypeError: bt() takes 3 positional arguments but 4 were given\n",
      "\n",
      "======================================================================\n",
      "ERROR: test_combinationSum_test2 (__main__.Combination1SumTest)\n",
      "----------------------------------------------------------------------\n",
      "Traceback (most recent call last):\n",
      "  File \"<ipython-input-10-196dc23f36b4>\", line 31, in test_combinationSum_test2\n",
      "    result = Solution().combinationSum([2,3,5], 8)\n",
      "  File \"<ipython-input-10-196dc23f36b4>\", line 9, in combinationSum\n",
      "    self.bt([], target, 0)\n",
      "TypeError: bt() takes 3 positional arguments but 4 were given\n",
      "\n",
      "======================================================================\n",
      "ERROR: test_combinationSum_test1 (__main__.CombinationSum3Test)\n",
      "----------------------------------------------------------------------\n",
      "Traceback (most recent call last):\n",
      "  File \"<ipython-input-1-bc5e65fd0630>\", line 13, in test_combinationSum_test1\n",
      "    result = Solution().combinationSum(candidates = [2,3,6,7], target = 7)\n",
      "  File \"<ipython-input-10-196dc23f36b4>\", line 9, in combinationSum\n",
      "    self.bt([], target, 0)\n",
      "TypeError: bt() takes 3 positional arguments but 4 were given\n",
      "\n",
      "======================================================================\n",
      "ERROR: test_combinationSum_test2 (__main__.CombinationSum3Test)\n",
      "----------------------------------------------------------------------\n",
      "Traceback (most recent call last):\n",
      "  File \"<ipython-input-1-bc5e65fd0630>\", line 17, in test_combinationSum_test2\n",
      "    result = Solution().combinationSum(candidates = [2,3,5], target = 8)\n",
      "  File \"<ipython-input-10-196dc23f36b4>\", line 9, in combinationSum\n",
      "    self.bt([], target, 0)\n",
      "TypeError: bt() takes 3 positional arguments but 4 were given\n",
      "\n",
      "======================================================================\n",
      "ERROR: test_combinationSum_test1 (__main__.CombinationSumTest)\n",
      "----------------------------------------------------------------------\n",
      "Traceback (most recent call last):\n",
      "  File \"<ipython-input-9-2c5ca66e862e>\", line 27, in test_combinationSum_test1\n",
      "    result = Solution().combinationSum([2,3,6,7],7)\n",
      "  File \"<ipython-input-10-196dc23f36b4>\", line 9, in combinationSum\n",
      "    self.bt([], target, 0)\n",
      "TypeError: bt() takes 3 positional arguments but 4 were given\n",
      "\n",
      "======================================================================\n",
      "ERROR: test_combinationSum_test2 (__main__.CombinationSumTest)\n",
      "----------------------------------------------------------------------\n",
      "Traceback (most recent call last):\n",
      "  File \"<ipython-input-9-2c5ca66e862e>\", line 31, in test_combinationSum_test2\n",
      "    result = Solution().combinationSum([2,3,5], 8)\n",
      "  File \"<ipython-input-10-196dc23f36b4>\", line 9, in combinationSum\n",
      "    self.bt([], target, 0)\n",
      "TypeError: bt() takes 3 positional arguments but 4 were given\n",
      "\n",
      "----------------------------------------------------------------------\n",
      "Ran 6 tests in 0.013s\n",
      "\n",
      "FAILED (errors=6)\n"
     ]
    },
    {
     "data": {
      "text/plain": [
       "<unittest.main.TestProgram at 0x7fa7580393d0>"
      ]
     },
     "execution_count": 10,
     "metadata": {},
     "output_type": "execute_result"
    }
   ],
   "source": [
    "from typing import List\n",
    "\n",
    "\"\"\"\n",
    "\n",
    "\"\"\"  \n",
    "class Solution:\n",
    "    def combinationSum(self, candidates: List[int], target: int) -> List[List[int]]:\n",
    "        result = []\n",
    "        self.bt([], target, 0)\n",
    "        return result\n",
    "    \n",
    "    def bt(combination, target, index):\n",
    "        if target == 0:\n",
    "            result.append(list(combination))\n",
    "            return\n",
    "        \n",
    "        if target < 0: return\n",
    "        \n",
    "        for i in range(index, len(self.candidates)):\n",
    "            combination.append(candidates[i])\n",
    "            self. bt(combination, target - self.candidates[i], i)\n",
    "            \n",
    "    \n",
    "import unittest\n",
    "class CombinationSumTest(unittest.TestCase):\n",
    "    def test_combinationSum_test1(self):\n",
    "        result = Solution().combinationSum([2,3,6,7],7)\n",
    "        self.assertEqual(result, [[2,2,3],[7]])\n",
    "        \n",
    "    def test_combinationSum_test2(self):\n",
    "        result = Solution().combinationSum([2,3,5], 8)\n",
    "        self.assertEqual(result, [[2,2,2,2],[2,3,3],[3,5]])\n",
    "\n",
    "        \n",
    "unittest.main(argv=[''], verbosity=2, exit=False)"
   ]
  }
 ],
 "metadata": {
  "kernelspec": {
   "display_name": "Python 3",
   "language": "python",
   "name": "python3"
  },
  "language_info": {
   "codemirror_mode": {
    "name": "ipython",
    "version": 3
   },
   "file_extension": ".py",
   "mimetype": "text/x-python",
   "name": "python",
   "nbconvert_exporter": "python",
   "pygments_lexer": "ipython3",
   "version": "3.8.3"
  }
 },
 "nbformat": 4,
 "nbformat_minor": 4
}
