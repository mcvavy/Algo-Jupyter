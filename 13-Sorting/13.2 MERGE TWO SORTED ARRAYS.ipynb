{
 "cells": [
  {
   "cell_type": "markdown",
   "metadata": {},
   "source": [
    "> **Write a Program which takes as input two sorted arrays of integers, and updates the first to the combined entries of the two arrays in sorted order. Assume the first array has enough empty entries at its end to hold the result.**\n",
    "\n",
    "_Hint: Avoid repeatedly moving entries._"
   ]
  },
  {
   "cell_type": "code",
   "execution_count": 5,
   "metadata": {},
   "outputs": [
    {
     "data": {
      "text/plain": [
       "[3, 5, 7, 11, 13, 17, 19, None]"
      ]
     },
     "execution_count": 5,
     "metadata": {},
     "output_type": "execute_result"
    }
   ],
   "source": [
    "from typing import List\n",
    "\n",
    "# Time complexity : O(m  + n) | Space complexity: O(1)\n",
    "def merge_two_sorted_arrays(A: List[int], m: int, B: List[int], n: int) -> None:\n",
    "    a = m - 1; b = n - 1; write_index = m + n - 1\n",
    "    \n",
    "    while a >= 0 and b >= 0:\n",
    "        if A[a] > B[b]:\n",
    "            A[write_index] = A[a]\n",
    "            a -= 1\n",
    "        else:\n",
    "            A[write_index] = B[b]\n",
    "            b -= 1\n",
    "        write_index -= 1\n",
    "    \n",
    "    while b >= 0:\n",
    "        A[write_index] = B[b]\n",
    "        b -= 1; write_index -= 1\n",
    "\n",
    "A = [5,13,17, None, None, None, None, None]; B = [3,7,11,19]\n",
    "merge_two_sorted_arrays(A, 3, B, 4)\n",
    "A"
   ]
  }
 ],
 "metadata": {
  "kernelspec": {
   "display_name": "Python 3",
   "language": "python",
   "name": "python3"
  },
  "language_info": {
   "codemirror_mode": {
    "name": "ipython",
    "version": 3
   },
   "file_extension": ".py",
   "mimetype": "text/x-python",
   "name": "python",
   "nbconvert_exporter": "python",
   "pygments_lexer": "ipython3",
   "version": "3.8.3"
  }
 },
 "nbformat": 4,
 "nbformat_minor": 4
}
