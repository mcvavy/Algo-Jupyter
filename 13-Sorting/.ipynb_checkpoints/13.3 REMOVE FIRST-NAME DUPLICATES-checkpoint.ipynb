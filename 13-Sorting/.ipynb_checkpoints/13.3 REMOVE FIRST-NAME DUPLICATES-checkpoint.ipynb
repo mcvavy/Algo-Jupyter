{
 "cells": [
  {
   "cell_type": "markdown",
   "metadata": {},
   "source": [
    "> **Design an efficient algorithm for removing all first-name duplicates from an array. For example, if the input is ((Ian,Botham),(David,Gower),(Ian,Bell),(Ian,Chappell)), one result could be ((Ian, Bell), (David, Gower)); ((David, Gower), (Ian, Botham)) would also be acceptable.**\n",
    "\n",
    "_Hint: Bring equal items close together._"
   ]
  },
  {
   "cell_type": "code",
   "execution_count": 11,
   "metadata": {
    "code_folding": []
   },
   "outputs": [
    {
     "name": "stdout",
     "output_type": "stream",
     "text": [
      "[David Gower, Ian Bell, Ian Botham, Ian Chappell]\n",
      "[David Gower, Ian Bell, Ian Botham, Ian Chappell]\n",
      "[David Gower, Ian Bell]\n"
     ]
    }
   ],
   "source": [
    "from typing import List\n",
    "\n",
    "class Name:\n",
    "    def __init__(self, first_name: str, last_name: str) -> None:\n",
    "        self.first_name, self.last_name = first_name, last_name\n",
    "\n",
    "    def __eq__(self, other) -> bool:\n",
    "        return self.first_name == other.first_name\n",
    "\n",
    "    def __lt__(self, other) -> bool:\n",
    "        return (self.first_name < other.first_name\n",
    "                if self.first_name != other.first_name else\n",
    "                self.last_name < other.last_name)\n",
    "\n",
    "    def __repr__(self):\n",
    "        return '%s %s' % (self.first_name, self.last_name)\n",
    "\n",
    "\n",
    "def eliminate_duplicate(A: List[Name]) -> None:\n",
    "    A.sort()  # Makes identical elements become neighbors.\n",
    "    print(A)\n",
    "    write_idx = 1\n",
    "    for cand in A[1:]:\n",
    "        if cand != A[write_idx - 1]:\n",
    "            A[write_idx] = cand\n",
    "            write_idx += 1\n",
    "            print(A)\n",
    "    del A[write_idx:]\n",
    "\n",
    "first_lasts = [Name(\"Ian\",\"Botham\"),Name(\"David\",\"Gower\"),Name(\"Ian\",\"Bell\"),Name(\"Ian\",\"Chappell\")]\n",
    "eliminate_duplicate(first_lasts)\n",
    "print(first_lasts)"
   ]
  },
  {
   "cell_type": "code",
   "execution_count": null,
   "metadata": {},
   "outputs": [],
   "source": []
  },
  {
   "cell_type": "code",
   "execution_count": null,
   "metadata": {},
   "outputs": [],
   "source": []
  },
  {
   "cell_type": "markdown",
   "metadata": {},
   "source": [
    "> **80. Remove Duplicates from Sorted Array II**\n",
    "- [Remove Duplicates from Sorted Array II](https://leetcode.com/problems/remove-duplicates-from-sorted-array-ii/)"
   ]
  },
  {
   "cell_type": "code",
   "execution_count": 16,
   "metadata": {},
   "outputs": [
    {
     "data": {
      "text/plain": [
       "[0, 0, 1, 1, 2, 3, 3, 4, 4, 5, 6, 7]"
      ]
     },
     "execution_count": 16,
     "metadata": {},
     "output_type": "execute_result"
    }
   ],
   "source": [
    "from typing import List\n",
    "\n",
    "def removeDuplicates(nums: List[int]) -> int:\n",
    "    wr = 2\n",
    "    for e in nums[2:]:\n",
    "        if e != nums[wr - 2]:\n",
    "            nums[wr] = e\n",
    "            wr += 1\n",
    "    del nums[wr:]\n",
    "    return len(nums)\n",
    "\n",
    "A = [0,0,0,0,1,1,1,1,1,2,3,3,3,3,4,4,4,4,5,6,7]\n",
    "removeDuplicates(A)\n",
    "A"
   ]
  }
 ],
 "metadata": {
  "kernelspec": {
   "display_name": "Python 3",
   "language": "python",
   "name": "python3"
  },
  "language_info": {
   "codemirror_mode": {
    "name": "ipython",
    "version": 3
   },
   "file_extension": ".py",
   "mimetype": "text/x-python",
   "name": "python",
   "nbconvert_exporter": "python",
   "pygments_lexer": "ipython3",
   "version": "3.8.3"
  }
 },
 "nbformat": 4,
 "nbformat_minor": 4
}
