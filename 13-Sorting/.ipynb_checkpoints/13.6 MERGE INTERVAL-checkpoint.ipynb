{
 "cells": [
  {
   "cell_type": "markdown",
   "metadata": {},
   "source": [
    "> **Write a program which takes as input an array of disjoint closed intervals with integer endpoints, sorted by increasing order of left endpoint, and an interval to be added, and returns the union of the intervals in the array and the added interval. Your result should be expressed as a union of disjoint intervals sorted by left endpoint.**\n",
    "\n",
    "_Hint: What is the union of two closed intervals?_\n",
    "\n",
    "- [Explanation](https://www.youtube.com/watch?v=O44oSOfNvLM&ab_channel=thecodingworld)"
   ]
  },
  {
   "cell_type": "code",
   "execution_count": 6,
   "metadata": {
    "code_folding": []
   },
   "outputs": [],
   "source": [
    "from typing import List\n",
    "from collections import namedtuple\n",
    "\n",
    "Interval = namedtuple('Interval', ('left', 'right'))\n",
    "def add_interval(disjoint_intervals: List[Interval], new_interval: Interval) -> List[Interval]:\n",
    "    i = 0; result = []\n",
    "    \n",
    "    while i < len(disjoint_intervals) and new_interval.left > disjoint_intervals[i].right:\n",
    "        result.append(disjoint_intervals[i])\n",
    "        i += 1\n",
    "    \n",
    "    while i < len(disjoint_intervals) and new_interval.right >= disjoint_intervals[i].left:\n",
    "        new_interval = Interval(min(new_interval.left, disjoint_intervals[i].left), \n",
    "                                max(new_interval.right, disjoint_intervals[i].right))\n",
    "        i += 1\n",
    "    return result + [new_interval] + disjoint_intervals[i:]"
   ]
  },
  {
   "cell_type": "code",
   "execution_count": null,
   "metadata": {},
   "outputs": [],
   "source": []
  },
  {
   "cell_type": "code",
   "execution_count": null,
   "metadata": {},
   "outputs": [],
   "source": []
  },
  {
   "cell_type": "markdown",
   "metadata": {},
   "source": [
    "> [LeetCode Merge Interval](https://leetcode.com/problems/merge-intervals/)"
   ]
  },
  {
   "cell_type": "code",
   "execution_count": null,
   "metadata": {},
   "outputs": [],
   "source": [
    "def merge(intervals: List[List[int]]) -> List[List[int]]:\n",
    "    intervals.sort(key= lambda x: x[0])\n",
    "    i = 1\n",
    "    while i < len(intervals):\n",
    "        if intervals[i][0] <= intervals[i-1][1]:\n",
    "            intervals[i-1] = [min(intervals[i][0], intervals[i-1][0]), \n",
    "                              max(intervals[i][1], intervals[i-1][1])]\n",
    "            intervals.pop(i)\n",
    "        else:\n",
    "            i += 1\n",
    "    \n",
    "    return intervals"
   ]
  }
 ],
 "metadata": {
  "kernelspec": {
   "display_name": "Python 3",
   "language": "python",
   "name": "python3"
  },
  "language_info": {
   "codemirror_mode": {
    "name": "ipython",
    "version": 3
   },
   "file_extension": ".py",
   "mimetype": "text/x-python",
   "name": "python",
   "nbconvert_exporter": "python",
   "pygments_lexer": "ipython3",
   "version": "3.8.3"
  }
 },
 "nbformat": 4,
 "nbformat_minor": 4
}
