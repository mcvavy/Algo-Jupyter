{
 "cells": [
  {
   "cell_type": "markdown",
   "metadata": {},
   "source": [
    "> **Write a program which takes as input two sorted arrays, and returns a new array containing elements that are present in both of the input arrays. The input arrays may have duplicate entries, but the returned array should be free of duplicates. For example, the input is [2,3,3,5,5,6,7,7,8,12] and [5,5,6,8,8,9,10,10], your output should be [5, 6, 8].**\n",
    "\n",
    "_Hint: How would you efficiently check the conjecture for n assuming it holds for all $m < n$?_"
   ]
  },
  {
   "cell_type": "code",
   "execution_count": 4,
   "metadata": {},
   "outputs": [
    {
     "data": {
      "text/plain": [
       "[2]"
      ]
     },
     "execution_count": 4,
     "metadata": {},
     "output_type": "execute_result"
    }
   ],
   "source": [
    "from typing import List\n",
    "from bisect import bisect_left\n",
    "\n",
    "# Time complecity:O(m + n)\n",
    "def intersect_two_sorted_arrays(A: List[int], B: List[int]) -> List[int]:\n",
    "    i=0; j = 0; intersections = []\n",
    "    \n",
    "    while i < len(A) and j < len(B):\n",
    "        if A[i] == B[j]:\n",
    "            if i == 0 or A[i] != A[i - 1]:\n",
    "                intersections.append(A[i])\n",
    "            i += 1; j += 1\n",
    "        elif A[i] < B[j]:\n",
    "            i += 1\n",
    "        else:\n",
    "            j += 1\n",
    "    return intersections\n",
    "        \n",
    "\n",
    "# a = [2,3,3,5,5,6,7,7,8,12]\n",
    "# b = [5,5,6,8,8,9,10,10]\n",
    "a = [1,2,2,1]\n",
    "b = [2]\n",
    "intersect_two_sorted_arrays(a,b)"
   ]
  },
  {
   "cell_type": "code",
   "execution_count": null,
   "metadata": {},
   "outputs": [],
   "source": []
  },
  {
   "cell_type": "code",
   "execution_count": null,
   "metadata": {},
   "outputs": [],
   "source": []
  },
  {
   "cell_type": "code",
   "execution_count": 1,
   "metadata": {},
   "outputs": [
    {
     "data": {
      "text/plain": [
       "[9]"
      ]
     },
     "execution_count": 1,
     "metadata": {},
     "output_type": "execute_result"
    }
   ],
   "source": [
    "from typing import List\n",
    "from bisect import bisect_left\n",
    "\n",
    "# Time complecity:O(nlog m)\n",
    "def intersect_two_sorted_arrays(A: List[int], B: List[int]) -> List[int]:\n",
    "    def isAlsoIn(other, item):\n",
    "        item_index = bisect_left(other, item)\n",
    "        return item_index < len(other) and other[item_index] == item\n",
    "    \n",
    "    return [x for i, x in enumerate(A) if (i == 0 or x != A[i-1]) and isAlsoIn(B, x)]\n",
    "        \n",
    "\n",
    "# a = [2,3,3,5,5,6,7,7,8,12]\n",
    "# b = [5,5,6,8,8,9,10,10]\n",
    "a = [4,9,5]\n",
    "b = [9,4,9,8,4]\n",
    "intersect_two_sorted_arrays(a,b)"
   ]
  },
  {
   "cell_type": "code",
   "execution_count": null,
   "metadata": {},
   "outputs": [],
   "source": []
  },
  {
   "cell_type": "code",
   "execution_count": 2,
   "metadata": {},
   "outputs": [
    {
     "data": {
      "text/plain": [
       "[4, 9]"
      ]
     },
     "execution_count": 2,
     "metadata": {},
     "output_type": "execute_result"
    }
   ],
   "source": [
    "from typing import List\n",
    "\n",
    "# Time complecity:O(nlog m)\n",
    "def intersect_two_sorted_arrays(A: List[int], B: List[int]) -> List[int]:\n",
    "    return sorted(set(A).intersection(set(B)))\n",
    "\n",
    "# a = [2,3,3,5,5,6,7,7,8,12]\n",
    "# b = [5,5,6,8,8,9,10,10]\n",
    "a = [4,9,5]\n",
    "b = [9,4,9,8,4]\n",
    "intersect_two_sorted_arrays(a,b)"
   ]
  }
 ],
 "metadata": {
  "kernelspec": {
   "display_name": "Python 3",
   "language": "python",
   "name": "python3"
  },
  "language_info": {
   "codemirror_mode": {
    "name": "ipython",
    "version": 3
   },
   "file_extension": ".py",
   "mimetype": "text/x-python",
   "name": "python",
   "nbconvert_exporter": "python",
   "pygments_lexer": "ipython3",
   "version": "3.8.3"
  }
 },
 "nbformat": 4,
 "nbformat_minor": 4
}
