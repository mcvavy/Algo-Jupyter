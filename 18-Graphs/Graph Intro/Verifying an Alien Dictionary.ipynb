{
 "cells": [
  {
   "cell_type": "markdown",
   "id": "sitting-theory",
   "metadata": {},
   "source": [
    "- [The Coding World Explanation](https://www.youtube.com/watch?v=MIJG2SU8Y-g&t=3s&ab_channel=thecodingworld)"
   ]
  },
  {
   "cell_type": "code",
   "execution_count": null,
   "id": "drawn-soviet",
   "metadata": {},
   "outputs": [],
   "source": [
    "class Solution:\n",
    "    def isAlienSorted(self, words: List[str], order: str) -> bool:\n",
    "        dictionary = {}\n",
    "        for index, char in enumerate(order):\n",
    "            dictionary[char] = index\n",
    "        \n",
    "        for i in range(len(words) - 1):\n",
    "            word1 = words[i]\n",
    "            word2 = words[i + 1]\n",
    "            \n",
    "            for j in range(min(len(word1), len(word2))):\n",
    "                if word1[j] != word2[j]:\n",
    "                    if dictionary[word1[j]] > dictionary[word2[j]]:\n",
    "                        return False\n",
    "                    break\n",
    "            else:\n",
    "                if len(word1) > len(word2):\n",
    "                    return False\n",
    "        return True\n",
    "                "
   ]
  }
 ],
 "metadata": {
  "kernelspec": {
   "display_name": "Python 3",
   "language": "python",
   "name": "python3"
  },
  "language_info": {
   "codemirror_mode": {
    "name": "ipython",
    "version": 3
   },
   "file_extension": ".py",
   "mimetype": "text/x-python",
   "name": "python",
   "nbconvert_exporter": "python",
   "pygments_lexer": "ipython3",
   "version": "3.9.1"
  }
 },
 "nbformat": 4,
 "nbformat_minor": 5
}
