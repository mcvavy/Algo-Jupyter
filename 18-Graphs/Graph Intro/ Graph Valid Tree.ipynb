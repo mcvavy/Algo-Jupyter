{
 "cells": [
  {
   "cell_type": "markdown",
   "id": "detected-hamburg",
   "metadata": {},
   "source": [
    "- [Amazing explanation](https://www.youtube.com/watch?v=dXBYe_dyDgQ&ab_channel=HappyCoding)"
   ]
  },
  {
   "cell_type": "code",
   "execution_count": 7,
   "id": "crazy-boring",
   "metadata": {},
   "outputs": [
    {
     "data": {
      "text/plain": [
       "False"
      ]
     },
     "execution_count": 7,
     "metadata": {},
     "output_type": "execute_result"
    }
   ],
   "source": [
    "from typing import List\n",
    "\n",
    "class Solution:\n",
    "    def validTree(self, n: int, edges: List[List[int]]) -> bool:\n",
    "        def dfs(vertex, visited, alist):\n",
    "            visited[vertex] = True\n",
    "            \n",
    "            for neighbor in alist[vertex]:\n",
    "                if not visited[neighbor]:\n",
    "                    dfs(neighbor, visited, alist)\n",
    "        \n",
    "        if len(edges) >= n: return False\n",
    "            \n",
    "        alist = [[] for _ in range(n)]\n",
    "        \n",
    "        for x in edges:\n",
    "            alist[x[0]].append(x[1])\n",
    "            alist[x[1]].append(x[0])\n",
    "        \n",
    "        visited = [False] * n\n",
    "        visited[0] = True\n",
    "        dfs(0, visited, alist)\n",
    "\n",
    "        return all(visited)\n",
    "\n",
    "Solution().validTree(4,[[0,1],[2,3]])\n",
    "            "
   ]
  }
 ],
 "metadata": {
  "kernelspec": {
   "display_name": "Python 3",
   "language": "python",
   "name": "python3"
  },
  "language_info": {
   "codemirror_mode": {
    "name": "ipython",
    "version": 3
   },
   "file_extension": ".py",
   "mimetype": "text/x-python",
   "name": "python",
   "nbconvert_exporter": "python",
   "pygments_lexer": "ipython3",
   "version": "3.9.1"
  }
 },
 "nbformat": 4,
 "nbformat_minor": 5
}
