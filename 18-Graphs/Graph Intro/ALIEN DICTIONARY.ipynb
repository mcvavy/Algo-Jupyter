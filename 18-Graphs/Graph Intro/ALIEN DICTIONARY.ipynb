{
 "cells": [
  {
   "cell_type": "markdown",
   "id": "hungarian-domestic",
   "metadata": {},
   "source": [
    "- [Amazing Explanation](https://www.youtube.com/watch?v=fhCXVABhFDc&ab_channel=babybear4812)"
   ]
  },
  {
   "cell_type": "code",
   "execution_count": 16,
   "id": "pediatric-louisiana",
   "metadata": {},
   "outputs": [
    {
     "data": {
      "text/plain": [
       "'wertf'"
      ]
     },
     "execution_count": 16,
     "metadata": {},
     "output_type": "execute_result"
    }
   ],
   "source": [
    "from typing import List\n",
    "\n",
    "import string\n",
    "from collections import deque\n",
    "\n",
    "class Solution:\n",
    "    def alienOrder(self, words: List[str]) -> str:\n",
    "        '''\n",
    "        1. Build an adjacency list and indegree list\n",
    "        2. Compare adjacent words and fill up the adjacency list (Refer to validating alien dictionary)\n",
    "            - Update indegree as you go along\n",
    "        3. Use queue filter out vertices having indegree of zero in the adjacency list\n",
    "        '''\n",
    "        \n",
    "        alist = {}\n",
    "        indegree = [0 for _ in range(26)]\n",
    "        characters = string.ascii_lowercase\n",
    "        \n",
    "        for word in words:\n",
    "            for char in word:\n",
    "                if char not in alist:\n",
    "                    alist[char] = set()\n",
    "        \n",
    "        for i in range(1, len(words)):\n",
    "            first = words[i-1]\n",
    "            second = words[i]\n",
    "            \n",
    "            for j in range(min(len(first), len(second))):\n",
    "                if first[j] != second[j]:\n",
    "                    charOut = first[j]\n",
    "                    charIn = second[j]\n",
    "                    \n",
    "                    if charIn not in alist[charOut]:\n",
    "                        alist[charOut].add(charIn)\n",
    "                        indegree[characters.index(charIn)] += 1\n",
    "                    break\n",
    "            else:\n",
    "                if len(first) > len(second): return \"\"\n",
    "            \n",
    "        result = \"\"\n",
    "        Q = deque([c for c in alist if indegree[characters.index(c)] == 0])\n",
    "\n",
    "        while Q:\n",
    "            current = Q.popleft()\n",
    "            result += current\n",
    "            for neighbor in alist[current]:\n",
    "                indegree[characters.index(neighbor)] -= 1\n",
    "                if indegree[characters.index(neighbor)] == 0:\n",
    "                    Q.append(neighbor)\n",
    "        return result if len(result) == len(alist) else \"\"\n",
    "\n",
    "Solution().alienOrder([\"wrt\",\"wrf\",\"er\",\"ett\",\"rftt\"])\n"
   ]
  }
 ],
 "metadata": {
  "kernelspec": {
   "display_name": "Python 3",
   "language": "python",
   "name": "python3"
  },
  "language_info": {
   "codemirror_mode": {
    "name": "ipython",
    "version": 3
   },
   "file_extension": ".py",
   "mimetype": "text/x-python",
   "name": "python",
   "nbconvert_exporter": "python",
   "pygments_lexer": "ipython3",
   "version": "3.9.1"
  }
 },
 "nbformat": 4,
 "nbformat_minor": 5
}
