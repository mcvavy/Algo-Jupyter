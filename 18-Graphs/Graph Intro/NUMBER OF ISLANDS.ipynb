{
 "cells": [
  {
   "cell_type": "markdown",
   "id": "mediterranean-chamber",
   "metadata": {},
   "source": []
  },
  {
   "cell_type": "code",
   "execution_count": null,
   "id": "increased-bundle",
   "metadata": {},
   "outputs": [],
   "source": [
    "class Solution:\n",
    "    def numIslands(self, grid: List[List[str]]) -> int:\n",
    "        def mark_islands(row, col, m, n):\n",
    "            if row < 0 or row >= m or col < 0 or col >= n or grid[row][col] != \"1\": # Boundary cases\n",
    "                return\n",
    "            \n",
    "            grid[row][col] = \"2\"\n",
    "            \n",
    "            mark_islands(row - 1, col, m, n) # UP\n",
    "            mark_islands(row + 1, col, m, n) # Down\n",
    "            mark_islands(row, col - 1, m, n) # Left\n",
    "            mark_islands(row, col + 1, m, n) # Right\n",
    "            \n",
    "            \n",
    "            \n",
    "        island_count = 0\n",
    "        if not grid:\n",
    "            return island_count\n",
    "        \n",
    "        m = len(grid)\n",
    "        n = len(grid[0])\n",
    "        \n",
    "        for i in range(m):\n",
    "            for j in range(n):\n",
    "                if grid[i][j] == \"1\":\n",
    "                    island_count += 1\n",
    "                    mark_islands(i, j, m, n)\n",
    "        return island_count\n",
    "                    \n",
    "                    "
   ]
  }
 ],
 "metadata": {
  "kernelspec": {
   "display_name": "Python 3",
   "language": "python",
   "name": "python3"
  },
  "language_info": {
   "codemirror_mode": {
    "name": "ipython",
    "version": 3
   },
   "file_extension": ".py",
   "mimetype": "text/x-python",
   "name": "python",
   "nbconvert_exporter": "python",
   "pygments_lexer": "ipython3",
   "version": "3.9.1"
  }
 },
 "nbformat": 4,
 "nbformat_minor": 5
}
