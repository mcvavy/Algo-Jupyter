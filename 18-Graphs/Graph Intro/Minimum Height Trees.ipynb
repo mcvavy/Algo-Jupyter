{
 "cells": [
  {
   "cell_type": "code",
   "execution_count": null,
   "id": "pleased-velvet",
   "metadata": {},
   "outputs": [],
   "source": [
    "from collections import defaultdict\n",
    "class Solution:\n",
    "    def findMinHeightTrees(self, n: int, edges: List[List[int]]) -> List[int]:\n",
    "        def dfs(vertex, visited, alist):\n",
    "            visited[vertex] = \n",
    "            for neighbor in alist[vertex]:\n",
    "                if not visited[neighbor]:\n",
    "                    return 1 + dfs(neighbor, visited, alist)\n",
    "            else:\n",
    "                return 0\n",
    "        '''\n",
    "        build adjacency list\n",
    "        '''\n",
    "        \n",
    "        adjacency_list = defaultdict(list)\n",
    "        \n",
    "        for edge in edges:\n",
    "            adjacency_list[edge[0]].append(edge[1])\n",
    "            adjacency_list[edge[1]].append(edge[0])\n",
    "            \n",
    "        \n",
    "        \n",
    "        for i in range(n):\n",
    "            visited = [False] * n\n",
    "            dfs(i, visited, adjacency_list)\n",
    "        "
   ]
  }
 ],
 "metadata": {
  "kernelspec": {
   "display_name": "Python 3",
   "language": "python",
   "name": "python3"
  },
  "language_info": {
   "codemirror_mode": {
    "name": "ipython",
    "version": 3
   },
   "file_extension": ".py",
   "mimetype": "text/x-python",
   "name": "python",
   "nbconvert_exporter": "python",
   "pygments_lexer": "ipython3",
   "version": "3.9.1"
  }
 },
 "nbformat": 4,
 "nbformat_minor": 5
}
