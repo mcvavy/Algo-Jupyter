{
 "cells": [
  {
   "cell_type": "code",
   "execution_count": null,
   "id": "popular-calibration",
   "metadata": {},
   "outputs": [],
   "source": [
    "class Node:\n",
    "    def __init__(self, val = 0, neighbors = None):\n",
    "        self.val = val\n",
    "        self.neighbors = neighbors if neighbors is not None else []\n",
    "        \n",
    "class Solution:\n",
    "    def cloneNode(self, node, hashMap):\n",
    "        newNode = Node(node.val)\n",
    "        hashMap[node.val] = newNode\n",
    "        \n",
    "        for n in node.neighbors:\n",
    "            visited = hashMap.get(n.val, None)\n",
    "            if not visited: # Not yet visited\n",
    "                adjacentNode = self.cloneNode(n, hashMap)\n",
    "                newNode.neighbors.append(adjacentNode)\n",
    "            else:\n",
    "                newNode.neighbors.append(visited)\n",
    "        return newNode\n",
    "        \n",
    "    def cloneGraph(self, node: 'Node') -> 'Node':\n",
    "        if not node: return None\n",
    "        return self.cloneNode(node, {})\n",
    "        \n",
    "        "
   ]
  }
 ],
 "metadata": {
  "kernelspec": {
   "display_name": "Python 3",
   "language": "python",
   "name": "python3"
  },
  "language_info": {
   "codemirror_mode": {
    "name": "ipython",
    "version": 3
   },
   "file_extension": ".py",
   "mimetype": "text/x-python",
   "name": "python",
   "nbconvert_exporter": "python",
   "pygments_lexer": "ipython3",
   "version": "3.9.1"
  }
 },
 "nbformat": 4,
 "nbformat_minor": 5
}
