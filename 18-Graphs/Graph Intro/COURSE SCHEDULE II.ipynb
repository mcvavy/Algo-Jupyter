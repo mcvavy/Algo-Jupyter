{
 "cells": [
  {
   "cell_type": "markdown",
   "id": "historical-valley",
   "metadata": {},
   "source": [
    "- [Leet Code Link](https://leetcode.com/problems/course-schedule-ii/submissions/)\n",
    "\n",
    "- [Knowledge Center Explanation](https://www.youtube.com/watch?v=_BGK0kpE4oE&list=PL1w8k37X_6L9IfRTVvL-tKnrZ_F-8HJQt&index=18&ab_channel=KnowledgeCenter)"
   ]
  },
  {
   "cell_type": "code",
   "execution_count": 13,
   "id": "finite-season",
   "metadata": {},
   "outputs": [
    {
     "data": {
      "text/plain": [
       "[0, 2, 1, 3]"
      ]
     },
     "execution_count": 13,
     "metadata": {},
     "output_type": "execute_result"
    }
   ],
   "source": [
    "from typing import List\n",
    "\n",
    "from collections import deque\n",
    "from enum import Enum, auto\n",
    "\n",
    "class State(Enum):\n",
    "    UNVISITED = auto()\n",
    "    BUSY = auto()\n",
    "    VISITED = auto()\n",
    "    \n",
    "class Solution:\n",
    "    def hasCycle(self, vertex, visited, S, alist) -> bool:\n",
    "        visited[vertex] = State.BUSY\n",
    "\n",
    "        for u in alist[vertex]:\n",
    "            if visited[u] == State.BUSY: return True\n",
    "            if visited[u] == State.UNVISITED and self.hasCycle(u, visited, S, alist): return True\n",
    "        S.append(vertex)\n",
    "        visited[vertex] = State.VISITED\n",
    "        return False\n",
    "    \n",
    "    def findOrder(self, numCourses: int, prerequisites: List[List[int]]) -> List[int]:\n",
    "        adj_list = [[] for _ in range(numCourses)]\n",
    "\n",
    "        for x in prerequisites:\n",
    "            adj_list[x[1]].append(x[0])\n",
    "        \n",
    "        stack = deque()\n",
    "        visited = [State.UNVISITED] * numCourses\n",
    "        for i in range(numCourses):\n",
    "            if visited[i] == State.UNVISITED and self.hasCycle(i, visited, stack, adj_list):\n",
    "                return []\n",
    "        return [x for x in reversed(stack)]\n",
    "\n",
    "    \n",
    "Solution().findOrder(4, [[1,0],[2,0],[3,1],[3,2]])"
   ]
  }
 ],
 "metadata": {
  "kernelspec": {
   "display_name": "Python 3",
   "language": "python",
   "name": "python3"
  },
  "language_info": {
   "codemirror_mode": {
    "name": "ipython",
    "version": 3
   },
   "file_extension": ".py",
   "mimetype": "text/x-python",
   "name": "python",
   "nbconvert_exporter": "python",
   "pygments_lexer": "ipython3",
   "version": "3.9.1"
  }
 },
 "nbformat": 4,
 "nbformat_minor": 5
}
