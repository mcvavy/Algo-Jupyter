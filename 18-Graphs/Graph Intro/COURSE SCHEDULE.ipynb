{
 "cells": [
  {
   "cell_type": "code",
   "execution_count": null,
   "id": "supposed-angola",
   "metadata": {},
   "outputs": [],
   "source": [
    "from enum import Enum, auto\n",
    "\n",
    "class State(Enum):\n",
    "    UNVISTED = auto()\n",
    "    PROCESSING = auto()\n",
    "    VISITED = auto()\n",
    "    \n",
    "class Solution:\n",
    "    def hasCycle(self,vertex, visited, alist) -> bool:\n",
    "        visited[vertex] = State.PROCESSING\n",
    "        \n",
    "        for u in alist[vertex]:\n",
    "            if visited[u] == State.PROCESSING:\n",
    "                return True\n",
    "            if visited[u] == State.UNVISTED and self.hasCycle(u, visited, alist):\n",
    "                return True\n",
    "            \n",
    "        visited[vertex] = State.VISITED\n",
    "        return False\n",
    "        \n",
    "    def canFinish(self, numCourses: int, prerequisites: List[List[int]]) -> bool:\n",
    "        alist = [[] for _ in range(numCourses)]\n",
    "        \n",
    "        for x in prerequisites:\n",
    "            alist[x[0]].append(x[1])\n",
    "        \n",
    "        visited = [State.UNVISTED] * numCourses\n",
    "        \n",
    "        for i in range(numCourses):\n",
    "            if visited[i] == State.UNVISTED and self.hasCycle(i, visited, alist):\n",
    "                return False\n",
    "        return True\n",
    "        "
   ]
  }
 ],
 "metadata": {
  "kernelspec": {
   "display_name": "Python 3",
   "language": "python",
   "name": "python3"
  },
  "language_info": {
   "codemirror_mode": {
    "name": "ipython",
    "version": 3
   },
   "file_extension": ".py",
   "mimetype": "text/x-python",
   "name": "python",
   "nbconvert_exporter": "python",
   "pygments_lexer": "ipython3",
   "version": "3.9.1"
  }
 },
 "nbformat": 4,
 "nbformat_minor": 5
}
