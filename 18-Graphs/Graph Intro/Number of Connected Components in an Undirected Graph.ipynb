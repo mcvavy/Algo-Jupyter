{
 "cells": [
  {
   "cell_type": "code",
   "execution_count": null,
   "id": "maritime-slovak",
   "metadata": {},
   "outputs": [],
   "source": [
    "from typing import List\n",
    "\n",
    "from collections import defaultdict\n",
    "\n",
    "class Solution:\n",
    "    def countComponents(self, n: int, edges: List[List[int]]) -> int:\n",
    "        def dfs(vertex, visited, alist):\n",
    "            visited[vertex] = True\n",
    "            for neighbor in alist[vertex]:\n",
    "                if not visited[neighbor]:\n",
    "                    dfs(neighbor, visited, alist)\n",
    "            \n",
    "        adjacency_list = defaultdict(list)\n",
    "        \n",
    "        for x in edges:\n",
    "            adjacency_list[x[0]].append(x[1])\n",
    "            adjacency_list[x[1]].append(x[0])\n",
    "        \n",
    "        visited = [False] * n\n",
    "        \n",
    "        result = 0\n",
    "        for i in range(n):\n",
    "            if not visited[i]:\n",
    "                result += 1\n",
    "                dfs(i, visited, adjacency_list)\n",
    "        return result        \n",
    "        "
   ]
  }
 ],
 "metadata": {
  "kernelspec": {
   "display_name": "Python 3",
   "language": "python",
   "name": "python3"
  },
  "language_info": {
   "codemirror_mode": {
    "name": "ipython",
    "version": 3
   },
   "file_extension": ".py",
   "mimetype": "text/x-python",
   "name": "python",
   "nbconvert_exporter": "python",
   "pygments_lexer": "ipython3",
   "version": "3.9.1"
  }
 },
 "nbformat": 4,
 "nbformat_minor": 5
}
