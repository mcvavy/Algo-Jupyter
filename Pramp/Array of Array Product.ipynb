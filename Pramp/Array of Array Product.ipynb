{
 "cells": [
  {
   "cell_type": "code",
   "execution_count": null,
   "metadata": {},
   "outputs": [],
   "source": [
    "def array_of_array_products(arr):\n",
    "  n = len(arr)\n",
    "  ans =[1 for i in range(n)];\n",
    "  \n",
    "  if n == 1:\n",
    "    return [];\n",
    "  \n",
    "  prev = 1;\n",
    "  for i in range(1,n): #[1]\n",
    "    prev *= arr[i-1];\n",
    "    ans[i] = prev;  # ans[1] = 2\n",
    "  \n",
    "  next = 1;\n",
    "  for i in range(n-2,-1,-1):\n",
    "    next *= arr[i+1];\n",
    "    ans[i] *= next;\n",
    "  \n",
    "  return ans;"
   ]
  }
 ],
 "metadata": {
  "kernelspec": {
   "display_name": "Python 3",
   "language": "python",
   "name": "python3"
  },
  "language_info": {
   "codemirror_mode": {
    "name": "ipython",
    "version": 3
   },
   "file_extension": ".py",
   "mimetype": "text/x-python",
   "name": "python",
   "nbconvert_exporter": "python",
   "pygments_lexer": "ipython3",
   "version": "3.8.3"
  }
 },
 "nbformat": 4,
 "nbformat_minor": 4
}
