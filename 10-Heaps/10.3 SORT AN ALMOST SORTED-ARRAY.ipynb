{
 "cells": [
  {
   "attachments": {},
   "cell_type": "markdown",
   "metadata": {},
   "source": [
    "> **Write a Program which takes as input a very long sequence of numbers and prints the numbers in sorted order. Each number is at most k away from its correctly sorted position. (Such an array is sometimesreferredtoasbeingk-sorted.) For example,no number in the sequence [3,-1,2,6,4,5,8] is more than 2 away from its final sorted position.** \n",
    "\n",
    "_Hint: How many numbers must you read after reading the ith number to be sure you can place it in the correct location?_  \n",
    "\n",
    "- [K Sorted Arrays - Min Heap Algorithm](https://www.youtube.com/watch?v=yQ84lk-EXTQ&ab_channel=BackToBackSWE)"
   ]
  },
  {
   "cell_type": "code",
   "execution_count": 1,
   "metadata": {},
   "outputs": [],
   "source": [
    "from typing import Iterator, List\n",
    "import itertools as t\n",
    "import heapq as q\n",
    "\n",
    "# Time complexity: O(nlogk). Space complexity: O(k)\n",
    "def sort_approximately_sorted_array(sequence: Iterator[int],\n",
    "                                    k: int) -> List[int]:\n",
    "    # Put first k item in a min heap\n",
    "    # For every k + 1 item, pop the smallest\n",
    "    # Extract remaining items from the min heap\n",
    "    res = []\n",
    "    minHeap = []\n",
    "    for k in t.islice(sequence, k):\n",
    "        q.heappush(minHeap, k)\n",
    "    \n",
    "    for k in sequence:\n",
    "        item = q.heappushpop(minHeap, k)\n",
    "        res.append(item)\n",
    "    while minHeap:\n",
    "        res.append(q.heappop(minHeap))\n",
    "    return res"
   ]
  }
 ],
 "metadata": {
  "kernelspec": {
   "display_name": "Python 3",
   "language": "python",
   "name": "python3"
  },
  "language_info": {
   "codemirror_mode": {
    "name": "ipython",
    "version": 3
   },
   "file_extension": ".py",
   "mimetype": "text/x-python",
   "name": "python",
   "nbconvert_exporter": "python",
   "pygments_lexer": "ipython3",
   "version": "3.8.3"
  }
 },
 "nbformat": 4,
 "nbformat_minor": 4
}
