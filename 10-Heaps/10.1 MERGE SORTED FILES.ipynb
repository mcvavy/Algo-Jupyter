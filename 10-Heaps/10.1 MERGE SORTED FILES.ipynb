{
 "cells": [
  {
   "cell_type": "markdown",
   "metadata": {},
   "source": [
    "> **Write a program that takes as input a set of sorted sequences and computes the union of these sequences as a sorted sequence. For example, if the input is [3,5,7], [0,5], and [0,6,28], then the output is [0, 0, 3, 5, 6, 6,7, 28].** \n",
    "\n",
    "_Hint: Which part of each sequence is significant as the algorithm executes?_  \n",
    "\n",
    "- [Merge K Sorted Arrays - Min Heap Algorithm](https://www.youtube.com/watch?v=ptYUCjfNhJY&ab_channel=BackToBackSWE)"
   ]
  },
  {
   "cell_type": "code",
   "execution_count": 1,
   "metadata": {},
   "outputs": [],
   "source": [
    "from typing import List\n",
    "import heapq as hq\n",
    "\n",
    "#Time complexity: O(log k) | space complexity O(k)\n",
    "def merge_sorted_arrays(sorted_arrays: List[List[int]]) -> List[int]:\n",
    "    minHeap: List[Tuple[int, int]] = []\n",
    "    \n",
    "    #build iterators for each array in sorted arrays\n",
    "    sorted_arrays_iters = [iter(x) for x in sorted_arrays]\n",
    "    \n",
    "    #Put the first element of each iterator in min heap\n",
    "    for i, it in enumerate(sorted_arrays_iters):\n",
    "        first = next(it, None)\n",
    "        if first is not None:\n",
    "            hq.heappush(minHeap, (first, i))\n",
    "    \n",
    "    result = []\n",
    "    while minHeap:\n",
    "        smallest, i = hq.heappop(minHeap)\n",
    "        smallest_array_iter = sorted_arrays_iters[i]\n",
    "        result.append(smallest)\n",
    "        next_item = next(smallest_array_iter, None)        \n",
    "        if next_item is not None:\n",
    "            hq.heappush(minHeap, (next_item, i))\n",
    "    return result\n",
    "\n",
    "#Pythonic solution, uses the heapq.merge() method which takes multiple inputs.\n",
    "def merge_sorted_arrays_pythonic(sorted_arrays):\n",
    "    return list(heapq.merge(*sorted_arrays))\n"
   ]
  },
  {
   "cell_type": "code",
   "execution_count": null,
   "metadata": {},
   "outputs": [],
   "source": []
  },
  {
   "cell_type": "code",
   "execution_count": null,
   "metadata": {},
   "outputs": [],
   "source": []
  },
  {
   "cell_type": "markdown",
   "metadata": {},
   "source": [
    "> **You are given an array of k linked-lists lists, each linked-list is sorted in ascending order.**  \n",
    "\n",
    "_Hint: Merge all the linked-lists into one sorted linked-list and return it._ \n",
    "\n",
    "```python\n",
    "Input: lists = [[1,4,5],[1,3,4],[2,6]]\n",
    "Output: [1,1,2,3,4,4,5,6]\n",
    "Explanation: The linked-lists are:\n",
    "[\n",
    "  1->4->5,\n",
    "  1->3->4,\n",
    "  2->6\n",
    "]\n",
    "merging them into one sorted list:\n",
    "1->1->2->3->4->4->5->6\n",
    "```"
   ]
  },
  {
   "cell_type": "code",
   "execution_count": null,
   "metadata": {},
   "outputs": [],
   "source": [
    "# Definition for singly-linked list.\n",
    "# class ListNode:\n",
    "#     def __init__(self, val=0, next=None):\n",
    "#         self.val = val\n",
    "#         self.next = next\n",
    "class Solution:\n",
    "    def mergeKLists(self, lists: List[ListNode]) -> ListNode:\n",
    "        def merge(L1, L2):\n",
    "            head = tail = ListNode()\n",
    "            \n",
    "            while L1 and L2:\n",
    "                if L1.val < L2.val:\n",
    "                    tail.next = L1\n",
    "                    L1 = L1.next\n",
    "                else:\n",
    "                    tail.next = L2\n",
    "                    L2 = L2.next\n",
    "                tail = tail.next\n",
    "            tail.next = L1 or L2\n",
    "            return head.next\n",
    "        \n",
    "        i = 0\n",
    "\n",
    "        res = None\n",
    "        while i < len(lists):\n",
    "            res = merge(res, lists[i])\n",
    "            i += 1\n",
    "        \n",
    "        return res"
   ]
  },
  {
   "cell_type": "code",
   "execution_count": null,
   "metadata": {},
   "outputs": [],
   "source": []
  },
  {
   "cell_type": "code",
   "execution_count": null,
   "metadata": {},
   "outputs": [],
   "source": []
  },
  {
   "cell_type": "markdown",
   "metadata": {},
   "source": [
    "> **Using Min-Heap solution**  \n",
    "\n",
    "[Min-heap solution](https://www.youtube.com/watch?v=MbN_mhJntHg&ab_channel=TheCodeMate)"
   ]
  },
  {
   "cell_type": "code",
   "execution_count": null,
   "metadata": {},
   "outputs": [],
   "source": [
    "import heapq as q\n",
    "# Definition for singly-linked list.\n",
    "# class ListNode:\n",
    "#     def __init__(self, val=0, next=None):\n",
    "#         self.val = val\n",
    "#         self.next = next\n",
    "\n",
    "#Time complexity: O(klogn)\n",
    "class Solution:\n",
    "    def mergeKLists(self, lists: List[ListNode]) -> ListNode:\n",
    "        mh = []\n",
    "        for i, lst in enumerate(lists):\n",
    "            if lst is not None:\n",
    "                q.heappush(mh, (lst.val, i))\n",
    "        \n",
    "        head = tail = ListNode()\n",
    "        \n",
    "        while mh:\n",
    "            val, i = q.heappop(mh)\n",
    "            tail.next = ListNode(val)\n",
    "            tail = tail.next\n",
    "\n",
    "            nextItem = lists[i].next\n",
    "            lists[i] = lists[i].next\n",
    "            if nextItem is not None:\n",
    "                q.heappush(mh, (nextItem.val, i))\n",
    "        return head.next"
   ]
  }
 ],
 "metadata": {
  "kernelspec": {
   "display_name": "Python 3",
   "language": "python",
   "name": "python3"
  },
  "language_info": {
   "codemirror_mode": {
    "name": "ipython",
    "version": 3
   },
   "file_extension": ".py",
   "mimetype": "text/x-python",
   "name": "python",
   "nbconvert_exporter": "python",
   "pygments_lexer": "ipython3",
   "version": "3.7.4"
  }
 },
 "nbformat": 4,
 "nbformat_minor": 4
}
