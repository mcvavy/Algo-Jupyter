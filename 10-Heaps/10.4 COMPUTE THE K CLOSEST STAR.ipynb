{
 "cells": [
  {
   "cell_type": "markdown",
   "metadata": {},
   "source": [
    "> **How would you compute the k stars which are closest to Earth?** \n",
    "\n",
    "_Hint: How would you compute the k stars which are closest to Earth?_  "
   ]
  },
  {
   "cell_type": "code",
   "execution_count": 10,
   "metadata": {},
   "outputs": [],
   "source": [
    "from typing import Iterator, List\n",
    "import heapq as q\n",
    "\n",
    "class Star:\n",
    "    def __init__(self, x: float, y: float, z: float) -> None:\n",
    "        self.x, self.y, self.z = x, y, z\n",
    "\n",
    "    @property\n",
    "    def distance(self) -> float:\n",
    "        return math.sqrt(self.x**2 + self.y**2 + self.z**2)\n",
    "\n",
    "    def __lt__(self, rhs: 'Star') -> bool:\n",
    "        return self.distance < rhs.distance\n",
    "\n",
    "    def __repr__(self):\n",
    "        return str(self.distance)\n",
    "\n",
    "    def __str__(self):\n",
    "        return self.__repr__()\n",
    "\n",
    "    def __eq__(self, rhs):\n",
    "        return math.isclose(self.distance, rhs.distance)\n",
    "\n",
    "#Time complexity: O(nlogk) | Space complexity: O(k)\n",
    "def find_closest_k_stars(stars: Iterator[Star], k: int) -> List[Star]:\n",
    "    max_heap = []\n",
    "    for star in stars:\n",
    "        q.heappush(max_heap, (-star.distance, star))\n",
    "        if len(max_heap) == k + 1:\n",
    "            q.heappop(max_heap)\n",
    "    \n",
    "    return [x[1] for x in q.nlargest(k, max_heap)]"
   ]
  }
 ],
 "metadata": {
  "kernelspec": {
   "display_name": "Python 3",
   "language": "python",
   "name": "python3"
  },
  "language_info": {
   "codemirror_mode": {
    "name": "ipython",
    "version": 3
   },
   "file_extension": ".py",
   "mimetype": "text/x-python",
   "name": "python",
   "nbconvert_exporter": "python",
   "pygments_lexer": "ipython3",
   "version": "3.8.3"
  }
 },
 "nbformat": 4,
 "nbformat_minor": 4
}
