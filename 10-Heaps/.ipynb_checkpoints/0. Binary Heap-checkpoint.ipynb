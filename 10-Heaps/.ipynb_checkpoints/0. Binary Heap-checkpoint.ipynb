{
 "cells": [
  {
   "cell_type": "markdown",
   "metadata": {},
   "source": [
    "> Binary Tree Resources\n",
    "\n",
    "- [Geek for Geek: What is Binary Heap](https://www.geeksforgeeks.org/binary-heap/)\n",
    "    - [Array Representation of Binary Heap](https://www.geeksforgeeks.org/array-representation-of-binary-heap/)\n",
    "- [Binary Heap Explanation | Insertion and Deletion work through](https://www.youtube.com/watch?v=g9YK6sftDi0&ab_channel=BackToBackSWE)\n",
    "- [Everything Heap](https://www.youtube.com/watch?v=HqPJF2L5h9U&ab_channel=AbdulBari)"
   ]
  }
 ],
 "metadata": {
  "kernelspec": {
   "display_name": "Python 3",
   "language": "python",
   "name": "python3"
  },
  "language_info": {
   "codemirror_mode": {
    "name": "ipython",
    "version": 3
   },
   "file_extension": ".py",
   "mimetype": "text/x-python",
   "name": "python",
   "nbconvert_exporter": "python",
   "pygments_lexer": "ipython3",
   "version": "3.8.3"
  }
 },
 "nbformat": 4,
 "nbformat_minor": 4
}
