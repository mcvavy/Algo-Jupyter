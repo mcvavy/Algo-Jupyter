{
 "cells": [
  {
   "cell_type": "markdown",
   "metadata": {},
   "source": [
    "> **Design an algorithm for computing the running median of a sequence.** \n",
    "\n",
    "_Hint: Avoid looking at all values each time you read a new value._    \n",
    "\n",
    "- [Solution Explanation using max|min heap](https://www.youtube.com/watch?v=EcNbRjEcb14&ab_channel=KeertiPurswani)\n",
    "- [LeetCode Question](https://leetcode.com/problems/find-median-from-data-stream/submissions/)"
   ]
  },
  {
   "cell_type": "code",
   "execution_count": 1,
   "metadata": {},
   "outputs": [],
   "source": [
    "from typing import Iterator, List\n",
    "import heapq as q\n",
    "\n",
    "# 5 4 3 2 1\n",
    "def online_median(sequence: Iterator[int]) -> List[float]:\n",
    "    maxQ = []; minQ = []\n",
    "    res = []\n",
    "    for item in sequence:\n",
    "        if not maxQ or -maxQ[0] > item:\n",
    "            q.heappush(maxQ, -item)\n",
    "        else:\n",
    "            q.heappush(minQ, item)\n",
    "        if len(maxQ) > len(minQ) + 1:\n",
    "            q.heappush(minQ, -maxQ[0])\n",
    "            q.heappop(maxQ)\n",
    "        else:\n",
    "            if len(minQ) > len(maxQ) + 1:\n",
    "                q.heappush(maxQ, -minQ[0])\n",
    "                q.heappop(minQ)\n",
    "        if len(minQ) == len(maxQ):\n",
    "            res.append(0.5 * (minQ[0] + -maxQ[0]))\n",
    "        elif len(minQ) > len(maxQ):\n",
    "            res.append(minQ[0])\n",
    "        else:\n",
    "            res.append(-maxQ[0])\n",
    "    return res\n",
    "    \n"
   ]
  }
 ],
 "metadata": {
  "kernelspec": {
   "display_name": "Python 3",
   "language": "python",
   "name": "python3"
  },
  "language_info": {
   "codemirror_mode": {
    "name": "ipython",
    "version": 3
   },
   "file_extension": ".py",
   "mimetype": "text/x-python",
   "name": "python",
   "nbconvert_exporter": "python",
   "pygments_lexer": "ipython3",
   "version": "3.8.3"
  }
 },
 "nbformat": 4,
 "nbformat_minor": 4
}
