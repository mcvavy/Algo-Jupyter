{
 "cells": [
  {
   "cell_type": "markdown",
   "metadata": {},
   "source": [
    "> **Implement an algorithm that takes as input an array of distinct elements and a size, and returns a subset of the given size of the array elements. All subsets should be equally likely. Return the result in input array itself.**\n",
    "\n",
    "_Hint: How would you construct a random subset of size k + 1 given a random subset of size k?_ "
   ]
  },
  {
   "cell_type": "code",
   "execution_count": 18,
   "metadata": {},
   "outputs": [
    {
     "data": {
      "text/plain": [
       "[6, 5, 2, 3, 4, 1, 0, 7, 8, 9]"
      ]
     },
     "execution_count": 18,
     "metadata": {},
     "output_type": "execute_result"
    }
   ],
   "source": [
    "from typing import List\n",
    "import random\n",
    "\n",
    "# Time complexity: O(k) | Space complexity: O(1)\n",
    "def random_sampling(k: int, A: List[int]) -> None:\n",
    "    for i in range(k):\n",
    "        r = random.randint(i, len(A) - 1)\n",
    "        A[i],A[r] = A[r], A[i]\n",
    "\n",
    "A = [0, 1, 2, 3, 4, 5, 6, 7, 8, 9]\n",
    "random_sampling(2, A)\n",
    "A"
   ]
  }
 ],
 "metadata": {
  "kernelspec": {
   "display_name": "Python 3",
   "language": "python",
   "name": "python3"
  },
  "language_info": {
   "codemirror_mode": {
    "name": "ipython",
    "version": 3
   },
   "file_extension": ".py",
   "mimetype": "text/x-python",
   "name": "python",
   "nbconvert_exporter": "python",
   "pygments_lexer": "ipython3",
   "version": "3.8.3"
  }
 },
 "nbformat": 4,
 "nbformat_minor": 4
}
