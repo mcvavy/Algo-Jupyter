{
 "cells": [
  {
   "cell_type": "markdown",
   "metadata": {},
   "source": [
    "> **Write a program that takes as input a permutation, and returns the next permutation under dictionary ordering. If the permutation is the last permutation, return the empty array. For example, if the input is [1,0,3,2] your function should retum [1,2,0,3]. If the input is [3,2,1,0], return [].**\n",
    "\n",
    "_Hint: Study concrete examples._  \n",
    "\n",
    "\n",
    "\n",
    "The general algorithm for computing the next permutation is as follows: \n",
    "- (1.) Find k such that p[k] < p[k + 1] and entries after index k appear in decreasing order. \n",
    "- (2.) Find the smallest p[l] such that p[l] > p[k] (such an / must exist since p[k] < p[k + 1]). \n",
    "- (3.) Swap p[l] and p[k] (note that the sequence after position k remains in decreasing order). \n",
    "- (4.) Reverse the sequence after position k.\n",
    "\n",
    "```python\n",
    "Example:\n",
    "    perm =      [6, 2, 1, 5, 4, 3, 0]\n",
    "    next perm = [6, 2, 3, 0, 1, 4, 5]\n",
    "```"
   ]
  },
  {
   "cell_type": "code",
   "execution_count": 1,
   "metadata": {},
   "outputs": [
    {
     "data": {
      "text/plain": [
       "[6, 2, 3, 0, 1, 4, 5]"
      ]
     },
     "execution_count": 1,
     "metadata": {},
     "output_type": "execute_result"
    }
   ],
   "source": [
    "from typing import List\n",
    "\n",
    "# Time complexity: O(n) | Space complexity: O(1)\n",
    "def next_permutation(perm: List[int]) -> List[int]:\n",
    "    pivot = len(perm) - 2\n",
    "    \n",
    "    while pivot >= 0 and perm[pivot] >= perm[pivot + 1]:\n",
    "        pivot -= 1\n",
    "    \n",
    "    #pivot will decrease below zero if all entries in perm are \n",
    "    # strictly decreasing\n",
    "    if pivot < 0:\n",
    "        return []\n",
    "    \n",
    "    for i in reversed(range(pivot + 1, len(perm))):\n",
    "        if perm[i] > perm[pivot]:\n",
    "            perm[pivot], perm[i] = perm[i], perm[pivot]\n",
    "            break\n",
    "    \n",
    "    perm[pivot + 1:] = reversed(perm[pivot + 1:])\n",
    "    \n",
    "    return perm\n",
    "\n",
    "A = [6, 2, 1, 5, 4, 3, 0]\n",
    "next_permutation(A)"
   ]
  },
  {
   "cell_type": "code",
   "execution_count": null,
   "metadata": {},
   "outputs": [],
   "source": []
  },
  {
   "cell_type": "code",
   "execution_count": null,
   "metadata": {},
   "outputs": [],
   "source": []
  },
  {
   "cell_type": "markdown",
   "metadata": {},
   "source": [
    "> **Variant: Compute the kth permutation under dictionary ordering, starting from the identity permutation (which is the first permutation in dictionary ordering).**\n",
    "\n",
    "[Some permutation explanation](https://www.youtube.com/watch?v=W9SIlE2jhBQ&ab_channel=TECHDOSE)\n",
    "\n",
    "[more explanation](https://www.youtube.com/watch?v=T_KP7GcsHVY&ab_channel=AlgorithmsMadeEasy)\n",
    "\n",
    "[Permutation Kth](http://www.zrzahid.com/k-th-permutation-sequence/)"
   ]
  },
  {
   "cell_type": "code",
   "execution_count": 12,
   "metadata": {},
   "outputs": [
    {
     "data": {
      "text/plain": [
       "[1, 4, 2, 5, 3]"
      ]
     },
     "execution_count": 12,
     "metadata": {},
     "output_type": "execute_result"
    }
   ],
   "source": [
    "def factorial(n):\n",
    "    fact = 1\n",
    "    for i in reversed(range(1, n + 1)):\n",
    "        fact = fact * i\n",
    "    return fact\n",
    "\n",
    "# Time complexity: O(n) | Space complexity: O(n)\n",
    "def kth_permutation(n, k):\n",
    "    res = []\n",
    "    digits = list(range(1, n + 1))\n",
    "    \n",
    "    for i in reversed(range(1, n + 1)):\n",
    "        if len(digits) == 1:\n",
    "            res.append(digits.pop())\n",
    "            return res\n",
    "        \n",
    "        index = k // factorial(i - 1)\n",
    "        \n",
    "        remainder = k % factorial(i - 1)\n",
    "        \n",
    "        if remainder == 0:\n",
    "            index -= 1\n",
    "            k = factorial(i - 1)\n",
    "        else:\n",
    "            k = remainder\n",
    "                    \n",
    "        res.append(digits.pop(index))\n",
    "\n",
    "kth_permutation(5, 14)"
   ]
  },
  {
   "cell_type": "code",
   "execution_count": null,
   "metadata": {},
   "outputs": [],
   "source": []
  },
  {
   "cell_type": "code",
   "execution_count": null,
   "metadata": {},
   "outputs": [],
   "source": []
  },
  {
   "cell_type": "markdown",
   "metadata": {},
   "source": [
    "> **Variant: Given a permutation p, return the permutation corresponding to the previous permutation of p under dictionary ordering.**"
   ]
  },
  {
   "cell_type": "code",
   "execution_count": 10,
   "metadata": {},
   "outputs": [
    {
     "data": {
      "text/plain": [
       "[3, 2, 1, 4]"
      ]
     },
     "execution_count": 10,
     "metadata": {},
     "output_type": "execute_result"
    }
   ],
   "source": [
    "from typing import List\n",
    "\n",
    "# Time complexity: O(n) | Space complexity: O(1)\n",
    "def previous_permutation(perm: List[int]) -> List[int]:\n",
    "    pivot = len(perm) - 2\n",
    "    \n",
    "    while pivot >= 0 and perm[pivot] <= perm[pivot + 1]:\n",
    "        pivot -= 1\n",
    "    \n",
    "    #pivot will decrease below zero if all entries in perm are \n",
    "    # strictly decreasing\n",
    "    if pivot < 0:\n",
    "        return []\n",
    "    \n",
    "    for i in reversed(range(pivot + 1, len(perm))):\n",
    "        if perm[i] < perm[pivot]:\n",
    "            perm[pivot], perm[i] = perm[i], perm[pivot]\n",
    "            break\n",
    "            \n",
    "    perm[pivot + 1:] = reversed(perm[pivot + 1:])\n",
    "    \n",
    "    return perm\n",
    "\n",
    "#A = [2,1,3,4]\n",
    "#A = [4,1,2,3]\n",
    "#A = [3,4, 1, 2]\n",
    "A = [3, 2, 4, 1]\n",
    "previous_permutation(A)"
   ]
  }
 ],
 "metadata": {
  "kernelspec": {
   "display_name": "Python 3",
   "language": "python",
   "name": "python3"
  },
  "language_info": {
   "codemirror_mode": {
    "name": "ipython",
    "version": 3
   },
   "file_extension": ".py",
   "mimetype": "text/x-python",
   "name": "python",
   "nbconvert_exporter": "python",
   "pygments_lexer": "ipython3",
   "version": "3.8.3"
  }
 },
 "nbformat": 4,
 "nbformat_minor": 4
}
