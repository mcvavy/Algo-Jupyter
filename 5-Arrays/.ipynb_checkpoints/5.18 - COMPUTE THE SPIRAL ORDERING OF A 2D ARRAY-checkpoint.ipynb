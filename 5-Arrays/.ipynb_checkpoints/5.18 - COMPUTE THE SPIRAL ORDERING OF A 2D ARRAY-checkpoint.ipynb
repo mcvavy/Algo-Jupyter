{
 "cells": [
  {
   "cell_type": "markdown",
   "metadata": {},
   "source": [
    "> **Write a program which takes an n x n 2D array and retums the spiral ordering of the array.**\n",
    "\n",
    "_Hint: Use case analysis and divide-and-conquer._\n",
    "\n",
    "- Sample input\n",
    "```python\n",
    "square_m = [\n",
    "    [ 1,  2,  3, 4],\n",
    "    [ 5,  6,  7, 8],\n",
    "    [ 9, 10, 11, 12],\n",
    "    [13, 14, 15, 16]\n",
    "]\n",
    "```"
   ]
  },
  {
   "cell_type": "code",
   "execution_count": 31,
   "metadata": {},
   "outputs": [
    {
     "data": {
      "text/plain": [
       "[1,\n",
       " 2,\n",
       " 3,\n",
       " 4,\n",
       " 5,\n",
       " 6,\n",
       " 7,\n",
       " 14,\n",
       " 21,\n",
       " 28,\n",
       " 27,\n",
       " 26,\n",
       " 25,\n",
       " 24,\n",
       " 23,\n",
       " 22,\n",
       " 15,\n",
       " 8,\n",
       " 9,\n",
       " 10,\n",
       " 11,\n",
       " 12,\n",
       " 13,\n",
       " 20,\n",
       " 19,\n",
       " 18,\n",
       " 17,\n",
       " 16]"
      ]
     },
     "execution_count": 31,
     "metadata": {},
     "output_type": "execute_result"
    }
   ],
   "source": [
    "from typing import List\n",
    "\n",
    "# Time complexity: O(n^2) | Space complexity: \n",
    "def matrix_in_spiral_order(square_matrix: List[List[int]]) -> List[int]:\n",
    "    if not square_matrix:\n",
    "        return []\n",
    "    \n",
    "    res = []\n",
    "    row_start = 0\n",
    "    row_end = len(square_matrix) - 1\n",
    "    \n",
    "    col_start = 0\n",
    "    col_end = len(square_matrix[0]) - 1\n",
    "    \n",
    "    while row_start <= row_end and col_start <= col_end:\n",
    "        for col in range(col_start, col_end + 1):\n",
    "            res.append(square_matrix[row_start][col])\n",
    "        \n",
    "        for row in range(row_start + 1, row_end + 1):\n",
    "            res.append(square_matrix[row][col_end])\n",
    "        \n",
    "        for col in reversed(range(col_start, col_end)):\n",
    "            if row_start == row_end:\n",
    "                break\n",
    "            res.append(square_matrix[row_end][col])\n",
    "        \n",
    "        for row in reversed(range(row_start + 1, row_end)):\n",
    "            if col_start == col_end:\n",
    "                break\n",
    "            res.append(square_matrix[row][col_start])\n",
    "        \n",
    "        row_start += 1\n",
    "        row_end -= 1\n",
    "        col_start += 1\n",
    "        col_end -= 1\n",
    "        \n",
    "    return res\n",
    "\n",
    "square_m = [\n",
    "    [  1,  2,  3,  4,  5,  6, 7],\n",
    "    [  8,  9, 10, 11, 12, 13, 14],\n",
    "    [ 15, 16, 17, 18, 19, 20, 21],\n",
    "    [ 22, 23, 24, 25, 26, 27, 28]\n",
    "]\n",
    "\n",
    "matrix_in_spiral_order(square_m)"
   ]
  },
  {
   "cell_type": "code",
   "execution_count": null,
   "metadata": {},
   "outputs": [],
   "source": []
  },
  {
   "cell_type": "code",
   "execution_count": null,
   "metadata": {},
   "outputs": [],
   "source": []
  },
  {
   "cell_type": "markdown",
   "metadata": {},
   "source": [
    "> **Variant: Given a dimension d, write a program to generate a _d x d_ 2D array which in spiral order is $<1,2,3..., d^2>$. For example, id $d = 3$, the result should be\n",
    "$ A = \\left[\n",
    "\\begin{matrix}\n",
    "1 & 2 & 3\\\\\n",
    "8 & 9 & 4\\\\\n",
    "7 & 6 & 5\n",
    "\\end{matrix}\n",
    "\\right]$**"
   ]
  },
  {
   "cell_type": "code",
   "execution_count": 55,
   "metadata": {},
   "outputs": [
    {
     "data": {
      "text/plain": [
       "[[1, 2, 3], [8, 9, 4], [7, 6, 5]]"
      ]
     },
     "execution_count": 55,
     "metadata": {},
     "output_type": "execute_result"
    }
   ],
   "source": [
    "from typing import List\n",
    "\n",
    "# Time complexity: O(n^2) | Space complexity: O(1)\n",
    "def matrix_in_spiral_order_given_dimension(d: int) -> List[int]:\n",
    "    res = [[0 for x in range(d)]  for y in range(d)]\n",
    "    \n",
    "    row_start = 0\n",
    "    row_end = len(res) - 1\n",
    "    \n",
    "    col_start = 0\n",
    "    col_end = len(res[0]) - 1\n",
    "    \n",
    "    counter = 1\n",
    "    while row_start <= row_end and col_start <= col_end:\n",
    "        for col in range(col_start, col_end + 1):\n",
    "            res[row_start][col] = counter\n",
    "            counter += 1\n",
    "        \n",
    "        for row in range(row_start + 1, row_end + 1):\n",
    "            res[row][col_end] = counter\n",
    "            counter += 1\n",
    "        \n",
    "        for col in reversed(range(col_start, col_end)):\n",
    "            res[row_end][col] = counter\n",
    "            counter += 1\n",
    "        \n",
    "        for row in reversed(range(row_start + 1, row_end)):\n",
    "            res[row][col_start] = counter\n",
    "            counter += 1\n",
    "        \n",
    "        row_start += 1\n",
    "        row_end -= 1\n",
    "        col_start += 1\n",
    "        col_end -= 1\n",
    "        \n",
    "    return res\n",
    "\n",
    "matrix_in_spiral_order_given_dimension(3)"
   ]
  },
  {
   "cell_type": "code",
   "execution_count": null,
   "metadata": {},
   "outputs": [],
   "source": []
  },
  {
   "cell_type": "code",
   "execution_count": null,
   "metadata": {},
   "outputs": [],
   "source": []
  },
  {
   "cell_type": "markdown",
   "metadata": {},
   "source": [
    "> **Variant: Given a sequence of integers P, compute a 2D array A whose spiral order is P. (Assume the size of P is $n^2$ for some integer n.)**"
   ]
  },
  {
   "cell_type": "code",
   "execution_count": 64,
   "metadata": {},
   "outputs": [
    {
     "data": {
      "text/plain": [
       "[[1, 2, 3], [8, 9, 4], [7, 6, 5]]"
      ]
     },
     "execution_count": 64,
     "metadata": {},
     "output_type": "execute_result"
    }
   ],
   "source": [
    "from typing import List\n",
    "import math\n",
    "\n",
    "# Time complexity: O(n^2) | Space complexity: O(1)\n",
    "def matrix_in_spiral_order_given_dimension(P: List[int]) -> List[List[int]]:\n",
    "    array_size = int(math.sqrt(len(P)))\n",
    "    res = [[0 for x in range(array_size)]  for y in range(array_size)]\n",
    "    \n",
    "    row_start = 0\n",
    "    row_end = len(res) - 1\n",
    "    \n",
    "    col_start = 0\n",
    "    col_end = len(res[0]) - 1\n",
    "    \n",
    "    counter = 0\n",
    "    while row_start <= row_end and col_start <= col_end:\n",
    "        for col in range(col_start, col_end + 1):\n",
    "            res[row_start][col] = P[counter]\n",
    "            counter += 1\n",
    "        \n",
    "        for row in range(row_start + 1, row_end + 1):\n",
    "            res[row][col_end] = P[counter]\n",
    "            counter += 1\n",
    "        \n",
    "        for col in reversed(range(col_start, col_end)):\n",
    "            res[row_end][col] = P[counter]\n",
    "            counter += 1\n",
    "        \n",
    "        for row in reversed(range(row_start + 1, row_end)):\n",
    "            res[row][col_start] = P[counter]\n",
    "            counter += 1\n",
    "        \n",
    "        row_start += 1\n",
    "        row_end -= 1\n",
    "        col_start += 1\n",
    "        col_end -= 1\n",
    "        \n",
    "    return res\n",
    "\n",
    "P = [1, 2, 3, 4, 5, 6, 7, 8, 9]\n",
    "matrix_in_spiral_order_given_dimension(P)"
   ]
  },
  {
   "cell_type": "code",
   "execution_count": null,
   "metadata": {},
   "outputs": [],
   "source": []
  },
  {
   "cell_type": "code",
   "execution_count": null,
   "metadata": {},
   "outputs": [],
   "source": []
  },
  {
   "cell_type": "markdown",
   "metadata": {},
   "source": [
    "> **Variant: Compute the spiral order for an $m x n$ 2D array A.**"
   ]
  },
  {
   "cell_type": "code",
   "execution_count": null,
   "metadata": {},
   "outputs": [],
   "source": [
    "from typing import List\n",
    "\n",
    "# Time complexity: O(n^2) | Space complexity: O(1)\n",
    "def matrix_in_spiral_order_given_dimension(d: int) -> List[int]:\n",
    "    res = [[0 for x in range(d)]  for y in range(d)]\n",
    "    \n",
    "    row_start = 0\n",
    "    row_end = len(res) - 1\n",
    "    \n",
    "    col_start = 0\n",
    "    col_end = len(res[0]) - 1\n",
    "    \n",
    "    counter = 1\n",
    "    while row_start <= row_end and col_start <= col_end:\n",
    "        for col in range(col_start, col_end + 1):\n",
    "            res[row_start][col] = counter\n",
    "            counter += 1\n",
    "        \n",
    "        for row in range(row_start + 1, row_end + 1):\n",
    "            res[row][col_end] = counter\n",
    "            counter += 1\n",
    "        \n",
    "        for col in reversed(range(col_start, col_end)):\n",
    "            res[row_end][col] = counter\n",
    "            counter += 1\n",
    "        \n",
    "        for row in reversed(range(row_start + 1, row_end)):\n",
    "            res[row][col_start] = counter\n",
    "            counter += 1\n",
    "        \n",
    "        row_start += 1\n",
    "        row_end -= 1\n",
    "        col_start += 1\n",
    "        col_end -= 1\n",
    "        \n",
    "    return res\n",
    "\n",
    "matrix_in_spiral_order_given_dimension(3)"
   ]
  }
 ],
 "metadata": {
  "kernelspec": {
   "display_name": "Python 3",
   "language": "python",
   "name": "python3"
  },
  "language_info": {
   "codemirror_mode": {
    "name": "ipython",
    "version": 3
   },
   "file_extension": ".py",
   "mimetype": "text/x-python",
   "name": "python",
   "nbconvert_exporter": "python",
   "pygments_lexer": "ipython3",
   "version": "3.8.3"
  }
 },
 "nbformat": 4,
 "nbformat_minor": 4
}
