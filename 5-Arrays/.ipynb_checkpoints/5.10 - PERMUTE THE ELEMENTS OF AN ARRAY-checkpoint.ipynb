{
 "cells": [
  {
   "cell_type": "markdown",
   "metadata": {},
   "source": [
    "> **Given an array A of n elements and a permutation P, apply P to A.**\n",
    "\n",
    "_Hint: Any permutation can be viewed as a set of cyclic permutations. For an element in a cycle, how would you identify if it has been permuted?_  \n",
    "\n",
    "Example:\n",
    "\n",
    "```python\n",
    "    Index = 0 , 1, 2, 3\n",
    "      P  = [2, 0, 1, 3]\n",
    "      A  = [a, b, c, d]\n",
    "  Result = [b, c, a, d]\n",
    "```"
   ]
  },
  {
   "cell_type": "markdown",
   "metadata": {},
   "source": [
    "_**O(n) run time | O(n) space solution**_"
   ]
  },
  {
   "cell_type": "code",
   "execution_count": 9,
   "metadata": {},
   "outputs": [
    {
     "data": {
      "text/plain": [
       "['c', 'b', 'd', 'a']"
      ]
     },
     "execution_count": 9,
     "metadata": {},
     "output_type": "execute_result"
    }
   ],
   "source": [
    "def apply_permutation(perm, A):\n",
    "    pos = {}\n",
    "    \n",
    "    for i in range(len(perm)):\n",
    "        pos[perm[i]] = A[i] # {2: a, 0: b, 1: c, 3: d}\n",
    "    \n",
    "    for idx in pos:\n",
    "        A[idx] = pos[idx]\n",
    "\n",
    "A = ['a','b','c','d']\n",
    "apply_permutation([ 3 , 1 , 0 , 2 ], A)\n",
    "\n",
    "A\n",
    "    "
   ]
  },
  {
   "cell_type": "code",
   "execution_count": null,
   "metadata": {},
   "outputs": [],
   "source": []
  },
  {
   "cell_type": "markdown",
   "metadata": {},
   "source": [
    "_**O(n) run time | O(1) space solution**_"
   ]
  },
  {
   "cell_type": "code",
   "execution_count": 2,
   "metadata": {},
   "outputs": [
    {
     "data": {
      "text/plain": [
       "['c', 'b', 'd', 'a']"
      ]
     },
     "execution_count": 2,
     "metadata": {},
     "output_type": "execute_result"
    }
   ],
   "source": [
    "def apply_permutation(perm, A):\n",
    "    for i in range(len(A)):\n",
    "        # Check if the element at index i has not been moved by checking if\n",
    "        # perm[i] is nonnegative.\n",
    "        next = i\n",
    "        while perm[next] >= 0:\n",
    "            A[i], A[perm[next]] = A[perm[next]], A[i]\n",
    "            temp = perm[next] \n",
    "            # Subtracts len(perm) from an entry in perm to make it negative, \n",
    "            # which indicates the corresponding move has been performed. \n",
    "            perm[next] -= len(perm) \n",
    "            next = temp\n",
    "#     perm[:] = [x + len(perm) for x in perm]\n",
    "    return A\n",
    "        \n",
    "\n",
    "apply_permutation([ 3 , 1 , 0 , 2 ], ['a','b','c','d'])\n",
    "        "
   ]
  },
  {
   "cell_type": "code",
   "execution_count": null,
   "metadata": {},
   "outputs": [],
   "source": []
  }
 ],
 "metadata": {
  "kernelspec": {
   "display_name": "Python 3",
   "language": "python",
   "name": "python3"
  },
  "language_info": {
   "codemirror_mode": {
    "name": "ipython",
    "version": 3
   },
   "file_extension": ".py",
   "mimetype": "text/x-python",
   "name": "python",
   "nbconvert_exporter": "python",
   "pygments_lexer": "ipython3",
   "version": "3.8.3"
  }
 },
 "nbformat": 4,
 "nbformat_minor": 4
}
