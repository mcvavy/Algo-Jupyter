{
 "cells": [
  {
   "cell_type": "markdown",
   "metadata": {},
   "source": [
    "> **Check whether a 9 x 9 2D array representing a partially completed Sudoku is valid. Specifically, check that no row, column, or 3 x 3 2D subarray contains duplicates. A O-value in the 2D array indicates that entry is blank; every other entry is in [1,9].**\n",
    "\n",
    "_Hint: Directly test the constraints. Use an array to encode sets._"
   ]
  },
  {
   "cell_type": "code",
   "execution_count": 1,
   "metadata": {},
   "outputs": [],
   "source": [
    "from typing import List\n",
    "import math\n",
    "\n",
    "# Time complexity: O(n^2) | Space complexity O(n)\n",
    "def is_valid_sudoku(partial_assignment: List[List[int]]) -> bool:\n",
    "    def has_duplicate(block):\n",
    "        block = list(filter(lambda x: x != 0, block))\n",
    "        return len(block) != len(set(block))\n",
    "    \n",
    "    n = len(partial_assignment)\n",
    "    \n",
    "    # Check rows and colum constraints.\n",
    "    if any(\n",
    "        has_duplicate(partial_assignment[i][j] for j in range(n)) or\n",
    "        has_duplicate(partial_assignment[j][i] for j in range(n)) \n",
    "        for i in range(n)):\n",
    "        return False\n",
    "    \n",
    "    #Check region of 3 x 3 block constraints.\n",
    "    region_size = int(math.sqrt(n))\n",
    "    \n",
    "    return all(not has_duplicate([\n",
    "        partial_assignment[a][b]\n",
    "        for a in range(region_size * I, region_size * (I + 1))\n",
    "        for b in range(region_size * J, region_size * (J + 1))\n",
    "    ]) for I in range(region_size) for J in range(region_size))\n",
    "    \n",
    "    "
   ]
  }
 ],
 "metadata": {
  "kernelspec": {
   "display_name": "Python 3",
   "language": "python",
   "name": "python3"
  },
  "language_info": {
   "codemirror_mode": {
    "name": "ipython",
    "version": 3
   },
   "file_extension": ".py",
   "mimetype": "text/x-python",
   "name": "python",
   "nbconvert_exporter": "python",
   "pygments_lexer": "ipython3",
   "version": "3.8.3"
  }
 },
 "nbformat": 4,
 "nbformat_minor": 4
}
