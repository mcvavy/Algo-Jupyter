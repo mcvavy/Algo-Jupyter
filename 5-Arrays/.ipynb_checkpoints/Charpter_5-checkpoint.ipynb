{
 "cells": [
  {
   "cell_type": "markdown",
   "metadata": {},
   "source": [
    "# Arrays"
   ]
  },
  {
   "cell_type": "markdown",
   "metadata": {},
   "source": [
    "### Dutch National Flag Problem"
   ]
  },
  {
   "cell_type": "markdown",
   "metadata": {},
   "source": [
    "> **Write a program that takes an array A and an index i rnto A, and rearranges \n",
    "the elements such that all elements less than A[r] (the \"pivot\") appear first, \n",
    "followed by elements equal to the pivot, followed by elements greater than the pivot.**"
   ]
  },
  {
   "cell_type": "markdown",
   "metadata": {},
   "source": [
    "#### Naive solution: Using multiple arrays"
   ]
  },
  {
   "cell_type": "code",
   "execution_count": 1,
   "metadata": {},
   "outputs": [
    {
     "name": "stdout",
     "output_type": "stream",
     "text": [
      "Before --> [7, 2, 1, 6, 8, 5, 3, 4, 4]\n"
     ]
    },
    {
     "ename": "NameError",
     "evalue": "name 'duct_nationl_flag' is not defined",
     "output_type": "error",
     "traceback": [
      "\u001b[0;31m---------------------------------------------------------------------------\u001b[0m",
      "\u001b[0;31mNameError\u001b[0m                                 Traceback (most recent call last)",
      "\u001b[0;32m<ipython-input-1-1dea3d04b3c0>\u001b[0m in \u001b[0;36m<module>\u001b[0;34m\u001b[0m\n\u001b[1;32m     26\u001b[0m \u001b[0;34m\u001b[0m\u001b[0m\n\u001b[1;32m     27\u001b[0m \u001b[0;34m\u001b[0m\u001b[0m\n\u001b[0;32m---> 28\u001b[0;31m \u001b[0mduct_nationl_flag\u001b[0m\u001b[0;34m(\u001b[0m\u001b[0mA\u001b[0m\u001b[0;34m,\u001b[0m \u001b[0;36m7\u001b[0m\u001b[0;34m)\u001b[0m\u001b[0;34m\u001b[0m\u001b[0;34m\u001b[0m\u001b[0m\n\u001b[0m\u001b[1;32m     29\u001b[0m \u001b[0;34m\u001b[0m\u001b[0m\n\u001b[1;32m     30\u001b[0m \u001b[0mprint\u001b[0m\u001b[0;34m(\u001b[0m\u001b[0;34m\"After --> \"\u001b[0m\u001b[0;34m,\u001b[0m \u001b[0mA\u001b[0m\u001b[0;34m)\u001b[0m\u001b[0;34m\u001b[0m\u001b[0;34m\u001b[0m\u001b[0m\n",
      "\u001b[0;31mNameError\u001b[0m: name 'duct_nationl_flag' is not defined"
     ]
    }
   ],
   "source": [
    "A = [7, 2, 1, 6, 8, 5, 3, 4,4]\n",
    "\n",
    "print(\"Before -->\", A)\n",
    "\n",
    "def dutch_nationl_flag(A, pivotIndex):\n",
    "    pivot = A[pivotIndex]\n",
    "    lesser = []\n",
    "    equals = []\n",
    "    greater = []\n",
    "    \n",
    "    for i in range(len(A)):\n",
    "        if A[i] < pivot:\n",
    "            lesser.append(A[i])\n",
    "        elif A[i] == pivot:\n",
    "            equals.append(A[i])\n",
    "        else:\n",
    "            greater.append(A[i])\n",
    "    \n",
    "    for eIdx in range(len(A)):\n",
    "        if lesser:\n",
    "            A[eIdx] = lesser.pop()\n",
    "        elif equals:\n",
    "            A[eIdx] = equals.pop()\n",
    "        else:\n",
    "            A[eIdx] = greater.pop()\n",
    "\n",
    "\n",
    "duct_nationl_flag(A, 7)\n",
    "\n",
    "print(\"After --> \", A)\n",
    "        \n",
    "    "
   ]
  },
  {
   "cell_type": "code",
   "execution_count": null,
   "metadata": {},
   "outputs": [],
   "source": []
  },
  {
   "cell_type": "markdown",
   "metadata": {},
   "source": [
    "**Two Passes Solution**"
   ]
  },
  {
   "cell_type": "code",
   "execution_count": null,
   "metadata": {},
   "outputs": [],
   "source": [
    "A = [7, 2, 1, 6, 8, 5, 3, 4,4]\n",
    "\n",
    "print(\"Before -->\", A)\n",
    "\n",
    "#Time complexity:  O(n) | Space complexity O(1)\n",
    "def dutch_flag_partition(A, pIndex):\n",
    "    left = 0\n",
    "    pivot = A[pIndex]\n",
    "\n",
    "    for index in range(len(A)):\n",
    "        if A[index] <= pivot:\n",
    "            A[index], A[left] = A[left], A[index]\n",
    "            left += 1\n",
    "\n",
    "    right = len(A) - 1\n",
    "    for rIdx in reversed(range(right)):\n",
    "        if A[rIdx] < pivot:\n",
    "            break\n",
    "        if A[rIdx] > pivot:\n",
    "            left -= 1\n",
    "            A[rIdx], A[right] = A[right], A[rIdx]\n",
    "\n",
    "dutch_flag_partition(A, 7)\n",
    "\n",
    "print(\"After --> \", A)"
   ]
  },
  {
   "cell_type": "code",
   "execution_count": null,
   "metadata": {},
   "outputs": [],
   "source": []
  },
  {
   "cell_type": "markdown",
   "metadata": {},
   "source": [
    "**One pass Solution**"
   ]
  },
  {
   "cell_type": "code",
   "execution_count": null,
   "metadata": {},
   "outputs": [],
   "source": [
    "A = [7, 2, 1, 6, 8, 5, 3, 4,4]\n",
    "\n",
    "print(\"Before -->\", A)\n",
    "\n",
    "#Time complexity:  O(n) | Space complexity O(1)\n",
    "def dutch_flag_partition_1pass(A, pIndex):\n",
    "    pivot = A[pIndex]\n",
    "\n",
    "    left = 0\n",
    "    equal = 0\n",
    "    right = len(A) - 1\n",
    "\n",
    "    while equal < right:\n",
    "        if A[equal] < pivot:\n",
    "            A[left], A[equal] = A[equal], A[left]\n",
    "            left += 1\n",
    "            equal += 1\n",
    "        elif A[equal] == pivot:\n",
    "            equal += 1\n",
    "        else:\n",
    "            A[equal], A[right] = A[right], A[equal]\n",
    "            right -= 1\n",
    "    \n",
    "\n",
    "dutch_flag_partition_1pass(A, 7)\n",
    "\n",
    "print(\"After --> \", A)"
   ]
  },
  {
   "cell_type": "code",
   "execution_count": null,
   "metadata": {},
   "outputs": [],
   "source": []
  },
  {
   "cell_type": "markdown",
   "metadata": {},
   "source": [
    "> **Assuming that keys take one of three values, reorder the array so that all objects with the same key appear together. The order of the subarrays is not important.**"
   ]
  },
  {
   "cell_type": "code",
   "execution_count": null,
   "metadata": {},
   "outputs": [],
   "source": [
    "#Greedy naive solution\n",
    "# Not knowing the keys values\n",
    "# Time complexity: O(n) | Space complexity: O(n)\n",
    "def dutch_national_flag_threeKey_Variant(A):\n",
    "    key1, key2, key3 = set(A)\n",
    "    \n",
    "    k1l, k2l, k3l = [], [], []\n",
    "    \n",
    "    for i in range(len(A)):\n",
    "        if A[i] == key1:\n",
    "            k1l.append(A[i])\n",
    "        elif A[i] == key2:\n",
    "            k2l.append(A[i])\n",
    "        else:\n",
    "            k3l.append(A[i])\n",
    "    \n",
    "    return k1l + k2l + k3l\n",
    "    \n",
    "#     for key in range(len(A)):\n",
    "#         if k1l:\n",
    "#             A[key] = k1l.pop()\n",
    "#         elif k2l:\n",
    "#             A[key] = k2l.pop()\n",
    "#         else:\n",
    "#             A[key] = k3l.pop()\n",
    "    \n",
    "#     return A\n",
    "            \n",
    "dutch_national_flag_threeKey_Variant([3, 1, 2, 3, 2, 3, 1, 2, 2, 3])\n",
    "    \n",
    "    "
   ]
  },
  {
   "cell_type": "code",
   "execution_count": null,
   "metadata": {},
   "outputs": [],
   "source": []
  },
  {
   "cell_type": "code",
   "execution_count": null,
   "metadata": {},
   "outputs": [],
   "source": []
  },
  {
   "cell_type": "code",
   "execution_count": 2,
   "metadata": {},
   "outputs": [
    {
     "data": {
      "text/plain": [
       "[1, 1, 1, 2, 2, 2, 2, 3, 3, 3, 3, 3, 3, 3, 3]"
      ]
     },
     "execution_count": 2,
     "metadata": {},
     "output_type": "execute_result"
    }
   ],
   "source": [
    "# Not knowing the key values\n",
    "# Time complexity: O(n) | Space complexity: O(1)\n",
    "def dutch_national_flag_threeKey_Variant(A):\n",
    "#     t1 = A[0]\n",
    "#     t2,t3 = None, None\n",
    "        \n",
    "#     for i in range(1, len(A)):\n",
    "#         if A[i] != t1 and t2 is None:\n",
    "#             t2 = A[i]\n",
    "            \n",
    "#         elif A[i] !=t1 and t2 is not None and t3 is None:\n",
    "#             t3  = A[i]\n",
    "#             break\n",
    "            \n",
    "#     keys = (t1, t2, t3)\n",
    "\n",
    "    pivot = sorted(set(A))[1]\n",
    "    \n",
    "    left = 0\n",
    "    equal = 0\n",
    "    right = len(A) - 1\n",
    "\n",
    "    while equal < right:\n",
    "        if A[equal] < pivot:\n",
    "            A[left], A[equal] = A[equal], A[left]\n",
    "            left += 1\n",
    "            equal += 1\n",
    "        elif A[equal] == pivot:\n",
    "            equal += 1\n",
    "        else:\n",
    "            A[equal], A[right] = A[right], A[equal]\n",
    "            right -= 1\n",
    "    return A\n",
    "            \n",
    "        \n",
    "dutch_national_flag_threeKey_Variant([3, 3, 3, 3, 1, 2, 3, 2, 3, 2, 1, 1, 3, 3, 2])\n",
    "        \n",
    "        "
   ]
  },
  {
   "cell_type": "code",
   "execution_count": null,
   "metadata": {},
   "outputs": [],
   "source": []
  },
  {
   "cell_type": "code",
   "execution_count": null,
   "metadata": {},
   "outputs": [],
   "source": [
    "# knowing the key values says 1, 2, 3\n",
    "# Time complexity: O(n) | Space complexity: O(1)\n",
    "def dutch_national_flag_threeKey_Variant(A):\n",
    "    i = 0\n",
    "    left = 0\n",
    "    right = len(A)\n",
    "    \n",
    "    while i < right:\n",
    "        if A[i] < 2:\n",
    "            A[left], A[i] = A[i], A[left]\n",
    "            i += 1\n",
    "            left += 1\n",
    "        elif A[i] == 2:\n",
    "            i += 1\n",
    "        else:\n",
    "            right -= 1\n",
    "            A[right], A[i] = A[i], A[right]\n",
    "            \n",
    "    return A\n",
    "    \n",
    "    \n",
    "dutch_national_flag_threeKey_Variant([3, 3, 3, 3, 1, 2, 3, 2, 3, 2, 1, 1, 3, 3, 2])"
   ]
  },
  {
   "cell_type": "code",
   "execution_count": null,
   "metadata": {},
   "outputs": [],
   "source": []
  },
  {
   "cell_type": "markdown",
   "metadata": {},
   "source": [
    "> **Given an array A of n objects with keys that takes one of four values, reorder the array so that all objects that have the same key appear together. Use O(1) additional space and O(n) time.**"
   ]
  },
  {
   "cell_type": "code",
   "execution_count": null,
   "metadata": {},
   "outputs": [],
   "source": [
    "# knowing the key values says 1, 2, 3, 4\n",
    "# Time complexity: O(n) | Space complexity: O(1)\n",
    "def dutch_national_flag_threeKey_Variant(A):\n",
    "    i = 0\n",
    "    left = 0\n",
    "    right = len(A)\n",
    "    \n",
    "    while i < right:\n",
    "        if A[i] < 2:\n",
    "            A[left], A[i] = A[i], A[left]\n",
    "            i += 1\n",
    "            left += 1\n",
    "        elif A[i] == 2:\n",
    "            i += 1\n",
    "        else:\n",
    "            right -= 1\n",
    "            A[right], A[i] = A[i], A[right]\n",
    "            \n",
    "\n",
    "    left = 0\n",
    "    right = len(A) - 1\n",
    "    \n",
    "    while left < right:\n",
    "        if A[left] > 3:\n",
    "            A[left], A[right] = A[right], A[left]\n",
    "            right -= 1\n",
    "        else:\n",
    "            left += 1\n",
    "            \n",
    "            \n",
    "    return A\n",
    "    \n",
    "    \n",
    "dutch_national_flag_threeKey_Variant([3, 3, 3,4 , 4, 3, 1, 2, 3, 2, 3, 2, 4, 4, 4, 1, 1, 3, 3, 2, 4])"
   ]
  },
  {
   "cell_type": "code",
   "execution_count": null,
   "metadata": {},
   "outputs": [],
   "source": []
  },
  {
   "cell_type": "markdown",
   "metadata": {},
   "source": [
    "> **Given an array A of n objects with Boolean-valued keys, reorder the array so that objects that have the key false appear first. Use O(1) additional space and O(n) time.**"
   ]
  },
  {
   "cell_type": "code",
   "execution_count": null,
   "metadata": {},
   "outputs": [],
   "source": [
    "# Time complexity: O(n) | Space complexity: O(1)\n",
    "def dutch_national_flag_boolean_false_first(A):\n",
    "    \n",
    "    start = 0\n",
    "    end = len(A)\n",
    "    pt = 0\n",
    "    \n",
    "    while pt < end:\n",
    "        if A[pt]:\n",
    "            end -= 1\n",
    "            A[pt], A[end] = A[end], A[pt]\n",
    "        else:\n",
    "            A[pt], A[start] = A[start], A[pt]\n",
    "            pt += 1\n",
    "            start += 1\n",
    "            \n",
    "    return A\n",
    "    \n",
    "    \n",
    "dutch_national_flag_boolean_false_first([False, True, True, False, True, True, False, False, False, True])"
   ]
  },
  {
   "cell_type": "code",
   "execution_count": null,
   "metadata": {},
   "outputs": [],
   "source": []
  },
  {
   "cell_type": "markdown",
   "metadata": {},
   "source": [
    "> **Given em array A of n objects with Boolean-valued keys, reorder the array so that objects that have the key false appear first. The relative ordering of objects with key true should not change. Use O(1) additional space and O(n) time.**"
   ]
  },
  {
   "cell_type": "code",
   "execution_count": 3,
   "metadata": {},
   "outputs": [
    {
     "data": {
      "text/plain": [
       "[False, False, False, False, False, True, True, True, True, True]"
      ]
     },
     "execution_count": 3,
     "metadata": {},
     "output_type": "execute_result"
    }
   ],
   "source": [
    "# Time complexity: O(n) | Space complexity: O(1)\n",
    "def dutch_national_flag_boolean_false_first(A):\n",
    "    \n",
    "    start = 0\n",
    "    end = len(A)\n",
    "    pt = 0\n",
    "    \n",
    "    while pt < end:\n",
    "        if A[pt]:\n",
    "            end -= 1\n",
    "            A[pt], A[end] = A[end], A[pt]\n",
    "        else:\n",
    "            pt += 1\n",
    "\n",
    "            \n",
    "    return A\n",
    "    \n",
    "    \n",
    "dutch_national_flag_boolean_false_first([False, True, True, False, True, True, False, False, False, True])"
   ]
  },
  {
   "cell_type": "code",
   "execution_count": null,
   "metadata": {},
   "outputs": [],
   "source": []
  }
 ],
 "metadata": {
  "kernelspec": {
   "display_name": "Python 3",
   "language": "python",
   "name": "python3"
  },
  "language_info": {
   "codemirror_mode": {
    "name": "ipython",
    "version": 3
   },
   "file_extension": ".py",
   "mimetype": "text/x-python",
   "name": "python",
   "nbconvert_exporter": "python",
   "pygments_lexer": "ipython3",
   "version": "3.8.3"
  }
 },
 "nbformat": 4,
 "nbformat_minor": 4
}
