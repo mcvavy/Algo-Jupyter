{
 "cells": [
  {
   "cell_type": "markdown",
   "metadata": {},
   "source": [
    "> **Design an algorithm that creates uniformly random permutations of {0, 1,.. .,n - 1}. You are given a random number generator that returns integers in the set {0,1, . . . ,n - 1} with equal probability; use as few calls to it as possible.**\n",
    "\n",
    "_Hint: lf the result is stored in A, how would you proceed once A[n - 1] is assigned correctly?_ \n",
    "\n",
    "[Python Itertools module turorial](https://www.youtube.com/watch?v=Qu3dThVy6KQ&ab_channel=CoreySchafer)\n",
    "\n",
    "[Python Itertools module](https://docs.python.org/3/library/itertools.html)"
   ]
  },
  {
   "cell_type": "code",
   "execution_count": 8,
   "metadata": {},
   "outputs": [
    {
     "data": {
      "text/plain": [
       "[4, 1, 2, 0, 3]"
      ]
     },
     "execution_count": 8,
     "metadata": {},
     "output_type": "execute_result"
    }
   ],
   "source": [
    "from typing import List\n",
    "import random\n",
    "        \n",
    "def compute_random_permutation(n: int) -> List[int]:\n",
    "    # Time complexity: O(k) | Space complexity: O(1)\n",
    "    def random_sampling(k: int, A: List[int]) -> None:\n",
    "        for i in range(k):\n",
    "            r = random.randint(i, len(A) - 1)\n",
    "            A[i],A[r] = A[r], A[i]\n",
    "            \n",
    "    permutation = list(range(n))\n",
    "    random_sampling(n, permutation) \n",
    "    return permutation\n",
    "\n",
    "compute_random_permutation(5)"
   ]
  }
 ],
 "metadata": {
  "kernelspec": {
   "display_name": "Python 3",
   "language": "python",
   "name": "python3"
  },
  "language_info": {
   "codemirror_mode": {
    "name": "ipython",
    "version": 3
   },
   "file_extension": ".py",
   "mimetype": "text/x-python",
   "name": "python",
   "nbconvert_exporter": "python",
   "pygments_lexer": "ipython3",
   "version": "3.8.3"
  }
 },
 "nbformat": 4,
 "nbformat_minor": 4
}
