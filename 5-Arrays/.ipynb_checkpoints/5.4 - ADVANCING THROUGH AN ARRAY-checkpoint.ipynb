{
 "cells": [
  {
   "cell_type": "markdown",
   "metadata": {},
   "source": [
    "> **Write a program which takes an array of n integers, where A[i] denotes the maximum you can advance from index i, and returns whether it is possible to advance to the last index starting from the beginning of the array.**"
   ]
  },
  {
   "cell_type": "code",
   "execution_count": 2,
   "metadata": {},
   "outputs": [
    {
     "name": "stdout",
     "output_type": "stream",
     "text": [
      "True\n"
     ]
    }
   ],
   "source": [
    "A = [2, 4, 1, 1, 0, 2, 3]\n",
    "B = [3, 3, 1, 0, 2, 0, 1]\n",
    "C = [3, 2, 0, 0, 2, 0, 1]\n",
    "\n",
    "#Time complexy: O(n) | Space complexity: O(1)\n",
    "def can_reach_end(A):\n",
    "    furthest_reach_so_far, last_index = 0, len(A) - 1\n",
    "    i = 0\n",
    "    # the furthest index advancable is A[i] + i\n",
    "    while i <= furthest_reach_so_far and furthest_reach_so_far < last_index:\n",
    "        furthest_reach_so_far = max(furthest_reach_so_far, A[i] + i)\n",
    "        i += 1\n",
    "    return furthest_reach_so_far >= last_index\n",
    "\n",
    "print(can_reach_end(A))"
   ]
  },
  {
   "cell_type": "code",
   "execution_count": null,
   "metadata": {},
   "outputs": [],
   "source": []
  },
  {
   "cell_type": "markdown",
   "metadata": {},
   "source": [
    "> **Write a program to compute the minimum number of steps needed to advance to the last location.**\n",
    "\n",
    "\n",
    "\n",
    "[Minimum jump explanation Youtube](https://www.youtube.com/watch?v=jH_5ypQggWg&t=793s&ab_channel=VivekanandKhyade-AlgorithmEveryDay)"
   ]
  },
  {
   "cell_type": "code",
   "execution_count": 1,
   "metadata": {},
   "outputs": [
    {
     "name": "stdout",
     "output_type": "stream",
     "text": [
      "[0, inf, inf, inf, inf, inf, inf, inf, inf, inf, inf]\n",
      "[0, 1, inf, inf, inf, inf, inf, inf, inf, inf, inf]\n",
      "[0, 1, 2, inf, inf, inf, inf, inf, inf, inf, inf]\n",
      "[0, 1, 2, 2, inf, inf, inf, inf, inf, inf, inf]\n",
      "[0, 1, 2, 2, 2, inf, inf, inf, inf, inf, inf]\n",
      "[0, 1, 2, 2, 2, 3, inf, inf, inf, inf, inf]\n",
      "[0, 1, 2, 2, 2, 3, 3, inf, inf, inf, inf]\n",
      "[0, 1, 2, 2, 2, 3, 3, 3, inf, inf, inf]\n",
      "[0, 1, 2, 2, 2, 3, 3, 3, 3, inf, inf]\n",
      "[0, 1, 2, 2, 2, 3, 3, 3, 3, 3, inf]\n",
      "[0, 1, 2, 2, 2, 3, 3, 3, 3, 3, 3]\n"
     ]
    },
    {
     "data": {
      "text/plain": [
       "3"
      ]
     },
     "execution_count": 1,
     "metadata": {},
     "output_type": "execute_result"
    }
   ],
   "source": [
    "sample1 = [3, 5, 8, 9, 2, 6, 7, 6, 8, 9]\n",
    "sample2 = []\n",
    "sample3 = [3]\n",
    "sample4 = [1, 1, 1, 1, 1, 1, 1, 1, 1, 1, 1]\n",
    "sample5 = [1, 3, 5, 8, 9, 2, 6, 7, 6, 8, 9]\n",
    "\n",
    "def minimum_steps(A):\n",
    "    if not A or len(A) == 1:\n",
    "        return 0\n",
    "    \n",
    "    min_jump = [float(\"inf\")] * len(A)\n",
    "    min_jump[0] = 0\n",
    "    \n",
    "    for i in range(len(A)):\n",
    "        for j in range(i):\n",
    "            #if i in range from the current position with number of steps of that position\n",
    "            if i <= j + A[j]:\n",
    "                min_jump[i] = min(min_jump[i], min_jump[j] + 1)\n",
    "        print(min_jump)\n",
    "    \n",
    "    return min_jump[-1]\n",
    "        \n",
    "    \n",
    "minimum_steps(sample5)\n",
    "            \n",
    "    \n",
    "    "
   ]
  },
  {
   "cell_type": "code",
   "execution_count": null,
   "metadata": {},
   "outputs": [],
   "source": []
  },
  {
   "cell_type": "code",
   "execution_count": null,
   "metadata": {},
   "outputs": [],
   "source": []
  },
  {
   "cell_type": "code",
   "execution_count": null,
   "metadata": {},
   "outputs": [],
   "source": []
  }
 ],
 "metadata": {
  "kernelspec": {
   "display_name": "Python 3",
   "language": "python",
   "name": "python3"
  },
  "language_info": {
   "codemirror_mode": {
    "name": "ipython",
    "version": 3
   },
   "file_extension": ".py",
   "mimetype": "text/x-python",
   "name": "python",
   "nbconvert_exporter": "python",
   "pygments_lexer": "ipython3",
   "version": "3.8.3"
  }
 },
 "nbformat": 4,
 "nbformat_minor": 4
}
