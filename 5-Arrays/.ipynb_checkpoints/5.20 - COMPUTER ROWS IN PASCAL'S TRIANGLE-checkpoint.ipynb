{
 "cells": [
  {
   "cell_type": "markdown",
   "metadata": {},
   "source": [
    "> **Write a program which takes as input a nonnegative integer n and returns the first n rows of Pascal's triangle.**\n",
    "\n",
    "_Hint: Write the given fact as an equation._"
   ]
  },
  {
   "cell_type": "code",
   "execution_count": 43,
   "metadata": {},
   "outputs": [
    {
     "data": {
      "text/plain": [
       "[[1],\n",
       " [1, 1],\n",
       " [1, 2, 1],\n",
       " [1, 3, 3, 1],\n",
       " [1, 4, 6, 4, 1],\n",
       " [1, 5, 10, 10, 5, 1],\n",
       " [1, 6, 15, 20, 15, 6, 1]]"
      ]
     },
     "execution_count": 43,
     "metadata": {},
     "output_type": "execute_result"
    }
   ],
   "source": [
    "from typing import List\n",
    "\n",
    "def generate_pascal_triangle(n: int) -> List[List[int]]:\n",
    "    res = [[1], [1, 1]]\n",
    "    if n <= 0:\n",
    "        return []\n",
    "    if n == 1:\n",
    "        return [res[0]]\n",
    "    \n",
    "    for i in range(2, n):\n",
    "        temp = []\n",
    "        temp.extend([1])\n",
    "        for j in range(len(res[i - 1]) - 1):\n",
    "            temp.extend([res[i-1][j] + res[i-1][j+1]])\n",
    "        temp.extend([1])\n",
    "        res.append(temp)\n",
    "    return res\n",
    "            \n",
    "generate_pascal_triangle(7)"
   ]
  },
  {
   "cell_type": "code",
   "execution_count": null,
   "metadata": {},
   "outputs": [],
   "source": []
  },
  {
   "cell_type": "markdown",
   "metadata": {},
   "source": [
    "> **Variant**"
   ]
  },
  {
   "cell_type": "code",
   "execution_count": 42,
   "metadata": {},
   "outputs": [
    {
     "data": {
      "text/plain": [
       "[[1],\n",
       " [1, 1],\n",
       " [1, 2, 1],\n",
       " [1, 3, 3, 1],\n",
       " [1, 4, 6, 4, 1],\n",
       " [1, 5, 10, 10, 5, 1],\n",
       " [1, 6, 15, 20, 15, 6, 1]]"
      ]
     },
     "execution_count": 42,
     "metadata": {},
     "output_type": "execute_result"
    }
   ],
   "source": [
    "from typing import List\n",
    "\n",
    "#Time complexity: O(n^2) | Space complexity : O(n^2)\n",
    "def generate_pascal_triangle_optimised(n: int) -> List[List[int]]:\n",
    "    \n",
    "    if n <= 0:\n",
    "        return []\n",
    "    if n == 1:\n",
    "        return [[1]]\n",
    "    \n",
    "    res = [[1] * (i + 1) for i in range(n)]\n",
    "    \n",
    "    for i in range(n):\n",
    "        for j in range(1, i):\n",
    "            res[i][j] = res[i-1][j-1] + res[i-1][j]\n",
    "    return res\n",
    "            \n",
    "generate_pascal_triangle_optimised(7)"
   ]
  },
  {
   "cell_type": "code",
   "execution_count": null,
   "metadata": {},
   "outputs": [],
   "source": []
  },
  {
   "cell_type": "code",
   "execution_count": null,
   "metadata": {},
   "outputs": [],
   "source": []
  },
  {
   "cell_type": "markdown",
   "metadata": {},
   "source": [
    "> **Variant: Compute the nth row of Pascal's triangle using O(n) space.**"
   ]
  },
  {
   "cell_type": "code",
   "execution_count": 50,
   "metadata": {},
   "outputs": [
    {
     "data": {
      "text/plain": [
       "[1, 5, 10, 10, 5, 1]"
      ]
     },
     "execution_count": 50,
     "metadata": {},
     "output_type": "execute_result"
    }
   ],
   "source": [
    "from typing import List\n",
    "\n",
    "def generate_next_row(current_row:List[int]) -> List[int]:\n",
    "    next_row = [1]\n",
    "    for j in range(1, len(current_row)):\n",
    "        next_row.append(current_row[j-1] + current_row[j])\n",
    "    next_row.append(1)\n",
    "    \n",
    "    return next_row\n",
    "\n",
    "def pascal(n: int) -> List[int]:\n",
    "    if n == 0:\n",
    "        return [1]\n",
    "    \n",
    "    return generate_next_row(pascal(n-1))\n",
    "\n",
    "pascal(5)\n",
    "    "
   ]
  }
 ],
 "metadata": {
  "kernelspec": {
   "display_name": "Python 3",
   "language": "python",
   "name": "python3"
  },
  "language_info": {
   "codemirror_mode": {
    "name": "ipython",
    "version": 3
   },
   "file_extension": ".py",
   "mimetype": "text/x-python",
   "name": "python",
   "nbconvert_exporter": "python",
   "pygments_lexer": "ipython3",
   "version": "3.8.3"
  }
 },
 "nbformat": 4,
 "nbformat_minor": 4
}
