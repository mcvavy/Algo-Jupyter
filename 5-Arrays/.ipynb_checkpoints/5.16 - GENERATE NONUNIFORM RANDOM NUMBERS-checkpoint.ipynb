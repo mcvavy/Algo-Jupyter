{
 "cells": [
  {
   "cell_type": "markdown",
   "metadata": {},
   "source": [
    "> **You are given n numbers as well as probabilities p0,p1,...,pn-1,which sum up to 1. Given a random number generator that produces values in [0, 1) uniformly, how would you generate one of the n numbers according to the specified probabilities? For example, if the numbers are 3,5,7,11, and the probabilities are 9/18,6/18,2/18,1/18, then in 1000000 calls to your program,3 should appear roughly 500000 times, should appear roughly 333333 times, 7 should appear roughly 111111 times, and 11 should appear roughly 55555 times.**\n",
    "\n",
    "_Hint: l-ook at the graph of the probability that the selected number is less than or equal to a. What do the jumps correspond to?_"
   ]
  },
  {
   "cell_type": "code",
   "execution_count": 6,
   "metadata": {},
   "outputs": [],
   "source": [
    "from typing import List\n",
    "import random\n",
    "import bisect\n",
    "import itertools\n",
    "\n",
    "def nonuniform_random_number_generation(values: List[int],probabilities: List[float]) -> int:\n",
    "    prefix_sum_of_probabilities = list(itertools.accumulate(probabilities)) \n",
    "    interval_idx = bisect.bisect(prefix_sum_of_probabilities, random.random())\n",
    "    return values[interval_idx]"
   ]
  }
 ],
 "metadata": {
  "kernelspec": {
   "display_name": "Python 3",
   "language": "python",
   "name": "python3"
  },
  "language_info": {
   "codemirror_mode": {
    "name": "ipython",
    "version": 3
   },
   "file_extension": ".py",
   "mimetype": "text/x-python",
   "name": "python",
   "nbconvert_exporter": "python",
   "pygments_lexer": "ipython3",
   "version": "3.8.3"
  }
 },
 "nbformat": 4,
 "nbformat_minor": 4
}
