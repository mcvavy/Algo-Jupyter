{
 "cells": [
  {
   "cell_type": "markdown",
   "metadata": {},
   "source": [
    "> **A natural number is called a prime if it is bigger than 1 and has no divisors other than 1 and itself. Write a program that takes an integer argument and returns all the primes between 1 and that integer. For example, if the input is 18, you should return (2, 3, 5, 7, 11, 13, 17).**\n",
    "\n",
    "_Hint:Exclude the multiples of primes._"
   ]
  },
  {
   "cell_type": "code",
   "execution_count": 2,
   "metadata": {},
   "outputs": [
    {
     "data": {
      "text/plain": [
       "[2, 3, 5, 7, 11, 13, 17]"
      ]
     },
     "execution_count": 2,
     "metadata": {},
     "output_type": "execute_result"
    }
   ],
   "source": [
    "# Time complexity: O(nlog log n) | Space complexity: O(n)\n",
    "def generate_primes(n):\n",
    "    primes = []\n",
    "    is_prime = [False if x == 0 or x == 1 else True for x in range(n+1)]\n",
    "    \n",
    "    for p in range(2, n + 1):\n",
    "        if is_prime[p]:\n",
    "            primes.append(p)\n",
    "            #Sieve out p's multiple\n",
    "            for i in range(p, n + 1, p):\n",
    "                is_prime[i] = False\n",
    "    return primes\n",
    "\n",
    "\n",
    "generate_primes(18)   \n",
    "    \n",
    "    "
   ]
  }
 ],
 "metadata": {
  "kernelspec": {
   "display_name": "Python 3",
   "language": "python",
   "name": "python3"
  },
  "language_info": {
   "codemirror_mode": {
    "name": "ipython",
    "version": 3
   },
   "file_extension": ".py",
   "mimetype": "text/x-python",
   "name": "python",
   "nbconvert_exporter": "python",
   "pygments_lexer": "ipython3",
   "version": "3.8.3"
  }
 },
 "nbformat": 4,
 "nbformat_minor": 4
}
