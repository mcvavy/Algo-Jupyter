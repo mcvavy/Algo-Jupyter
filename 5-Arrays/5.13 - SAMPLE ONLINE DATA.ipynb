{
 "cells": [
  {
   "cell_type": "markdown",
   "metadata": {},
   "source": [
    "> **Design a program that takes as input a size k, and reads packets, continuously maintaining a uniform random subset of size k of the read packets.**\n",
    "\n",
    "_Hint: Suppose you have a procedure which selects k packets from the first n > k packets as specified. How would you deal with the (n + 1)th packet?_ \n",
    "\n",
    "[Python Itertools module turorial](https://www.youtube.com/watch?v=Qu3dThVy6KQ&ab_channel=CoreySchafer)\n",
    "\n",
    "[Python Itertools module](https://docs.python.org/3/library/itertools.html)"
   ]
  },
  {
   "cell_type": "code",
   "execution_count": 18,
   "metadata": {},
   "outputs": [
    {
     "data": {
      "text/plain": [
       "[6, 5, 2, 3, 4, 1, 0, 7, 8, 9]"
      ]
     },
     "execution_count": 18,
     "metadata": {},
     "output_type": "execute_result"
    }
   ],
   "source": [
    "from typing import List\n",
    "import random\n",
    "import itertools\n",
    "\n",
    "def online_random_sample(stream: Iterator[int], k: int) -> List[int]:\n",
    "    \n",
    "    #Grab the first k elements.\n",
    "    sampling_results = list(itertools.islice(stream, k))\n",
    "    \n",
    "    #Having red the first elements.\n",
    "    \n",
    "    num_seen_so_far = k\n",
    "    \n",
    "    #Iterating through the remaining stream elements from k + 1 to len(stream) - 1\n",
    "    for x in stream:\n",
    "        num_seen_so_far += 1\n",
    "        # Generate a randon number in [0, num-seen-so-far - 1], and if this\n",
    "        idx_to_replace = random.randrange(num_seen_so_far)\n",
    "        \n",
    "        if idx_to_replace < k:\n",
    "            sampling_results[idx_to_replace] = x\n",
    "            \n",
    "    return sampling_results\n",
    "        "
   ]
  }
 ],
 "metadata": {
  "kernelspec": {
   "display_name": "Python 3",
   "language": "python",
   "name": "python3"
  },
  "language_info": {
   "codemirror_mode": {
    "name": "ipython",
    "version": 3
   },
   "file_extension": ".py",
   "mimetype": "text/x-python",
   "name": "python",
   "nbconvert_exporter": "python",
   "pygments_lexer": "ipython3",
   "version": "3.8.3"
  }
 },
 "nbformat": 4,
 "nbformat_minor": 4
}
