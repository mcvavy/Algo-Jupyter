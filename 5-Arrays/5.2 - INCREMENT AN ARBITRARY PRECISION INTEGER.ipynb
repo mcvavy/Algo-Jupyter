{
 "cells": [
  {
   "cell_type": "markdown",
   "metadata": {},
   "source": [
    "> **Write a program which takes as input an array of digits encoding a nonnegative decimal integer D and updates the array to represent the integer D + 1. For example, if the input is (1,2,9) then you should update the array to (1,3,0). Your algorithm should work even if it is implemented in a langua ge that has finite-precision arithmetic.**"
   ]
  },
  {
   "cell_type": "code",
   "execution_count": 2,
   "metadata": {},
   "outputs": [
    {
     "data": {
      "text/plain": [
       "[1, 0, 0, 0]"
      ]
     },
     "execution_count": 2,
     "metadata": {},
     "output_type": "execute_result"
    }
   ],
   "source": [
    "#Time complexity: O(n)\n",
    "def plus_one(A):\n",
    "    A[-1] += 1\n",
    "    \n",
    "    for i in reversed(range(1, len(A))):\n",
    "        if A[i] != 10:\n",
    "            break\n",
    "        A[i] = 0\n",
    "        A[i-1] += 1\n",
    "        \n",
    "    if A[0] == 10:\n",
    "        # There is a carry-out, so we need one more digit to store the resu-It\n",
    "        # A slick way to do this is to append a 0 at the end of the array, \n",
    "        # and update the fjrst entry to 1.\n",
    "        A[0] = 1\n",
    "        A.append(0)\n",
    "    return A\n",
    "\n",
    "\n",
    "plus_one([9,9,9])\n"
   ]
  },
  {
   "cell_type": "code",
   "execution_count": null,
   "metadata": {},
   "outputs": [],
   "source": []
  },
  {
   "cell_type": "code",
   "execution_count": null,
   "metadata": {},
   "outputs": [],
   "source": []
  },
  {
   "cell_type": "markdown",
   "metadata": {},
   "source": [
    "> **Write a program which takes as input two strings s and t of bits encoding binary numbers Bs and Bt, respectively, and refurns a new string of bits representing the number Bt + Bs.**"
   ]
  },
  {
   "cell_type": "code",
   "execution_count": 13,
   "metadata": {},
   "outputs": [
    {
     "name": "stdout",
     "output_type": "stream",
     "text": [
      "111110\n"
     ]
    }
   ],
   "source": [
    "#Brute forcr using python inbuilt functions\n",
    "def bitstring(s, t):\n",
    "    intRes = int(s, 2) + int(t, 2)\n",
    "    res = str(bin(intRes))\n",
    "    return res[2:]\n",
    "    \n",
    "print(bitstring(\"110011\", \"1011\"))\n"
   ]
  },
  {
   "cell_type": "code",
   "execution_count": null,
   "metadata": {},
   "outputs": [],
   "source": []
  },
  {
   "cell_type": "code",
   "execution_count": null,
   "metadata": {},
   "outputs": [],
   "source": []
  },
  {
   "cell_type": "code",
   "execution_count": 1,
   "metadata": {},
   "outputs": [
    {
     "data": {
      "text/plain": [
       "'1110010'"
      ]
     },
     "execution_count": 1,
     "metadata": {},
     "output_type": "execute_result"
    }
   ],
   "source": [
    "#TC: O(max(|A|, |B|)), SC: O(max(|A|, |B|))\n",
    "def string_bits_encoding(Bs, Bt):\n",
    "    maxLength = max(len(Bs), len(Bt))\n",
    "    res = [None for x in range(maxLength)]\n",
    "    \n",
    "    strBs = [int(x) for x in Bs.zfill(maxLength)]\n",
    "    strBt = [int(x) for x in Bt.zfill(maxLength)]\n",
    "    \n",
    "    for i in reversed(range(maxLength)):\n",
    "        if strBs[i] + strBt[i] == 2:\n",
    "            res[i] = 0\n",
    "            strBs[i-1] += 1\n",
    "        elif strBs[i] + strBt[i] == 3:\n",
    "            res[i] = 1\n",
    "            strBs[i-1] += 1\n",
    "        else:\n",
    "            res[i] = strBs[i] + strBt[i]\n",
    "    \n",
    "    if res[0] == 3:\n",
    "        res[0] = 1\n",
    "        res.insert(0, 1)\n",
    "    \n",
    "    if res[0] == 2:\n",
    "        res[0] = 0\n",
    "        res.insert(0, 1)\n",
    "    \n",
    "    return ''.join([str(x) for x in res])\n",
    "        \n",
    "string_bits_encoding(\"1100111\", \"1011\")\n",
    "    \n",
    "    "
   ]
  },
  {
   "cell_type": "code",
   "execution_count": null,
   "metadata": {},
   "outputs": [],
   "source": []
  },
  {
   "cell_type": "code",
   "execution_count": 13,
   "metadata": {},
   "outputs": [
    {
     "data": {
      "text/plain": [
       "'1110010'"
      ]
     },
     "execution_count": 13,
     "metadata": {},
     "output_type": "execute_result"
    }
   ],
   "source": [
    "#TC: O(max(|A|, |B|)), SC: O(max(|A|, |B|))\n",
    "def string_bits_encoding_better(A, B):\n",
    "    if len(A) < len(B):\n",
    "        A,B = B,A\n",
    "        \n",
    "    res = [0] * len(A)\n",
    "    j = len(B) - 1\n",
    "    \n",
    "    for i in reversed(range(len(A))):\n",
    "        sum = int(A[i]) + res[i]\n",
    "        \n",
    "        if j >= 0:\n",
    "            sum += int(B[j])\n",
    "            j -= 1\n",
    "        #sum = (int(A[i]) + int(B[j]) + res[i]) if j >= 0 else int(A[i]) + res[i]\n",
    "    \n",
    "        if sum == 2:\n",
    "            res[i] = 0\n",
    "            res[i-1] += 1\n",
    "        elif sum == 3:\n",
    "            res[i] = 1\n",
    "            res[i-1] += 1\n",
    "        else:\n",
    "            res[i] = sum\n",
    "        \n",
    "    if res[0] == 3:\n",
    "        res[0] = 1\n",
    "        res.insert(0, 1)\n",
    "    \n",
    "    if res[0] == 2:\n",
    "        res[0] = 0\n",
    "        res.insert(0, 1)\n",
    "    \n",
    "    return ''.join([str(x) for x in res])    \n",
    "        \n",
    "string_bits_encoding_better(\"1100111\", \"1011\")"
   ]
  },
  {
   "cell_type": "code",
   "execution_count": null,
   "metadata": {},
   "outputs": [],
   "source": []
  },
  {
   "cell_type": "code",
   "execution_count": null,
   "metadata": {},
   "outputs": [],
   "source": []
  },
  {
   "cell_type": "markdown",
   "metadata": {},
   "source": [
    "> **Write a program that takes two arrays representing integers, and retums an integer representing their product. For example, since 193707721 x -761838257287 = -147573952589676412927, if the inputs are (1,9,3,7,0,7,7,2, 1) and (-7,6,1,8,3,8,2,5,7,2,8,7), your function should refum (-1, 4,7, 5,7,3, 9, 5, 2, 5,8,9, 6,7, 6, 4, 1., 2,9,2,7).**\n",
    "\n",
    "\n",
    "[Explanation of generator: Remove Leading zeros](https://stackoverflow.com/questions/57172800/how-to-use-next-iterator-within-a-list-comprehension-in-python3-to-get-a-list-wi)\n",
    "\n",
    "[Python generator video](https://www.youtube.com/watch?v=bD05uGo_sVI&ab_channel=CoreySchafer)"
   ]
  },
  {
   "cell_type": "code",
   "execution_count": 32,
   "metadata": {},
   "outputs": [
    {
     "name": "stdout",
     "output_type": "stream",
     "text": [
      "[0, 0, 0, 0, 0, 21]\n",
      "[0, 0, 0, 0, 2, 21]\n",
      "[0, 0, 0, 0, 2, 1]\n",
      "[0, 0, 0, 0, 26, 1]\n",
      "[0, 0, 0, 2, 26, 1]\n",
      "[0, 0, 0, 2, 6, 1]\n",
      "[0, 0, 0, 29, 6, 1]\n",
      "[0, 0, 2, 29, 6, 1]\n",
      "[0, 0, 2, 9, 6, 1]\n",
      "[0, 0, 2, 9, 20, 1]\n",
      "[0, 0, 2, 11, 20, 1]\n",
      "[0, 0, 2, 11, 0, 1]\n",
      "[0, 0, 2, 27, 0, 1]\n",
      "[0, 0, 4, 27, 0, 1]\n",
      "[0, 0, 4, 7, 0, 1]\n",
      "[0, 0, 22, 7, 0, 1]\n",
      "[0, 2, 22, 7, 0, 1]\n",
      "[0, 2, 2, 7, 0, 1]\n",
      "[0, 2, 2, 14, 0, 1]\n",
      "[0, 2, 3, 14, 0, 1]\n",
      "[0, 2, 3, 4, 0, 1]\n",
      "[0, 2, 11, 4, 0, 1]\n",
      "[0, 3, 11, 4, 0, 1]\n",
      "[0, 3, 1, 4, 0, 1]\n",
      "[0, 12, 1, 4, 0, 1]\n",
      "[1, 12, 1, 4, 0, 1]\n",
      "[1, 2, 1, 4, 0, 1]\n",
      "[1, 2, 1, 4, 0, 1]\n"
     ]
    }
   ],
   "source": [
    "# Write a program that takes two arrays representing integers and returns\n",
    "# an array of integers representing their product. \n",
    "# for example take 193707721 x -761838257287 = -147573952589676412927\n",
    "# inputs are in array format and function will return [-1, 4, 7, 5, 7...] so on\n",
    "\n",
    "A = [1,2,3]\n",
    "B = [9,8,7]\n",
    "C = [0, 0]\n",
    "\n",
    "def multArb(A, B):\n",
    "    # set the sign according to the first digit's sign\n",
    "    sign = -1 if (A[0] < 0) ^ (B[0] < 0) else 1\n",
    "    # make all ints we work with positive\n",
    "    A[0], B[0] = abs(A[0]), abs(B[0])\n",
    "    # make an array sized to be the length of A and B together since that's the max from multiplying\n",
    "    res = [0] * (len(A) + len(B))\n",
    "    # starting from the end of both\n",
    "    for i in reversed(range(len(A))):\n",
    "        for j in reversed(range(len(B))):\n",
    "#             print(res)\n",
    "            res[i + j + 1] += A[i] * B[j]\n",
    "            print(res)\n",
    "            res[i + j] += res[i + j + 1] // 10\n",
    "            print(res)\n",
    "            res[i + j + 1] %= 10\n",
    "            print(res)\n",
    "    # removes the leading zeroes or returns 0 if there's nothing to go through\n",
    "\n",
    "    res = res[next((i for i, x in enumerate(res) if x != 0), len(res)):] or [0]\n",
    "    return [sign * res[0]] + res[1:]\n",
    "\n",
    "print(multArb(A, B))"
   ]
  },
  {
   "cell_type": "code",
   "execution_count": null,
   "metadata": {},
   "outputs": [],
   "source": []
  },
  {
   "cell_type": "code",
   "execution_count": null,
   "metadata": {},
   "outputs": [],
   "source": []
  },
  {
   "cell_type": "code",
   "execution_count": 41,
   "metadata": {},
   "outputs": [
    {
     "name": "stdout",
     "output_type": "stream",
     "text": [
      "[1, 2, 7, 3, 2, 3]\n"
     ]
    }
   ],
   "source": [
    "A = [1,2,9]\n",
    "B = [9,8,7]\n",
    "C = [0, 0]\n",
    "\n",
    "\n",
    "#Time complexity O(nm)\n",
    "def multiply(A,B):\n",
    "    sign = -1 if (A[0] < 0) ^ (A[0] < 0) else 1\n",
    "    \n",
    "    A[0],B[0] = abs(A[0]), abs(B[0])\n",
    "    res = [0] * (len(A) + len(B))\n",
    "    \n",
    "    for i in reversed(range(len(A))):\n",
    "        for j in reversed(range(len(B))):\n",
    "            res[i + j + 1] += A[i] * B[j]\n",
    "            res[i+j] += res[i + j + 1] // 10\n",
    "            res[i + j + 1] %= 10\n",
    "    \n",
    "    res = res[next((i for i, x in enumerate(res) if x != 0), len(res)):] or [0]\n",
    "    \n",
    "    return [res[0] * sign ] + res[1:]\n",
    "\n",
    "print(multiply(A, B))\n",
    "    \n",
    "    \n",
    "    \n",
    "    "
   ]
  },
  {
   "cell_type": "code",
   "execution_count": null,
   "metadata": {},
   "outputs": [],
   "source": []
  },
  {
   "cell_type": "code",
   "execution_count": null,
   "metadata": {},
   "outputs": [],
   "source": []
  },
  {
   "cell_type": "markdown",
   "metadata": {},
   "source": [
    "> **Write a program which takes an array of n integers, where A[i] denotes the maximum you can advance from index i, and returns whether it is possible to advance to the last index starting from the beginning of the array.**"
   ]
  },
  {
   "cell_type": "code",
   "execution_count": null,
   "metadata": {},
   "outputs": [],
   "source": []
  }
 ],
 "metadata": {
  "kernelspec": {
   "display_name": "Python 3",
   "language": "python",
   "name": "python3"
  },
  "language_info": {
   "codemirror_mode": {
    "name": "ipython",
    "version": 3
   },
   "file_extension": ".py",
   "mimetype": "text/x-python",
   "name": "python",
   "nbconvert_exporter": "python",
   "pygments_lexer": "ipython3",
   "version": "3.8.3"
  }
 },
 "nbformat": 4,
 "nbformat_minor": 4
}
