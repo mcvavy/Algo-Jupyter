{
 "cells": [
  {
   "cell_type": "markdown",
   "metadata": {},
   "source": [
    "> **Write a function that takes as input an n x n 2D array, and rotates the array by 90 degrees clockwise.**\n",
    "\n",
    "_Hint: Focus on the boundary elements._\n",
    "\n",
    "[Video Explanation](https://www.youtube.com/watch?v=SA867FvqHrM&ab_channel=NickWhite)"
   ]
  },
  {
   "cell_type": "markdown",
   "metadata": {},
   "source": [
    "> **Finding the transpose of a matrix**\n",
    "\n",
    "_Samples:_\n",
    "\n",
    "```python\n",
    "M = [\n",
    "  [ 1,  2,  3, 4],\n",
    "  [ 5,  6,  7, 8],\n",
    "  [ 9, 10, 11, 12],\n",
    "  [13, 14, 15, 16]\n",
    "]\n",
    "\n",
    "M = [\n",
    "    [1,2,3],\n",
    "    [4,5,6]\n",
    "]\n",
    "\n",
    "M = [\n",
    "    [1, 2, 3],\n",
    "    [4, 5, 6],\n",
    "    [7, 8, 9]\n",
    "]\n",
    "```"
   ]
  },
  {
   "cell_type": "code",
   "execution_count": 78,
   "metadata": {},
   "outputs": [
    {
     "data": {
      "text/plain": [
       "[[1, 4], [2, 5], [3, 6]]"
      ]
     },
     "execution_count": 78,
     "metadata": {},
     "output_type": "execute_result"
    }
   ],
   "source": [
    "from typing import List\n",
    "\n",
    "def transpose_matrix(A : List[List[int]]) -> List[List[int]]:\n",
    "    rows = len(A)\n",
    "    \n",
    "    new_matrix = [[0 for i in range(len(A))] for y in range(len(A[0]))]\n",
    "\n",
    "    for i in range(rows):\n",
    "        for j in range(len(A[i])):\n",
    "            new_matrix[j][i] = A[i][j]\n",
    "\n",
    "    return new_matrix\n",
    "       \n",
    "M = [\n",
    "    [1,2,3],\n",
    "    [4,5,6]\n",
    "]\n",
    "\n",
    "transpose_matrix(M)"
   ]
  },
  {
   "cell_type": "code",
   "execution_count": null,
   "metadata": {},
   "outputs": [],
   "source": []
  },
  {
   "cell_type": "code",
   "execution_count": 108,
   "metadata": {},
   "outputs": [
    {
     "data": {
      "text/plain": [
       "[[13, 9, 5, 1], [14, 10, 6, 2], [15, 11, 7, 3], [16, 12, 8, 4]]"
      ]
     },
     "execution_count": 108,
     "metadata": {},
     "output_type": "execute_result"
    }
   ],
   "source": [
    "from typing import List\n",
    " #Time complexity: O(n^2) | Space complexity: O(1)\n",
    "def rotate_matrix(square_matrix: List[List[int]]) -> None:\n",
    "    n = len(square_matrix)\n",
    "\n",
    "    for i in range(n):\n",
    "        for j in range(i, n):\n",
    "            square_matrix[j][i], square_matrix[i][j] = square_matrix[i][j], square_matrix[j][i]\n",
    "            \n",
    "    for i in range(len(square_matrix)):\n",
    "        \n",
    "        start = 0\n",
    "        end = len(square_matrix[i]) - 1\n",
    "        \n",
    "        while start < end:\n",
    "            square_matrix[i][start],square_matrix[i][end] = square_matrix[i][end],square_matrix[i][start]\n",
    "            \n",
    "            start += 1\n",
    "            end -= 1\n",
    "\n",
    "\n",
    "rotate_M = [\n",
    "  [ 1,  2,  3, 4],\n",
    "  [ 5,  6,  7, 8],\n",
    "  [ 9, 10, 11, 12],\n",
    "  [13, 14, 15, 16]\n",
    "]\n",
    "\n",
    "rotate_matrix(rotate_M)\n",
    "\n",
    "rotate_M\n",
    "    "
   ]
  }
 ],
 "metadata": {
  "kernelspec": {
   "display_name": "Python 3",
   "language": "python",
   "name": "python3"
  },
  "language_info": {
   "codemirror_mode": {
    "name": "ipython",
    "version": 3
   },
   "file_extension": ".py",
   "mimetype": "text/x-python",
   "name": "python",
   "nbconvert_exporter": "python",
   "pygments_lexer": "ipython3",
   "version": "3.9.1"
  }
 },
 "nbformat": 4,
 "nbformat_minor": 4
}
