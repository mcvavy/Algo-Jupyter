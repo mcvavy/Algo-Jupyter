{
 "cells": [
  {
   "cell_type": "markdown",
   "metadata": {},
   "source": [
    "> **Write a program that takes an array denoting the daily stock price, and returns the maximum profit that could be made by buying and then selling one share of that stock. There is no need to buy if no profit is possible.**\n",
    "\n",
    "_Hint:ldentifying the minimum and maximum is not enough since the minimum may appear after the maximum height. Focus on valid differences._"
   ]
  },
  {
   "cell_type": "code",
   "execution_count": 30,
   "metadata": {},
   "outputs": [
    {
     "data": {
      "text/plain": [
       "0"
      ]
     },
     "execution_count": 30,
     "metadata": {},
     "output_type": "execute_result"
    }
   ],
   "source": [
    "from typing import List\n",
    "\n",
    "#Time complexity: O(n) | Space complexity O(1)\n",
    "def buy_and_sell_stock_once(prices: List[float]) -> float:\n",
    "    min_price, max_profit = float(\"inf\"), 0.0\n",
    "    \n",
    "    for price in prices:\n",
    "        min_price = min(price, min_price)\n",
    "        profit_today = price - min_price\n",
    "        max_profit = max(profit_today, max_profit)\n",
    "    return max_profit\n",
    "\n",
    "A = [310,310,275,275,260,260,260,230,230,230]\n",
    "# A = [7,1,5,3,6,4]\n",
    "buy_and_sell_stock_once(A)"
   ]
  },
  {
   "cell_type": "code",
   "execution_count": null,
   "metadata": {},
   "outputs": [],
   "source": []
  },
  {
   "cell_type": "code",
   "execution_count": null,
   "metadata": {},
   "outputs": [],
   "source": []
  },
  {
   "cell_type": "markdown",
   "metadata": {},
   "source": [
    "> **Write a program that takes an array of integers and finds the length of a longest subarray all of whose entries are equal.**"
   ]
  },
  {
   "cell_type": "code",
   "execution_count": 45,
   "metadata": {},
   "outputs": [
    {
     "data": {
      "text/plain": [
       "7"
      ]
     },
     "execution_count": 45,
     "metadata": {},
     "output_type": "execute_result"
    }
   ],
   "source": [
    "# Time Complexity: O(n) | Space complexity: O(1)\n",
    "def longest_subarray_equal_entries(A):\n",
    "    longest = float(\"-inf\")\n",
    "    potential = 1\n",
    "    \n",
    "    for i in range(1, len(A)):\n",
    "        if A[i] == A[i-1]:\n",
    "            potential += 1\n",
    "        else:\n",
    "            longest = max(potential, longest)\n",
    "            potential = 1\n",
    "    return max(longest, potential)\n",
    "\n",
    "A = [1, 1, 2, 2, 2, 2, 3, 3, 4, 4, 6, 6, 6, 6, 6, 6, 6]\n",
    "longest_subarray_equal_entries(A)\n",
    "            "
   ]
  }
 ],
 "metadata": {
  "kernelspec": {
   "display_name": "Python 3",
   "language": "python",
   "name": "python3"
  },
  "language_info": {
   "codemirror_mode": {
    "name": "ipython",
    "version": 3
   },
   "file_extension": ".py",
   "mimetype": "text/x-python",
   "name": "python",
   "nbconvert_exporter": "python",
   "pygments_lexer": "ipython3",
   "version": "3.8.3"
  }
 },
 "nbformat": 4,
 "nbformat_minor": 4
}
