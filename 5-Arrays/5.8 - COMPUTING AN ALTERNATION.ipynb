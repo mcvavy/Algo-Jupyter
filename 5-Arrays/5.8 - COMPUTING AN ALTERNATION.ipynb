{
 "cells": [
  {
   "cell_type": "markdown",
   "metadata": {},
   "source": [
    "> **Write a program that takes an array A of n numbers, and rearranges A's elements to get a new array B having the property that B[0] <= B[1] => B[2] <= B[3] => B[4] <= B[5] =>....**\n",
    "\n",
    "_Hint: Can you solve the problem by making local changes to A?_"
   ]
  },
  {
   "cell_type": "code",
   "execution_count": null,
   "metadata": {},
   "outputs": [],
   "source": []
  },
  {
   "cell_type": "code",
   "execution_count": 16,
   "metadata": {},
   "outputs": [
    {
     "data": {
      "text/plain": [
       "[2, 3, 2]"
      ]
     },
     "execution_count": 16,
     "metadata": {},
     "output_type": "execute_result"
    }
   ],
   "source": [
    "from typing import List\n",
    "\n",
    "def rearrange(A: List[int]) -> List[int]:\n",
    "    for i in range(len(A) - 1):\n",
    "        if i % 2 == 0 and A[i] > A[i + 1]:\n",
    "            A[i],A[i+1] = A[i+1], A[i]\n",
    "        elif i % 2 != 0 and A[i] < A[i + 1]:\n",
    "            A[i],A[i+1] = A[i+1], A[i]\n",
    "    \n",
    "#         A[i:i+2] = sorted(A[i:i+2], reverse = i % 2)\n",
    "\n",
    "        \n",
    "    return A\n",
    "\n",
    "A = [2,2,3]\n",
    "rearrange(A)\n"
   ]
  }
 ],
 "metadata": {
  "kernelspec": {
   "display_name": "Python 3",
   "language": "python",
   "name": "python3"
  },
  "language_info": {
   "codemirror_mode": {
    "name": "ipython",
    "version": 3
   },
   "file_extension": ".py",
   "mimetype": "text/x-python",
   "name": "python",
   "nbconvert_exporter": "python",
   "pygments_lexer": "ipython3",
   "version": "3.8.3"
  }
 },
 "nbformat": 4,
 "nbformat_minor": 4
}
