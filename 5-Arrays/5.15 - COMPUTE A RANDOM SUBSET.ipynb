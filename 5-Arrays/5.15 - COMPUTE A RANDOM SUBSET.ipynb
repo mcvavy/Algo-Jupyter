{
 "cells": [
  {
   "cell_type": "markdown",
   "metadata": {},
   "source": [
    "> **Write a program that takes as input a positive integer n and a size $k \\leq n$ , and returns a size-k subset of {0,1,2,. ..,n - 1}. The subset should be represented as an array. All subsets should be equally likely and, in addition, all permutations of elements of the array should be equally likely. You may assume you have a function which takes as input a nonnegative integer t and returns an integer in the set {0,1,.. .,t - 1} with uniform probability.**\n",
    "\n",
    "\\begin{equation*}\n",
    "p\\subseteq P = \\frac{n!}{((n-k)!k!)}\n",
    "\\end{equation*}\n",
    "\n",
    "_Hint: Simulate Solution,5.12 on Page54, using an appropriate data structure to reduce space.?_     \n",
    "\n",
    "[LaTex Mathematical Symbols](https://oeis.org/wiki/List_of_LaTeX_mathematical_symbols)\n"
   ]
  },
  {
   "cell_type": "code",
   "execution_count": 9,
   "metadata": {},
   "outputs": [
    {
     "data": {
      "text/plain": [
       "[84, 46, 57, 5, 27]"
      ]
     },
     "execution_count": 9,
     "metadata": {},
     "output_type": "execute_result"
    }
   ],
   "source": [
    "from typing import List\n",
    "import random\n",
    "\n",
    "# Time complexity: O(k) | Space complexity: O(k)\n",
    "def random_subset(n: int, k: int) -> List[int]:\n",
    "    H = {}\n",
    "    for i in range(k):\n",
    "        r = random.randint(i, n - 1)\n",
    "        i_val = H.get(i,i)\n",
    "        r_val = H.get(r,r)\n",
    "        H[i] = r_val\n",
    "        H[r] = i_val\n",
    "    \n",
    "    return [H[x] for x in range(k)]\n",
    "\n",
    "random_subset(100, 5)"
   ]
  }
 ],
 "metadata": {
  "kernelspec": {
   "display_name": "Python 3",
   "language": "python",
   "name": "python3"
  },
  "language_info": {
   "codemirror_mode": {
    "name": "ipython",
    "version": 3
   },
   "file_extension": ".py",
   "mimetype": "text/x-python",
   "name": "python",
   "nbconvert_exporter": "python",
   "pygments_lexer": "ipython3",
   "version": "3.8.3"
  }
 },
 "nbformat": 4,
 "nbformat_minor": 4
}
