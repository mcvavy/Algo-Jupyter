{
 "cells": [
  {
   "cell_type": "markdown",
   "metadata": {},
   "source": [
    "> **Write a program that computes the maximum profit that can be made by buying and selling a share at most twice. The second buy must be made on another date after the first sale.**\n",
    "\n",
    "_Hint: What do you need to know about the first i elements when processing the (i + 1)th element?_"
   ]
  },
  {
   "cell_type": "code",
   "execution_count": 24,
   "metadata": {},
   "outputs": [
    {
     "name": "stdout",
     "output_type": "stream",
     "text": [
      "[0, 0, 2, 2, 3, 3, 6, 6, 7]\n"
     ]
    },
    {
     "data": {
      "text/plain": [
       "10"
      ]
     },
     "execution_count": 24,
     "metadata": {},
     "output_type": "execute_result"
    }
   ],
   "source": [
    "from typing import List\n",
    "\n",
    "#Time complexity: O(n) | Space complexity O(n)\n",
    "def buy_and_sell_stock_twice(prices: List[float]) -> float:\n",
    "    min_price, max_profit = float(\"inf\"), 0.0\n",
    "    \n",
    "    first_profits = [0] * len(prices)\n",
    "    \n",
    "    for i, price in enumerate(prices):\n",
    "        min_price = min(price, min_price)\n",
    "        profit_today = price - min_price\n",
    "        max_profit = max(profit_today, max_profit)\n",
    "        \n",
    "        first_profits[i] = max_profit\n",
    "    #print(first_profits)\n",
    "        \n",
    "    max_price = float(\"-inf\")\n",
    "    for j in reversed(range(1, len(prices))):\n",
    "        max_price = max(max_price, prices[j])\n",
    "        max_profit = max(max_profit, first_profits[j-1] + max_price - prices[j])\n",
    "        \n",
    "    return max_profit\n",
    "\n",
    "# A = [3,3,5,0,0,3,1,4]\n",
    "A = [12,11,13,9,12,8,14,13,15]\n",
    "buy_and_sell_stock_once(A)"
   ]
  },
  {
   "cell_type": "code",
   "execution_count": null,
   "metadata": {},
   "outputs": [],
   "source": []
  },
  {
   "cell_type": "markdown",
   "metadata": {},
   "source": [
    "> **Variant: Solve the same problem in O(n) time and O(1) space.**"
   ]
  },
  {
   "cell_type": "code",
   "execution_count": 25,
   "metadata": {},
   "outputs": [
    {
     "data": {
      "text/plain": [
       "10"
      ]
     },
     "execution_count": 25,
     "metadata": {},
     "output_type": "execute_result"
    }
   ],
   "source": [
    "def buy_and_sell_stock_twice_O1(prices: List[float]) -> float:\n",
    "    minPrice                      = float(\"inf\")\n",
    "    maxProfitAfterFirstSell       = 0\n",
    "    maxProfitLeftAfterSecondBuy   = float(\"-inf\");\n",
    "    maxProfitAfterSecondSell      = 0\n",
    "\n",
    "    for p in prices:\n",
    "        minPrice                    = min(p, minPrice)\n",
    "        maxProfitAfterFirstSell     = max(p - minPrice, maxProfitAfterFirstSell)\n",
    "        maxProfitLeftAfterSecondBuy = max(maxProfitAfterFirstSell - p, maxProfitLeftAfterSecondBuy) \n",
    "        maxProfitAfterSecondSell    = max(p + maxProfitLeftAfterSecondBuy, maxProfitAfterSecondSell) \n",
    "        \n",
    "    return maxProfitAfterSecondSell\n",
    "\n",
    "A = [12,11,13,9,12,8,14,13,15]\n",
    "buy_and_sell_stock_twice_O1(A)"
   ]
  }
 ],
 "metadata": {
  "kernelspec": {
   "display_name": "Python 3",
   "language": "python",
   "name": "python3"
  },
  "language_info": {
   "codemirror_mode": {
    "name": "ipython",
    "version": 3
   },
   "file_extension": ".py",
   "mimetype": "text/x-python",
   "name": "python",
   "nbconvert_exporter": "python",
   "pygments_lexer": "ipython3",
   "version": "3.8.3"
  }
 },
 "nbformat": 4,
 "nbformat_minor": 4
}
