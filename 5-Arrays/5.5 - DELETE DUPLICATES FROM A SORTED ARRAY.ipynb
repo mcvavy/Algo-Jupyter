{
 "cells": [
  {
   "cell_type": "markdown",
   "metadata": {},
   "source": [
    "> **Write a program which takes as input a sorted array and updates it so that all duplicates have been removed and the remaining elements have been shifted left to fill the emptied indices. Return the number of valid elements. Many languages have library functions for performing this operationyou cannot use these functions.**\n",
    "\n",
    "_Hint:There is an O(n) time and O(1) space solution._"
   ]
  },
  {
   "cell_type": "code",
   "execution_count": 5,
   "metadata": {},
   "outputs": [
    {
     "data": {
      "text/plain": [
       "6"
      ]
     },
     "execution_count": 5,
     "metadata": {},
     "output_type": "execute_result"
    }
   ],
   "source": [
    "# Time Complexity: O(n) | Space complexity : O(n)\n",
    "def delete_duplicates(A):\n",
    "    valid_entries = {}\n",
    "    \n",
    "    i = 1\n",
    "    while i < len(A):\n",
    "        if A[i-1] not in valid_entries:\n",
    "            valid_entries[A[i-1]] = True\n",
    "            i += 1\n",
    "        else:\n",
    "            A[i-1]= A[i]\n",
    "            valid_entries[A[i]] = True\n",
    "            i += 1\n",
    "    \n",
    "    return len(valid_entries)\n",
    "\n",
    "remove_duplicates([2,3,5,5,7,11,11,11,13])\n",
    "            \n",
    "            "
   ]
  },
  {
   "cell_type": "markdown",
   "metadata": {},
   "source": [
    "> **Solution with O(n) time and O(1) space solution.**"
   ]
  },
  {
   "cell_type": "code",
   "execution_count": 6,
   "metadata": {},
   "outputs": [
    {
     "data": {
      "text/plain": [
       "6"
      ]
     },
     "execution_count": 6,
     "metadata": {},
     "output_type": "execute_result"
    }
   ],
   "source": [
    "# Time Complexity: O(n) | Space complexity : O(1)\n",
    "def delete_duplicates(A):\n",
    "    if not A: return 0;\n",
    "    \n",
    "    write_index = 1\n",
    "    for i in range(1, len(A)):\n",
    "        if A[write_index - 1] != A[i]:\n",
    "            A[write_index] = A[i]\n",
    "            write_index += 1\n",
    "    return write_index\n",
    "\n",
    "remove_duplicates([2,3,5,5,7,11,11,11,13])"
   ]
  },
  {
   "cell_type": "code",
   "execution_count": null,
   "metadata": {},
   "outputs": [],
   "source": []
  },
  {
   "cell_type": "code",
   "execution_count": null,
   "metadata": {},
   "outputs": [],
   "source": []
  },
  {
   "cell_type": "markdown",
   "metadata": {},
   "source": [
    ">**Implement a function which takes as input an array and a key, and updates the array so that all occurrences of the input key have been removed and the remaining elements have been shifted left to fill the emptied indices. Return the number of remaining elements. There are no requirements as to the values stored beyond the last valid element.**"
   ]
  },
  {
   "cell_type": "code",
   "execution_count": 7,
   "metadata": {},
   "outputs": [
    {
     "data": {
      "text/plain": [
       "10"
      ]
     },
     "execution_count": 7,
     "metadata": {},
     "output_type": "execute_result"
    }
   ],
   "source": [
    "# Time Complexity: O(n) | Space complexity : O(1)\n",
    "def delete_duplicates_with_key(A, key):\n",
    "    if not A: return 0;\n",
    "    \n",
    "    write_index = 0\n",
    "    for i in range(len(A)):\n",
    "        if A[i] != key:\n",
    "            A[write_index] = A[i]\n",
    "            write_index += 1\n",
    "    return write_index\n",
    "\n",
    "delete_duplicates_with_key([2,3,5,5,7,11,2,2,11,11,13,2], 5)"
   ]
  },
  {
   "cell_type": "code",
   "execution_count": null,
   "metadata": {},
   "outputs": [],
   "source": []
  },
  {
   "cell_type": "markdown",
   "metadata": {},
   "source": [
    ">**Write a program which takes as input a sorted array A of integers and a positive integer m, and updates A so that if x appears m times in A it appears exactly min(2,m) times in A. The update to A should be performed in one pass, and no additional storage may be allocated.**\n",
    "\n",
    "_Rephrase: If x appear m times in A, make it appear at most min(2,m) in A._"
   ]
  },
  {
   "cell_type": "code",
   "execution_count": 8,
   "metadata": {},
   "outputs": [
    {
     "data": {
      "text/plain": [
       "[2, 2, 3, 5, 5, 7, 11, 11, 13]"
      ]
     },
     "execution_count": 8,
     "metadata": {},
     "output_type": "execute_result"
    }
   ],
   "source": [
    "# Time Complexity: O(n) | Space complexity : O(n)\n",
    "def delete_duplicates_with_key_mtimes(A, m):\n",
    "    if not A: return []\n",
    "    \n",
    "    hm = {}\n",
    "\n",
    "    for i in range(len(A)):\n",
    "        if A[i] in hm:\n",
    "            if hm[A[i]] == min(2, m):\n",
    "                A[i] = None\n",
    "            else:\n",
    "                hm[A[i]] += 1\n",
    "        else:\n",
    "            hm[A[i]] = 1\n",
    "        \n",
    "    while None in A:\n",
    "        A.remove(None)\n",
    "    \n",
    "    return A\n",
    "    \n",
    "delete_duplicates_with_key_mtimes([2,2,2,2,3,5,5,7,11,11,11,13], 2)"
   ]
  },
  {
   "cell_type": "code",
   "execution_count": null,
   "metadata": {},
   "outputs": [],
   "source": []
  },
  {
   "cell_type": "code",
   "execution_count": null,
   "metadata": {},
   "outputs": [],
   "source": []
  }
 ],
 "metadata": {
  "kernelspec": {
   "display_name": "Python 3",
   "language": "python",
   "name": "python3"
  },
  "language_info": {
   "codemirror_mode": {
    "name": "ipython",
    "version": 3
   },
   "file_extension": ".py",
   "mimetype": "text/x-python",
   "name": "python",
   "nbconvert_exporter": "python",
   "pygments_lexer": "ipython3",
   "version": "3.8.3"
  }
 },
 "nbformat": 4,
 "nbformat_minor": 4
}
