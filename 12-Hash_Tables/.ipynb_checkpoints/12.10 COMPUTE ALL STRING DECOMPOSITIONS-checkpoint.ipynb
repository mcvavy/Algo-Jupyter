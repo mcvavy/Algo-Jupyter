{
 "cells": [
  {
   "cell_type": "markdown",
   "metadata": {},
   "source": [
    "> **Write a program which takes as input a string (the \"sentence\") and an array of strings (the \"words\"), and returns the starting indices of substrings of the sentence string which are the concatenation of all the strings in the words array. Each string must appear exactly once, and their ordering is immaterial. Assume all strings in the words array have equal length. It is possible for the words array to contain duplicates.**\n",
    "\n",
    "_Hint: Exploit the fact that the words have the same length._\n",
    "\n",
    "- [Perfect Explanation](https://www.geeksforgeeks.org/find-starting-indices-substrings-string-s-made-concatenating-words-listl/)"
   ]
  },
  {
   "cell_type": "code",
   "execution_count": 21,
   "metadata": {},
   "outputs": [
    {
     "data": {
      "text/plain": [
       "[0, 9]"
      ]
     },
     "execution_count": 21,
     "metadata": {},
     "output_type": "execute_result"
    }
   ],
   "source": [
    "from typing import List\n",
    "from collections import Counter\n",
    "\n",
    "def find_all_substrings(s: str, words: List[str]) -> List[int]:\n",
    "    result = []\n",
    "    \n",
    "    wordCount = len(words[0])\n",
    "    wordSize = len(words)\n",
    "    wordsLength = wordCount * wordSize\n",
    "    wordsDict = Counter(words)\n",
    "    \n",
    "    for i in range(0, len(s) - wordsLength + 1, 1):\n",
    "        tempDict = wordsDict.copy()\n",
    "        count = wordSize\n",
    "        \n",
    "        for j in range(i, i + wordsLength, wordCount):\n",
    "            w = s[j:j + wordCount]\n",
    "            \n",
    "            if w not in tempDict or tempDict[w] == 0:\n",
    "                break\n",
    "            else:\n",
    "                tempDict[w] -= 1\n",
    "                count -= 1\n",
    "        if count == 0:\n",
    "            result.append(i)\n",
    "    return result\n",
    "\n",
    "s = \"barfoothefoobarman\"\n",
    "wds = [\"foo\", \"bar\"]\n",
    "find_all_substrings(s, wds)"
   ]
  }
 ],
 "metadata": {
  "kernelspec": {
   "display_name": "Python 3",
   "language": "python",
   "name": "python3"
  },
  "language_info": {
   "codemirror_mode": {
    "name": "ipython",
    "version": 3
   },
   "file_extension": ".py",
   "mimetype": "text/x-python",
   "name": "python",
   "nbconvert_exporter": "python",
   "pygments_lexer": "ipython3",
   "version": "3.8.3"
  }
 },
 "nbformat": 4,
 "nbformat_minor": 4
}
