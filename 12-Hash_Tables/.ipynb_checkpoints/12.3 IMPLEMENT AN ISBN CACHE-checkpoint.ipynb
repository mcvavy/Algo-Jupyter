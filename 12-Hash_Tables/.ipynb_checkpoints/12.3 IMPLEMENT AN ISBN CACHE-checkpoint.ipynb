{
 "cells": [
  {
   "cell_type": "markdown",
   "metadata": {},
   "source": [
    "> **Create a cache for looking up prices of books identified by their ISBN. You implement lookup, insert, and remove methods. Use the Least Recently Used (LRU) policy for cache eviction. If an ISBN is already present, insert should not change the price, but it should update that entry tobe the most recently used entry. Lookup should also update that entry to be the most recently used entry.**\n",
    "\n",
    "_Hint: Amotize the cost of deletion. Altematively, use an auxiliary data structure._\n"
   ]
  },
  {
   "cell_type": "markdown",
   "metadata": {},
   "source": [
    "> **LRU Cache Implementation**\n",
    "- [LRU Cache Implementation](https://www.youtube.com/watch?v=akFRa58Svug&ab_channel=TECHDOSE)\n",
    "- [LRU](https://www.youtube.com/watch?v=d7C1YxD5Fsc&ab_channel=SahilThakur)"
   ]
  },
  {
   "cell_type": "code",
   "execution_count": 11,
   "metadata": {
    "code_folding": []
   },
   "outputs": [],
   "source": [
    "from collections import OrderedDict\n",
    "\n",
    "class LruCache:\n",
    "    def __init__(self, capacity: int) -> None:\n",
    "        self.od = OrderedDict()\n",
    "        self.capacity = capacity\n",
    "\n",
    "    def lookup(self, isbn: int) -> int:\n",
    "        if isbn not in self.od:\n",
    "            return -1\n",
    "        price = self.od.pop(isbn)\n",
    "        self.od[isbn] = price\n",
    "        return price\n",
    "\n",
    "    def insert(self, isbn: int, price: int) -> None:\n",
    "        if isbn in self.od:\n",
    "            price = self.od.pop(isbn)\n",
    "        elif self.capacity <= len(self.od):\n",
    "                self.od.popitem(last=False)\n",
    "        self.od[isbn] = price\n",
    "\n",
    "    def erase(self, isbn: int) -> bool:\n",
    "        return self.od.pop(isbn, None) is not None"
   ]
  },
  {
   "cell_type": "code",
   "execution_count": null,
   "metadata": {},
   "outputs": [],
   "source": []
  },
  {
   "cell_type": "code",
   "execution_count": null,
   "metadata": {},
   "outputs": [],
   "source": []
  },
  {
   "cell_type": "markdown",
   "metadata": {},
   "source": [
    "> **LRU Cache Implementation**  \n",
    "- [LeetCode 460](https://leetcode.com/problems/lfu-cache/)\n",
    "- [LFU Cache](https://www.tutorialspoint.com/lfu-cache-in-python)"
   ]
  },
  {
   "cell_type": "code",
   "execution_count": 19,
   "metadata": {},
   "outputs": [
    {
     "data": {
      "text/plain": [
       "4"
      ]
     },
     "execution_count": 19,
     "metadata": {},
     "output_type": "execute_result"
    }
   ],
   "source": [
    "from collections import OrderedDict, defaultdict\n",
    "\n",
    "class LFUCache:\n",
    "    def __init__(self, capacity: int):\n",
    "        self.min = 1\n",
    "        self.cache = {}\n",
    "        self.freq_cache = defaultdict(OrderedDict)\n",
    "        self.capacity = capacity\n",
    "    def _update(self, key, value):\n",
    "        _,freq = self.cache[key]\n",
    "        self.freq_cache[freq].pop(key)\n",
    "        if len(self.freq_cache[self.min]) == 0:\n",
    "            self.min += 1\n",
    "        self.cache[key] = (value, freq + 1)\n",
    "        self.freq_cache[freq + 1][key] = (value, freq + 1)\n",
    "        \n",
    "    def get(self, key: int) -> int:\n",
    "        if key not in self.cache:\n",
    "            return -1\n",
    "        val = self.cache[key][0]\n",
    "        self._update(key, val)\n",
    "        return val\n",
    "    \n",
    "    def put(self, key: int, value: int) -> None:\n",
    "        if self.capacity == 0: return\n",
    "        \n",
    "        if key in self.cache:\n",
    "            self._update(key, value)\n",
    "        else:\n",
    "            if len(self.cache) == self.capacity:\n",
    "                evicted = self.freq_cache[self.min].popitem(last=False)\n",
    "                self.cache.pop(evicted[0])\n",
    "            else:\n",
    "                self.min = 1\n",
    "            self.cache[key] = (value, 1)\n",
    "            self.freq_cache[1][key] = (value, 1)\n",
    "            \n",
    "# lfu = LFUCache(0)\n",
    "# lfu.put(1, 1)\n",
    "# lfu.put(2, 2)\n",
    "# lfu.get(1)     # return 1\n",
    "# lfu.put(3, 3)  # evicts key 2\n",
    "# lfu.get(2)     # return -1 (not found)\n",
    "# lfu.get(3)     # return 3\n",
    "# lfu.put(4, 4)  # evicts key 1.\n",
    "# lfu.get(1)     # return -1 (not found)\n",
    "# lfu.get(3)     # return 3\n",
    "# lfu.get(4)     # return 4       \n",
    "\n",
    "lfu = LFUCache(2)\n",
    "lfu.put(1,1)\n",
    "lfu.put(2,2)\n",
    "lfu.get(1)\n",
    "lfu.put(3,3)\n",
    "lfu.get(2)\n",
    "lfu.get(3)\n",
    "lfu.put(4,4)\n",
    "lfu.get(1)\n",
    "lfu.get(3)\n",
    "lfu.get(4)"
   ]
  },
  {
   "cell_type": "code",
   "execution_count": null,
   "metadata": {},
   "outputs": [],
   "source": []
  },
  {
   "cell_type": "code",
   "execution_count": null,
   "metadata": {},
   "outputs": [],
   "source": []
  },
  {
   "cell_type": "code",
   "execution_count": null,
   "metadata": {},
   "outputs": [],
   "source": []
  },
  {
   "cell_type": "code",
   "execution_count": 14,
   "metadata": {
    "code_folding": []
   },
   "outputs": [
    {
     "name": "stdout",
     "output_type": "stream",
     "text": [
      "1\n",
      "-1\n",
      "1\n",
      "-1\n",
      "4\n"
     ]
    }
   ],
   "source": [
    "from collections import defaultdict, OrderedDict\n",
    "class LFUCache:\n",
    "    def __init__(self, capacity):\n",
    "        self.remain = capacity\n",
    "        self.least_freq = 1\n",
    "        self.node_for_freq = defaultdict(OrderedDict)\n",
    "        self.node_for_key = {}\n",
    "    def _update(self, key, value):\n",
    "        _, freq = self.node_for_key[key]\n",
    "        self.node_for_freq[freq]..pop(key)\n",
    "        if len(self.node_for_freq[self.least_freq]) == 0:\n",
    "            self.least_freq += 1\n",
    "        self.node_for_freq[freq+1][key] = (value, freq+1)\n",
    "        self.node_for_key[key] = (value, freq+1)\n",
    "    def get(self, key):\n",
    "        if key not in self.node_for_key:\n",
    "            return -1\n",
    "        value = self.node_for_key[key][0]\n",
    "        self._update(key, value)\n",
    "        return value\n",
    "    def put(self, key, value):\n",
    "        if key in self.node_for_key:\n",
    "            self._update(key, value)\n",
    "        else:\n",
    "            self.node_for_key[key] = (value,1)\n",
    "            self.node_for_freq[1][key] = (value,1)\n",
    "            if self.remain == 0:\n",
    "                removed = self.node_for_freq[self.least_freq].popitem(last=False)\n",
    "                self.node_for_key.pop(removed[0])\n",
    "            else:\n",
    "                self.remain -= 1\n",
    "                self.least_freq = 1\n",
    "cache = LFUCache(2)\n",
    "cache.put(1, 1)\n",
    "cache.put(2, 2)\n",
    "print(cache.get(1))\n",
    "cache.put(3, 3)\n",
    "print(cache.get(2))\n",
    "cache.put(4, 4)\n",
    "print(cache.get(1))\n",
    "print(cache.get(3))\n",
    "print(cache.get(4))"
   ]
  }
 ],
 "metadata": {
  "kernelspec": {
   "display_name": "Python 3",
   "language": "python",
   "name": "python3"
  },
  "language_info": {
   "codemirror_mode": {
    "name": "ipython",
    "version": 3
   },
   "file_extension": ".py",
   "mimetype": "text/x-python",
   "name": "python",
   "nbconvert_exporter": "python",
   "pygments_lexer": "ipython3",
   "version": "3.8.3"
  }
 },
 "nbformat": 4,
 "nbformat_minor": 4
}
