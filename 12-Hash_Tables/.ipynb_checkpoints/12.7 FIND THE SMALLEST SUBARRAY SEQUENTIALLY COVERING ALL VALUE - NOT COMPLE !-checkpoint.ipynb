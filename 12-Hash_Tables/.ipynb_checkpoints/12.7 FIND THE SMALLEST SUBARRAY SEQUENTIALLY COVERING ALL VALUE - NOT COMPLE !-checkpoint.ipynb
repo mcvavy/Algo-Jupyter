{
 "cells": [
  {
   "cell_type": "markdown",
   "metadata": {},
   "source": [
    "> **Write a program that takes two arrays of strings, and return the indices of the starting and ending index of a shortest subarray of the first array (the \"paragraph\" array) that \"sequentially covers\", i.e., contains all the strings in the second array (the \"keywords\" array), in the order in which they appear in the keywords array. You can assume all keywords are distinct. For example, let the paragraph array be (apple,banana,cat,apple), and the keywords array be (banana,apple). The paragraph subarray starting at index 0 and ending at index 1 does not fulfill the specification, even though it contains all the keywords, since they do not appear in the specified order. On the other hand, the subarray starting at index 1 and ending at index 3 does fulfill the specification.**\n",
    "\n",
    "_Hint: For each index in the paragraph array, compute the shortest subarray ending at that index which fulfills the specification._"
   ]
  },
  {
   "cell_type": "code",
   "execution_count": 1,
   "metadata": {
    "code_folding": []
   },
   "outputs": [],
   "source": [
    "import collections\n",
    "from typing import List\n",
    "\n",
    "Subarray = collections.namedtuple('Subarray', ('start', 'end'))\n",
    "\n",
    "\n",
    "def find_smallest_sequentially_covering_subset(paragraph: List[str],\n",
    "                                               keywords: List[str]\n",
    "                                               ) -> Subarray:\n",
    "    # TODO - you fill in here.\n",
    "    return Subarray(0, 0)\n",
    "\n",
    "p = [\"apple\", \"banana\", \"apple\", \"apple\", \"dog\", \"apple\", \"apple\", \"cat\", \"apple\", \"dog\", \"banana\", \"apple\", \"cat\", \"dog\"]\n",
    "print(find_shortest_sub_array(p))"
   ]
  }
 ],
 "metadata": {
  "kernelspec": {
   "display_name": "Python 3",
   "language": "python",
   "name": "python3"
  },
  "language_info": {
   "codemirror_mode": {
    "name": "ipython",
    "version": 3
   },
   "file_extension": ".py",
   "mimetype": "text/x-python",
   "name": "python",
   "nbconvert_exporter": "python",
   "pygments_lexer": "ipython3",
   "version": "3.8.3"
  }
 },
 "nbformat": 4,
 "nbformat_minor": 4
}
