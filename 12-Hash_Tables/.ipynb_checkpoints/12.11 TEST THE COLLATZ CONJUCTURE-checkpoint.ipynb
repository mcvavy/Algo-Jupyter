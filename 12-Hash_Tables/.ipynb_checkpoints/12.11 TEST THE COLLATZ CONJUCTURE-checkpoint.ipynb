{
 "cells": [
  {
   "cell_type": "markdown",
   "metadata": {},
   "source": [
    "> **Test the Collatz conjecture for the first n positive integers.**\n",
    "\n",
    "_Hint: How would you efficiently check the conjecture for n assuming it holds for all $m < n$?_"
   ]
  },
  {
   "cell_type": "code",
   "execution_count": 1,
   "metadata": {},
   "outputs": [],
   "source": [
    "def test_collatz_conjecture(n: int) -> bool:\n",
    "    verified_numbers = set()\n",
    "    \n",
    "    for i in range(3, n + 1):\n",
    "        sequence = set()\n",
    "        \n",
    "        test_i = i\n",
    "        \n",
    "        while test_i <= i\n",
    "            if test_i in sequence:\n",
    "                return False\n",
    "            sequence.add(test_i)\n",
    "            \n",
    "            if test_it % 2:\n",
    "                if test_i in verified_numbers:\n",
    "                    break\n",
    "                verified_numbers.add(test_i)\n",
    "                test_i = 3 * test_i + 1\n",
    "            else:\n",
    "                test_it //= 2\n",
    "        return True\n",
    "            "
   ]
  }
 ],
 "metadata": {
  "kernelspec": {
   "display_name": "Python 3",
   "language": "python",
   "name": "python3"
  },
  "language_info": {
   "codemirror_mode": {
    "name": "ipython",
    "version": 3
   },
   "file_extension": ".py",
   "mimetype": "text/x-python",
   "name": "python",
   "nbconvert_exporter": "python",
   "pygments_lexer": "ipython3",
   "version": "3.8.3"
  }
 },
 "nbformat": 4,
 "nbformat_minor": 4
}
