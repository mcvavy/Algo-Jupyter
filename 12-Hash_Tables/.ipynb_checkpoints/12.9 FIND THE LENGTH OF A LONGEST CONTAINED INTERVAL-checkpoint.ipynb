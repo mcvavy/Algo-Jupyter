{
 "cells": [
  {
   "cell_type": "markdown",
   "metadata": {},
   "source": [
    "> **Write a program which takes as input a set of integers represented by an array, and returns the size of a largest subset of integers in the array having the property that if two integers are in the subset, then so are all integers between them. For example, if the input is (3,-2,7,9,8,1,2,0,-1,5,8), the largest such subset is {-2,-1,0,1,2,3}, so you should return 6.**\n",
    "\n",
    "_Hint: Do you really need a total ordering on the input?_"
   ]
  },
  {
   "cell_type": "code",
   "execution_count": 21,
   "metadata": {},
   "outputs": [
    {
     "data": {
      "text/plain": [
       "[0, 9]"
      ]
     },
     "execution_count": 21,
     "metadata": {},
     "output_type": "execute_result"
    }
   ],
   "source": [
    "from typing import List\n",
    "\n",
    "def longest_contained_range(A: List[int]) -> int:\n",
    "    distinct_elemts = set(A)\n",
    "    max_length = 0\n",
    "    while distinct_elemts:\n",
    "        val = distinct_elemts.pop()\n",
    "        \n",
    "        lower_bound = val - 1\n",
    "        while lower_bound in distinct_elemts:\n",
    "            distinct_elemts.remove(lower_bound)\n",
    "            lower_bound -= 1\n",
    "        \n",
    "        upper_bound = val + 1\n",
    "        while upper_bound in distinct_elemts:\n",
    "            distinct_elemts.remove(upper_bound)\n",
    "            upper_bound += 1\n",
    "        \n",
    "        max_length = max(max_length, upper_bound - lower_bound - 1)\n",
    "    return max_length"
   ]
  }
 ],
 "metadata": {
  "kernelspec": {
   "display_name": "Python 3",
   "language": "python",
   "name": "python3"
  },
  "language_info": {
   "codemirror_mode": {
    "name": "ipython",
    "version": 3
   },
   "file_extension": ".py",
   "mimetype": "text/x-python",
   "name": "python",
   "nbconvert_exporter": "python",
   "pygments_lexer": "ipython3",
   "version": "3.8.3"
  }
 },
 "nbformat": 4,
 "nbformat_minor": 4
}
