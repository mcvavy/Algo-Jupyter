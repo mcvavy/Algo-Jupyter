{
 "cells": [
  {
   "cell_type": "markdown",
   "metadata": {},
   "source": [
    "> **Write a program that takes an array and returns the length of a longest subarray with the property that all its elements are distinct. For example,if the array is (f,s,f,e,t,w,e,n,w,e) then a longest subarray all of whose elements are distinct is (s,f,e,t,w).**\n",
    "\n",
    "_Hint: What should you do if the subarray from indices i to j satisfies the property, but the subarray from i to j + 1 does not?_\n",
    "\n",
    " - [Explanation](https://www.youtube.com/watch?v=AoWiiN_bwv4&ab_channel=thecodingworld)"
   ]
  },
  {
   "cell_type": "code",
   "execution_count": 37,
   "metadata": {},
   "outputs": [
    {
     "data": {
      "text/plain": [
       "5"
      ]
     },
     "execution_count": 37,
     "metadata": {},
     "output_type": "execute_result"
    }
   ],
   "source": [
    "from typing import List\n",
    "from collections import Counter\n",
    "\n",
    "#Time complexity: O(n)\n",
    "def longest_subarray_with_distinct_entries(A: List[str]) -> int:\n",
    "    seen = {}\n",
    "    max_length = start = 0\n",
    "    \n",
    "    for i, e in enumerate(A):\n",
    "        if e in seen and start <= seen[e]:\n",
    "            start = seen[e] + 1\n",
    "        else:\n",
    "            max_length = max(max_length, i - start + 1)\n",
    "        seen[e] = i\n",
    "    return max_length\n",
    "longest_subarray_with_distinct_entries([\"f\",\"s\",\"f\",\"e\",\"t\",\"w\",\"e\",\"n\",\"w\",\"e\"])"
   ]
  }
 ],
 "metadata": {
  "kernelspec": {
   "display_name": "Python 3",
   "language": "python",
   "name": "python3"
  },
  "language_info": {
   "codemirror_mode": {
    "name": "ipython",
    "version": 3
   },
   "file_extension": ".py",
   "mimetype": "text/x-python",
   "name": "python",
   "nbconvert_exporter": "python",
   "pygments_lexer": "ipython3",
   "version": "3.8.3"
  }
 },
 "nbformat": 4,
 "nbformat_minor": 4
}
