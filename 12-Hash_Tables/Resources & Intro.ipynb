{
 "cells": [
  {
   "cell_type": "markdown",
   "metadata": {},
   "source": [
    "> **write a program that takes as input a set of words and retums groups of anagrams for those words. Each group must contain at least two words**   \n",
    "For example, if the input is \"debitcard\", \"elvis\", \"silent\", \"badcredit\", \"lives\", \"freedom\", \"listen\", \"levis\", \"money\" then there are three groups of anagrams: (1.) \"debitcatd\", \"badcredit\"; (2.) \" elvis\" , \"lives\" , \"levis\"; (3.) \"silent\", \"listen\". (Note that \"money\" does not appear in any group, since it has no anagrams in the set.)\n"
   ]
  },
  {
   "cell_type": "code",
   "execution_count": 31,
   "metadata": {},
   "outputs": [
    {
     "data": {
      "text/plain": [
       "[['debitcard', 'badcredit'], ['elvis', 'lives', 'levis'], ['silent', 'listen']]"
      ]
     },
     "execution_count": 31,
     "metadata": {},
     "output_type": "execute_result"
    }
   ],
   "source": [
    "from collections import defaultdict\n",
    "\n",
    "#Time complexity: O(nmlogm)\n",
    "def find_anagrams (dictionary):\n",
    "    sorted_string_to_anagrams = defaultdict(list)\n",
    "    for s in dictionary: \n",
    "        # Sorts the string, uses it as a key, and then appends tle original \n",
    "        # string as another value into hash table. \n",
    "        sorted_string_to_anagrams[\"\".join(sorted(s)) ].append(s) \n",
    "    return [ group for group in sorted_string_to_anagrams.values() if len(group) >= 2 ]\n",
    "\n",
    "find_anagrams([\"debitcard\", \"elvis\", \"silent\", \"badcredit\", \"lives\", \"freedom\", \"listen\", \"levis\", \"money\"])\n"
   ]
  }
 ],
 "metadata": {
  "kernelspec": {
   "display_name": "Python 3",
   "language": "python",
   "name": "python3"
  },
  "language_info": {
   "codemirror_mode": {
    "name": "ipython",
    "version": 3
   },
   "file_extension": ".py",
   "mimetype": "text/x-python",
   "name": "python",
   "nbconvert_exporter": "python",
   "pygments_lexer": "ipython3",
   "version": "3.8.3"
  }
 },
 "nbformat": 4,
 "nbformat_minor": 4
}
