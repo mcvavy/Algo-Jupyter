{
 "cells": [
  {
   "cell_type": "markdown",
   "metadata": {},
   "source": [
    "> **Write a program that takes two arrays of strings, and return the indices of the starting and ending index of a shortest subarray of the first array (the \"paragraph\" array) that \"sequentially covers\", i.e., contains all the strings in the second array (the \"keywords\" array), in the order in which they appear in the keywords array. You can assume all keywords are distinct. For example, let the paragraph array be (apple,banana,cat,apple), and the keywords array be (banana,apple). The paragraph subarray starting at index 0 and ending at index 1 does not fulfill the specification, even though it contains all the keywords, since they do not appear in the specified order. On the other hand, the subarray starting at index 1 and ending at index 3 does fulfill the specification.**\n",
    "\n",
    "_Hint: For each index in the paragraph array, compute the shortest subarray ending at that index which fulfills the specification._"
   ]
  },
  {
   "cell_type": "code",
   "execution_count": 10,
   "metadata": {},
   "outputs": [
    {
     "name": "stdout",
     "output_type": "stream",
     "text": [
      "Subarray(start=12, end=13)\n"
     ]
    }
   ],
   "source": [
    "from collections import Counter, namedtuple\n",
    "from typing import List\n",
    "\n",
    "Subarray = namedtuple('Subarray', ('start', 'end'))\n",
    "\n",
    "\n",
    "def find_smallest_sequentially_covering_subset(paragraph: List[str],keywords: List[str]) -> Subarray:\n",
    "    # Maps each keyword to its index in the keywords array.\n",
    "    keyword_to_idx = {k: i for i, k in enumerate(keywords)}\n",
    "\n",
    "    # Since keywords are uniquely identified by their indices in keywords\n",
    "    # array, we can use those indices as keys to lookup in an array.\n",
    "    latest_occurrence = [-1] * len(keywords)\n",
    "    # For each keyword (identified by its index in keywords array), the length\n",
    "    # of the shortest subarray ending at the most recent occurrence of that\n",
    "    # keyword that sequentially cover all keywords up to that keyword.\n",
    "    shortest_subarray_length = [float('inf')] * len(keywords)\n",
    "\n",
    "    shortest_distance = float('inf')\n",
    "    result = Subarray(-1, -1)\n",
    "    for i, p in enumerate(paragraph):\n",
    "        if p in keyword_to_idx:\n",
    "            keyword_idx = keyword_to_idx[p]\n",
    "            if keyword_idx == 0:  # First keyword.\n",
    "                shortest_subarray_length[keyword_idx] = 1\n",
    "            elif shortest_subarray_length[keyword_idx - 1] != float('inf'):\n",
    "                distance_to_previous_keyword = (i - latest_occurrence[keyword_idx - 1])\n",
    "                shortest_subarray_length[keyword_idx] = (distance_to_previous_keyword +\n",
    "                    shortest_subarray_length[keyword_idx - 1])\n",
    "            latest_occurrence[keyword_idx] = i\n",
    "\n",
    "            # Last keyword, for improved subarray.\n",
    "            if (keyword_idx == len(keywords) - 1\n",
    "                    and shortest_subarray_length[-1] < shortest_distance):\n",
    "                shortest_distance = shortest_subarray_length[-1]\n",
    "                result = Subarray(i - shortest_distance + 1, i)\n",
    "    return result\n",
    "        \n",
    "\n",
    "p = [\"apple\", \"banana\", \"apple\", \"apple\", \"dog\", \"apple\", \"apple\", \"cat\", \"apple\", \n",
    "     \"dog\", \"banana\", \"apple\", \"cat\", \"dog\"]\n",
    "k = [\"cat\", \"dog\"]\n",
    "print(find_smallest_sequentially_covering_subset(p, k))"
   ]
  },
  {
   "cell_type": "code",
   "execution_count": null,
   "metadata": {},
   "outputs": [],
   "source": []
  },
  {
   "cell_type": "code",
   "execution_count": 9,
   "metadata": {
    "code_folding": []
   },
   "outputs": [
    {
     "name": "stdout",
     "output_type": "stream",
     "text": [
      "(7, 9)\n"
     ]
    }
   ],
   "source": [
    "from collections import Counter, namedtuple\n",
    "from typing import List\n",
    "\n",
    "Subarray = namedtuple('Subarray', ('start', 'end'))\n",
    "\n",
    "\n",
    "def find_smallest_sequentially_covering_subset(paragraph: List[str],keywords: List[str]) -> Subarray:\n",
    "    pos = Subarray(-1, -1)\n",
    "    \n",
    "    left, right = 0, 0\n",
    "    pattern = Counter(keywords)\n",
    "    seen = Counter()\n",
    "    while right < len(paragraph):\n",
    "        seen.update({paragraph[right]})\n",
    "        if pattern - seen == Counter():\n",
    "            if paragraph[left] == keywords[0]:\n",
    "                if pos == (-1, -1) or (right - left) < pos[1] - pos[0]:\n",
    "                    pos = (left, right)\n",
    "                    seen.clear()\n",
    "            while paragraph[left] != keywords[0] and left <= right:\n",
    "#                 if pos == (-1, -1) or (right - left) < pos[1] - pos[0]:\n",
    "#                     pos = (left, right)\n",
    "                prev = left\n",
    "                seen[paragraph[prev]] -= 1\n",
    "                if seen[paragraph[prev]] == 0:\n",
    "                    seen.pop(paragraph[prev])\n",
    "                left += 1\n",
    "        right += 1\n",
    "    \n",
    "    return pos\n",
    "        \n",
    "\n",
    "p = [\"apple\", \"banana\", \"apple\", \"apple\", \"dog\", \"apple\", \"apple\", \"cat\", \"apple\", \"dog\", \"banana\", \"apple\", \"cat\", \"dog\"]\n",
    "k = [\"cat\", \"dog\"]\n",
    "print(find_smallest_sequentially_covering_subset(p, k))"
   ]
  }
 ],
 "metadata": {
  "kernelspec": {
   "display_name": "Python 3",
   "language": "python",
   "name": "python3"
  },
  "language_info": {
   "codemirror_mode": {
    "name": "ipython",
    "version": 3
   },
   "file_extension": ".py",
   "mimetype": "text/x-python",
   "name": "python",
   "nbconvert_exporter": "python",
   "pygments_lexer": "ipython3",
   "version": "3.8.3"
  }
 },
 "nbformat": 4,
 "nbformat_minor": 4
}
