{
 "cells": [
  {
   "cell_type": "markdown",
   "metadata": {},
   "source": [
    "> **Write a program which takes as input an array and finds the distance between a closest pair of equal entries. For example, if s = [\"All\", \"wotk\", \"and\", \"no\", \"play\", \"makes\", \"for\", \"no\", \"work\", \"no\", \"fun\",\"and\", \"no\" \"results\"], then the second and third occurrences of \"no\" is the closest Pair.**\n",
    "\n",
    "_Hint: Each entry in the array is a candidate._\n"
   ]
  },
  {
   "cell_type": "code",
   "execution_count": 1,
   "metadata": {},
   "outputs": [],
   "source": [
    "from typing import List\n",
    "\n",
    "#TC: O(n)  | SC: O(d), number of distinct entries in the array\n",
    "def find_nearest_repetition(paragraph: List[str]) -> int:\n",
    "    word_to_latest_index, nearest_repeated_distance = {}, float(\"inf\")\n",
    "    \n",
    "    for i, word in enumerate(paragraph):\n",
    "        if word in word_to_latest_index:\n",
    "            latest_eq_word = word_to_latest_index[word]\n",
    "            nearest_repeated_distance = min(nearest_repeated_distance, i - latest_eq_word)\n",
    "            \n",
    "        word_to_latest_index[word] = i\n",
    "    return nearest_repeated_distance if nearest_repeated_distance != float(\"inf\") else -1\n",
    "            \n",
    "    "
   ]
  }
 ],
 "metadata": {
  "kernelspec": {
   "display_name": "Python 3",
   "language": "python",
   "name": "python3"
  },
  "language_info": {
   "codemirror_mode": {
    "name": "ipython",
    "version": 3
   },
   "file_extension": ".py",
   "mimetype": "text/x-python",
   "name": "python",
   "nbconvert_exporter": "python",
   "pygments_lexer": "ipython3",
   "version": "3.8.3"
  }
 },
 "nbformat": 4,
 "nbformat_minor": 4
}
