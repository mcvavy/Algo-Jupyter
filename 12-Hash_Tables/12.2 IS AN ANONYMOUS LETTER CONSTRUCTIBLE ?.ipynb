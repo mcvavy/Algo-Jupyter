{
 "cells": [
  {
   "cell_type": "markdown",
   "metadata": {},
   "source": [
    "> **Write a program which takes text for an anonymous letter and text for a magazine and determines if it is possible to write the anonymous letter using the magazine. The anonymous letter can be written using the magazine if for each character in the anonymous letter, the number of times it appears in the anonymous letter is no more than the number of times it appears in the magazine.**\n",
    "\n",
    "_Hint: Count the number of distinct characters appearing in the letter._\n"
   ]
  },
  {
   "cell_type": "code",
   "execution_count": 19,
   "metadata": {},
   "outputs": [
    {
     "data": {
      "text/plain": [
       "True"
      ]
     },
     "execution_count": 19,
     "metadata": {},
     "output_type": "execute_result"
    }
   ],
   "source": [
    "from collections import Counter\n",
    "\n",
    "def is_letter_constructible_from_magazine(letter_text: str,\n",
    "                                          magazine_text: str) -> bool:\n",
    "    \n",
    "    return not Counter(letter_text) - Counter(magazine_text)\n",
    "is_letter_constructible_from_magazine(\"123\", \"1123\")"
   ]
  },
  {
   "cell_type": "code",
   "execution_count": null,
   "metadata": {},
   "outputs": [],
   "source": []
  },
  {
   "cell_type": "code",
   "execution_count": 20,
   "metadata": {},
   "outputs": [
    {
     "data": {
      "text/plain": [
       "True"
      ]
     },
     "execution_count": 20,
     "metadata": {},
     "output_type": "execute_result"
    }
   ],
   "source": [
    "from collections import Counter\n",
    "\n",
    "# Time complexity: O(m + n)\n",
    "def is_letter_constructible_from_magazine(letter_text: str,\n",
    "                                          magazine_text: str) -> bool:\n",
    "    char_freq_letter = Counter(letter_text)\n",
    "    \n",
    "    for c in magazine_text:\n",
    "        if c in char_freq_letter:\n",
    "            char_freq_letter[c] -= 1\n",
    "            if char_freq_letter[c] == 0:\n",
    "                del char_freq_letter[c]\n",
    "                if not char_freq_letter:\n",
    "                    return True\n",
    "    return not char_freq_letter\n",
    "is_letter_constructible_from_magazine(\"123\", \"1123\")"
   ]
  }
 ],
 "metadata": {
  "kernelspec": {
   "display_name": "Python 3",
   "language": "python",
   "name": "python3"
  },
  "language_info": {
   "codemirror_mode": {
    "name": "ipython",
    "version": 3
   },
   "file_extension": ".py",
   "mimetype": "text/x-python",
   "name": "python",
   "nbconvert_exporter": "python",
   "pygments_lexer": "ipython3",
   "version": "3.8.3"
  }
 },
 "nbformat": 4,
 "nbformat_minor": 4
}
