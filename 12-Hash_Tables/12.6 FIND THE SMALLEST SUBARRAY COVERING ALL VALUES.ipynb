{
 "cells": [
  {
   "cell_type": "markdown",
   "metadata": {},
   "source": [
    "> **Write a program which takes an array of strings and a set of strings, and return the indices of the starting and ending index of a shortest subarray of the given array that \"covers\" the set, i.e., contains all strings in the set.**\n",
    "\n",
    "_Hint: What is the maximum number of minimal subarrays that can cover the query?_\n",
    "\n",
    "   - [Solution Walkthrough](https://www.youtube.com/watch?v=b9OgfHDFNlo&ab_channel=InvolveInInnovation)\n",
    "   \n",
    "   - [76. Minimum Window Substring](https://leetcode.com/problems/minimum-window-substring/)"
   ]
  },
  {
   "cell_type": "code",
   "execution_count": 42,
   "metadata": {
    "code_folding": []
   },
   "outputs": [
    {
     "name": "stdout",
     "output_type": "stream",
     "text": [
      "(8, 10)\n"
     ]
    }
   ],
   "source": [
    "from typing import List, Set\n",
    "from collections import Counter, namedtuple\n",
    "\n",
    "Subarray = namedtuple('Subarray', ('start', 'end'))\n",
    "\n",
    "# Time complexity: O(n)  | Space complexity: O(k), k for distinct words\n",
    "def find_smallest_subarray_covering_set(paragraph: List[str],\n",
    "                                        keywords: Set[str]) -> Subarray:\n",
    "    res = Subarray(-1, -1)\n",
    "    \n",
    "    kwords = Counter(keywords)\n",
    "    seen_words = Counter()\n",
    "    left = 0\n",
    "    for right,p in enumerate(paragraph):\n",
    "        seen_words.update({p})\n",
    "        if kwords - seen_words == Counter():\n",
    "            while kwords - seen_words == Counter():\n",
    "                if res == (-1, -1) or (right - left) < res[1] - res[0]:\n",
    "                    res = (left, right)\n",
    "                prev_left = left\n",
    "                seen_words[paragraph[prev_left]] -= 1\n",
    "                if seen_words[paragraph[prev_left]] == 0:\n",
    "                    seen_words.pop(paragraph[prev_left])\n",
    "                left += 1\n",
    "    return res\n",
    "\n",
    "p = [\"apple\", \"banana\", \"apple\", \"apple\", \"dog\", \"cat\", \"apple\", \"dog\", \"banana\", \"apple\", \"cat\", \"dog\"]\n",
    "s = [\"banana\",\"cat\"]\n",
    "print(find_smallest_subarray_covering_set(p,s))"
   ]
  },
  {
   "cell_type": "code",
   "execution_count": null,
   "metadata": {},
   "outputs": [],
   "source": []
  },
  {
   "cell_type": "code",
   "execution_count": 52,
   "metadata": {},
   "outputs": [
    {
     "name": "stdout",
     "output_type": "stream",
     "text": [
      "Counter()\n"
     ]
    }
   ],
   "source": [
    "from typing import List\n",
    "from collections import Counter, namedtuple\n",
    "print(Counter(set(\"MMiichael\")) - Counter(\"Michael\"))"
   ]
  },
  {
   "cell_type": "code",
   "execution_count": null,
   "metadata": {},
   "outputs": [],
   "source": []
  },
  {
   "cell_type": "markdown",
   "metadata": {},
   "source": [
    "> **Variant: Given an array A, find a shortest subarray A[i, j] such that each distinct value present in A is also present in the subarray.**"
   ]
  },
  {
   "cell_type": "code",
   "execution_count": 59,
   "metadata": {},
   "outputs": [
    {
     "name": "stdout",
     "output_type": "stream",
     "text": [
      "(7, 10)\n"
     ]
    }
   ],
   "source": [
    "from typing import List, Set\n",
    "from collections import Counter, namedtuple\n",
    "\n",
    "Subarray = namedtuple('Subarray', ('start', 'end'))\n",
    "\n",
    "def find_shortest_sub_array(paragraph: List[str]) -> List[int]:\n",
    "    res = Subarray(-1, -1)\n",
    "    \n",
    "    word_frquency = Counter(set(paragraph))\n",
    "    \n",
    "    seen_words = Counter()\n",
    "    left = 0\n",
    "    for right,p in enumerate(paragraph):\n",
    "        seen_words.update({p})\n",
    "        if word_frquency - seen_words == Counter():\n",
    "            while word_frquency - seen_words == Counter():\n",
    "                prev_left = left\n",
    "                if res == (-1, -1) or (right - left) < res[1] - res[0]:\n",
    "                    res = (left, right)\n",
    "                seen_words[paragraph[prev_left]] -= 1\n",
    "                if seen_words[paragraph[prev_left]] == 0:\n",
    "                    seen_words.pop(paragraph[prev_left])\n",
    "                left += 1\n",
    "    return res\n",
    "\n",
    "p = [\"apple\", \"banana\", \"apple\", \"apple\", \"dog\", \"apple\", \"apple\", \"cat\", \"apple\", \"dog\", \"banana\", \"apple\", \"cat\", \"dog\"]\n",
    "print(find_shortest_sub_array(p))"
   ]
  },
  {
   "cell_type": "code",
   "execution_count": null,
   "metadata": {},
   "outputs": [],
   "source": []
  },
  {
   "cell_type": "code",
   "execution_count": null,
   "metadata": {},
   "outputs": [],
   "source": []
  },
  {
   "cell_type": "markdown",
   "metadata": {},
   "source": [
    "> **Variant: Given two strings s and t, return the minimum window in s which will contain all the characters in t. If there is no such window in s that covers all characters in t, return the empty string \"\".**   \n",
    "\n",
    "_Note that If there is such a window, it is guaranteed that there will always be only one unique minimum window in s_\n",
    "\n",
    "- [76. Minimum Window Substring](https://leetcode.com/problems/minimum-window-substring/)"
   ]
  },
  {
   "cell_type": "code",
   "execution_count": 63,
   "metadata": {},
   "outputs": [
    {
     "data": {
      "text/plain": [
       "'BANC'"
      ]
     },
     "execution_count": 63,
     "metadata": {},
     "output_type": "execute_result"
    }
   ],
   "source": [
    "from collections import Counter, namedtuple\n",
    "\n",
    "Position = namedtuple(\"Sub\", (\"start\", \"end\"))\n",
    "\n",
    "def minWindow(s: str, t: str) -> str:\n",
    "    pos = Position(-1, -1)\n",
    "\n",
    "    pattern = Counter(t)\n",
    "    seen = Counter()\n",
    "\n",
    "    left = 0\n",
    "    for right, c in enumerate(s):\n",
    "        seen.update(c)\n",
    "        if pattern - seen == Counter():\n",
    "            while pattern - seen == Counter():\n",
    "                prev = left\n",
    "                if pos == (-1, -1) or (right - left) < pos[1] - pos[0]:\n",
    "                    pos = (left, right)\n",
    "                seen[s[prev]] -= 1\n",
    "                if seen[s[prev]] == 0:\n",
    "                    seen.pop(s[prev])\n",
    "                left += 1\n",
    "\n",
    "    return \"\".join(s[pos[0] : pos[1] + 1])\n",
    "\n",
    "minWindow(\"ADOBECODEBANC\", \"ABC\")"
   ]
  }
 ],
 "metadata": {
  "kernelspec": {
   "display_name": "Python 3",
   "language": "python",
   "name": "python3"
  },
  "language_info": {
   "codemirror_mode": {
    "name": "ipython",
    "version": 3
   },
   "file_extension": ".py",
   "mimetype": "text/x-python",
   "name": "python",
   "nbconvert_exporter": "python",
   "pygments_lexer": "ipython3",
   "version": "3.8.3"
  }
 },
 "nbformat": 4,
 "nbformat_minor": 4
}
