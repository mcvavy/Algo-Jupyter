{
 "cells": [
  {
   "attachments": {},
   "cell_type": "markdown",
   "metadata": {},
   "source": [
    "> **Write a program which takes as input an array of distinct integers and generates all permutations of that array. No permutation of the array may appear more than once.**  \n",
    "\n",
    "_Hint: How many possible values are there for the first element?_"
   ]
  },
  {
   "cell_type": "code",
   "execution_count": 8,
   "metadata": {},
   "outputs": [
    {
     "data": {
      "text/plain": [
       "[]"
      ]
     },
     "execution_count": 8,
     "metadata": {},
     "output_type": "execute_result"
    }
   ],
   "source": [
    "from typing import List\n",
    "\n",
    "def permutations(A: List[int]) -> List[List[int]]:\n",
    "    result = []\n",
    "    def permutate(arr, i):\n",
    "        if len(arr) >= 1:\n",
    "            return arr\n",
    "        temp = arr.copy()\n",
    "        t = [temp.pop(i)]\n",
    "        \n",
    "        t.append(permutate(temp))\n",
    "        \n",
    "        result.append(t)\n",
    "        \n",
    "    \n",
    "    for i,e in enumerate(A):\n",
    "        permutate(A, i)\n",
    "    return result\n",
    "permutations([1,2,3])"
   ]
  }
 ],
 "metadata": {
  "kernelspec": {
   "display_name": "Python 3",
   "language": "python",
   "name": "python3"
  },
  "language_info": {
   "codemirror_mode": {
    "name": "ipython",
    "version": 3
   },
   "file_extension": ".py",
   "mimetype": "text/x-python",
   "name": "python",
   "nbconvert_exporter": "python",
   "pygments_lexer": "ipython3",
   "version": "3.8.3"
  }
 },
 "nbformat": 4,
 "nbformat_minor": 4
}
