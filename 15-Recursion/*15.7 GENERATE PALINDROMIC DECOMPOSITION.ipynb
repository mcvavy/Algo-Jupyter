{
 "cells": [
  {
   "cell_type": "markdown",
   "metadata": {},
   "source": [
    "> **Compute all palindromic decompositions of a given string. For example, if the string is \"0204451881.\", then the decomposition \"020\", \"44\" , \"5\", \"1881\" is palindromic, as is \"020', 44, \"5\" , \"1\" , \"88\" , \"1', However, '02044, \"5\", \"1881\" is not a palindromic decomposition.**  \n",
    "\n",
    "_Hint: Focrts on the first palindromic string in a palindromic decomposition._\n",
    "\n",
    "- [Nice video](https://www.youtube.com/watch?v=DpJG075dSHA&ab_channel=CodingWithPrince)\n",
    "- [Video Explanation](https://www.youtube.com/watch?v=4ykBXGbonlA&ab_channel=BackToBackSWE)"
   ]
  },
  {
   "cell_type": "code",
   "execution_count": 45,
   "metadata": {},
   "outputs": [
    {
     "data": {
      "text/plain": [
       "[[['0', '2', '0', '4', '4', '5', '1', '8', '8', '1']],\n",
       " [['0', '2', '0', '4', '4', '5', '1', '88', '1']],\n",
       " [['0', '2', '0', '4', '4', '5', '1881']],\n",
       " [['0', '2', '0', '44', '5', '1', '8', '8', '1']],\n",
       " [['0', '2', '0', '44', '5', '1', '88', '1']],\n",
       " [['0', '2', '0', '44', '5', '1881']],\n",
       " [['020', '4', '4', '5', '1', '8', '8', '1']],\n",
       " [['020', '4', '4', '5', '1', '88', '1']],\n",
       " [['020', '4', '4', '5', '1881']],\n",
       " [['020', '44', '5', '1', '8', '8', '1']],\n",
       " [['020', '44', '5', '1', '88', '1']],\n",
       " [['020', '44', '5', '1881']]]"
      ]
     },
     "execution_count": 45,
     "metadata": {},
     "output_type": "execute_result"
    }
   ],
   "source": [
    "from typing import List\n",
    "\n",
    "# Time complexity: O(n x 2^N)\n",
    "def palindrome_decompositions(text: str) -> List[List[str]]:\n",
    "    def generate(text, result, curr, start):\n",
    "        if start == len(text):\n",
    "            result.append([curr])\n",
    "            return\n",
    "        for i in range(start,len(text)):\n",
    "            if text[start: i + 1] == text[start: i + 1][::-1]:\n",
    "                generate(text, result, curr + [text[start: i + 1]], i + 1)\n",
    "    \n",
    "    result = []\n",
    "    generate(text, result, [], 0)\n",
    "    return result\n",
    "palindrome_decompositions(\"0204451881\")"
   ]
  },
  {
   "cell_type": "code",
   "execution_count": null,
   "metadata": {},
   "outputs": [],
   "source": []
  },
  {
   "cell_type": "code",
   "execution_count": 50,
   "metadata": {},
   "outputs": [
    {
     "data": {
      "text/plain": [
       "'a'"
      ]
     },
     "execution_count": 50,
     "metadata": {},
     "output_type": "execute_result"
    }
   ],
   "source": [
    "import string\n",
    "l = string.ascii_lowercase\n",
    "l[0]"
   ]
  },
  {
   "cell_type": "code",
   "execution_count": 52,
   "metadata": {},
   "outputs": [
    {
     "data": {
      "text/plain": [
       "'jkl'"
      ]
     },
     "execution_count": 52,
     "metadata": {},
     "output_type": "execute_result"
    }
   ],
   "source": [
    "dd = (\"0\", \"1\", \"abc\", \"def\", \"ghi\", \"jkl\", \"mno\", \"pqrs\", \"tuv\", \"wxyz\")\n",
    "dd[5]\n",
    "\n",
    "    "
   ]
  }
 ],
 "metadata": {
  "kernelspec": {
   "display_name": "Python 3",
   "language": "python",
   "name": "python3"
  },
  "language_info": {
   "codemirror_mode": {
    "name": "ipython",
    "version": 3
   },
   "file_extension": ".py",
   "mimetype": "text/x-python",
   "name": "python",
   "nbconvert_exporter": "python",
   "pygments_lexer": "ipython3",
   "version": "3.8.3"
  }
 },
 "nbformat": 4,
 "nbformat_minor": 4
}
