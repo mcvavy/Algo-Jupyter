{
 "cells": [
  {
   "attachments": {},
   "cell_type": "markdown",
   "metadata": {},
   "source": [
    "> **Write a program which computes all size k subsets of {1,2,...,n}, where k and n are program inputs. For example, if k = 2 and n = 5, then the result is the following: {{1, 2}, {1, 3}, {1, 4}, {1, 5}, {2, 3}, {2, 4}, {2, 5}, {3, 4}, {3, 5}, {4, 5}}**  \n",
    "\n",
    "_Hint: Think of the right function signature._"
   ]
  },
  {
   "cell_type": "code",
   "execution_count": 9,
   "metadata": {},
   "outputs": [
    {
     "data": {
      "text/plain": [
       "[[1, 2], [1, 3], [1, 4], [2, 3], [2, 4], [3, 4]]"
      ]
     },
     "execution_count": 9,
     "metadata": {},
     "output_type": "execute_result"
    }
   ],
   "source": [
    "from typing import List\n",
    "\n",
    "def combinations(n: int, k: int) -> List[List[int]]:\n",
    "    def directed_combinations(offset, partial_combination):\n",
    "        if len(partial_combination) == k:\n",
    "            result.append(list(partial_combination))\n",
    "            return\n",
    "        \n",
    "        num_remaining = k - len(partial_combination)\n",
    "        i = offset\n",
    "        \n",
    "        while i <= n and num_remaining <= n - i + 1:\n",
    "            directed_combinations(i + 1, partial_combination + [i])\n",
    "            i += 1\n",
    "            \n",
    "    result = []\n",
    "    directed_combinations(1, [])\n",
    "    return result\n",
    "combinations(4, 2)"
   ]
  }
 ],
 "metadata": {
  "kernelspec": {
   "display_name": "Python 3",
   "language": "python",
   "name": "python3"
  },
  "language_info": {
   "codemirror_mode": {
    "name": "ipython",
    "version": 3
   },
   "file_extension": ".py",
   "mimetype": "text/x-python",
   "name": "python",
   "nbconvert_exporter": "python",
   "pygments_lexer": "ipython3",
   "version": "3.8.3"
  }
 },
 "nbformat": 4,
 "nbformat_minor": 4
}
