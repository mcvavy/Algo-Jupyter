{
 "cells": [
  {
   "cell_type": "markdown",
   "metadata": {},
   "source": [
    "> **Compute all palindromic decompositions of a given string. For example, if the string is \"0204451881.\", then the decomposition \"020\", \"44\" , \"5\", \"1881\" is palindromic, as is \"020', 44, \"5\" , \"1\" , \"88\" , \"1', However, '02044, \"5\", \"1881\" is not a palindromic decomposition.**  \n",
    "\n",
    "_Hint: Focrts on the first palindromic string in a palindromic decomposition._\n",
    "\n",
    "- [Nice video](https://www.youtube.com/watch?v=DpJG075dSHA&ab_channel=CodingWithPrince)\n",
    "- [Video Explanation](https://www.youtube.com/watch?v=4ykBXGbonlA&ab_channel=BackToBackSWE)"
   ]
  },
  {
   "cell_type": "code",
   "execution_count": 44,
   "metadata": {},
   "outputs": [
    {
     "data": {
      "text/plain": [
       "[[['a', 'a', 'b']], [['aa', 'b']]]"
      ]
     },
     "execution_count": 44,
     "metadata": {},
     "output_type": "execute_result"
    }
   ],
   "source": [
    "from typing import List\n",
    "\n",
    "# Time complexity: O(n x 2^N)\n",
    "def palindrome_decompositions(text: str) -> List[List[str]]:\n",
    "    def generate(text, result, curr, start):\n",
    "        if start == len(text):\n",
    "            result.append([curr])\n",
    "            return\n",
    "        for i in range(start,len(text)):\n",
    "            if text[start: i + 1] == text[start: i + 1][::-1]:\n",
    "                generate(text, result, curr + [text[start: i + 1]], i + 1)\n",
    "    \n",
    "    result = []\n",
    "    generate(text, result, [], 0)\n",
    "    return result\n",
    "palindrome_decompositions(\"aab\")"
   ]
  },
  {
   "cell_type": "code",
   "execution_count": null,
   "metadata": {},
   "outputs": [],
   "source": []
  }
 ],
 "metadata": {
  "kernelspec": {
   "display_name": "Python 3",
   "language": "python",
   "name": "python3"
  },
  "language_info": {
   "codemirror_mode": {
    "name": "ipython",
    "version": 3
   },
   "file_extension": ".py",
   "mimetype": "text/x-python",
   "name": "python",
   "nbconvert_exporter": "python",
   "pygments_lexer": "ipython3",
   "version": "3.8.3"
  }
 },
 "nbformat": 4,
 "nbformat_minor": 4
}
