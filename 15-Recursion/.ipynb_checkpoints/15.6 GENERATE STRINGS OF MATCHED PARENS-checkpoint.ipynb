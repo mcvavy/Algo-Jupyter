{
 "cells": [
  {
   "cell_type": "markdown",
   "metadata": {},
   "source": [
    "> **Write a program that takes as input a number and returns all the strings with that number of matched pairs of parens.**  \n",
    "\n",
    "_Hint: Think about what the prefix of a string of matched parens must look like._\n",
    "\n",
    " - [Working Explanation](https://www.youtube.com/watch?v=N-3fyoKD8-k&ab_channel=jayatitiwari)"
   ]
  },
  {
   "cell_type": "code",
   "execution_count": 7,
   "metadata": {},
   "outputs": [
    {
     "data": {
      "text/plain": [
       "['(())', '()()']"
      ]
     },
     "execution_count": 7,
     "metadata": {},
     "output_type": "execute_result"
    }
   ],
   "source": [
    "from typing import List\n",
    "\n",
    "def generate_balanced_parentheses(num_pairs: int) -> List[str]:\n",
    "    def generate(result, s, o, c, n):\n",
    "        if len(s) == n * 2:\n",
    "            result.append(s)\n",
    "            return\n",
    "        if o < n:\n",
    "            generate(result, s + \"(\", o + 1, c, n)\n",
    "        \n",
    "        if c < o:\n",
    "            generate(result, s + \")\", o, c + 1, n)\n",
    "            \n",
    "    result = []\n",
    "    generate(result, \"\", 0, 0, num_pairs)\n",
    "    return result\n",
    "generate_balanced_parentheses(2)"
   ]
  }
 ],
 "metadata": {
  "kernelspec": {
   "display_name": "Python 3",
   "language": "python",
   "name": "python3"
  },
  "language_info": {
   "codemirror_mode": {
    "name": "ipython",
    "version": 3
   },
   "file_extension": ".py",
   "mimetype": "text/x-python",
   "name": "python",
   "nbconvert_exporter": "python",
   "pygments_lexer": "ipython3",
   "version": "3.8.3"
  }
 },
 "nbformat": 4,
 "nbformat_minor": 4
}
