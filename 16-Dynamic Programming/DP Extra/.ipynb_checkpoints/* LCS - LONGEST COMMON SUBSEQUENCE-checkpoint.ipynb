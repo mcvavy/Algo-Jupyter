{
 "cells": [
  {
   "cell_type": "markdown",
   "metadata": {},
   "source": [
    ">**Longest Common Subsequence**  \n",
    "\n",
    "\n",
    "- [Longest Common Subsequence](https://www.youtube.com/watch?v=PyGSxBbzG0Q&list=PLt4nG7RVVk1jcoLFb1gn0EylZ381IgrNq&index=6&ab_channel=CodingSimplified)\n",
    "- [Longest common subsequence](https://www.youtube.com/watch?v=LAKWWDX3sGw&list=PLEJXowNB4kPxBwaXtRO1qFLpCzF75DYrS&index=19&ab_channel=TECHDOSE)"
   ]
  },
  {
   "cell_type": "markdown",
   "metadata": {},
   "source": [
    "Solution using DP tabulation:\n",
    "\n",
    "    if m == 0 or n == 0:\n",
    "        return 0\n",
    "    else if S1[m - 1] == S2[n-1]:\n",
    "        return 1 + lcs(S1, S2, m-1, n-1)\n",
    "    else\n",
    "        return max(lcs(S1, S2, m - 1, n), lcs(S1, S2, m, n-1))"
   ]
  },
  {
   "cell_type": "code",
   "execution_count": 28,
   "metadata": {},
   "outputs": [
    {
     "name": "stderr",
     "output_type": "stream",
     "text": [
      "test_lcs_test1 (__main__.LCSTest) ... <ipython-input-28-30444b898478>:53: PendingDeprecationWarning: the matrix subclass is not the recommended way to represent matrices or deal with linear algebra (see https://docs.scipy.org/doc/numpy/user/numpy-for-matlab-users.html). Please adjust your code to use regular ndarray.\n",
      "  print(numpy.matrix(dp), end=\"\\n\\n\")\n",
      "ok\n",
      "test_lcs_test2 (__main__.LCSTest) ... ok\n",
      "test_lcs_test3 (__main__.LCSTest) ... "
     ]
    },
    {
     "name": "stdout",
     "output_type": "stream",
     "text": [
      "[[0 0 0 0]\n",
      " [0 1 1 1]\n",
      " [0 1 1 1]\n",
      " [0 1 2 2]\n",
      " [0 1 2 2]\n",
      " [0 1 2 3]]\n",
      "\n",
      "[[0 0 0 0]\n",
      " [0 1 1 1]\n",
      " [0 1 2 2]\n",
      " [0 1 2 3]]\n",
      "\n",
      "[[0 0 0 0]\n",
      " [0 0 0 0]\n",
      " [0 0 0 0]\n",
      " [0 0 0 0]]\n",
      "\n"
     ]
    },
    {
     "name": "stderr",
     "output_type": "stream",
     "text": [
      "ok\n",
      "\n",
      "----------------------------------------------------------------------\n",
      "Ran 3 tests in 0.005s\n",
      "\n",
      "OK\n"
     ]
    },
    {
     "data": {
      "text/plain": [
       "<unittest.main.TestProgram at 0x7f08fe001190>"
      ]
     },
     "execution_count": 28,
     "metadata": {},
     "output_type": "execute_result"
    }
   ],
   "source": [
    "import numpy\n",
    "\"\"\"\n",
    "# Remove X at end of function to run\n",
    "\"\"\"\n",
    "class Solution:\n",
    "    \"\"\"\n",
    "    Recursion\n",
    "    Time complexity: O(2^N)\n",
    "    \"\"\"\n",
    "    def longestCommonSubsequenceX(self, text1: str, text2: str) -> int:\n",
    "        def lcshelper(s1, s2, m, n):\n",
    "            if m == 0 or n == 0:\n",
    "                return 0\n",
    "            if s1[m-1] == s2[n-1]:\n",
    "                return 1 + lcshelper(s1, s2, m - 1, n - 1)\n",
    "            return max(lcshelper(s1, s2, m - 1, n), lcshelper(s1, s2, m, n - 1))\n",
    "        return lcshelper(text1, text2, len(text1), len(text2))\n",
    "    \n",
    "    \"\"\"\n",
    "    Recursion + memoization solution (top-down approach)\n",
    "    Time complexity: O(M*N)\n",
    "    \"\"\"\n",
    "    def longestCommonSubsequenceX1(self, text1: str, text2: str) -> int:\n",
    "        def lcshelper(s1, s2, m, n):\n",
    "            if m == 0 or n == 0:\n",
    "                return 0\n",
    "            if memo[n][m] is None:\n",
    "                if s1[m-1] == s2[n-1]:\n",
    "                    memo[n][m] =  1 + lcshelper(s1, s2, m - 1, n - 1)\n",
    "                else:\n",
    "                    memo[n][m] = max(lcshelper(s1, s2, m - 1, n), lcshelper(s1, s2, m, n - 1))\n",
    "            return memo[n][m]\n",
    "        m = len(text1); n = len(text2)\n",
    "        memo = [[None for _ in range(m + 1)] for _ in range(n + 1)]\n",
    "        print(numpy.matrix(memo), end=\"\\n\\n\")\n",
    "        return lcshelper(text1, text2, m, n)\n",
    "    \n",
    "    \n",
    "    \"\"\"\n",
    "    DP tabulation solution (bottom-up approach)\n",
    "    Time complexity: O(M*N)\n",
    "    \"\"\"\n",
    "    def longestCommonSubsequence(self, text1: str, text2: str) -> int:\n",
    "        m = len(text2); n = len(text1);\n",
    "        dp = [[0 for _ in range(m + 1)] for _ in range(n + 1)]\n",
    "        \n",
    "        for i in range(1,n + 1):\n",
    "            for j in range(1, m + 1):\n",
    "                if text1[i - 1] == text2[j-1]:\n",
    "                    dp[i][j] = 1 + dp[i-1][j-1]\n",
    "                else:\n",
    "                    dp[i][j] = max(dp[i-1][j], dp[i][j-1])\n",
    "        print(numpy.matrix(dp), end=\"\\n\\n\")\n",
    "        return dp[n][m]\n",
    "    \n",
    "\n",
    "import unittest\n",
    "class LCSTest(unittest.TestCase):\n",
    "    def test_lcs_test1(self):\n",
    "        result = Solution().longestCommonSubsequence(\"abcde\",\"ace\")\n",
    "        self.assertEqual(result, 3)\n",
    "        \n",
    "    def test_lcs_test2(self):\n",
    "        result = Solution().longestCommonSubsequence(\"abc\",\"abc\")\n",
    "        self.assertEqual(result, 3)\n",
    "        \n",
    "    def test_lcs_test3(self):\n",
    "        result = Solution().longestCommonSubsequence(\"abc\", \"def\")\n",
    "        self.assertEqual(result, 0)\n",
    "        \n",
    "unittest.main(argv=[''], verbosity=2, exit=False)"
   ]
  }
 ],
 "metadata": {
  "kernelspec": {
   "display_name": "Python 3",
   "language": "python",
   "name": "python3"
  },
  "language_info": {
   "codemirror_mode": {
    "name": "ipython",
    "version": 3
   },
   "file_extension": ".py",
   "mimetype": "text/x-python",
   "name": "python",
   "nbconvert_exporter": "python",
   "pygments_lexer": "ipython3",
   "version": "3.8.3"
  }
 },
 "nbformat": 4,
 "nbformat_minor": 4
}
