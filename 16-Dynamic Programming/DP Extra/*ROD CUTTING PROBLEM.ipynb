{
 "cells": [
  {
   "cell_type": "markdown",
   "metadata": {},
   "source": [
    ">**Rod Cutting Problem**  \n",
    "\n",
    "\n",
    "- [Cutting a rod into pieces to maximize Profit](https://www.youtube.com/watch?v=zFe-SX7jzDs&ab_channel=VivekanandKhyade-AlgorithmEveryDay)\n",
    "- [TECH DOSE EXPLANATION](https://www.youtube.com/watch?v=nYJDp0Hj7M4&list=PLEJXowNB4kPxBwaXtRO1qFLpCzF75DYrS&index=16&ab_channel=TECHDOSE)"
   ]
  },
  {
   "cell_type": "markdown",
   "metadata": {},
   "source": [
    "Solution using DP tabulation:\n",
    "\n",
    "    if j > i:\n",
    "        T[i][j] = T[i-1][j]\n",
    "    else:\n",
    "        T[i][j] = Value[i] + T[i][j-i]"
   ]
  },
  {
   "cell_type": "code",
   "execution_count": 11,
   "metadata": {},
   "outputs": [
    {
     "name": "stderr",
     "output_type": "stream",
     "text": [
      "test_maxprofit_rod_cutting_test1 (__main__.MaxProfitRodCuttingTest) ... "
     ]
    },
    {
     "name": "stdout",
     "output_type": "stream",
     "text": [
      "[[ 0  0  0  0  0  0]\n",
      " [ 0  3  6  9 12 15]\n",
      " [ 0  3  6  9 12 15]\n",
      " [ 0  3  6 10 13 16]\n",
      " [ 0  3  6 10 13 16]\n",
      " [ 0  3  6 10 13 16]]\n"
     ]
    },
    {
     "name": "stderr",
     "output_type": "stream",
     "text": [
      "<ipython-input-11-e6fbd39d9714>:13: PendingDeprecationWarning: the matrix subclass is not the recommended way to represent matrices or deal with linear algebra (see https://docs.scipy.org/doc/numpy/user/numpy-for-matlab-users.html). Please adjust your code to use regular ndarray.\n",
      "  print(numpy.matrix(dp))\n",
      "ok\n",
      "\n",
      "----------------------------------------------------------------------\n",
      "Ran 1 test in 0.003s\n",
      "\n",
      "OK\n"
     ]
    },
    {
     "data": {
      "text/plain": [
       "<unittest.main.TestProgram at 0x7f3fc218bf40>"
      ]
     },
     "execution_count": 11,
     "metadata": {},
     "output_type": "execute_result"
    }
   ],
   "source": [
    "import numpy\n",
    "\"\"\"\n",
    "# Remove X at end of function to run\n",
    "\"\"\"\n",
    "def maxProfitCuttingRod(pieces, profit, length) -> int: \n",
    "    dp = [[0 for _ in range(length + 1)] for _ in range(len(pieces) + 1)]\n",
    "    for i in range(1, len(pieces) + 1):\n",
    "        for j in range(1, length + 1):\n",
    "            if pieces[i - 1] > j: #Exclude\n",
    "                dp[i][j] = dp[i-1][j]\n",
    "            else: # Max of excluding or including\n",
    "                dp[i][j] = max(dp[i-1][j], profit[i-1] + dp[i][j - pieces[i-1]])\n",
    "    print(numpy.matrix(dp))\n",
    "    return dp[len(pieces)][length]\n",
    "\n",
    "\n",
    "def maxProfitCuttingRodX(pieces, profit, length) -> int:\n",
    "    def cut(pieces, profit, length, N):\n",
    "        if N == 0 or length == 0:\n",
    "            return 0\n",
    "        elif pieces[N-1] > length:\n",
    "            return cut(pieces, profit, length, N-1)\n",
    "        else:\n",
    "            return max(cut(pieces, profit, length, N-1), profit[N-1] +\\\n",
    "                       cut(pieces, profit, length - pieces[N - 1], N))\n",
    "    return cut(pieces, profit, length, len(pieces))\n",
    "\n",
    "\n",
    "import unittest\n",
    "class MaxProfitRodCuttingTest(unittest.TestCase):\n",
    "    def test_maxprofit_rod_cutting_test1(self):\n",
    "        result = maxProfitCuttingRod([1,2,3,4,5], [3,5,10,11,15], 5)\n",
    "        self.assertEqual(result, 16)\n",
    "        \n",
    "unittest.main(argv=[''], verbosity=2, exit=False)"
   ]
  }
 ],
 "metadata": {
  "kernelspec": {
   "display_name": "Python 3",
   "language": "python",
   "name": "python3"
  },
  "language_info": {
   "codemirror_mode": {
    "name": "ipython",
    "version": 3
   },
   "file_extension": ".py",
   "mimetype": "text/x-python",
   "name": "python",
   "nbconvert_exporter": "python",
   "pygments_lexer": "ipython3",
   "version": "3.8.3"
  }
 },
 "nbformat": 4,
 "nbformat_minor": 4
}
