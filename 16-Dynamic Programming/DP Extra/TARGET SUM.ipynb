{
 "cells": [
  {
   "cell_type": "markdown",
   "metadata": {},
   "source": [
    ">**Number Of Subset with given difference**\n",
    "\n",
    "<br>\n",
    "You are given a list of non-negative integers, a1, a2, ..., an, and a target, S. Now you have 2 symbols + and -. For each integer, you should choose one from + and - as its new symbol.\n",
    "\n",
    "Find out how many ways to assign symbols to make sum of integers equal to target S.\n",
    "<br>\n",
    "\n",
    " \n",
    " - [Another Variation](https://www.youtube.com/watch?v=XP2Y2md89h0&t=1215s&ab_channel=ygongcode)\n",
    " \n",
    "\n",
    "<br>\n",
    "1.\n",
    "    $f(x)= \\begin{cases}\n",
    "    F(i-1, j),& \\text{if } A(i-1, j) > j\\\\\n",
    "    F(i,j) = F(i-1, j) + F(i-1, j-A(i-1)),& \\text{else}\n",
    "\\end{cases}\n",
    "$\n",
    "\n",
    "Solution:\n",
    "\n",
    "    Find the number of ways to divide a set into 2 setsets, such that S1 - S2 = target\n",
    "\n"
   ]
  },
  {
   "cell_type": "code",
   "execution_count": 1,
   "metadata": {},
   "outputs": [
    {
     "name": "stderr",
     "output_type": "stream",
     "text": [
      "test_targetSum_test1 (__main__.TargetSumTest) ... <ipython-input-1-82fff25822f7>:38: PendingDeprecationWarning: the matrix subclass is not the recommended way to represent matrices or deal with linear algebra (see https://docs.scipy.org/doc/numpy/user/numpy-for-matlab-users.html). Please adjust your code to use regular ndarray.\n",
      "  print(numpy.matrix(dp), end=\"\\n\\n\")\n",
      "<ipython-input-1-82fff25822f7>:46: PendingDeprecationWarning: the matrix subclass is not the recommended way to represent matrices or deal with linear algebra (see https://docs.scipy.org/doc/numpy/user/numpy-for-matlab-users.html). Please adjust your code to use regular ndarray.\n",
      "  print(numpy.matrix(dp), end=\"\\n\\n\")\n",
      "ok\n",
      "test_targetSum_test2 (__main__.TargetSumTest) ... "
     ]
    },
    {
     "name": "stdout",
     "output_type": "stream",
     "text": [
      "[[1 0 0 0 0]\n",
      " [1 0 0 0 0]\n",
      " [1 0 0 0 0]\n",
      " [1 0 0 0 0]\n",
      " [1 0 0 0 0]\n",
      " [1 0 0 0 0]]\n",
      "\n",
      "[[ 1  0  0  0  0]\n",
      " [ 1  1  0  0  0]\n",
      " [ 1  2  1  0  0]\n",
      " [ 1  3  3  1  0]\n",
      " [ 1  4  6  4  1]\n",
      " [ 1  5 10 10  5]]\n",
      "\n"
     ]
    },
    {
     "name": "stderr",
     "output_type": "stream",
     "text": [
      "ok\n",
      "\n",
      "----------------------------------------------------------------------\n",
      "Ran 2 tests in 0.005s\n",
      "\n",
      "OK\n"
     ]
    },
    {
     "data": {
      "text/plain": [
       "<unittest.main.TestProgram at 0x7fb4cb7a4d60>"
      ]
     },
     "execution_count": 1,
     "metadata": {},
     "output_type": "execute_result"
    }
   ],
   "source": [
    "from typing import List\n",
    "import numpy\n",
    "\"\"\"\n",
    "Idea: split the elemts into positive and negative knapsacks\n",
    "\n",
    "Conditions:\n",
    "    If array length == 0; return 0\n",
    "    if sum of array < target or (sum of array + target)%2 != 0: return 0\n",
    "    \n",
    "such that :\n",
    "S1 - S2 = target\n",
    "S1 - (sum - S1) = target\n",
    "2S1 = target + sum\n",
    "S1 = (target + sum)/2\n",
    "\n",
    "New Goal: Find the number of ways to form a subset S1 from the given set with:\n",
    "S1 = (target + sum)/2\n",
    "\"\"\"\n",
    "class Solution:\n",
    "    def findTargetSumWays(self, nums: List[int], S: int) -> int:\n",
    "        n = len(nums)\n",
    "        if n == 0:\n",
    "            return 0\n",
    "        \n",
    "        sumOfArray = sum(nums)\n",
    "        if sumOfArray < S or (S + sum(nums))%2 != 0:\n",
    "            return 0\n",
    "            \n",
    "        S = (S + sum(nums))//2\n",
    "        \n",
    "        dp = [[0 for _ in range(S + 1)] for _ in range(n + 1)]\n",
    "\n",
    "        \"\"\"\n",
    "        - First colum set to True because zero can be formed by taking an empty subset\n",
    "        \"\"\"\n",
    "        for i in range(n + 1):\n",
    "            dp[i][0] = 1\n",
    "        print(numpy.matrix(dp), end=\"\\n\\n\")\n",
    "\n",
    "        for i in range(1,n + 1):\n",
    "            for j in range(1, S + 1):\n",
    "                if nums[i-1] > j:\n",
    "                    dp[i][j] = dp[i - 1][j]\n",
    "                else:\n",
    "                    dp[i][j] = dp[i-1][j] + dp[i-1][j - nums[i-1]]\n",
    "        print(numpy.matrix(dp), end=\"\\n\\n\")\n",
    "        return dp[n][S]\n",
    "\n",
    "\n",
    "\n",
    "import unittest\n",
    "class TargetSumTest(unittest.TestCase):\n",
    "    def test_targetSum_test1(self):\n",
    "        A = [1, 1, 1, 1, 1]\n",
    "        result = Solution().findTargetSumWays(A, 3)\n",
    "        self.assertEqual(result, 5)\n",
    "\n",
    "    def test_targetSum_test2(self):\n",
    "        A = [1]\n",
    "        result = Solution().findTargetSumWays(A, 2)\n",
    "        self.assertEqual(result, 0)\n",
    "        \n",
    "unittest.main(argv=[''], verbosity=2, exit=False)\n",
    "    "
   ]
  },
  {
   "cell_type": "code",
   "execution_count": null,
   "metadata": {},
   "outputs": [],
   "source": []
  },
  {
   "cell_type": "code",
   "execution_count": null,
   "metadata": {},
   "outputs": [],
   "source": []
  },
  {
   "cell_type": "markdown",
   "metadata": {},
   "source": [
    "> **Solution using recusion + memoization**"
   ]
  },
  {
   "cell_type": "code",
   "execution_count": 35,
   "metadata": {},
   "outputs": [
    {
     "name": "stderr",
     "output_type": "stream",
     "text": [
      "test_targetSum_findTargetSumWaysRecursive_test1 (__main__.TargetSumTest) ... ok\n",
      "test_targetSum_findTargetSumWaysRecursive_test2 (__main__.TargetSumTest) ... ok\n",
      "\n",
      "----------------------------------------------------------------------\n",
      "Ran 2 tests in 0.003s\n",
      "\n",
      "OK\n"
     ]
    },
    {
     "data": {
      "text/plain": [
       "<unittest.main.TestProgram at 0x7fdad1303880>"
      ]
     },
     "execution_count": 35,
     "metadata": {},
     "output_type": "execute_result"
    }
   ],
   "source": [
    "from typing import List\n",
    "\n",
    "class Solution:\n",
    "    def findTargetSumWaysRecursive(self, nums: List[int], S: int) -> int:\n",
    "        memo = {}\n",
    "        def recursive(nums, index, target, memo):\n",
    "            if index >= len(nums):\n",
    "                return 1 if target == 0 else 0\n",
    "            elif str(index) +\"-\"+str(target) in memo:\n",
    "                return memo[str(index) + \"-\" + str(target)]\n",
    "            else:\n",
    "                memo[str(index) +\"-\"+str(target)] = recursive(nums, index+1, target - nums[index], memo) + \\\n",
    "                recursive(nums, index+1, target + nums[index], memo)\n",
    "                return memo[str(index) +\"-\"+str(target)]\n",
    "        return recursive(nums, 0, S, memo)\n",
    "\n",
    "\n",
    "import unittest\n",
    "class TargetSumTest(unittest.TestCase):\n",
    "    def test_targetSum_findTargetSumWaysRecursive_test1(self):\n",
    "        A = [1, 1, 1, 1, 1]\n",
    "        result = Solution().findTargetSumWaysRecursive(A, 3)\n",
    "        self.assertEqual(result, 5)\n",
    "\n",
    "    def test_targetSum_findTargetSumWaysRecursive_test2(self):\n",
    "        A = [1]\n",
    "        result = Solution().findTargetSumWaysRecursive(A, 2)\n",
    "        self.assertEqual(result, 0)\n",
    "        \n",
    "unittest.main(argv=[''], verbosity=2, exit=False)"
   ]
  },
  {
   "cell_type": "code",
   "execution_count": 30,
   "metadata": {},
   "outputs": [
    {
     "data": {
      "text/plain": [
       "'0-10'"
      ]
     },
     "execution_count": 30,
     "metadata": {},
     "output_type": "execute_result"
    }
   ],
   "source": [
    "str(0) + \"-\" + str(10)"
   ]
  }
 ],
 "metadata": {
  "kernelspec": {
   "display_name": "Python 3",
   "language": "python",
   "name": "python3"
  },
  "language_info": {
   "codemirror_mode": {
    "name": "ipython",
    "version": 3
   },
   "file_extension": ".py",
   "mimetype": "text/x-python",
   "name": "python",
   "nbconvert_exporter": "python",
   "pygments_lexer": "ipython3",
   "version": "3.8.3"
  }
 },
 "nbformat": 4,
 "nbformat_minor": 4
}
