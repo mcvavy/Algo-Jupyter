{
 "cells": [
  {
   "cell_type": "markdown",
   "metadata": {},
   "source": [
    ">** Minimum number of steps to reduce N to 1**\n",
    "\n",
    "    Available steps are:\n",
    "    - Decrement n by 1\n",
    "    - if n is divisible by 2, then divide n by 2\n",
    "    - if n is divisible by 3, then divide n by 3\n",
    "    \n",
    "    Example:\n",
    "    - 10 => 3 steps (10 => 9 => 3 => 1)\n",
    "    - 15 => 4 steps (15 => 5 => 4 => 2 => 1)"
   ]
  },
  {
   "cell_type": "code",
   "execution_count": 29,
   "metadata": {
    "code_folding": []
   },
   "outputs": [
    {
     "name": "stderr",
     "output_type": "stream",
     "text": [
      "test_reduce_to_one_test1 (__main__.ReduceToOneTest) ... ok\n",
      "test_reduce_to_one_test2 (__main__.ReduceToOneTest) ... ok\n",
      "test_reduce_to_one_test3 (__main__.ReduceToOneTest) ... ok\n",
      "test_reduce_to_one_test4 (__main__.ReduceToOneTest) ... ok\n",
      "test_reduce_to_one_test5 (__main__.ReduceToOneTest) ... ok\n",
      "\n",
      "----------------------------------------------------------------------\n",
      "Ran 5 tests in 0.013s\n",
      "\n",
      "OK\n"
     ]
    },
    {
     "data": {
      "text/plain": [
       "<unittest.main.TestProgram at 0x7f1846a5fa00>"
      ]
     },
     "execution_count": 29,
     "metadata": {},
     "output_type": "execute_result"
    }
   ],
   "source": [
    "from typing import List\n",
    "import numpy\n",
    "\n",
    "class Solution:\n",
    "    def reduce_to_one(self, n: int) -> int:\n",
    "        def reduce(num, memo):\n",
    "            if num == 1:\n",
    "                return 0\n",
    "            if num in memo and memo[num] != 0:\n",
    "                return memo[num]\n",
    "            result = reduce(num - 1, memo)\n",
    "            if num%2 == 0:\n",
    "                result = min(result, reduce(num//2, memo))\n",
    "            if num%3 == 0:\n",
    "                result = min(result, reduce(num//3, memo))\n",
    "            memo[num] = 1 + result\n",
    "            return 1 + result\n",
    "        return reduce(n, {})\n",
    "\n",
    "\n",
    "import unittest\n",
    "class ReduceToOneTest(unittest.TestCase):\n",
    "    def test_reduce_to_one_test1(self):\n",
    "        result = Solution().reduce_to_one(10)\n",
    "        self.assertEqual(result, 3)\n",
    "\n",
    "    def test_reduce_to_one_test2(self):\n",
    "        result = Solution().reduce_to_one(15)\n",
    "        self.assertEqual(result, 4)\n",
    "        \n",
    "    def test_reduce_to_one_test3(self):\n",
    "        result = Solution().reduce_to_one(100)\n",
    "        self.assertEqual(result, 7)\n",
    "        \n",
    "    def test_reduce_to_one_test4(self):\n",
    "        result = Solution().reduce_to_one(1000)\n",
    "        self.assertEqual(result, 9)\n",
    "        \n",
    "    def test_reduce_to_one_test5(self):\n",
    "        result = Solution().reduce_to_one(2000)\n",
    "        self.assertEqual(result, 10)\n",
    "unittest.main(argv=[''], verbosity=2, exit=False)"
   ]
  }
 ],
 "metadata": {
  "kernelspec": {
   "display_name": "Python 3",
   "language": "python",
   "name": "python3"
  },
  "language_info": {
   "codemirror_mode": {
    "name": "ipython",
    "version": 3
   },
   "file_extension": ".py",
   "mimetype": "text/x-python",
   "name": "python",
   "nbconvert_exporter": "python",
   "pygments_lexer": "ipython3",
   "version": "3.8.3"
  }
 },
 "nbformat": 4,
 "nbformat_minor": 4
}
