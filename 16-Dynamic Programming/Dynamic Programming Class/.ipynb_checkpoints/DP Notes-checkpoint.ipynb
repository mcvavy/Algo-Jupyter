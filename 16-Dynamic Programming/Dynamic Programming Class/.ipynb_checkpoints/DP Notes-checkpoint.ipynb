{
 "cells": [
  {
   "cell_type": "markdown",
   "metadata": {},
   "source": [
    " _**Framework for solving DP problems :**_\n",
    " \n",
    "     1. Define the objective function\n",
    "     2. Identity base cases\n",
    "     3. write down a recurrence relation for the optimised objective function\n",
    "     4. What's the order of execution ?\n",
    "     5. Where to look for the answer"
   ]
  },
  {
   "cell_type": "markdown",
   "metadata": {},
   "source": [
    "> **Sum of N numbers**"
   ]
  },
  {
   "cell_type": "code",
   "execution_count": 36,
   "metadata": {},
   "outputs": [],
   "source": [
    "def sum_of_n_numbers(n):\n",
    "\n",
    "    dp = [-1] * (n + 1)\n",
    "    dp[0] = 0\n",
    "    \n",
    "    for i in range(1, n+1):\n",
    "        dp[i] = dp[i - 1] + i\n",
    "#     print(dp)\n",
    "    return dp[n] \n",
    "\n",
    "\n",
    "import unittest\n",
    "class SumOfNumbersTest(unittest.TestCase):\n",
    "    def test_numbers(self):\n",
    "        result = sum_of_n_numbers(5)\n",
    "        self.assertEqual(result, 15)\n",
    "\n",
    "unittest.main(argv=[''], verbosity=2, exit=False)"
   ]
  },
  {
   "cell_type": "code",
   "execution_count": null,
   "metadata": {},
   "outputs": [],
   "source": []
  },
  {
   "cell_type": "markdown",
   "metadata": {},
   "source": [
    "> **Climbing Stair Case Problem**\n",
    "\n",
    " - You are climbing a stair case. It takes n steps to reach to the top. Each time you can either climb 1 or 2 steps. In how many distinct ways can you climb to the top ?  \n",
    " \n",
    " <br>\n",
    " <br>\n",
    " \n",
    " _**Framework for solving DP problems :**_\n",
    " \n",
    "     1. Define the objective function\n",
    "         - f(i) is the number of distinct ways to reach the i-th stairs\n",
    "     2. Identity base cases\n",
    "         - f(0) = 1\n",
    "         - f(1) = 1\n",
    "     3. write down a recurrence relation (transition function) for the optimised objective function\n",
    "         - f(n) = f(n-1) + f(n - 2)\n",
    "     4. What's the order of execution ?\n",
    "         - Bottom Up approach\n",
    "     5. Where to look for the answer\n",
    "         - f(n)\n",
    "         \n",
    " <br>\n",
    " <br>\n",
    " \n",
    "_Time complexity: O(N) | Space complexity: O(N)_\n",
    "\n"
   ]
  },
  {
   "cell_type": "code",
   "execution_count": 42,
   "metadata": {},
   "outputs": [
    {
     "name": "stderr",
     "output_type": "stream",
     "text": [
      "test_climb_stairs1 (__main__.StairClimberTest) ... ok\n",
      "test_climb_stairs2 (__main__.StairClimberTest) ... ok\n",
      "test_climb_stairs5 (__main__.StairClimberTest) ... ok\n",
      "test_numbers (__main__.SumOfNumbersTest) ... ok\n",
      "test_numbers (__main__.sumOfNumbersTest) ... ok\n",
      "\n",
      "----------------------------------------------------------------------\n",
      "Ran 5 tests in 0.005s\n",
      "\n",
      "OK\n"
     ]
    },
    {
     "data": {
      "text/plain": [
       "<unittest.main.TestProgram at 0x7f2d1ee83ee0>"
      ]
     },
     "execution_count": 42,
     "metadata": {},
     "output_type": "execute_result"
    }
   ],
   "source": [
    "def climb_stairs(n):\n",
    "    dp = [None for _ in range(n + 1)]\n",
    "    dp[0] = 1\n",
    "    dp[1] = 1\n",
    "    \n",
    "    for i in range(2, n + 1):\n",
    "        dp[i] = dp[i - 1] + dp[i - 2]\n",
    "    return dp[n]\n",
    "\n",
    "import unittest\n",
    "class StairClimberTest(unittest.TestCase):\n",
    "    def test_climb_stairs1(self):\n",
    "        result = climb_stairs(1)\n",
    "        self.assertEqual(result, 1)\n",
    "\n",
    "    def test_climb_stairs2(self):\n",
    "        result = climb_stairs(2)\n",
    "        self.assertEqual(result, 2)\n",
    "\n",
    "    def test_climb_stairs5(self):\n",
    "        result = climb_stairs(5)\n",
    "        self.assertEqual(result, 8)\n",
    "\n",
    "unittest.main(argv=[''], verbosity=2, exit=False)"
   ]
  },
  {
   "cell_type": "code",
   "execution_count": null,
   "metadata": {},
   "outputs": [],
   "source": []
  },
  {
   "cell_type": "code",
   "execution_count": null,
   "metadata": {},
   "outputs": [],
   "source": []
  },
  {
   "cell_type": "markdown",
   "metadata": {},
   "source": [
    "> **Climbing Stair Case Problem: Optimised!!**  \n",
    "\n",
    "\n",
    "_Time complexity: O(N) | Space complexity: O(1)_"
   ]
  },
  {
   "cell_type": "code",
   "execution_count": 46,
   "metadata": {},
   "outputs": [
    {
     "name": "stderr",
     "output_type": "stream",
     "text": [
      "test_climb_stairs1 (__main__.StairClimberTest) ... ok\n",
      "test_climb_stairs2 (__main__.StairClimberTest) ... ok\n",
      "test_climb_stairs5 (__main__.StairClimberTest) ... ok\n",
      "test_numbers (__main__.SumOfNumbersTest) ... ok\n",
      "test_numbers (__main__.sumOfNumbersTest) ... ok\n",
      "\n",
      "----------------------------------------------------------------------\n",
      "Ran 5 tests in 0.009s\n",
      "\n",
      "OK\n"
     ]
    },
    {
     "data": {
      "text/plain": [
       "<unittest.main.TestProgram at 0x7f2d1e98a730>"
      ]
     },
     "execution_count": 46,
     "metadata": {},
     "output_type": "execute_result"
    }
   ],
   "source": [
    "def climb_stairs(n):\n",
    "    \"\"\"\n",
    "    if n = 4\n",
    "    [1,1,2,3]\n",
    "     a b c\n",
    "       a b c\n",
    "    \"\"\"\n",
    "    a = 1; b = 1; c = 1\n",
    "    \n",
    "    for i in range(2, n + 1):\n",
    "        c = a + b\n",
    "        a = b; b = c\n",
    "    return c\n",
    "\n",
    "import unittest\n",
    "class StairClimberTest(unittest.TestCase):\n",
    "    def test_climb_stairs1(self):\n",
    "        result = climb_stairs(1)\n",
    "        self.assertEqual(result, 1)\n",
    "\n",
    "    def test_climb_stairs2(self):\n",
    "        result = climb_stairs(2)\n",
    "        self.assertEqual(result, 2)\n",
    "\n",
    "    def test_climb_stairs5(self):\n",
    "        result = climb_stairs(5)\n",
    "        self.assertEqual(result, 8)\n",
    "\n",
    "unittest.main(argv=[''], verbosity=2, exit=False)"
   ]
  },
  {
   "cell_type": "code",
   "execution_count": null,
   "metadata": {},
   "outputs": [],
   "source": []
  },
  {
   "attachments": {
    "image.png": {
     "image/png": "[encoded data removed]"
    }
   },
   "cell_type": "markdown",
   "metadata": {},
   "source": [
    "> **Climbing Stair Case 3 steps**\n",
    "\n",
    " - You are climbing a stair case. It takes n steps to reach to the top. Each time you can either climb 1, 2, or 3 steps. In how many distinct ways can you climb to the top ?  \n",
    " \n",
    " <br>\n",
    " <br>\n",
    " \n",
    " _**Framework for solving DP problems :**_\n",
    " \n",
    "     1. Define the objective function\n",
    "         - f(i) is the number of distinct ways to reach the i-th stairs\n",
    "     2. Identity base cases\n",
    "         - $f(0) = 1$\n",
    "         - $f(1) = 1$\n",
    "         - $f(2) = 2$\n",
    "     3. write down a recurrence relation (transition function) for the optimised objective function\n",
    "         - $f(n) = f(n-1) + f(n - 2) + f(n - 3)$\n",
    "     4. What's the order of execution ?\n",
    "         - Bottom Up approach\n",
    "     5. Where to look for the answer\n",
    "         - f(n)\n",
    "         \n",
    " <br>\n",
    " <br>\n",
    " \n",
    " ![image.png](attachment:image.png)\n",
    " \n",
    " <br>\n",
    " <br>\n",
    "_Time complexity: O(N) | Space complexity: O(N)_\n",
    "\n"
   ]
  },
  {
   "cell_type": "code",
   "execution_count": 51,
   "metadata": {},
   "outputs": [
    {
     "name": "stderr",
     "output_type": "stream",
     "text": [
      "test_climb_stairs1 (__main__.StairClimberTest) ... ok\n",
      "test_climb_stairs2 (__main__.StairClimberTest) ... ok\n",
      "test_climb_stairs5 (__main__.StairClimberTest) ... ok\n",
      "test_numbers (__main__.SumOfNumbersTest) ... ok\n",
      "test_numbers (__main__.sumOfNumbersTest) ... ok\n",
      "\n",
      "----------------------------------------------------------------------\n",
      "Ran 5 tests in 0.005s\n",
      "\n",
      "OK\n"
     ]
    },
    {
     "data": {
      "text/plain": [
       "<unittest.main.TestProgram at 0x7f2d1df82cd0>"
      ]
     },
     "execution_count": 51,
     "metadata": {},
     "output_type": "execute_result"
    }
   ],
   "source": [
    "def climb_stairs_3steps(n):\n",
    "    dp = [None for _ in range(n + 1)]\n",
    "    dp[0] = 1\n",
    "    dp[1] = 1\n",
    "    dp[2] = 2\n",
    "    \n",
    "    for i in range(3, n + 1):\n",
    "        dp[i] = dp[i - 1] + dp[i - 2] + dp[i - 3]\n",
    "    return dp[n]\n",
    "\n",
    "import unittest\n",
    "class StairClimberTest(unittest.TestCase):\n",
    "    def test_climb_stairs1(self):\n",
    "        result = climb_stairs_3steps(3)\n",
    "        self.assertEqual(result, 4)\n",
    "\n",
    "    def test_climb_stairs2(self):\n",
    "        result = climb_stairs_3steps(5)\n",
    "        self.assertEqual(result, 13)\n",
    "\n",
    "    def test_climb_stairs5(self):\n",
    "        result = climb_stairs_3steps(8)\n",
    "        self.assertEqual(result, 81)\n",
    "\n",
    "unittest.main(argv=[''], verbosity=2, exit=False)"
   ]
  },
  {
   "cell_type": "code",
   "execution_count": null,
   "metadata": {},
   "outputs": [],
   "source": []
  },
  {
   "cell_type": "code",
   "execution_count": null,
   "metadata": {},
   "outputs": [],
   "source": []
  },
  {
   "cell_type": "markdown",
   "metadata": {},
   "source": [
    "> **Climbing Stair Case K steps**\n",
    "\n",
    " - You are climbing a stair case. It takes n steps to reach to the top. Each time you can either climb 1..k steps. In how many distinct ways can you climb to the top ?  \n",
    " \n",
    " <br>\n",
    " <br>\n",
    " \n",
    " _**Framework for solving DP problems :**_\n",
    " \n",
    "     1. Define the objective function\n",
    "         - f(i) is the number of distinct ways to reach the i-th stairs\n",
    "     2. Identity base cases\n",
    "         - $f(0) = 1$\n",
    "         - $f(1) = 1$\n",
    "     3. write down a recurrence relation (transition function) for the optimised objective function\n",
    "         - $f(n) = f(n-1) + f(n - 2)  + ... f(n - k)$\n",
    "     4. What's the order of execution ?\n",
    "         - Bottom Up approach\n",
    "     5. Where to look for the answer\n",
    "         - f(n)\n",
    "         \n",
    " <br>\n",
    " <br>\n",
    " \n",
    "_Time complexity: O(N*k) | Space complexity: O(N)_\n"
   ]
  },
  {
   "cell_type": "code",
   "execution_count": 60,
   "metadata": {},
   "outputs": [
    {
     "name": "stderr",
     "output_type": "stream",
     "text": [
      "test_climb_ksteps1 (__main__.StairClimberTest) ... ok\n",
      "test_climb_ksteps2 (__main__.StairClimberTest) ... ok\n",
      "test_climb_ksteps5 (__main__.StairClimberTest) ... ok\n",
      "test_numbers (__main__.SumOfNumbersTest) ... ok\n",
      "test_numbers (__main__.sumOfNumbersTest) ... ok\n",
      "\n",
      "----------------------------------------------------------------------\n",
      "Ran 5 tests in 0.006s\n",
      "\n",
      "OK\n"
     ]
    },
    {
     "data": {
      "text/plain": [
       "<unittest.main.TestProgram at 0x7f2d1df4e070>"
      ]
     },
     "execution_count": 60,
     "metadata": {},
     "output_type": "execute_result"
    }
   ],
   "source": [
    "def climb_stairs_ksteps(n, k):\n",
    "    dp = [0 for _ in range(n + 1)]\n",
    "    dp[0] = 1\n",
    "    dp[1] = 1\n",
    "\n",
    "    for i in range(2, n + 1):\n",
    "        for j in range(1, k + 1):\n",
    "            if i - j < 0:\n",
    "                continue\n",
    "            dp[i] += dp[i - j]\n",
    "    return dp[n]\n",
    "\n",
    "import unittest\n",
    "class StairClimberTest(unittest.TestCase):\n",
    "    def test_climb_ksteps1(self):\n",
    "        result = climb_stairs_ksteps(3, 2)\n",
    "        self.assertEqual(result, 3)\n",
    "\n",
    "    def test_climb_ksteps2(self):\n",
    "        result = climb_stairs_ksteps(5, 2)\n",
    "        self.assertEqual(result, 8)\n",
    "\n",
    "    def test_climb_ksteps5(self):\n",
    "        result = climb_stairs_ksteps(3,3)\n",
    "        self.assertEqual(result, 4)\n",
    "        \n",
    "    def test_climb_ksteps5(self):\n",
    "        result = climb_stairs_ksteps(5,3)\n",
    "        self.assertEqual(result, 13)\n",
    "\n",
    "unittest.main(argv=[''], verbosity=2, exit=False)"
   ]
  }
 ],
 "metadata": {
  "kernelspec": {
   "display_name": "Python 3",
   "language": "python",
   "name": "python3"
  },
  "language_info": {
   "codemirror_mode": {
    "name": "ipython",
    "version": 3
   },
   "file_extension": ".py",
   "mimetype": "text/x-python",
   "name": "python",
   "nbconvert_exporter": "python",
   "pygments_lexer": "ipython3",
   "version": "3.8.3"
  }
 },
 "nbformat": 4,
 "nbformat_minor": 4
}
