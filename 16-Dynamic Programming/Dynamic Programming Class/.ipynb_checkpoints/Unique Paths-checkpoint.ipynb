{
 "cells": [
  {
   "cell_type": "markdown",
   "metadata": {},
   "source": [
    "> **Reconstruction Solution**\n",
    "\n",
    " - A robot is located at the top-left corner of a m x n grid (marked 'S' in the diagram below). The robot can only move either dow or right at any point in time. The robot is trying to reach the bottom-right corner of the grid (marked 'E' in the diagram below).\n",
    " <br>\n",
    " How many possible unique paths are there?\n",
    " <br>\n",
    " <br>\n",
    " \n",
    " ```json\n",
    "\t+---+---+---+---+\n",
    "\t| S |   |   |   |\n",
    "\t+---+---+---+---+\n",
    "\t|   |   |   |   |\n",
    "\t+---+---+---+---+\n",
    "\t|   |   |   | E |\n",
    "\t+---+---+---+---+\n",
    "    ```\n",
    "    \n",
    "\tAbove is a 3 x 4 grid. How many possible unique paths are there?\n",
    "\n",
    "\n",
    " \n",
    " <br>\n",
    " <br>\n",
    " \n",
    " _**Framework for solving DP problems :**_\n",
    " 1. Define the objective function\n",
    "     - f(i) is the number of distinct ways to reach the i-th stairs\n",
    " 2. Identity base cases\n",
    "     - $F(0,0) = 1$\n",
    " 3. write down a recurrence relation (transition function) for the optimised objective function\n",
    "     - $ F(i,j) = max(F(i-1, j), F(i, j-1)) $\n",
    " 4. What's the order of execution ?\n",
    "     - Bottom Up approach\n",
    " 5. Where to look for the answer\n",
    "     - f(n)\n",
    "         \n",
    " <br>\n",
    " <br>\n",
    " \n",
    "_Time complexity: O(N) | Space complexity: O(N)_\n"
   ]
  },
  {
   "cell_type": "code",
   "execution_count": 27,
   "metadata": {},
   "outputs": [
    {
     "name": "stderr",
     "output_type": "stream",
     "text": [
      "test_uniquePaths (__main__.StairClimberTest) ... <ipython-input-27-a6019e682441>:11: PendingDeprecationWarning: the matrix subclass is not the recommended way to represent matrices or deal with linear algebra (see https://docs.scipy.org/doc/numpy/user/numpy-for-matlab-users.html). Please adjust your code to use regular ndarray.\n",
      "  print(np.matrix(dp), end= \"\\n\\n\")\n",
      "<ipython-input-27-a6019e682441>:20: PendingDeprecationWarning: the matrix subclass is not the recommended way to represent matrices or deal with linear algebra (see https://docs.scipy.org/doc/numpy/user/numpy-for-matlab-users.html). Please adjust your code to use regular ndarray.\n",
      "  print(np.matrix(dp))\n",
      "ok\n",
      "test_uniquePaths (__main__.UniquePathObstacle) ... "
     ]
    },
    {
     "name": "stdout",
     "output_type": "stream",
     "text": [
      "[[1 0 0 0]\n",
      " [0 0 0 0]\n",
      " [0 0 0 0]]\n",
      "\n",
      "[[ 1  1  1  1]\n",
      " [ 1  2  3  4]\n",
      " [ 1  3  6 10]]\n"
     ]
    },
    {
     "name": "stderr",
     "output_type": "stream",
     "text": [
      "FAIL\n",
      "\n",
      "======================================================================\n",
      "FAIL: test_uniquePaths (__main__.UniquePathObstacle)\n",
      "----------------------------------------------------------------------\n",
      "Traceback (most recent call last):\n",
      "  File \"<ipython-input-26-e7538888dd31>\", line 48, in test_uniquePaths\n",
      "    self.assertEqual(result, 10)\n",
      "AssertionError: 2 != 10\n",
      "\n",
      "----------------------------------------------------------------------\n",
      "Ran 2 tests in 0.005s\n",
      "\n",
      "FAILED (failures=1)\n"
     ]
    },
    {
     "data": {
      "text/plain": [
       "<unittest.main.TestProgram at 0x7f722a2a2d00>"
      ]
     },
     "execution_count": 27,
     "metadata": {},
     "output_type": "execute_result"
    }
   ],
   "source": [
    "from typing import List\n",
    "import numpy as np\n",
    "\n",
    "\"\"\"\n",
    "𝐹(𝑖,𝑗)=𝑚𝑎𝑥(𝐹(𝑖−1,𝑗),𝐹(𝑖,𝑗−1))\n",
    "\"\"\"\n",
    "def uniquePaths(m: int, n: int) -> int:\n",
    "    dp = [[0 for _ in range(n)] for _ in range(m)]\n",
    "    dp[0][0] = 1\n",
    "    \n",
    "    print(np.matrix(dp), end= \"\\n\\n\")\n",
    "    for i in range(m):\n",
    "        for j in range(n):\n",
    "            if i > 0 and j > 0:\n",
    "                dp[i][j] = dp[i - 1][j] + dp[i][j-1]\n",
    "            elif i > 0 and j == 0:\n",
    "                dp[i][j] = dp[i - 1][j]\n",
    "            elif j > 0 and i == 0:\n",
    "                dp[i][j] = dp[i][j-1]\n",
    "    print(np.matrix(dp))\n",
    "    return dp[m-1][n-1]\n",
    "\n",
    "import unittest\n",
    "class StairClimberTest(unittest.TestCase):\n",
    "    def test_uniquePaths(self):\n",
    "        result = uniquePaths(1,1)\n",
    "        self.assertEqual(result, 1)\n",
    "        \n",
    "    def test_uniquePaths(self):\n",
    "        result = uniquePaths(3,4)\n",
    "        self.assertEqual(result, 10)\n",
    "\n",
    "unittest.main(argv=[''], verbosity=2, exit=False)"
   ]
  },
  {
   "cell_type": "code",
   "execution_count": null,
   "metadata": {},
   "outputs": [],
   "source": []
  },
  {
   "cell_type": "code",
   "execution_count": null,
   "metadata": {},
   "outputs": [],
   "source": []
  },
  {
   "cell_type": "markdown",
   "metadata": {},
   "source": [
    "> **Unique Paths with Obstales**\n",
    "\n",
    " - A robot is located at the top-left corner of a m x n grid (marked 'S' in the diagram below).\n",
    " The robot can only move either down or right at any point in time.The robot is trying to reach the bottom-right corner of the grid (marked 'E' in the diagram below).\n",
    " <br>\n",
    "\tNow consider if some obstacles are added to the grids.\n",
    "    How many unique paths would there be?\n",
    " <br>\n",
    " <br>\n",
    " \n",
    " ```json\n",
    "\t+---+---+---+---+\n",
    "\t| S |   |   |   |\n",
    "\t+---+---+---+---+\n",
    "\t|   | 1 | 1 | 1 |\n",
    "\t+---+---+---+---+\n",
    "\t|   |   |   | E |\n",
    "\t+---+---+---+---+\n",
    "    ```\n",
    "    \n",
    "An obstacle and empty space is marked as 1 and 0 respectively in the grid.\n",
    "\n",
    "\n",
    " \n",
    " <br>\n",
    " <br>\n",
    " \n",
    " _**Framework for solving DP problems :**_\n",
    " 1. Define the objective function\n",
    "     - f(i) is the number of distinct ways to reach the i-th stairs\n",
    " 2. Identity base cases\n",
    "     - $F(0,0) = 1$\n",
    " 3. write down a recurrence relation (transition function) for the optimised objective function\n",
    "     - $ F(i,j) = max(F(i-1, j), F(i, j-1)) $\n",
    " 4. What's the order of execution ?\n",
    "     - Bottom Up approach\n",
    " 5. Where to look for the answer\n",
    "     - f(n)\n",
    "         \n",
    " <br>\n",
    " <br>\n",
    " \n",
    "_Time complexity: O(N) | Space complexity: O(N)_\n"
   ]
  },
  {
   "cell_type": "code",
   "execution_count": 32,
   "metadata": {},
   "outputs": [
    {
     "name": "stderr",
     "output_type": "stream",
     "text": [
      "test_uniquePaths (__main__.StairClimberTest) ... <ipython-input-27-a6019e682441>:11: PendingDeprecationWarning: the matrix subclass is not the recommended way to represent matrices or deal with linear algebra (see https://docs.scipy.org/doc/numpy/user/numpy-for-matlab-users.html). Please adjust your code to use regular ndarray.\n",
      "  print(np.matrix(dp), end= \"\\n\\n\")\n",
      "<ipython-input-27-a6019e682441>:20: PendingDeprecationWarning: the matrix subclass is not the recommended way to represent matrices or deal with linear algebra (see https://docs.scipy.org/doc/numpy/user/numpy-for-matlab-users.html). Please adjust your code to use regular ndarray.\n",
      "  print(np.matrix(dp))\n",
      "ok\n",
      "test_uniquePaths2 (__main__.UniquePathObstacle) ... ok\n",
      "test_uniquePaths4 (__main__.UniquePathObstacle) ... "
     ]
    },
    {
     "name": "stdout",
     "output_type": "stream",
     "text": [
      "[[1 0 0 0]\n",
      " [0 0 0 0]\n",
      " [0 0 0 0]]\n",
      "\n",
      "[[ 1  1  1  1]\n",
      " [ 1  2  3  4]\n",
      " [ 1  3  6 10]]\n"
     ]
    },
    {
     "name": "stderr",
     "output_type": "stream",
     "text": [
      "ok\n",
      "\n",
      "----------------------------------------------------------------------\n",
      "Ran 3 tests in 0.005s\n",
      "\n",
      "OK\n"
     ]
    },
    {
     "data": {
      "text/plain": [
       "<unittest.main.TestProgram at 0x7f722acc7f10>"
      ]
     },
     "execution_count": 32,
     "metadata": {},
     "output_type": "execute_result"
    }
   ],
   "source": [
    "from typing import List\n",
    "import numpy as np\n",
    "\n",
    "\"\"\"\n",
    "𝐹(𝑖,𝑗)=𝑚𝑎𝑥(𝐹(𝑖−1,𝑗),𝐹(𝑖,𝑗−1))\n",
    "\"\"\"\n",
    "def uniquePaths_obstacle(grid: List[List[int]]) -> int:\n",
    "    m = len(grid)\n",
    "    n = len(grid[0])\n",
    "    \n",
    "    dp = [[0 for _ in range(n)] for _ in range(m)]\n",
    "    dp[0][0] = 1\n",
    "    \n",
    "#     print(np.matrix(dp), end= \"\\n\\n\")\n",
    "    for i in range(m):\n",
    "        for j in range(n):\n",
    "            if grid[i][j] == 1:\n",
    "                dp[i][j] = 0\n",
    "                continue\n",
    "                \n",
    "            if i > 0 and j > 0:\n",
    "                dp[i][j] = dp[i - 1][j] + dp[i][j-1]\n",
    "            elif i > 0 and j == 0:\n",
    "                dp[i][j] = dp[i - 1][j]\n",
    "            elif j > 0 and i == 0:\n",
    "                dp[i][j] = dp[i][j-1]\n",
    "#     print(np.matrix(dp))\n",
    "    return dp[m-1][n-1]\n",
    "\n",
    "import unittest\n",
    "class UniquePathObstacle(unittest.TestCase):\n",
    "    def test_uniquePaths4(self):\n",
    "        maxtrix = [\n",
    "            [0, 0, 0, 0],\n",
    "            [0, 0, 1, 1],\n",
    "            [0, 0, 0, 0]        \n",
    "         ]\n",
    "        result = uniquePaths_obstacle(maxtrix)\n",
    "        self.assertEqual(result, 3)\n",
    "        \n",
    "    def test_uniquePaths2(self):\n",
    "        maxtrix = [\n",
    "            [0, 1, 0, 0],\n",
    "            [0, 0, 1, 1],\n",
    "            [0, 0, 0, 0]        \n",
    "         ]\n",
    "        result = uniquePaths_obstacle(maxtrix)\n",
    "        self.assertEqual(result, 2)\n",
    "\n",
    "unittest.main(argv=[''], verbosity=2, exit=False)"
   ]
  }
 ],
 "metadata": {
  "kernelspec": {
   "display_name": "Python 3",
   "language": "python",
   "name": "python3"
  },
  "language_info": {
   "codemirror_mode": {
    "name": "ipython",
    "version": 3
   },
   "file_extension": ".py",
   "mimetype": "text/x-python",
   "name": "python",
   "nbconvert_exporter": "python",
   "pygments_lexer": "ipython3",
   "version": "3.8.3"
  }
 },
 "nbformat": 4,
 "nbformat_minor": 4
}
