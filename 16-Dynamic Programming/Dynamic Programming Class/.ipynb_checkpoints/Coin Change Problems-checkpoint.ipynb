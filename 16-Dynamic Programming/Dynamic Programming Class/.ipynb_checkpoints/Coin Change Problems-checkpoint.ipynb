{
 "cells": [
  {
   "cell_type": "markdown",
   "metadata": {},
   "source": [
    "> **Coin change problem**\n",
    "\n",
    " - Given an unlimited supply of coins of given denominations, find the total number of ways to make a change of size n.\n",
    " <br>\n",
    " <br>\n",
    " \n",
    " _**Framework for solving DP problems :**_\n",
    "\n",
    " 1. Transition function) for the optimised objective function\n",
    "     - $ F(n) = F(n-d_1) + F(n-d_2) + F(n-d_3) + ... + F(n-d_k) $\n",
    " 2. What's the order of execution ?\n",
    "     - Bottom Up approach\n",
    " 3. Where to look for the answer\n",
    "     - f(n)\n",
    "         \n",
    " <br>\n",
    " <br>\n",
    " \n",
    "_Time complexity: O(N) | Space complexity: O(N)_\n"
   ]
  },
  {
   "cell_type": "code",
   "execution_count": 12,
   "metadata": {},
   "outputs": [
    {
     "name": "stderr",
     "output_type": "stream",
     "text": [
      "test_coinchange_test1 (__main__.CoinChangeTest) ... ok\n",
      "test_coinchange_test2 (__main__.CoinChangeTest) ... ok\n",
      "test_coinchange_withDeno_test1 (__main__.CoinChangeWithDenominationTest) ... ok\n",
      "test_coinchange_withDeno_test2 (__main__.CoinChangeWithDenominationTest) ... ok\n",
      "\n",
      "----------------------------------------------------------------------\n",
      "Ran 4 tests in 0.007s\n",
      "\n",
      "OK\n"
     ]
    },
    {
     "data": {
      "text/plain": [
       "<unittest.main.TestProgram at 0x7f79959b1ac0>"
      ]
     },
     "execution_count": 12,
     "metadata": {},
     "output_type": "execute_result"
    }
   ],
   "source": [
    "# coinChange(4)\n",
    "def coinChange(n):\n",
    "    dp = [0 for _ in range(n + 1)]\n",
    "    dp[0] = 1\n",
    "    for i in range(n + 1):\n",
    "        if i >= 1:\n",
    "            dp[i] += dp[i-1]\n",
    "        if i >= 3: \n",
    "            dp[i] += dp[i-3]\n",
    "        if i >= 5:\n",
    "            dp[i] += dp[i-5]\n",
    "        if i >= 10:\n",
    "            dp[i] += dp[i-10]\n",
    "    return dp[n]\n",
    "    \n",
    "    \n",
    "import unittest\n",
    "class CoinChangeTest(unittest.TestCase):\n",
    "    def test_coinchange_test1(self):\n",
    "        result = coinChange(10)\n",
    "        self.assertEqual(result, 48)\n",
    "        \n",
    "    def test_coinchange_test2(self):\n",
    "        result = coinChange(4)\n",
    "        self.assertEqual(result, 3)\n",
    "\n",
    "unittest.main(argv=[''], verbosity=2, exit=False)"
   ]
  },
  {
   "cell_type": "code",
   "execution_count": null,
   "metadata": {},
   "outputs": [],
   "source": []
  },
  {
   "cell_type": "code",
   "execution_count": null,
   "metadata": {},
   "outputs": [],
   "source": []
  },
  {
   "cell_type": "code",
   "execution_count": 13,
   "metadata": {},
   "outputs": [
    {
     "name": "stderr",
     "output_type": "stream",
     "text": [
      "test_coinchange_test1 (__main__.CoinChangeTest) ... ok\n",
      "test_coinchange_test2 (__main__.CoinChangeTest) ... ok\n",
      "test_coinchange_withDeno_test1 (__main__.CoinChangeWithDenominationTest) ... ok\n",
      "test_coinchange_withDeno_test2 (__main__.CoinChangeWithDenominationTest) ... ok\n",
      "\n",
      "----------------------------------------------------------------------\n",
      "Ran 4 tests in 0.009s\n",
      "\n",
      "OK\n"
     ]
    },
    {
     "data": {
      "text/plain": [
       "<unittest.main.TestProgram at 0x7f79951cf790>"
      ]
     },
     "execution_count": 13,
     "metadata": {},
     "output_type": "execute_result"
    }
   ],
   "source": [
    "# coinChange(4)\n",
    "def coinChangeWithDenominations(n, coins):\n",
    "    dp = [0 for _ in range(n + 1)]\n",
    "    dp[0] = 1\n",
    "    for i in range(n + 1):\n",
    "        for coin in coins:\n",
    "            if i - coin >= 0:\n",
    "                dp[i] += dp[i-coin]\n",
    "    return dp[n]\n",
    "    \n",
    "    \n",
    "import unittest\n",
    "class CoinChangeWithDenominationTest(unittest.TestCase):\n",
    "    def test_coinchange_withDeno_test1(self):\n",
    "        result = coinChangeWithDenominations(10, [1,3,5,10])\n",
    "        self.assertEqual(result, 48)\n",
    "        \n",
    "    def test_coinchange_withDeno_test2(self):\n",
    "        result = coinChangeWithDenominations(4, [1,3,5,10])\n",
    "        self.assertEqual(result, 3)\n",
    "\n",
    "unittest.main(argv=[''], verbosity=2, exit=False)"
   ]
  }
 ],
 "metadata": {
  "kernelspec": {
   "display_name": "Python 3",
   "language": "python",
   "name": "python3"
  },
  "language_info": {
   "codemirror_mode": {
    "name": "ipython",
    "version": 3
   },
   "file_extension": ".py",
   "mimetype": "text/x-python",
   "name": "python",
   "nbconvert_exporter": "python",
   "pygments_lexer": "ipython3",
   "version": "3.8.3"
  }
 },
 "nbformat": 4,
 "nbformat_minor": 4
}
