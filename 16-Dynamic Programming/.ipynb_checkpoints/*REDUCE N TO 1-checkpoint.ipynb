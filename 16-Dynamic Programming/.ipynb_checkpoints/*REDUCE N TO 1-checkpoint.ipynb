{
 "cells": [
  {
   "cell_type": "markdown",
   "metadata": {},
   "source": [
    ">** Minimum number of steps to reduce N to 1**\n",
    "\n",
    "    Available steps are:\n",
    "    - Decrement n by 1\n",
    "    - if n is divisible by 2, then divide n by 2\n",
    "    - if n is divisible by 3, then divide n by 3\n",
    "    \n",
    "    Example:\n",
    "    - 10 => 3 steps (10 => 9 => 3 => 1)\n",
    "    - 15 => 4 steps (15 => 5 => 4 => 2 => 1)"
   ]
  },
  {
   "cell_type": "code",
   "execution_count": 11,
   "metadata": {},
   "outputs": [
    {
     "name": "stderr",
     "output_type": "stream",
     "text": [
      "test_minOperations_test1 (__main__.ReduceToOneTest) ... ERROR\n",
      "test_minOperations_test2 (__main__.ReduceToOneTest) ... ERROR\n",
      "\n",
      "======================================================================\n",
      "ERROR: test_minOperations_test1 (__main__.ReduceToOneTest)\n",
      "----------------------------------------------------------------------\n",
      "Traceback (most recent call last):\n",
      "  File \"<ipython-input-11-fc0f5d6aec1b>\", line 22, in test_minOperations_test1\n",
      "    result = Solution().reduce_to_one(10)\n",
      "  File \"<ipython-input-11-fc0f5d6aec1b>\", line 16, in reduce_to_one\n",
      "    return reduce(n)\n",
      "  File \"<ipython-input-11-fc0f5d6aec1b>\", line 10, in reduce\n",
      "    result = reduce(num - 1)\n",
      "  File \"<ipython-input-11-fc0f5d6aec1b>\", line 10, in reduce\n",
      "    result = reduce(num - 1)\n",
      "  File \"<ipython-input-11-fc0f5d6aec1b>\", line 10, in reduce\n",
      "    result = reduce(num - 1)\n",
      "  [Previous line repeated 2943 more times]\n",
      "  File \"<ipython-input-11-fc0f5d6aec1b>\", line 7, in reduce\n",
      "    if n == 1:\n",
      "RecursionError: maximum recursion depth exceeded in comparison\n",
      "\n",
      "======================================================================\n",
      "ERROR: test_minOperations_test2 (__main__.ReduceToOneTest)\n",
      "----------------------------------------------------------------------\n",
      "Traceback (most recent call last):\n",
      "  File \"<ipython-input-11-fc0f5d6aec1b>\", line 26, in test_minOperations_test2\n",
      "    result = Solution().reduce_to_one(15)\n",
      "  File \"<ipython-input-11-fc0f5d6aec1b>\", line 16, in reduce_to_one\n",
      "    return reduce(n)\n",
      "  File \"<ipython-input-11-fc0f5d6aec1b>\", line 10, in reduce\n",
      "    result = reduce(num - 1)\n",
      "  File \"<ipython-input-11-fc0f5d6aec1b>\", line 10, in reduce\n",
      "    result = reduce(num - 1)\n",
      "  File \"<ipython-input-11-fc0f5d6aec1b>\", line 10, in reduce\n",
      "    result = reduce(num - 1)\n",
      "  [Previous line repeated 2943 more times]\n",
      "  File \"<ipython-input-11-fc0f5d6aec1b>\", line 7, in reduce\n",
      "    if n == 1:\n",
      "RecursionError: maximum recursion depth exceeded in comparison\n",
      "\n",
      "----------------------------------------------------------------------\n",
      "Ran 2 tests in 0.026s\n",
      "\n",
      "FAILED (errors=2)\n"
     ]
    },
    {
     "data": {
      "text/plain": [
       "<unittest.main.TestProgram at 0x7f18882c3fa0>"
      ]
     },
     "execution_count": 11,
     "metadata": {},
     "output_type": "execute_result"
    }
   ],
   "source": [
    "from typing import List\n",
    "import numpy\n",
    "\n",
    "class Solution:\n",
    "    def reduce_to_one(self, n: int) -> int:\n",
    "        def reduce(num):\n",
    "            if n == 1:\n",
    "                return 0\n",
    "            \n",
    "            result = reduce(num - 1)\n",
    "            if result%2 == 0:\n",
    "                result = min(result, reduce(num//2))\n",
    "            if result%3 == 0:\n",
    "                result = min(result, reduce(num//3))\n",
    "            return 1 + result\n",
    "        return reduce(n)\n",
    "\n",
    "\n",
    "import unittest\n",
    "class ReduceToOneTest(unittest.TestCase):\n",
    "    def test_reduce_to_one_test1(self):\n",
    "        result = Solution().reduce_to_one(10)\n",
    "        self.assertEqual(result, 3)\n",
    "\n",
    "    def test_reduce_to_one_test2(self):\n",
    "        result = Solution().reduce_to_one(15)\n",
    "        self.assertEqual(result, 4)\n",
    "        \n",
    "unittest.main(argv=[''], verbosity=2, exit=False)"
   ]
  }
 ],
 "metadata": {
  "kernelspec": {
   "display_name": "Python 3",
   "language": "python",
   "name": "python3"
  },
  "language_info": {
   "codemirror_mode": {
    "name": "ipython",
    "version": 3
   },
   "file_extension": ".py",
   "mimetype": "text/x-python",
   "name": "python",
   "nbconvert_exporter": "python",
   "pygments_lexer": "ipython3",
   "version": "3.8.3"
  }
 },
 "nbformat": 4,
 "nbformat_minor": 4
}
