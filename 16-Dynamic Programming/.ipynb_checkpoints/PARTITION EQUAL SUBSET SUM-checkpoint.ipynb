{
 "cells": [
  {
   "cell_type": "markdown",
   "metadata": {},
   "source": [
    ">**Given a non-empty array nums containing only positive integers, find if the array can be partitioned into two subsets such that the sum of elements in both subsets is equal.**\n",
    "\n",
    "1. https://github.com/netsetos/python_code/blob/master/partition\n",
    "2. https://www.geeksforgeeks.org/partition-problem-dp-18/"
   ]
  },
  {
   "cell_type": "code",
   "execution_count": 2,
   "metadata": {},
   "outputs": [],
   "source": [
    "from typing import List\n",
    "\n",
    "def canPartition(self, nums: List[int]) -> bool:\n",
    "    numSum = sum(nums)\n",
    "    \n",
    "    if numSum & 1:\n",
    "        return False\n",
    "    \n",
    "    n = len(nums)\n",
    "    colSize = numSum//2\n",
    "    \n",
    "    dp = [[False for i in range(colSize + 1)] for i in range(n + 1)]\n",
    "    \n",
    "    for i in range(n + 1):\n",
    "        dp[i][0] = True\n",
    "    for j in range(colSize + 1):\n",
    "        dp[0][j] = False\n",
    "    \n",
    "    for i in range(1, n + 1):\n",
    "        for j in range(1, colSize + 1):\n",
    "            if nums[i - 1] > j:\n",
    "                dp[i][j] = dp[i-1][j]\n",
    "            if j >= nums[i - 1]:\n",
    "                dp[i][j] = dp[i-1][j] or dp[i-1][j - nums[i - 1]]\n",
    "    return dp[n][colSize]"
   ]
  }
 ],
 "metadata": {
  "kernelspec": {
   "display_name": "Python 3",
   "language": "python",
   "name": "python3"
  },
  "language_info": {
   "codemirror_mode": {
    "name": "ipython",
    "version": 3
   },
   "file_extension": ".py",
   "mimetype": "text/x-python",
   "name": "python",
   "nbconvert_exporter": "python",
   "pygments_lexer": "ipython3",
   "version": "3.8.3"
  }
 },
 "nbformat": 4,
 "nbformat_minor": 4
}
