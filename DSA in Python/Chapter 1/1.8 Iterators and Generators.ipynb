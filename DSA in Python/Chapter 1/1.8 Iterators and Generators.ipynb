{
 "cells": [
  {
   "cell_type": "markdown",
   "id": "least-borough",
   "metadata": {},
   "source": [
    "> An **iterator** is an object that manages an iteration through a series of values. If variable, i, identifies an iterator object, then each call to the built-in function, next(i), produces a subsequent element from the underlying series, with a StopIteration exception raised to indicate that there are no further elements.\n",
    "\n",
    "<br>\n",
    "\n",
    "> An **iterable** is an object, obj, that produces an iterator via the syntax iter(obj)."
   ]
  },
  {
   "cell_type": "code",
   "execution_count": null,
   "id": "essential-suicide",
   "metadata": {},
   "outputs": [],
   "source": []
  }
 ],
 "metadata": {
  "kernelspec": {
   "display_name": "Python 3",
   "language": "python",
   "name": "python3"
  },
  "language_info": {
   "codemirror_mode": {
    "name": "ipython",
    "version": 3
   },
   "file_extension": ".py",
   "mimetype": "text/x-python",
   "name": "python",
   "nbconvert_exporter": "python",
   "pygments_lexer": "ipython3",
   "version": "3.9.1"
  }
 },
 "nbformat": 4,
 "nbformat_minor": 5
}
