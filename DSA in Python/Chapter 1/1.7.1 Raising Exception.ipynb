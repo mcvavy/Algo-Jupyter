{
 "cells": [
  {
   "cell_type": "markdown",
   "id": "sufficient-catholic",
   "metadata": {},
   "source": [
    "### Raising Exceptions"
   ]
  },
  {
   "cell_type": "code",
   "execution_count": 7,
   "id": "automated-thong",
   "metadata": {},
   "outputs": [
    {
     "name": "stdout",
     "output_type": "stream",
     "text": [
      "Something bad has happened\n"
     ]
    }
   ],
   "source": [
    "import math\n",
    "\n",
    "def squaroot(x):\n",
    "    if not isinstance(x, (int, float)):\n",
    "        raise TypeError(f\"{x} must be numeric\")\n",
    "    elif x < 0:\n",
    "        raise ValueError(f\"{x} cannot be negative\")\n",
    "    return math.sqrt(x)\n",
    "\n",
    "try:\n",
    "    squaroot(-1)\n",
    "except ValueError:\n",
    "    print(\"Something bad has happened\")\n",
    "except Exception:\n",
    "    print(\"Something very terrible has happened\")"
   ]
  }
 ],
 "metadata": {
  "kernelspec": {
   "display_name": "Python 3",
   "language": "python",
   "name": "python3"
  },
  "language_info": {
   "codemirror_mode": {
    "name": "ipython",
    "version": 3
   },
   "file_extension": ".py",
   "mimetype": "text/x-python",
   "name": "python",
   "nbconvert_exporter": "python",
   "pygments_lexer": "ipython3",
   "version": "3.9.1"
  }
 },
 "nbformat": 4,
 "nbformat_minor": 5
}
