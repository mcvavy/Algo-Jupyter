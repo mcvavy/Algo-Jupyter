{
 "cells": [
  {
   "cell_type": "code",
   "execution_count": 1,
   "id": "traditional-hardware",
   "metadata": {},
   "outputs": [
    {
     "name": "stdout",
     "output_type": "stream",
     "text": [
      "---- 0\n",
      "--\n",
      "---\n",
      "--\n",
      "---- 1\n",
      "--\n",
      "---\n",
      "--\n",
      "---- 2\n",
      "--\n",
      "---\n",
      "--\n",
      "---- 3\n",
      "--\n",
      "---\n",
      "--\n",
      "---- 4\n",
      "--\n",
      "---\n",
      "--\n",
      "---- 5\n"
     ]
    }
   ],
   "source": [
    "class EnglishRuler:\n",
    "    def __init__(self, num_inches, major_length):\n",
    "        self.num_inches = num_inches\n",
    "        self.major_length = major_length\n",
    "        \n",
    "    def draw_line(self, tick_length, tick_lalbel=\"\"):\n",
    "        line = \"-\" * tick_length\n",
    "        if tick_lalbel:\n",
    "            line += \" \" + tick_lalbel\n",
    "        print(line)\n",
    "    \n",
    "    def draw_interval(self, center_length):\n",
    "        if center_length > 0:\n",
    "            self.draw_line(center_length - 1)\n",
    "            self.draw_line(center_length)\n",
    "            self.draw_line(center_length - 1)\n",
    "        \n",
    "    def draw_ruler(self):\n",
    "        self.draw_line(self.major_length, \"0\")\n",
    "        for i in range(1, self.num_inches + 1):\n",
    "            self.draw_interval(self.major_length - 1)\n",
    "            self.draw_line(self.major_length, str(i))\n",
    "            \n",
    "eng = EnglishRuler(5, 4)\n",
    "eng.draw_ruler()"
   ]
  }
 ],
 "metadata": {
  "kernelspec": {
   "display_name": "Python 3",
   "language": "python",
   "name": "python3"
  },
  "language_info": {
   "codemirror_mode": {
    "name": "ipython",
    "version": 3
   },
   "file_extension": ".py",
   "mimetype": "text/x-python",
   "name": "python",
   "nbconvert_exporter": "python",
   "pygments_lexer": "ipython3",
   "version": "3.9.1"
  }
 },
 "nbformat": 4,
 "nbformat_minor": 5
}
