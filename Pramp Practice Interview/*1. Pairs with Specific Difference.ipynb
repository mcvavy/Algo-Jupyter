{
 "cells": [
  {
   "cell_type": "markdown",
   "metadata": {},
   "source": [
    "> **Pairs with Specific Difference**  \n",
    "\n",
    "https://www.pramp.com/challenge/XdMZJgZoAnFXqwjJwnpZ\n"
   ]
  },
  {
   "cell_type": "markdown",
   "metadata": {},
   "source": [
    "**Brute Force Approach**"
   ]
  },
  {
   "cell_type": "code",
   "execution_count": 45,
   "metadata": {},
   "outputs": [
    {
     "data": {
      "text/plain": [
       "[[1, 0], [0, -1], [-1, -2], [2, 1]]"
      ]
     },
     "execution_count": 45,
     "metadata": {},
     "output_type": "execute_result"
    }
   ],
   "source": [
    "def find_pairs_with_given_difference(arr, k):\n",
    "    result = []\n",
    "    seen_x = {key:val for val, key in enumerate(arr)}\n",
    "    for y in arr:\n",
    "        if k + y in seen_x:\n",
    "            result.append([k+y, y])\n",
    "    return result\n",
    "find_pairs_with_given_difference([0, -1, -2, 2, 1],1)"
   ]
  }
 ],
 "metadata": {
  "kernelspec": {
   "display_name": "Python 3",
   "language": "python",
   "name": "python3"
  },
  "language_info": {
   "codemirror_mode": {
    "name": "ipython",
    "version": 3
   },
   "file_extension": ".py",
   "mimetype": "text/x-python",
   "name": "python",
   "nbconvert_exporter": "python",
   "pygments_lexer": "ipython3",
   "version": "3.8.3"
  }
 },
 "nbformat": 4,
 "nbformat_minor": 4
}
