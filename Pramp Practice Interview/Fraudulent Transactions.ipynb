{
 "cells": [
  {
   "cell_type": "code",
   "execution_count": null,
   "id": "advised-indianapolis",
   "metadata": {},
   "outputs": [],
   "source": []
  },
  {
   "cell_type": "code",
   "execution_count": 4,
   "id": "smooth-messenger",
   "metadata": {},
   "outputs": [
    {
     "name": "stdout",
     "output_type": "stream",
     "text": [
      "[['Bob' '50' '20' 'Boston']\n",
      " ['Bob' '100' '75' 'Boston']\n",
      " ['Anne' '2000' '10' 'Boston']\n",
      " ['Bob' '50' '70' 'New York']]\n"
     ]
    }
   ],
   "source": [
    "from typing import NamedTuple, List\n",
    "from collections import defaultdict\n",
    "import numpy\n",
    "\n",
    "class Transaction(NamedTuple):\n",
    "    name: str\n",
    "    amount: int\n",
    "    time: int\n",
    "    location: str\n",
    "    \n",
    "def detect_fraudulent(transactions: List[Transaction]) -> List[Transaction]:\n",
    "    result = set()\n",
    "    map = defaultdict(list)\n",
    "    \n",
    "    # O(N)\n",
    "    for transaction in transactions:\n",
    "        map[transaction.name].append(transaction)\n",
    "        \n",
    "        \n",
    "    # O(N)\n",
    "    for k, v in map.items():\n",
    "        if len(v) > 1:\n",
    "            temp = v[0]\n",
    "            if temp.amount > 1000:\n",
    "                result.add(temp)\n",
    "            for t in v[1:]:\n",
    "                if t.amount > 1000:\n",
    "                    result.add(t)\n",
    "                if (t.time - temp.time) <= 60 and t.location != temp.location:\n",
    "                    result.add(t)\n",
    "                    result.add(temp) \n",
    "                temp = t\n",
    "    return list(result)\n",
    "\n",
    "    ''''\n",
    "    \n",
    "    '''\n",
    "\n",
    "raw_transactions = [\n",
    "Transaction(\"Anne\", 100, 1, \"Boston\"),\n",
    "Transaction(\"Anne\", 2000, 10, \"Boston\"),\n",
    "Transaction(\"Bob\", 50, 20, \"Boston\"),\n",
    "Transaction(\"Cindy\", 100, 50, \"New York\"),\n",
    "Transaction(\"Bob\", 50, 70, \"New York\"),\n",
    "Transaction(\"Bob\", 100, 75, \"Boston\")]\n",
    "\n",
    "\n",
    "print(numpy.matrix(detect_fraudulent(raw_transactions)))"
   ]
  },
  {
   "cell_type": "code",
   "execution_count": null,
   "id": "terminal-collector",
   "metadata": {},
   "outputs": [],
   "source": []
  },
  {
   "cell_type": "code",
   "execution_count": null,
   "id": "guilty-capture",
   "metadata": {},
   "outputs": [],
   "source": []
  },
  {
   "cell_type": "code",
   "execution_count": 58,
   "id": "surgical-issue",
   "metadata": {},
   "outputs": [
    {
     "name": "stdout",
     "output_type": "stream",
     "text": [
      "defaultdict(<class 'list'>, {'alice': [Transaction(name='alice', time='20', amount='800', city='mtv'), Transaction(name='alice', time='50', amount='1200', city='mtv')]})\n"
     ]
    },
    {
     "data": {
      "text/plain": [
       "['alice,50,1200,mtv']"
      ]
     },
     "execution_count": 58,
     "metadata": {},
     "output_type": "execute_result"
    }
   ],
   "source": [
    "from typing import List\n",
    "\n",
    "class Transaction(NamedTuple):\n",
    "    name: str\n",
    "    time: str\n",
    "    amount: str\n",
    "    city: str\n",
    "        \n",
    "class Solution:\n",
    "    def input_reader(self, text:str) -> Transaction:\n",
    "        splitted = text.split(',')\n",
    "        return Transaction(*splitted)\n",
    "    \n",
    "    def invalidTransactions(self, transactions: List[str]) -> List[str]:\n",
    "        result = []\n",
    "        map = defaultdict(list)\n",
    "        \n",
    "        for transaction in transactions:\n",
    "            processed = self.input_reader(transaction)\n",
    "            map[processed.name].append(processed)\n",
    "        print(map)\n",
    "        \n",
    "        for k, v in map.items():\n",
    "            temp = v[0]\n",
    "            for i in range(len(v)):\n",
    "                current: Transaction = v[i]\n",
    "                if int(current.amount) > 1000:\n",
    "                    result.append(current)\n",
    "                if ((int(current.time) - int(temp.time)) <= 60 and current.city != temp.city):\n",
    "                    for t in v:\n",
    "                        result.append(t)\n",
    "                    break\n",
    "\n",
    "                temp = current\n",
    "                       \n",
    "        return [\",\".join(x) for x in result]\n",
    "\n",
    "# transactions = [\"alice,20,800,mtv\",\"alice,50,100,beijing\"]\n",
    "transactions = [\"alice,20,800,mtv\",\"alice,50,1200,mtv\"]\n",
    "# transactions = [\"alice,20,800,mtv\",\"alice,50,100,mtv\",\"alice,51,100,frankfurt\"]\n",
    "Solution().invalidTransactions(transactions)                 \n",
    "            "
   ]
  }
 ],
 "metadata": {
  "kernelspec": {
   "display_name": "Python 3",
   "language": "python",
   "name": "python3"
  },
  "language_info": {
   "codemirror_mode": {
    "name": "ipython",
    "version": 3
   },
   "file_extension": ".py",
   "mimetype": "text/x-python",
   "name": "python",
   "nbconvert_exporter": "python",
   "pygments_lexer": "ipython3",
   "version": "3.9.1"
  }
 },
 "nbformat": 4,
 "nbformat_minor": 5
}
