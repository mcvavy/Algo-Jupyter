{
 "cells": [
  {
   "cell_type": "markdown",
   "metadata": {},
   "source": [
    "> **Matrix Spiral Copy**  \n",
    "\n",
    "https://www.pramp.com/challenge/ml9AwEA42YHK735G3lq5\n"
   ]
  },
  {
   "cell_type": "code",
   "execution_count": 2,
   "metadata": {},
   "outputs": [
    {
     "data": {
      "text/plain": [
       "[1, 2, 3, 4, 5, 10, 15, 20, 19, 18, 17, 16, 11, 6, 7, 8, 9, 14, 13, 12]"
      ]
     },
     "execution_count": 2,
     "metadata": {},
     "output_type": "execute_result"
    }
   ],
   "source": [
    "def spiral_copy(A):\n",
    "    if not A: return []\n",
    "\n",
    "    rowStart = 0\n",
    "    rowEnd = len(A) - 1\n",
    "\n",
    "    colStart = 0\n",
    "    colEnd = len(A[0]) - 1\n",
    "\n",
    "    result = []\n",
    "\n",
    "    while rowStart <= rowEnd and colStart <= colEnd:\n",
    "        for col1 in range(colStart, colEnd + 1):\n",
    "            result.append(A[rowStart][col1])\n",
    "\n",
    "        for row1 in range(rowStart + 1, rowEnd + 1):\n",
    "            result.append(A[row1][colEnd])\n",
    "\n",
    "        for col2 in reversed(range(colStart, colEnd)):\n",
    "            if rowStart == rowEnd:\n",
    "                break\n",
    "            result.append(A[rowEnd][col2])\n",
    "\n",
    "        for row2 in reversed(range(rowStart + 1, rowEnd)):\n",
    "            if colStart == colEnd:\n",
    "                break\n",
    "            result.append(A[row2][colStart])\n",
    "\n",
    "        colStart += 1; colEnd -= 1\n",
    "        rowStart += 1; rowEnd -= 1\n",
    "    return result\n",
    "\n",
    "m = [ [1,    2,   3,  4,    5],\n",
    "      [6,    7,   8,  9,   10],\n",
    "      [11,  12,  13,  14,  15],\n",
    "      [16,  17,  18,  19,  20] ]\n",
    "\n",
    "spiral_copy(m)"
   ]
  }
 ],
 "metadata": {
  "kernelspec": {
   "display_name": "Python 3",
   "language": "python",
   "name": "python3"
  },
  "language_info": {
   "codemirror_mode": {
    "name": "ipython",
    "version": 3
   },
   "file_extension": ".py",
   "mimetype": "text/x-python",
   "name": "python",
   "nbconvert_exporter": "python",
   "pygments_lexer": "ipython3",
   "version": "3.8.3"
  }
 },
 "nbformat": 4,
 "nbformat_minor": 4
}
