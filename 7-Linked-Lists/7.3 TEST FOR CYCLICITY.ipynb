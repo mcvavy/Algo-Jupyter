{
 "cells": [
  {
   "cell_type": "markdown",
   "metadata": {},
   "source": [
    "> **Write a program that takes the head of a singly linked list and returns null if there does not exist a cycle, and the node at the start of the cycle, if a cycle is present, (You do not know the length of the list in advance.)**  \n",
    "\n",
    "_Hint: Consider using two iterators, one fast and one slow._ \n",
    "\n",
    "- [Solution Video Explanation](https://www.youtube.com/watch?v=-YiQZi3mLq0&ab_channel=GauravSen)\n",
    "\n",
    "- [Floyd's Cycle Detection Algorithm: Cyclic List](https://www.youtube.com/watch?v=zbozWoMgKW0&ab_channel=VivekanandKhyade-AlgorithmEveryDay)\n",
    "- [Why Floyd's Cycle Detection Algorithm](https://www.youtube.com/watch?v=LUm2ABqAs1w&ab_channel=VivekanandKhyade-AlgorithmEveryDay)\n",
    "- [Why Floyd's Algorithm works again](https://www.youtube.com/watch?v=9YTjXqqJEFE&ab_channel=JomaClass)"
   ]
  },
  {
   "cell_type": "code",
   "execution_count": null,
   "metadata": {},
   "outputs": [],
   "source": [
    "def has_cycle(head: ListNode) -> Optional[ListNode]:\n",
    "    slower = faster = head\n",
    "\n",
    "    while faster and faster.next and faster.next.next:\n",
    "        slower = slower.next\n",
    "        faster = faster.next.next\n",
    "\n",
    "        if slower is faster:\n",
    "            slower = head\n",
    "\n",
    "            while slower is not faster:\n",
    "                slower = slower.next\n",
    "                faster = faster.next\n",
    "            return slower\n",
    "    return None"
   ]
  }
 ],
 "metadata": {
  "kernelspec": {
   "display_name": "Python 3",
   "language": "python",
   "name": "python3"
  },
  "language_info": {
   "codemirror_mode": {
    "name": "ipython",
    "version": 3
   },
   "file_extension": ".py",
   "mimetype": "text/x-python",
   "name": "python",
   "nbconvert_exporter": "python",
   "pygments_lexer": "ipython3",
   "version": "3.8.3"
  }
 },
 "nbformat": 4,
 "nbformat_minor": 4
}
