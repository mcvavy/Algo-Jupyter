{
 "cells": [
  {
   "cell_type": "markdown",
   "metadata": {},
   "source": [
    "> **Write a program that takes two lists, assumed to be sorted, and returns their merge. The only field your program can change in a node is its next field.**  \n",
    "\n",
    "_Hint: Two sorted arrays can be merged using two indices. For lists, take care when one iterator reaches the end._"
   ]
  },
  {
   "cell_type": "code",
   "execution_count": null,
   "metadata": {},
   "outputs": [],
   "source": [
    "# Time complexity: O(m + n) | Space complexity: O(1)\n",
    "def merge_two_sorted_lists(L1: Optional[ListNode],\n",
    "                           L2: Optional[ListNode]) -> Optional[ListNode]:\n",
    "    head = tail = ListNode()\n",
    "    \n",
    "    while L1 and L2:\n",
    "        if L1.data < L2.data:\n",
    "            tail.next, L1 = L1, L1.next\n",
    "        else:\n",
    "            tail.next, L2 = L2, L2.next\n",
    "        tail = tail.next\n",
    "        \n",
    "    tail.next = L1 or L2\n",
    "    \n",
    "    return head.next\n",
    "    "
   ]
  }
 ],
 "metadata": {
  "kernelspec": {
   "display_name": "Python 3",
   "language": "python",
   "name": "python3"
  },
  "language_info": {
   "codemirror_mode": {
    "name": "ipython",
    "version": 3
   },
   "file_extension": ".py",
   "mimetype": "text/x-python",
   "name": "python",
   "nbconvert_exporter": "python",
   "pygments_lexer": "ipython3",
   "version": "3.9.1"
  }
 },
 "nbformat": 4,
 "nbformat_minor": 4
}
