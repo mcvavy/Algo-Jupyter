{
 "cells": [
  {
   "cell_type": "markdown",
   "metadata": {},
   "source": [
    "> **Design an algorithm to find the min and max elements in an array. For example , if A : [3,2,5,1,2,4], you should retum 1 for the min and 5 for the max.**   \n",
    "\n",
    "_Hint: Use the fact that a < b and b < c implies a < c to reduce the number of compares used by the brute force._\n"
   ]
  },
  {
   "cell_type": "markdown",
   "metadata": {},
   "source": [
    "> **Brute-force solution using O(N) time**"
   ]
  },
  {
   "cell_type": "code",
   "execution_count": 3,
   "metadata": {},
   "outputs": [
    {
     "data": {
      "text/plain": [
       "MinMax(smallest=1, largest=5)"
      ]
     },
     "execution_count": 3,
     "metadata": {},
     "output_type": "execute_result"
    }
   ],
   "source": [
    "from typing import List\n",
    "from collections import namedtuple\n",
    "\n",
    "MinMax = namedtuple('MinMax', ('smallest', 'largest'))\n",
    "\n",
    "\n",
    "def find_min_max(A: List[int]) -> MinMax:\n",
    "    minimum, maximum = float(\"inf\"), float(\"-inf\")\n",
    "    for x in A:\n",
    "        if x < minimum:\n",
    "            minimum = x\n",
    "        if x > maximum:\n",
    "            maximum = x\n",
    "    return MinMax(minimum, maximum)\n",
    "find_min_max([3,2,5,1,2,4])\n",
    "    "
   ]
  },
  {
   "cell_type": "code",
   "execution_count": null,
   "metadata": {},
   "outputs": [],
   "source": []
  },
  {
   "cell_type": "markdown",
   "metadata": {},
   "source": [
    "> **More Optional approach**"
   ]
  },
  {
   "cell_type": "code",
   "execution_count": 8,
   "metadata": {},
   "outputs": [
    {
     "data": {
      "text/plain": [
       "MinMax(smallest=1, largest=9)"
      ]
     },
     "execution_count": 8,
     "metadata": {},
     "output_type": "execute_result"
    }
   ],
   "source": [
    "from typing import List\n",
    "from collections import namedtuple\n",
    "\n",
    "MinMax = namedtuple('MinMax', ('smallest', 'largest'))\n",
    "\n",
    "# Time complexity: O(n)  | Space complexity: O(1)\n",
    "def find_min_max(A: List[int]) -> MinMax:\n",
    "    def min_max(a, b):\n",
    "        return MinMax(a, b) if a < b else MinMax(b, a)\n",
    "    \n",
    "    if len(A) <= 1: return MinMax(A[0], A[0])\n",
    "    \n",
    "    global_min_max = min_max(A[0], A[1])\n",
    "    \n",
    "    for i in range(2, len(A) - 1, 2):\n",
    "        local_min_max = min_max(A[i], A[i + 1])\n",
    "        global_min_max = min_max(min(global_min_max.smallest, local_min_max.smallest),\n",
    "                                max(global_min_max.largest, local_min_max.largest))\n",
    "    \n",
    "    if len(A) % 2:\n",
    "        global_min_max = min_max(min(global_min_max.smallest, A[-1]),\n",
    "                                max(global_min_max.largest, A[-1]))\n",
    "    return global_min_max\n",
    "\n",
    "find_min_max([3,2,5,1,2,4,9])"
   ]
  },
  {
   "cell_type": "code",
   "execution_count": null,
   "metadata": {},
   "outputs": [],
   "source": []
  },
  {
   "cell_type": "code",
   "execution_count": null,
   "metadata": {},
   "outputs": [],
   "source": []
  },
  {
   "cell_type": "markdown",
   "metadata": {},
   "source": [
    "> **You are given an array of z integers, each between 0 and n - 1., inclusive. Exactly one element aPpears twice, implying that exactly one number between 0 and n - 1 is missing from the array. How would you compute the duplicate and missing numbers?**   \n",
    "\n",
    "_Hint: Consider performing multiple passes through the array._"
   ]
  },
  {
   "cell_type": "code",
   "execution_count": 9,
   "metadata": {},
   "outputs": [
    {
     "name": "stdout",
     "output_type": "stream",
     "text": [
      "RESS ->  Max3(small=1, mid=17, big=141)\n",
      "RESS ->  Max3(small=1, mid=18, big=141)\n",
      "RESS ->  Max3(small=18, mid=141, big=541)\n"
     ]
    },
    {
     "data": {
      "text/plain": [
       "[18, 141, 541]"
      ]
     },
     "execution_count": 9,
     "metadata": {},
     "output_type": "execute_result"
    }
   ],
   "source": [
    "from collections import namedtuple as tuple\n",
    "\n",
    "Max3 = tuple(\"Max3\", (\"small\", \"mid\", \"big\"))\n",
    "\n",
    "# Time complexity: O(n)  | Space complexity: O(1)\n",
    "def findThreeLargestNumbers(A):\n",
    "    def max_3(a, b, c):\n",
    "        total = a + b + c\n",
    "        bg = max(max(a,b),c)\n",
    "        sm = min(min(a,b),c)\n",
    "        md = total - (sm + bg)\n",
    "        res = Max3(sm, md, bg)\n",
    "        print(\"RESS -> \", res)\n",
    "        return Max3(sm, md, bg)\n",
    "    if len(A) == 3:\n",
    "        global_max = max_3(A[0], A[1], A[2])\n",
    "    else:\n",
    "        global_max = max_3(A[0], A[1], A[2])\n",
    "        for i in range(3, len(A)):\n",
    "            if A[i] > global_max.big:\n",
    "                global_max = max_3(global_max.mid, global_max.big, A[i])\n",
    "                \n",
    "            if A[i] > global_max.mid and A[i] < global_max.big:\n",
    "                global_max = max_3(global_max.small, A[i], global_max.big)\n",
    "                \n",
    "            if A[i] > global_max.small and A[i] < global_max.mid and A[i] < global_max.big:\n",
    "                global_max = max_3(A[i],global_max.mid, global_max.big)\n",
    "\n",
    "    return [global_max.small, global_max.mid, global_max.big]\n",
    "findThreeLargestNumbers([141, 1, 17, -7, -17, -27, 18, 541, 8, 7, 7])"
   ]
  }
 ],
 "metadata": {
  "kernelspec": {
   "display_name": "Python 3",
   "language": "python",
   "name": "python3"
  },
  "language_info": {
   "codemirror_mode": {
    "name": "ipython",
    "version": 3
   },
   "file_extension": ".py",
   "mimetype": "text/x-python",
   "name": "python",
   "nbconvert_exporter": "python",
   "pygments_lexer": "ipython3",
   "version": "3.8.3"
  }
 },
 "nbformat": 4,
 "nbformat_minor": 4
}
