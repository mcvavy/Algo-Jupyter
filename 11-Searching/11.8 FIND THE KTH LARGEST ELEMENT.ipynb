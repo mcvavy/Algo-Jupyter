{
 "cells": [
  {
   "cell_type": "markdown",
   "metadata": {},
   "source": [
    "> **Design an algorithm for computing the kth largest element in an array.**   \n",
    "\n",
    "_Hint: Use divide and conquer in conjunction with randomization._\n"
   ]
  },
  {
   "cell_type": "code",
   "execution_count": 1,
   "metadata": {},
   "outputs": [],
   "source": [
    "from typing import List\n",
    "\n",
    "from test_framework import generic_test\n",
    "\n",
    "\n",
    "# The numbering starts from one, i.e., if A = [3, 1, -1, 2]\n",
    "# find_kth_largest(1, A) returns 3, find_kth_largest(2, A) returns 2,\n",
    "# find_kth_largest(3, A) returns 1, and find_kth_largest(4, A) returns -1.\n",
    "def find_kth_largest(k: int, A: List[int]) -> int:\n",
    "    # TODO - you fill in here.\n",
    "    return 0"
   ]
  }
 ],
 "metadata": {
  "kernelspec": {
   "display_name": "Python 3",
   "language": "python",
   "name": "python3"
  },
  "language_info": {
   "codemirror_mode": {
    "name": "ipython",
    "version": 3
   },
   "file_extension": ".py",
   "mimetype": "text/x-python",
   "name": "python",
   "nbconvert_exporter": "python",
   "pygments_lexer": "ipython3",
   "version": "3.8.3"
  }
 },
 "nbformat": 4,
 "nbformat_minor": 4
}
