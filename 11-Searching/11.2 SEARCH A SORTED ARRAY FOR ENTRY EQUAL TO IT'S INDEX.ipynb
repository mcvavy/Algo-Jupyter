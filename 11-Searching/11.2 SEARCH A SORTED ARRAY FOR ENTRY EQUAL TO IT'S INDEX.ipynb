{
 "cells": [
  {
   "attachments": {},
   "cell_type": "markdown",
   "metadata": {},
   "source": [
    "> **Design an efficient algorithm that takes a sorted array of distinct integers, and returns an index $i$ such that the element at index $i$ equals $i$. For example, when the input is $[-2,0,2,3,6,7,9]$ your algorithm should return 2 or 3.**   \n",
    "\n",
    "_Hint: Reduce this problem to ordinary binary search._  \n",
    "\n",
    "- **Solution tips:**\n",
    "    > Observe that if A[j] > j, then no entry after j can satisfy the given criterion. This is because each element in the array is at least 1 greater than the previous element. For the same reason , if A[j] < j , no entry before j can satisfy the given criterion. \n"
   ]
  },
  {
   "cell_type": "code",
   "execution_count": 4,
   "metadata": {},
   "outputs": [
    {
     "data": {
      "text/plain": [
       "3"
      ]
     },
     "execution_count": 4,
     "metadata": {},
     "output_type": "execute_result"
    }
   ],
   "source": [
    "from typing import List\n",
    "\n",
    "def search_entry_equal_to_its_index(A: List[int]) -> int:\n",
    "    result = -1\n",
    "    start = 0; end = len(A) - 1\n",
    "    \n",
    "    while start <= end:\n",
    "        mid = (start + end)//2\n",
    "        if A[mid] == mid:\n",
    "            return mid\n",
    "        elif A[mid] > mid:\n",
    "            end = mid - 1\n",
    "        else:\n",
    "            start = mid + 1\n",
    "    return result\n",
    "\n",
    "search_entry_equal_to_its_index([-2,0,2,3,6,7,9])"
   ]
  },
  {
   "cell_type": "code",
   "execution_count": null,
   "metadata": {},
   "outputs": [],
   "source": []
  },
  {
   "cell_type": "code",
   "execution_count": null,
   "metadata": {},
   "outputs": [],
   "source": []
  },
  {
   "cell_type": "markdown",
   "metadata": {},
   "source": [
    "> **Find the count of an element, k in a sorted list of integers**   \n",
    "\n",
    "_Hint: Reduce this problem to ordinary binary search._  \n",
    "\n",
    "- **Solution tips:**\n"
   ]
  },
  {
   "cell_type": "code",
   "execution_count": 15,
   "metadata": {},
   "outputs": [
    {
     "data": {
      "text/plain": [
       "5"
      ]
     },
     "execution_count": 15,
     "metadata": {},
     "output_type": "execute_result"
    }
   ],
   "source": [
    "# Time complexity : O(logN)\n",
    "def searchRange(nums: List[int], target: int) -> List[int]:\n",
    "    res = []\n",
    "    def find_first(A, t, start, end, first_flag: bool):\n",
    "        result = -1\n",
    "        while start <= end:\n",
    "            mid = (start + end)//2\n",
    "            if A[mid] == t:\n",
    "                result = mid\n",
    "                if first_flag:\n",
    "                    end = mid - 1\n",
    "                else:\n",
    "                    start = mid + 1\n",
    "            elif t < A[mid]:\n",
    "                end = mid - 1\n",
    "            else:\n",
    "                start = mid + 1\n",
    "        return result\n",
    "    return find_first(nums, target, 0, len(nums) - 1, False) - \\\n",
    "            find_first(nums, target, 0, len(nums) - 1, True) + 1\n",
    "\n",
    "searchRange([1,1,3,3,5,5,5,5,5,9,9,11], 5)"
   ]
  }
 ],
 "metadata": {
  "kernelspec": {
   "display_name": "Python 3",
   "language": "python",
   "name": "python3"
  },
  "language_info": {
   "codemirror_mode": {
    "name": "ipython",
    "version": 3
   },
   "file_extension": ".py",
   "mimetype": "text/x-python",
   "name": "python",
   "nbconvert_exporter": "python",
   "pygments_lexer": "ipython3",
   "version": "3.8.3"
  }
 },
 "nbformat": 4,
 "nbformat_minor": 4
}
