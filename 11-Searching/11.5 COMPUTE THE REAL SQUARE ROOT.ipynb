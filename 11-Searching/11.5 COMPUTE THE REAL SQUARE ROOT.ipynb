{
 "cells": [
  {
   "cell_type": "markdown",
   "metadata": {},
   "source": [
    "> **Implement a function which takes as input a floating point value and retums its square root.**   \n",
    "\n",
    "_Hint: Iteratively compute a sequence of intervals, each contained in the previous interval, that contain the result._ "
   ]
  },
  {
   "cell_type": "code",
   "execution_count": 10,
   "metadata": {},
   "outputs": [
    {
     "data": {
      "text/plain": [
       "4"
      ]
     },
     "execution_count": 10,
     "metadata": {},
     "output_type": "execute_result"
    }
   ],
   "source": [
    "def square_root(k: int) -> int:\n",
    "    start = 0;  end = k\n",
    "    \n",
    "    while start <= end:\n",
    "        mid = (start + end)//2\n",
    "        \n",
    "        square = mid**2\n",
    "        if square <= k:\n",
    "            start = mid + 1\n",
    "        else:\n",
    "            end = mid - 1\n",
    "    return start - 1"
   ]
  }
 ],
 "metadata": {
  "kernelspec": {
   "display_name": "Python 3",
   "language": "python",
   "name": "python3"
  },
  "language_info": {
   "codemirror_mode": {
    "name": "ipython",
    "version": 3
   },
   "file_extension": ".py",
   "mimetype": "text/x-python",
   "name": "python",
   "nbconvert_exporter": "python",
   "pygments_lexer": "ipython3",
   "version": "3.8.3"
  }
 },
 "nbformat": 4,
 "nbformat_minor": 4
}
