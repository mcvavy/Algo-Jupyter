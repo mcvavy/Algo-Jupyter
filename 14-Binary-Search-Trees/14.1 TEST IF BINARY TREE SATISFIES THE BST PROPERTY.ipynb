{
 "cells": [
  {
   "cell_type": "markdown",
   "metadata": {},
   "source": [
    "> **Write a Program that takes as input a binary tree and checks if the tree satisfies the BST property.**\n",
    "\n",
    "_Hint: ls it correct to check for each node that its key is greater than or equal to the key at its left child and less than or equal to the key at its right child?_\n",
    "\n",
    " - [Explanation: Check if Binary Tree is Binary Search Tree](https://www.youtube.com/watch?v=MILxfAbIhrE&ab_channel=TusharRoy-CodingMadeSimple)"
   ]
  },
  {
   "cell_type": "code",
   "execution_count": 1,
   "metadata": {
    "code_folding": []
   },
   "outputs": [],
   "source": [
    "class BinaryTreeNode:\n",
    "    def __init__(self, data=None, left=None, right=None):\n",
    "        self.data = data\n",
    "        self.left = left\n",
    "        self.right = right\n",
    "\n",
    "    def __eq__(self, other):\n",
    "        return equal_binary_trees(self, other)\n",
    "\n",
    "    def __repr__(self):\n",
    "        return str(binary_tree_to_string(self))\n",
    "\n",
    "    def __str__(self):\n",
    "        return self.__repr__()\n",
    "    \n",
    "def is_binary_tree_bst(tree: BinaryTreeNode) -> bool:\n",
    "    def is_bst_helper(tree: BinaryTreeNode, low = float(\"-inf\"), high = float(\"inf\")) -> bool:\n",
    "        if not tree:\n",
    "            return True\n",
    "        elif not low <= tree.data <= high:\n",
    "            return False\n",
    "        return is_bst_helper(tree.left, low, tree.data) and is_bst_helper(tree.right, tree.data, high)\n",
    "    return is_bst_helper(tree)"
   ]
  }
 ],
 "metadata": {
  "kernelspec": {
   "display_name": "Python 3",
   "language": "python",
   "name": "python3"
  },
  "language_info": {
   "codemirror_mode": {
    "name": "ipython",
    "version": 3
   },
   "file_extension": ".py",
   "mimetype": "text/x-python",
   "name": "python",
   "nbconvert_exporter": "python",
   "pygments_lexer": "ipython3",
   "version": "3.8.3"
  }
 },
 "nbformat": 4,
 "nbformat_minor": 4
}
