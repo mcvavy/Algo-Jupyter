{
 "cells": [
  {
   "cell_type": "markdown",
   "metadata": {},
   "source": [
    "> **Write a program that performs base conversion. The input is a string, an integer $b_1$, and another integer $b_2$. The string represents an integer in base $b_1$. The output should be the string representing the integer in $b_2$. Assume $2\\leq b_1,b_2 \\leq16$. Use \"A\" to represent 10, \"B\" for 11,..., and \"F\" for 15. (For example, if the string is \"615\", $b_1$ is 7 and $b_2$ is 13, then the result should be \"1A7\", since $6 * 7^2 + 1 * 7 + 5 = 1 * 13^2 + 10 * 13 + 7$.)**\n",
    "\n",
    "_Hint: What base can you easily convert to and from?_"
   ]
  },
  {
   "cell_type": "code",
   "execution_count": 22,
   "metadata": {},
   "outputs": [
    {
     "data": {
      "text/plain": [
       "'30262'"
      ]
     },
     "execution_count": 22,
     "metadata": {},
     "output_type": "execute_result"
    }
   ],
   "source": [
    "def convert_base(num_as_string: str, b1: int, b2: int) -> str:\n",
    "    def construct_from_base(b1, num_as_string: str) -> int:\n",
    "        result = 0\n",
    "        num_as_string = num_as_string[::-1]   \n",
    "        for i in range(len(num_as_string)):\n",
    "            result += int(num_as_string[i]) * b1**i\n",
    "        return result    \n",
    "    \n",
    "    integer_b1 = construct_from_base(b1, num_as_string)\n",
    "    \n",
    "    H = { 10: \"A\", 11: \"B\", 12: \"C\", 13: \"D\", 14: \"E\", 15: \"F\"}\n",
    "\n",
    "    res = []\n",
    "    while True:\n",
    "        mod = integer_b1 % b2\n",
    "        res.append(str(H.get(mod, mod)))\n",
    "        integer_b1 //= b2\n",
    "        if integer_b1 == 0:\n",
    "            break\n",
    "            \n",
    "    return ''.join(reversed(res))\n",
    "\n",
    "convert_base(\"7345\", 10, 7)"
   ]
  },
  {
   "cell_type": "code",
   "execution_count": null,
   "metadata": {},
   "outputs": [],
   "source": []
  },
  {
   "cell_type": "code",
   "execution_count": null,
   "metadata": {},
   "outputs": [],
   "source": []
  },
  {
   "cell_type": "markdown",
   "metadata": {},
   "source": [
    "> Less space solution using string constants \"string.hexdigits[index]\""
   ]
  },
  {
   "cell_type": "code",
   "execution_count": 39,
   "metadata": {},
   "outputs": [
    {
     "data": {
      "text/plain": [
       "'410324'"
      ]
     },
     "execution_count": 39,
     "metadata": {},
     "output_type": "execute_result"
    }
   ],
   "source": [
    "import string\n",
    "def convert_base(num_as_string: str, b1: int, b2: int) -> str:\n",
    "    def construct_from_base(b1, num_as_string: str) -> int:\n",
    "        result = 0\n",
    "        num_as_string = num_as_string[::-1]   \n",
    "        for i in range(len(num_as_string)):\n",
    "            result += string.hexdigits.index(num_as_string[i].lower()) * b1**i\n",
    "        return result    \n",
    "    \n",
    "    sign = ''\n",
    "    if num_as_string[0] == '-' or num_as_string[0] == '+':\n",
    "        if num_as_string[0] == '-':\n",
    "            sign = '-'\n",
    "        \n",
    "        num_as_string = num_as_string[1:]\n",
    "        \n",
    "    integer_b1 = construct_from_base(b1, num_as_string)\n",
    "    \n",
    "    res = []\n",
    "    while True:\n",
    "        res.append(string.hexdigits[integer_b1 % b2].upper())\n",
    "        integer_b1 //= b2\n",
    "        if integer_b1 == 0:\n",
    "            break\n",
    "            \n",
    "    return sign + ''.join(reversed(res))\n",
    "\n",
    "convert_base(\"4B5C\", 14, 5)"
   ]
  }
 ],
 "metadata": {
  "kernelspec": {
   "display_name": "Python 3",
   "language": "python",
   "name": "python3"
  },
  "language_info": {
   "codemirror_mode": {
    "name": "ipython",
    "version": 3
   },
   "file_extension": ".py",
   "mimetype": "text/x-python",
   "name": "python",
   "nbconvert_exporter": "python",
   "pygments_lexer": "ipython3",
   "version": "3.8.3"
  }
 },
 "nbformat": 4,
 "nbformat_minor": 4
}
