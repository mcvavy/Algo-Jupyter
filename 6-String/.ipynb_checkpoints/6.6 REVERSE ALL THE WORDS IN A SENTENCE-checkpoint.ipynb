{
 "cells": [
  {
   "cell_type": "markdown",
   "metadata": {},
   "source": [
    "> **Implement a function for reversing the words in a string s.**\n",
    "\n",
    "_Hint: lt's difficult to solve this with one pass._"
   ]
  },
  {
   "cell_type": "code",
   "execution_count": 27,
   "metadata": {},
   "outputs": [
    {
     "data": {
      "text/plain": [
       "['c', 'o', 's', 't', 'l', 'y', ' ', 'i', 's', ' ', 'r', 'a', 'm']"
      ]
     },
     "execution_count": 27,
     "metadata": {},
     "output_type": "execute_result"
    }
   ],
   "source": [
    "# Assume s is a list of strings, each of which is of length 1, e.g.,\n",
    "# ['r', 'a', 'm', ' ', 'i', 's', ' ', 'c', 'o', 's', 't', 'l', 'y'].\n",
    "def reverse_words(s):\n",
    "    def reverse_range(s, start, end):\n",
    "        while start < end:\n",
    "            s[start], s[end] = s[end], s[start]\n",
    "            start += 1\n",
    "            end -= 1\n",
    "        \n",
    "    s.reverse()\n",
    "    \n",
    "    space = ' '\n",
    "    start_index = 0\n",
    "    while True:\n",
    "        try:\n",
    "            end_index = s.index(space, start_index)\n",
    "        except ValueError:\n",
    "            break\n",
    "        #reverse the word in the range of start_index and end_index\n",
    "        reverse_range(s, start_index, end_index - 1)\n",
    "        start_index = end_index + 1\n",
    "        \n",
    "    #reverse last word, because space search does not cover this range\n",
    "    reverse_range(s, start_index, len(s) - 1)\n",
    "\n",
    "s = ['r','a','m',' ','i','s',' ','c','o','s','t','l','y']\n",
    "\n",
    "reverse_words(s)\n",
    "s"
   ]
  },
  {
   "cell_type": "code",
   "execution_count": null,
   "metadata": {},
   "outputs": [],
   "source": []
  },
  {
   "cell_type": "markdown",
   "metadata": {},
   "source": [
    "> **Variant solution**"
   ]
  },
  {
   "cell_type": "code",
   "execution_count": 30,
   "metadata": {},
   "outputs": [
    {
     "data": {
      "text/plain": [
       "['c', 'o', 's', 't', 'l', 'y', ' ', 'i', 's', ' ', 'r', 'a', 'm']"
      ]
     },
     "execution_count": 30,
     "metadata": {},
     "output_type": "execute_result"
    }
   ],
   "source": [
    "# Assume s is a list of strings, each of which is of length 1, e.g.,\n",
    "# ['r', 'a', 'm', ' ', 'i', 's', ' ', 'c', 'o', 's', 't', 'l', 'y'].\n",
    "\n",
    "# Time Complexity: O(n) | Space complexity: O(1)\n",
    "def reverse_words(s):\n",
    "    def reverse_range(start, end):\n",
    "        while start < end:\n",
    "            s[start], s[end] = s[end], s[start]\n",
    "            start += 1\n",
    "            end -= 1\n",
    "        \n",
    "    s.reverse()\n",
    "    \n",
    "    space = ' '\n",
    "    start_index = 0\n",
    "    while True:\n",
    "        end_index = start_index\n",
    "        while end_index < len(s) and s[end_index] != space:\n",
    "            end_index += 1\n",
    "        \n",
    "        if end_index == len(s): break\n",
    "            \n",
    "        #reverse the word in the range of start_index and end_index\n",
    "        reverse_range(start_index, end_index - 1)\n",
    "        start_index = end_index + 1\n",
    "        \n",
    "    #reverse last word, because space search does not cover this range\n",
    "    reverse_range(start_index, len(s) - 1)\n",
    "\n",
    "s = ['r','a','m',' ','i','s',' ','c','o','s','t','l','y']\n",
    "\n",
    "reverse_words(s)\n",
    "s"
   ]
  }
 ],
 "metadata": {
  "kernelspec": {
   "display_name": "Python 3",
   "language": "python",
   "name": "python3"
  },
  "language_info": {
   "codemirror_mode": {
    "name": "ipython",
    "version": 3
   },
   "file_extension": ".py",
   "mimetype": "text/x-python",
   "name": "python",
   "nbconvert_exporter": "python",
   "pygments_lexer": "ipython3",
   "version": "3.8.3"
  }
 },
 "nbformat": 4,
 "nbformat_minor": 4
}
