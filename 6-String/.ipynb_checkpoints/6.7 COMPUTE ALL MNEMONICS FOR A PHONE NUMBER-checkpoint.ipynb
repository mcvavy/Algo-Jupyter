{
 "cells": [
  {
   "cell_type": "markdown",
   "metadata": {},
   "source": [
    "> **Write a program which takes as input a phone number, specified as a string of digits, and returns all possible character sequences that correspond to the phone number. The cell phone keypad is specified by a mapping that takes a digit and returns the corresponding set of characters. The character sequences do not have to be legal words or phrases.**\n",
    "\n",
    "<div>\n",
    "<img src=\"https://upload.wikimedia.org/wikipedia/commons/7/7d/Telephone-keypad.png\" width=\"210\"/>\n",
    "</div>\n",
    "\n",
    "_Hint: Use recursion._"
   ]
  },
  {
   "cell_type": "code",
   "execution_count": 9,
   "metadata": {},
   "outputs": [
    {
     "data": {
      "text/plain": [
       "['AJJ',\n",
       " 'AJK',\n",
       " 'AJL',\n",
       " 'AKJ',\n",
       " 'AKK',\n",
       " 'AKL',\n",
       " 'ALJ',\n",
       " 'ALK',\n",
       " 'ALL',\n",
       " 'BJJ',\n",
       " 'BJK',\n",
       " 'BJL',\n",
       " 'BKJ',\n",
       " 'BKK',\n",
       " 'BKL',\n",
       " 'BLJ',\n",
       " 'BLK',\n",
       " 'BLL',\n",
       " 'CJJ',\n",
       " 'CJK',\n",
       " 'CJL',\n",
       " 'CKJ',\n",
       " 'CKK',\n",
       " 'CKL',\n",
       " 'CLJ',\n",
       " 'CLK',\n",
       " 'CLL']"
      ]
     },
     "execution_count": 9,
     "metadata": {},
     "output_type": "execute_result"
    }
   ],
   "source": [
    "from typing import List\n",
    "\n",
    "def phone_mnemonic(phone_number: str) -> List[str]:\n",
    "    def phone_helper(result, chars):\n",
    "        if not result:\n",
    "            return list(chars)\n",
    "\n",
    "    #     tempResult = []\n",
    "    #     for word in words:\n",
    "    #         for c in chars:\n",
    "    #             tempResult.append(word + c)\n",
    "\n",
    "    #     return tempResult\n",
    "\n",
    "        return [word + c for word in result for c in chars]\n",
    "\n",
    "    mappings = (\"0\", \"1\", \"ABC\", \"DEF\", \"GHI\", \"JKL\", \"MNO\", \"PQRS\", \"TUV\", \"WXYZ\")\n",
    "    \n",
    "    result = []\n",
    "    \n",
    "    for num in phone_number:\n",
    "        result = phone_helper(result, mappings[int(num)])\n",
    "    \n",
    "    return result\n",
    "\n",
    "phone_mnemonic(\"255\")"
   ]
  },
  {
   "cell_type": "code",
   "execution_count": null,
   "metadata": {},
   "outputs": [],
   "source": []
  },
  {
   "cell_type": "code",
   "execution_count": null,
   "metadata": {},
   "outputs": [],
   "source": []
  },
  {
   "cell_type": "markdown",
   "metadata": {},
   "source": [
    "_**Without recursion**_"
   ]
  },
  {
   "cell_type": "code",
   "execution_count": 29,
   "metadata": {},
   "outputs": [
    {
     "data": {
      "text/plain": [
       "['AJT',\n",
       " 'AJU',\n",
       " 'AJV',\n",
       " 'AKT',\n",
       " 'AKU',\n",
       " 'AKV',\n",
       " 'ALT',\n",
       " 'ALU',\n",
       " 'ALV',\n",
       " 'BJT',\n",
       " 'BJU',\n",
       " 'BJV',\n",
       " 'BKT',\n",
       " 'BKU',\n",
       " 'BKV',\n",
       " 'BLT',\n",
       " 'BLU',\n",
       " 'BLV',\n",
       " 'CJT',\n",
       " 'CJU',\n",
       " 'CJV',\n",
       " 'CKT',\n",
       " 'CKU',\n",
       " 'CKV',\n",
       " 'CLT',\n",
       " 'CLU',\n",
       " 'CLV']"
      ]
     },
     "execution_count": 29,
     "metadata": {},
     "output_type": "execute_result"
    }
   ],
   "source": [
    "def phone_mnemonic_iterative(phoneNumber):\n",
    "    mappings = (0, 1, \"ABC\", \"DEF\", \"GHI\", \"JKL\", \"MNO\", \"PQRS\", \"TUV\", \"WXYZ\")\n",
    "    \n",
    "    result = []\n",
    "    \n",
    "    for num in phoneNumber:\n",
    "        if not result:\n",
    "            result = [x for x in mappings[int(num)]]\n",
    "        else:\n",
    "            tempResult = []\n",
    "            for w in result:\n",
    "                for c in mappings[int(num)]:\n",
    "                    tempResult.append(w+c)\n",
    "            \n",
    "            result = tempResult\n",
    "                \n",
    "    \n",
    "    return result\n",
    "\n",
    "phone_mnemonic_iterative(\"258\")"
   ]
  },
  {
   "cell_type": "code",
   "execution_count": null,
   "metadata": {},
   "outputs": [],
   "source": []
  }
 ],
 "metadata": {
  "kernelspec": {
   "display_name": "Python 3",
   "language": "python",
   "name": "python3"
  },
  "language_info": {
   "codemirror_mode": {
    "name": "ipython",
    "version": 3
   },
   "file_extension": ".py",
   "mimetype": "text/x-python",
   "name": "python",
   "nbconvert_exporter": "python",
   "pygments_lexer": "ipython3",
   "version": "3.8.3"
  }
 },
 "nbformat": 4,
 "nbformat_minor": 4
}
