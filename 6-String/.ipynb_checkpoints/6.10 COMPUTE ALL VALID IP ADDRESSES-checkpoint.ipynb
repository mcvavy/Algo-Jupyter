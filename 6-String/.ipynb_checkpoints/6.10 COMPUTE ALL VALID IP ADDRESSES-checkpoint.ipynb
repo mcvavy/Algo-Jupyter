{
 "cells": [
  {
   "cell_type": "markdown",
   "metadata": {},
   "source": [
    "> **Write a Program that determines where to add periods to a decimal string so that the resulting string is a valid IP address. There may be more than one valid IP address corresponding to a string, in which case you should print all possibilities. For example, if the mangled string is \"19216811\" then two corresponding IP addresses are 192.168.1.1 and 19.216.81.1. (There are seven other possible IP addresses for this string.)**\n",
    "\n",
    "_Hint: Use nested loops_    \n",
    "\n",
    "_[geekforgeeks solution](https://www.geeksforgeeks.org/program-generate-possible-valid-ip-addresses-given-string/)_"
   ]
  },
  {
   "cell_type": "code",
   "execution_count": 2,
   "metadata": {},
   "outputs": [
    {
     "data": {
      "text/plain": [
       "['255.255.11.135', '255.255.111.35']"
      ]
     },
     "execution_count": 2,
     "metadata": {},
     "output_type": "execute_result"
    }
   ],
   "source": [
    "def get_valid_ip_addresses(s):\n",
    "    def is_valid_part(s):\n",
    "        # \"00\", \"000\", \"01\", etc. are not valid , but \"0\" is valid.\n",
    "        return len(s) == 1 or (s[0] != '0' and int(s) <= 255)\n",
    "    \n",
    "    result = []\n",
    "    parts = [None] * 4\n",
    "    \n",
    "    for i in range(1, min(4, len(s))):\n",
    "        parts[0] = s[:i]\n",
    "        if is_valid_part(parts[0]):\n",
    "            for j in range(i + 1, min(i + 4, len(s))):\n",
    "                parts[1] = s[i:j]\n",
    "                if is_valid_part(parts[1]):\n",
    "                    for k in range(j + 1, min(j + 4, len(s))):\n",
    "                        parts[2] = s[j:k]\n",
    "                        parts[3] = s[k:]\n",
    "                        if is_valid_part(parts[2]) and is_valid_part(parts[3]):\n",
    "                            result.append('.'.join(parts))\n",
    "#                         print(parts)\n",
    "    return result\n",
    "\n",
    "get_valid_ip_addresses(\"25525511135\")"
   ]
  },
  {
   "cell_type": "code",
   "execution_count": null,
   "metadata": {},
   "outputs": [],
   "source": []
  },
  {
   "cell_type": "markdown",
   "metadata": {},
   "source": [
    "_**A different variation**_"
   ]
  },
  {
   "cell_type": "code",
   "execution_count": 5,
   "metadata": {},
   "outputs": [
    {
     "name": "stdout",
     "output_type": "stream",
     "text": [
      "['2', '5', '5', '25511135']\n",
      "['2', '5', '52', '5511135']\n",
      "['2', '5', '525', '511135']\n",
      "['2', '55', '2', '5511135']\n",
      "['2', '55', '25', '511135']\n",
      "['2', '55', '255', '11135']\n",
      "['25', '5', '2', '5511135']\n",
      "['25', '5', '25', '511135']\n",
      "['25', '5', '255', '11135']\n",
      "['25', '52', '5', '511135']\n",
      "['25', '52', '55', '11135']\n",
      "['25', '52', '551', '1135']\n",
      "['255', '2', '5', '511135']\n",
      "['255', '2', '55', '11135']\n",
      "['255', '2', '551', '1135']\n",
      "['255', '25', '5', '11135']\n",
      "['255', '25', '51', '1135']\n",
      "['255', '25', '511', '135']\n",
      "['255', '255', '1', '1135']\n",
      "['255', '255', '11', '135']\n",
      "['255', '255', '111', '35']\n"
     ]
    },
    {
     "data": {
      "text/plain": [
       "['255.255.11.135', '255.255.111.35']"
      ]
     },
     "execution_count": 5,
     "metadata": {},
     "output_type": "execute_result"
    }
   ],
   "source": [
    "def is_valid_part(s):\n",
    "    # \"00\", \"000\", \"01\", etc. are not valid , but \"0\" is valid.\n",
    "    return len(s) == 1 or (s[0] != '0' and int(s) <= 255)\n",
    "\n",
    "def get_valid_ip_addresses(s):\n",
    "    result = []\n",
    "    parts = [None] * 4\n",
    "    \n",
    "    for i in range(1, min(4, len(s))):\n",
    "        parts[0] = s[:i]\n",
    "        if is_valid_part(parts[0]):\n",
    "            for j in range(1, min(len(s) - i, 4)):\n",
    "                parts[1] = s[i:i + j]\n",
    "                if is_valid_part(parts[1]):\n",
    "                    for k in range(1, min(len(s) - i - j, 4)):\n",
    "                        parts[2] = s[i + j:i + j + k]\n",
    "                        parts[3] = s[i + j + k:]\n",
    "                        if is_valid_part(parts[2]) and is_valid_part(parts[3]):\n",
    "                            result.append('.'.join(parts))\n",
    "                        print(parts)\n",
    "    return result\n",
    "\n",
    "get_valid_ip_addresses(\"25525511135\")"
   ]
  },
  {
   "cell_type": "code",
   "execution_count": null,
   "metadata": {},
   "outputs": [],
   "source": []
  },
  {
   "cell_type": "code",
   "execution_count": null,
   "metadata": {},
   "outputs": [],
   "source": []
  },
  {
   "cell_type": "markdown",
   "metadata": {},
   "source": [
    "> **Practice implementation**"
   ]
  },
  {
   "cell_type": "code",
   "execution_count": null,
   "metadata": {},
   "outputs": [],
   "source": []
  }
 ],
 "metadata": {
  "kernelspec": {
   "display_name": "Python 3",
   "language": "python",
   "name": "python3"
  },
  "language_info": {
   "codemirror_mode": {
    "name": "ipython",
    "version": 3
   },
   "file_extension": ".py",
   "mimetype": "text/x-python",
   "name": "python",
   "nbconvert_exporter": "python",
   "pygments_lexer": "ipython3",
   "version": "3.8.3"
  }
 },
 "nbformat": 4,
 "nbformat_minor": 4
}
