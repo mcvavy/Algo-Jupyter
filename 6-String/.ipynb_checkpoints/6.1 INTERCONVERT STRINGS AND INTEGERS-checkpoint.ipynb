{
 "cells": [
  {
   "cell_type": "markdown",
   "metadata": {},
   "source": [
    "> **Implement an integer to string conversion function, and a string to integer conversison function, For example, if the input to the first function is the integer 314,it should retum the string \"31.4\" and if the input to the second function is the string \"314\" it should return the integer 314.**\n",
    "\n",
    "_Hint: Build the result one digit at a time._"
   ]
  },
  {
   "cell_type": "code",
   "execution_count": 27,
   "metadata": {},
   "outputs": [
    {
     "name": "stdout",
     "output_type": "stream",
     "text": [
      "-419\n"
     ]
    }
   ],
   "source": [
    "def int_to_string(x: int) -> str:\n",
    "    if x < 10 and x > 0:\n",
    "        return str(x)\n",
    "    \n",
    "    sign = '-' if x < 0 else ''\n",
    "    x = abs(x)\n",
    "    \n",
    "    res = []\n",
    "    while True:\n",
    "        res.append(str(x % 10))\n",
    "        x //= 10\n",
    "        if x == 0:\n",
    "            break\n",
    "\n",
    "    return sign + ''.join(reversed(res))\n",
    "    \n",
    "    \n",
    "def string_to_int(s: str) -> int:\n",
    "    sign = 1\n",
    "    if s[0] == '-':\n",
    "        sign = -1\n",
    "        s = s[1:]\n",
    "    \n",
    "    if s[0] == '+':\n",
    "        s = s[1:]\n",
    "    \n",
    "    n = len(s)\n",
    "    \n",
    "    res = 0\n",
    "    for i in range(n):\n",
    "        res = res * 10 + int(s[i])\n",
    "        \n",
    "    return res * sign\n",
    "\n",
    "# print(int_to_string(419))\n",
    "print(string_to_int(\"419\"))"
   ]
  }
 ],
 "metadata": {
  "kernelspec": {
   "display_name": "Python 3",
   "language": "python",
   "name": "python3"
  },
  "language_info": {
   "codemirror_mode": {
    "name": "ipython",
    "version": 3
   },
   "file_extension": ".py",
   "mimetype": "text/x-python",
   "name": "python",
   "nbconvert_exporter": "python",
   "pygments_lexer": "ipython3",
   "version": "3.8.3"
  }
 },
 "nbformat": 4,
 "nbformat_minor": 4
}
