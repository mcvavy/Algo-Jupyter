{
 "cells": [
  {
   "cell_type": "markdown",
   "metadata": {},
   "source": [
    "> **Implement a function that converts a spreadsheet column id to the corresponding integer, with \"A\" corresponding to 1. For example, you should retum 4 for \"D\" ,27 for \" AA\" ,702 for \"ZZ\" , etc.**\n",
    "\n",
    "_Hint: There are 26 characters in [\"A\", \"Z\"], and each can be mapped to an integer._"
   ]
  }
 ],
 "metadata": {
  "kernelspec": {
   "display_name": "Python 3",
   "language": "python",
   "name": "python3"
  },
  "language_info": {
   "codemirror_mode": {
    "name": "ipython",
    "version": 3
   },
   "file_extension": ".py",
   "mimetype": "text/x-python",
   "name": "python",
   "nbconvert_exporter": "python",
   "pygments_lexer": "ipython3",
   "version": "3.8.3"
  }
 },
 "nbformat": 4,
 "nbformat_minor": 4
}
