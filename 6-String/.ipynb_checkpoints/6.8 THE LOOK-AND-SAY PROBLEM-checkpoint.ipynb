{
 "cells": [
  {
   "cell_type": "markdown",
   "metadata": {},
   "source": [
    "> **Write a Program that takes as input an integer _n_ and returns the _nth_ integer in the look-and-say sequence. Return the result as a string.**\n",
    "\n",
    "_Hint: You need to return the result as a string_  \n",
    "\n",
    "[Youtube Explanation](https://www.youtube.com/watch?v=_1Wp4Bww8Rs&ab_channel=LucidProgramming)"
   ]
  },
  {
   "cell_type": "code",
   "execution_count": 6,
   "metadata": {},
   "outputs": [
    {
     "name": "stdout",
     "output_type": "stream",
     "text": [
      "1\n",
      "11\n",
      "21\n",
      "1211\n",
      "111221\n",
      "312211\n",
      "13112221\n",
      "1113213211\n",
      "31131211131221\n"
     ]
    },
    {
     "data": {
      "text/plain": [
       "'13211311123113112211'"
      ]
     },
     "execution_count": 6,
     "metadata": {},
     "output_type": "execute_result"
    }
   ],
   "source": [
    "def next_number(s):\n",
    "    result = []\n",
    "    i = 0\n",
    "    \n",
    "    while i < len(s):\n",
    "        count = 1\n",
    "        while i + 1 < len(s) and s[i] == s[i + 1]:\n",
    "            i += 1\n",
    "            count += 1\n",
    "        result.append(str(count) + s[i])\n",
    "        i += 1\n",
    "    \n",
    "    return ''.join(result)\n",
    "\n",
    "def look_and_say_sequence(n):\n",
    "    s = '1'\n",
    "    for i in range(1, n):\n",
    "        print(s)\n",
    "        s = next_number(s)\n",
    "    return s\n",
    "\n",
    "\n",
    "look_and_say_sequence(10)    "
   ]
  }
 ],
 "metadata": {
  "kernelspec": {
   "display_name": "Python 3",
   "language": "python",
   "name": "python3"
  },
  "language_info": {
   "codemirror_mode": {
    "name": "ipython",
    "version": 3
   },
   "file_extension": ".py",
   "mimetype": "text/x-python",
   "name": "python",
   "nbconvert_exporter": "python",
   "pygments_lexer": "ipython3",
   "version": "3.8.3"
  }
 },
 "nbformat": 4,
 "nbformat_minor": 4
}
