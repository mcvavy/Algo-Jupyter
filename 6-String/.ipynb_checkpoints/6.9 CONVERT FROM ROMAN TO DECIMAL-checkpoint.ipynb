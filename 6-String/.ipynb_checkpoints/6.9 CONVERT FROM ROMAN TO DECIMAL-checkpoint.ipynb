{
 "cells": [
  {
   "cell_type": "markdown",
   "metadata": {},
   "source": [
    "> **Write a program which takes as input a valid Roman number string s and returns the integer it corresponds to.**\n",
    "\n",
    "_Hint: Startby solving the problem assuming no exception cases._  \n"
   ]
  },
  {
   "cell_type": "code",
   "execution_count": 3,
   "metadata": {},
   "outputs": [
    {
     "data": {
      "text/plain": [
       "1751"
      ]
     },
     "execution_count": 3,
     "metadata": {},
     "output_type": "execute_result"
    }
   ],
   "source": [
    "def roman_to_integer(s: str) -> int:\n",
    "    T = {\"I\": 1, \"V\": 5, \"X\": 10, \"L\": 50, \"C\":100, \"D\":500, \"M\":1000}\n",
    "    \n",
    "    accumulator = T[s[-1]]\n",
    "    \n",
    "    for i in reversed(range(len(s) - 1)):\n",
    "        accumulator += (-T[s[i]] if T[s[i]] < T[s[i + 1]] else T[s[i]])\n",
    "    \n",
    "    return accumulator\n",
    "\n",
    "roman_to_integer(\"MDCCLI\")"
   ]
  }
 ],
 "metadata": {
  "kernelspec": {
   "display_name": "Python 3",
   "language": "python",
   "name": "python3"
  },
  "language_info": {
   "codemirror_mode": {
    "name": "ipython",
    "version": 3
   },
   "file_extension": ".py",
   "mimetype": "text/x-python",
   "name": "python",
   "nbconvert_exporter": "python",
   "pygments_lexer": "ipython3",
   "version": "3.8.3"
  }
 },
 "nbformat": 4,
 "nbformat_minor": 4
}
