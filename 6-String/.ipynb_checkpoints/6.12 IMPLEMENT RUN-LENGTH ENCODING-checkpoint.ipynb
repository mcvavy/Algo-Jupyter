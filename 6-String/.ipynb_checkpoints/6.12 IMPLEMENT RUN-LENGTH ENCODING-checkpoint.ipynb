{
 "cells": [
  {
   "cell_type": "markdown",
   "metadata": {},
   "source": [
    "> **Implement run-length encoding and decoding functions. Assume the string to be encoded consists of letters of the alphabet, with no digits, and the string to be decoded is a valid encoding.**\n",
    "\n",
    "_Hint:This is similar to converting between binary and string representations._    "
   ]
  },
  {
   "cell_type": "markdown",
   "metadata": {},
   "source": [
    "> Decode variant 1"
   ]
  },
  {
   "cell_type": "code",
   "execution_count": null,
   "metadata": {},
   "outputs": [],
   "source": [
    "def decoding(s: str) -> str:\n",
    "    result = \"\"\n",
    "    i = 0\n",
    "    while i < len(s):\n",
    "        j = i\n",
    "        integer = \"\"\n",
    "        while j < len(s) and s[j].isdigit():\n",
    "            integer += s[j]\n",
    "            j += 1\n",
    "        temp = [s[j]] * int(integer)\n",
    "        result += ''.join(temp)\n",
    "        i = j + 1\n",
    "    return result"
   ]
  },
  {
   "cell_type": "code",
   "execution_count": null,
   "metadata": {},
   "outputs": [],
   "source": []
  },
  {
   "cell_type": "markdown",
   "metadata": {},
   "source": [
    "> **With cleaner decode variant**"
   ]
  },
  {
   "cell_type": "code",
   "execution_count": 61,
   "metadata": {},
   "outputs": [
    {
     "name": "stdout",
     "output_type": "stream",
     "text": [
      "hhhhhhhhhhhhhhhhqqqqqqqqqqqqqqqqqqqqqqqqqfffffffffffffffffffffffffmmmmmmmmmmmmmmqqqqqqqqpppppppppppppppppppppppppppppppppppppppppppppcccccccccuuuuuuuuuuuuuuuuuuuuuyyyyyyyyyyybbbbbbbbbbbbbbbddddddddddddddddhhhhhhhhhhhhhhhhhhhhhhhyyyyyyyykkknnnnnnnnnnnnnnnnnnnnnnnnnnnnnppppppppppppppppppppaaaaaaaaaaaaaaaaddddddddddddyyyyyyyyyyyyyyyyyyyybbbbbbbbbbbbbbbbbmmmmmmmmmmmmmmmmmmmmmmmmmmxxxxxxxxxxxxxxhhhhhhhhhhhhhhhfffffffffffffffffffffffbbbbbbbbbbbbbbbbbbbbbbbbbbbbbhhhtttttttttttttttttttttcccccccccccccccccccccccccqqqqqqqqqqqqqqqqqqqoooffffffffffffffffffffffffffffnnnnnnnnnnnnnnnnnnnnnnnnnzzzzzzzzzzzzzzzzzjjjjjjjjjjjjjjjjjjjjjjiiiiiiwwwwwwwwyyyyyyyyyyyyyyyyyyyyyyyyyyyyyuuuuuuuuuuuuuuuggggggggggggggggggggppppppppppppppppppppppppppppprrrrrrrrrrrttttttttttttttqqqqqqqqqqqqqqqqqqqqppppppppppppppppmllllllllllllllllllwwwwwwwwwwwwwwwvvvvvvvvvvvvvssssssssssssssssssssssddddddddddddddxxxxxxxxxxxxxxxxxxxxxwwwwwwwwwwwwwwwwwwwwwwwwwwwwwwwwwwwwwwwwwwwwwwwwwwwwwwwwwwwwwwwwwwwwwwwwjjjjjjjjjjjjjjjjjjjjjjjjjqqqqqqqqqrrrrrrrrrrrrrrrrrrrrrrrrrrrggggggggggggggggglllllxxxxxxxxxxxxxxxxccrrrrrrrrrrrrrrhhhhhhhhhhhhhhhhhhhhsssssssssssssssssssssssssssssuuuuuuuuuuuuuuuuuuuuuuuuuuummmmmmmmsssssssssssssssssbbbbbbbbbbbbbbbbbbbbbbbbbuuuuuuuuuuuuuuxxxxxxxxxxxxxxxxxxxxxxxxxxxxxgggggssssssssssssssssssssssssssssuuuuuuuuuuzzzzzzzzzzzzzzxxxxxxxxxxxxxxxxxxxxxxxxxxxhhhhaaaaaaaaaaaaaaaaassssssssssssssssssssssssssssskkkkkkkkkkkkkkkkkkkkkkpppppppmmmmmmmmmmmmmmmmmmmmmmrrrrrrrrrrrrrrrrrrrrrrrrrrcccccccccccccctttttttttttttttttttttttttttttjjjjjjjjjjjjjjjjhhhhhhhhhhhhhhhhnzzzzzzzzzzzzzzzzzzzzzzzzzzzzffffffffffffffvvvvvvvvvvvvvvvvxxxxxxxxxxxxxxxxxxxxxxxxxxxyyyyyrrrrrrrrrrkkkkkkkkkkkkkkkkkkkkkkkkkvvvvvvvvvvvvzzzzzzzzzzzzzzzzzzzzzzznnnnnnnnnnnnnnnnnnnnnnnnnndddyyyyyyyyyyyyyyyyyyyyyyyyyyysjjjjjjjjjjnnnnnnnnnnntttttffffffffffffffffllllllllllllllllvvvvvvvvvvvvvvvvvvvvuuuuuuuuuuuuuuuuuuuuuuuuuqqqqqqqqqqqqeeeppppppppppppppppppppiiiiiiiiiiiiiiiiiiiiiiiiiiieeeeeeeeeeeeeeeeeeeeeeevvvvvvvbbbbbbbbbbbbbbbbbbbbbbbbbbbbdddddddddkkkkdzzzzzzzzzzzzzzzbbbbbbbbbbbbbbbbbbbbbbboooooooooolllllllllllllllllllllttttttttttttttttqqqqqqqqqqqqqqzzzzzzzzzzzzzzzzzzzzzzzzzzzzzmmmmmmmmmmmmmmmmmmmmmmmyyyyyhhhhhhhhhhhheeevvvttttttttttttttvvvvvvvvvvvvvvvvvvvvvvvvvvvaaaaaaaaaaaaawwwwwwwwwwwwwwwwwwwwwwwbbbbbbbbbbbbbbbbbbbbbbbbbbwwwwwwwwwwwwwww\n",
      "16h25q25f14m8q45p9c21u11y15b16d23h8y3k29n20p16a12d20y17b26m14x15h23f29b3h21t25c19q3o28f25n17z22j6i8w29y15u20g29p11r14t20q16p1m18l15w13v22s14d21x72w25j9q27r17g5l16x2c14r20h29s27u8m17s25b14u29x5g28s10u14z27x4h17a29s22k7p22m26r14c29t16j16h1n28z14f16v27x5y10r25k12v23z26n3d27y1s10j11n5t16f16l20v25u12q3e20p27i23e7v28b9d4k1d15z23b10o21l16t14q29z23m5y12h3e3v14t27v13a23w26b15w\n"
     ]
    }
   ],
   "source": [
    "# Time complexity: O(n)\n",
    "def decoding(s: str) -> str:\n",
    "    count = 0; result = []\n",
    "    \n",
    "    for c in s:\n",
    "        if c.isdigit():\n",
    "            count = count * 10 + int(c)\n",
    "        else:\n",
    "            result.append(c * count)\n",
    "            count = 0\n",
    "    return ''.join(result)\n",
    "\n",
    "\n",
    "def encoding(s: str) -> str:\n",
    "    res = \"\"\n",
    "    i = 0\n",
    "    while i < len(s):\n",
    "        count = 1\n",
    "        j = i\n",
    "        while j < len(s) - 1 and s[j] == s[j + 1]:\n",
    "            count += 1\n",
    "            j += 1\n",
    "        res += str(count) + s[j]\n",
    "        i = j + 1\n",
    "    return res\n",
    "\n",
    "print(decoding(\"16h25q25f14m8q45p9c21u11y15b16d23h8y3k29n20p16a12d20y17b26m14x15h23f29b3h21t25c19q3o28f25n17z22j6i8w29y15u20g29p11r14t20q16p1m18l15w13v22s14d21x72w25j9q27r17g5l16x2c14r20h29s27u8m17s25b14u29x5g28s10u14z27x4h17a29s22k7p22m26r14c29t16j16h1n28z14f16v27x5y10r25k12v23z26n3d27y1s10j11n5t16f16l20v25u12q3e20p27i23e7v28b9d4k1d15z23b10o21l16t14q29z23m5y12h3e3v14t27v13a23w26b15w\"))\n",
    "print(encoding(\"hhhhhhhhhhhhhhhhqqqqqqqqqqqqqqqqqqqqqqqqqfffffffffffffffffffffffffmmmmmmmmmmmmmmqqqqqqqqpppppppppppppppppppppppppppppppppppppppppppppcccccccccuuuuuuuuuuuuuuuuuuuuuyyyyyyyyyyybbbbbbbbbbbbbbbddddddddddddddddhhhhhhhhhhhhhhhhhhhhhhhyyyyyyyykkknnnnnnnnnnnnnnnnnnnnnnnnnnnnnppppppppppppppppppppaaaaaaaaaaaaaaaaddddddddddddyyyyyyyyyyyyyyyyyyyybbbbbbbbbbbbbbbbbmmmmmmmmmmmmmmmmmmmmmmmmmmxxxxxxxxxxxxxxhhhhhhhhhhhhhhhfffffffffffffffffffffffbbbbbbbbbbbbbbbbbbbbbbbbbbbbbhhhtttttttttttttttttttttcccccccccccccccccccccccccqqqqqqqqqqqqqqqqqqqoooffffffffffffffffffffffffffffnnnnnnnnnnnnnnnnnnnnnnnnnzzzzzzzzzzzzzzzzzjjjjjjjjjjjjjjjjjjjjjjiiiiiiwwwwwwwwyyyyyyyyyyyyyyyyyyyyyyyyyyyyyuuuuuuuuuuuuuuuggggggggggggggggggggppppppppppppppppppppppppppppprrrrrrrrrrrttttttttttttttqqqqqqqqqqqqqqqqqqqqppppppppppppppppmllllllllllllllllllwwwwwwwwwwwwwwwvvvvvvvvvvvvvssssssssssssssssssssssddddddddddddddxxxxxxxxxxxxxxxxxxxxxwwwwwwwwwwwwwwwwwwwwwwwwwwwwwwwwwwwwwwwwwwwwwwwwwwwwwwwwwwwwwwwwwwwwwwwwjjjjjjjjjjjjjjjjjjjjjjjjjqqqqqqqqqrrrrrrrrrrrrrrrrrrrrrrrrrrrggggggggggggggggglllllxxxxxxxxxxxxxxxxccrrrrrrrrrrrrrrhhhhhhhhhhhhhhhhhhhhsssssssssssssssssssssssssssssuuuuuuuuuuuuuuuuuuuuuuuuuuummmmmmmmsssssssssssssssssbbbbbbbbbbbbbbbbbbbbbbbbbuuuuuuuuuuuuuuxxxxxxxxxxxxxxxxxxxxxxxxxxxxxgggggssssssssssssssssssssssssssssuuuuuuuuuuzzzzzzzzzzzzzzxxxxxxxxxxxxxxxxxxxxxxxxxxxhhhhaaaaaaaaaaaaaaaaassssssssssssssssssssssssssssskkkkkkkkkkkkkkkkkkkkkkpppppppmmmmmmmmmmmmmmmmmmmmmmrrrrrrrrrrrrrrrrrrrrrrrrrrcccccccccccccctttttttttttttttttttttttttttttjjjjjjjjjjjjjjjjhhhhhhhhhhhhhhhhnzzzzzzzzzzzzzzzzzzzzzzzzzzzzffffffffffffffvvvvvvvvvvvvvvvvxxxxxxxxxxxxxxxxxxxxxxxxxxxyyyyyrrrrrrrrrrkkkkkkkkkkkkkkkkkkkkkkkkkvvvvvvvvvvvvzzzzzzzzzzzzzzzzzzzzzzznnnnnnnnnnnnnnnnnnnnnnnnnndddyyyyyyyyyyyyyyyyyyyyyyyyyyysjjjjjjjjjjnnnnnnnnnnntttttffffffffffffffffllllllllllllllllvvvvvvvvvvvvvvvvvvvvuuuuuuuuuuuuuuuuuuuuuuuuuqqqqqqqqqqqqeeeppppppppppppppppppppiiiiiiiiiiiiiiiiiiiiiiiiiiieeeeeeeeeeeeeeeeeeeeeeevvvvvvvbbbbbbbbbbbbbbbbbbbbbbbbbbbbdddddddddkkkkdzzzzzzzzzzzzzzzbbbbbbbbbbbbbbbbbbbbbbboooooooooolllllllllllllllllllllttttttttttttttttqqqqqqqqqqqqqqzzzzzzzzzzzzzzzzzzzzzzzzzzzzzmmmmmmmmmmmmmmmmmmmmmmmyyyyyhhhhhhhhhhhheeevvvttttttttttttttvvvvvvvvvvvvvvvvvvvvvvvvvvvaaaaaaaaaaaaawwwwwwwwwwwwwwwwwwwwwwwbbbbbbbbbbbbbbbbbbbbbbbbbbwwwwwwwwwwwwwww\"))"
   ]
  }
 ],
 "metadata": {
  "kernelspec": {
   "display_name": "Python 3",
   "language": "python",
   "name": "python3"
  },
  "language_info": {
   "codemirror_mode": {
    "name": "ipython",
    "version": 3
   },
   "file_extension": ".py",
   "mimetype": "text/x-python",
   "name": "python",
   "nbconvert_exporter": "python",
   "pygments_lexer": "ipython3",
   "version": "3.8.3"
  }
 },
 "nbformat": 4,
 "nbformat_minor": 4
}
