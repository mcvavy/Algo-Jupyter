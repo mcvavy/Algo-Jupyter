{
 "cells": [
  {
   "cell_type": "markdown",
   "metadata": {},
   "source": [
    "> **Implement a function which takes as input a string s and retums true if s is a palindromic string.**\n",
    "\n",
    "_Hint: Use two indices._"
   ]
  },
  {
   "cell_type": "code",
   "execution_count": 48,
   "metadata": {},
   "outputs": [
    {
     "name": "stdout",
     "output_type": "stream",
     "text": [
      "False\n",
      "True\n",
      "True\n",
      "True\n",
      "True\n"
     ]
    }
   ],
   "source": [
    "# Time complexity: O(n) | Space complexity : O(1)\n",
    "def is_palindrome(s: str) -> bool:   \n",
    "    left, right = 0, len(s) - 1\n",
    "    \n",
    "    while left <= right:\n",
    "        while not s[left].isalnum() and left < right:\n",
    "            left +=1\n",
    "        while not s[right].isalnum() and right > left:\n",
    "            right -= 1\n",
    "        \n",
    "        if s[left].lower() != s[right].lower():\n",
    "            return False\n",
    "        \n",
    "        left += 1\n",
    "        right -= 1\n",
    "        \n",
    "    return True\n",
    "\n",
    "test_cases = [\n",
    "    is_palindrome(\"Able was I, ere I saw Elbaa!\"),\n",
    "    is_palindrome(\"Able was I, ere I saw Elba!\"),\n",
    "    is_palindrome(\"=\"),\n",
    "    is_palindrome(\"))\"),\n",
    "    is_palindrome(\"@/\")\n",
    "             ]\n",
    "for i in test_cases:\n",
    "    print(i)"
   ]
  }
 ],
 "metadata": {
  "kernelspec": {
   "display_name": "Python 3",
   "language": "python",
   "name": "python3"
  },
  "language_info": {
   "codemirror_mode": {
    "name": "ipython",
    "version": 3
   },
   "file_extension": ".py",
   "mimetype": "text/x-python",
   "name": "python",
   "nbconvert_exporter": "python",
   "pygments_lexer": "ipython3",
   "version": "3.8.3"
  }
 },
 "nbformat": 4,
 "nbformat_minor": 4
}
