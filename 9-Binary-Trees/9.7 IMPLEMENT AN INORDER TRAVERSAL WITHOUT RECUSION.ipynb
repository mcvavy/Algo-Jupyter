{
 "cells": [
  {
   "attachments": {},
   "cell_type": "markdown",
   "metadata": {},
   "source": [
    "> **Write a program which takes as input a binary tree and performs an inorder traversal of the tree. Do not use recursion. Nodes do not contain parent references.**   \n",
    "\n",
    "_Hint: Simulate the function call stack._\n",
    "\n",
    "- [Perfect Explanation](https://www.youtube.com/watch?v=nzmtCFNae9k&ab_channel=TusharRoy-CodingMadeSimple)"
   ]
  },
  {
   "cell_type": "code",
   "execution_count": 3,
   "metadata": {},
   "outputs": [],
   "source": [
    "class BinaryTreeNode:\n",
    "    def __init__(self, data=None, left=None, right=None):\n",
    "        self.data = data\n",
    "        self.left = left\n",
    "        self.right = right\n",
    "\n",
    "    def __eq__(self, other):\n",
    "        return equal_binary_trees(self, other)\n",
    "\n",
    "    def __repr__(self):\n",
    "        return str(binary_tree_to_string(self))\n",
    "\n",
    "    def __str__(self):\n",
    "        return self.__repr__()"
   ]
  },
  {
   "cell_type": "code",
   "execution_count": 4,
   "metadata": {},
   "outputs": [],
   "source": [
    "# Time complexity O(n) | Space complexity O(h)\n",
    "def inorder_traversal(tree: BinaryTreeNode) -> List[int]:\n",
    "    result = []; s = []\n",
    "    \n",
    "    while True:\n",
    "        if tree:\n",
    "            s.append(tree)\n",
    "            tree = tree.left\n",
    "        else:\n",
    "            if len(s) == 0:\n",
    "                break\n",
    "            popped = s.pop()\n",
    "            result.append(popped.data)\n",
    "            tree = popped.right\n",
    "            \n",
    "    return result"
   ]
  }
 ],
 "metadata": {
  "kernelspec": {
   "display_name": "Python 3",
   "language": "python",
   "name": "python3"
  },
  "language_info": {
   "codemirror_mode": {
    "name": "ipython",
    "version": 3
   },
   "file_extension": ".py",
   "mimetype": "text/x-python",
   "name": "python",
   "nbconvert_exporter": "python",
   "pygments_lexer": "ipython3",
   "version": "3.8.3"
  }
 },
 "nbformat": 4,
 "nbformat_minor": 4
}
