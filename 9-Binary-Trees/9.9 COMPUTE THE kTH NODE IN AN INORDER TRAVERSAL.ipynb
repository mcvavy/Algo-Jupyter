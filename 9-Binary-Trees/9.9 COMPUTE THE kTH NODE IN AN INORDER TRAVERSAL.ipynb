{
 "cells": [
  {
   "cell_type": "markdown",
   "metadata": {},
   "source": [
    "> **Write a program which takes as input a binary tree and performs a preorder traversal of the tree. Do not use recursion. Nodes do not contain parent references.**  "
   ]
  },
  {
   "cell_type": "code",
   "execution_count": 2,
   "metadata": {},
   "outputs": [],
   "source": [
    "class BinaryTreeNode:\n",
    "    def __init__(self, data=None, left=None, right=None, size=None):\n",
    "        self.data = data\n",
    "        self.left = left\n",
    "        self.right = right\n",
    "        self.size = size"
   ]
  },
  {
   "cell_type": "code",
   "execution_count": 4,
   "metadata": {},
   "outputs": [],
   "source": [
    "from typing import Optional\n",
    "def find_kth_node_binary_tree(tree: BinaryTreeNode,\n",
    "                              k: int) -> Optional[BinaryTreeNode]:\n",
    "    while tree:\n",
    "        leftSize = tree.left.size if tree.left else 0\n",
    "        \n",
    "        if leftSize + 1 < k:\n",
    "            k -= leftSize + 1\n",
    "            tree = tree.right\n",
    "        elif leftSize == k - 1:\n",
    "            return tree\n",
    "        else:\n",
    "            tree = tree.left\n",
    "    return None"
   ]
  }
 ],
 "metadata": {
  "kernelspec": {
   "display_name": "Python 3",
   "language": "python",
   "name": "python3"
  },
  "language_info": {
   "codemirror_mode": {
    "name": "ipython",
    "version": 3
   },
   "file_extension": ".py",
   "mimetype": "text/x-python",
   "name": "python",
   "nbconvert_exporter": "python",
   "pygments_lexer": "ipython3",
   "version": "3.8.3"
  }
 },
 "nbformat": 4,
 "nbformat_minor": 4
}
