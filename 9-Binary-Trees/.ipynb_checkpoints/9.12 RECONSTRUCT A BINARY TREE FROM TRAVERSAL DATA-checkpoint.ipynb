{
 "cells": [
  {
   "cell_type": "markdown",
   "metadata": {},
   "source": [
    "> **Given an inorder traversal sequence and a preorder traversal sequence of a binary tree write a program to reconstruct the tree. Assume each node has a unique key.**  \n",
    "\n",
    "_Hint: Focus on the root._\n",
    "\n",
    "- [Good Youtube Explanation](https://www.youtube.com/watch?v=PoBGyrIWisE&ab_channel=Jenny%27slecturesCS%2FITNET%26JRF)\n",
    "- [Nice Java Solution](https://www.youtube.com/watch?v=FBpQEQkQ1No&ab_channel=jayatitiwari)\n",
    "- [Geek for Geek Python solution](https://www.geeksforgeeks.org/construct-tree-from-given-inorder-and-preorder-traversal/)"
   ]
  },
  {
   "cell_type": "code",
   "execution_count": 1,
   "metadata": {},
   "outputs": [],
   "source": [
    "class BinaryTreeNode:\n",
    "    def __init__(self, data=None, left=None, right=None):\n",
    "        self.data = data\n",
    "        self.left = left\n",
    "        self.right = right\n",
    "\n",
    "    def __eq__(self, other):\n",
    "        return equal_binary_trees(self, other)\n",
    "\n",
    "    def __repr__(self):\n",
    "        return str(binary_tree_to_string(self))\n",
    "\n",
    "    def __str__(self):\n",
    "        return self.__repr__()"
   ]
  },
  {
   "cell_type": "code",
   "execution_count": 3,
   "metadata": {},
   "outputs": [],
   "source": [
    "from typing import List\n",
    "\n",
    "preIndex = 0\n",
    "def binary_tree_from_preorder_inorder(preorder: List[int],\n",
    "                                      inorder: List[int]) -> BinaryTreeNode:\n",
    "    hm = {data: i for i, data in enumerate(inorder)}\n",
    "    \n",
    "    def build(preorder, inorder, start, end):\n",
    "        if start > end:\n",
    "            return None\n",
    "        \n",
    "        node = BinaryTreeNode(preorder[build.preIndex])\n",
    "        build.preIndex += 1\n",
    "        \n",
    "        if start == end: return node\n",
    "        \n",
    "        index = hm.get(node.data)\n",
    "        \n",
    "        node.left = build(preorder, inorder, start, index - 1)\n",
    "        node.right = build(preorder, inorder, index + 1, end)\n",
    "        \n",
    "        return node\n",
    "    build.preIndex = 0\n",
    "    return build(preorder, inorder, 0, len(inorder) - 1)"
   ]
  },
  {
   "cell_type": "code",
   "execution_count": null,
   "metadata": {},
   "outputs": [],
   "source": []
  },
  {
   "cell_type": "code",
   "execution_count": null,
   "metadata": {},
   "outputs": [],
   "source": []
  },
  {
   "cell_type": "markdown",
   "metadata": {},
   "source": [
    "> **Variant: Solve the same problem with an inorder traversal sequence and a postorder traversal sequence.**  \n",
    "\n",
    "- [Video Explanation](https://www.youtube.com/watch?v=s5XRtcud35E&ab_channel=Jenny%27slecturesCS%2FITNET%26JRF)\n",
    "- [LeetCode Question](https://leetcode.com/problems/construct-binary-tree-from-inorder-and-postorder-traversal/)"
   ]
  },
  {
   "cell_type": "code",
   "execution_count": 6,
   "metadata": {},
   "outputs": [],
   "source": [
    "from typing import List\n",
    "\n",
    "class TreeNode:\n",
    "    def __init__(self, val=0, left=None, right=None):\n",
    "        self.val = val\n",
    "        self.left = left\n",
    "        self.right = right\n",
    "        \n",
    "class Solution:\n",
    "    def buildTree(self, inorder: List[int], postorder: List[int]) -> TreeNode:\n",
    "        hm = {val: i for i, val in enumerate(inorder)}\n",
    "        def build(inorder, postorder, start, end):\n",
    "            if start > end:\n",
    "                return None\n",
    "            \n",
    "            node = TreeNode(postorder[build.pIndex[0]])\n",
    "            build.pIndex[0] -= 1\n",
    "            \n",
    "            if start == end:\n",
    "                return node\n",
    "            \n",
    "            index = hm.get(node.val)\n",
    "\n",
    "            node.right = build(inorder, postorder, index + 1, end)\n",
    "            node.left = build(inorder, postorder, start, index - 1)\n",
    "            \n",
    "            return node\n",
    "            \n",
    "        n = len(inorder)\n",
    "        build.pIndex = [n-1]\n",
    "        return build(inorder, postorder, 0, n - 1)"
   ]
  }
 ],
 "metadata": {
  "kernelspec": {
   "display_name": "Python 3",
   "language": "python",
   "name": "python3"
  },
  "language_info": {
   "codemirror_mode": {
    "name": "ipython",
    "version": 3
   },
   "file_extension": ".py",
   "mimetype": "text/x-python",
   "name": "python",
   "nbconvert_exporter": "python",
   "pygments_lexer": "ipython3",
   "version": "3.8.3"
  }
 },
 "nbformat": 4,
 "nbformat_minor": 4
}
