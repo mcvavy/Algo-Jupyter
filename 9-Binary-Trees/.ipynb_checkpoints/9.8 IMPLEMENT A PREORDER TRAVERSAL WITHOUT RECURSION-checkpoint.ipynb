{
 "cells": [
  {
   "cell_type": "markdown",
   "metadata": {},
   "source": [
    "> **Write a program which takes as input a binary tree and performs a preorder traversal of the tree. Do not use recursion. Nodes do not contain parent references.**  "
   ]
  },
  {
   "cell_type": "code",
   "execution_count": 5,
   "metadata": {},
   "outputs": [],
   "source": [
    "class BinaryTreeNode:\n",
    "    def __init__(self, data=None, left=None, right=None):\n",
    "        self.data = data\n",
    "        self.left = left\n",
    "        self.right = right\n",
    "\n",
    "    def __eq__(self, other):\n",
    "        return equal_binary_trees(self, other)\n",
    "\n",
    "    def __repr__(self):\n",
    "        return str(binary_tree_to_string(self))\n",
    "\n",
    "    def __str__(self):\n",
    "        return self.__repr__()"
   ]
  },
  {
   "cell_type": "code",
   "execution_count": 7,
   "metadata": {},
   "outputs": [],
   "source": [
    "from typing import List\n",
    "\n",
    "def preorder_traversal(tree: BinaryTreeNode) -> List[int]:\n",
    "    if not tree: return []\n",
    "    \n",
    "    s = [tree]; result = []\n",
    "    \n",
    "    while s:\n",
    "        current = s.pop()\n",
    "        result.append(current.data)\n",
    "        if current.right:\n",
    "            s.append(current.right)\n",
    "        if current.left:\n",
    "            s.append(current.left)\n",
    "    \n",
    "    return result"
   ]
  }
 ],
 "metadata": {
  "kernelspec": {
   "display_name": "Python 3",
   "language": "python",
   "name": "python3"
  },
  "language_info": {
   "codemirror_mode": {
    "name": "ipython",
    "version": 3
   },
   "file_extension": ".py",
   "mimetype": "text/x-python",
   "name": "python",
   "nbconvert_exporter": "python",
   "pygments_lexer": "ipython3",
   "version": "3.8.3"
  }
 },
 "nbformat": 4,
 "nbformat_minor": 4
}
