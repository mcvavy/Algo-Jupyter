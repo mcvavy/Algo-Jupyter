{
 "cells": [
  {
   "cell_type": "markdown",
   "metadata": {},
   "source": [
    "> **Write a program that takes an arithmetical expression in RPN and retums the number that the expression evaluates to.**\n",
    "\n",
    "_Hint: Process subexpressions, keeping values in a stack. How should operators be handled?_    "
   ]
  },
  {
   "cell_type": "code",
   "execution_count": 1,
   "metadata": {},
   "outputs": [],
   "source": [
    "#Time Complexity is O(n) | Space complexity O(1)\n",
    "def evaluate(expression: str) -> int:\n",
    "    DELIMETER = ','\n",
    "    intermediate_result = []\n",
    "    token_expression = {\n",
    "        '+': lambda y, x: x + y,\n",
    "        '-': lambda y, x: x - y,\n",
    "        '*': lambda y, x: x * y,\n",
    "        '/': lambda y, x:; x // y\n",
    "    }\n",
    "    \n",
    "    for token in expression.split(DELIMETER):\n",
    "        if token in token_expression:\n",
    "            intermediate_result.append(token_expression[token](intermediate_result.pop(),\n",
    "                                                               intermediate_result.pop()))\n",
    "        else:\n",
    "            intermediate_result.append(int(token))\n",
    "    return intermediate_result[-1]"
   ]
  },
  {
   "cell_type": "code",
   "execution_count": null,
   "metadata": {},
   "outputs": [],
   "source": []
  }
 ],
 "metadata": {
  "kernelspec": {
   "display_name": "Python 3",
   "language": "python",
   "name": "python3"
  },
  "language_info": {
   "codemirror_mode": {
    "name": "ipython",
    "version": 3
   },
   "file_extension": ".py",
   "mimetype": "text/x-python",
   "name": "python",
   "nbconvert_exporter": "python",
   "pygments_lexer": "ipython3",
   "version": "3.8.3"
  }
 },
 "nbformat": 4,
 "nbformat_minor": 4
}
