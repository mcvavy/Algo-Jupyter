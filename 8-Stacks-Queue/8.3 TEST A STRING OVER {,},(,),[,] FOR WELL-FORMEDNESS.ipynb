{
 "cells": [
  {
   "cell_type": "markdown",
   "metadata": {},
   "source": [
    "> **Write a program that tests if a string made up of the characters \"(\", \")\" , \"[\" , \"]\", \"{\" and \"}\" is well-formed.**\n",
    "\n",
    "_Hint: Which left parenthesis does a right parenthesis match with?_    "
   ]
  },
  {
   "cell_type": "code",
   "execution_count": 19,
   "metadata": {},
   "outputs": [
    {
     "name": "stdout",
     "output_type": "stream",
     "text": [
      "Stack current value ---> ['(']\n",
      "Stack current value ---> ['(', '{']\n",
      "Stack current value ---> ['(', '{', '{']\n",
      "Stack current value ---> ['(', '{', '{', '{']\n",
      "Stack current value ---> ['(', '{', '{', '{', '{']\n",
      "matches ---> }\n",
      "matches ---> }\n",
      "matches ---> }\n",
      "matches ---> }\n",
      "matches ---> )\n",
      "Stack current value ---> [')']\n"
     ]
    },
    {
     "data": {
      "text/plain": [
       "False"
      ]
     },
     "execution_count": 19,
     "metadata": {},
     "output_type": "execute_result"
    }
   ],
   "source": [
    "# Time complexity: O(n) | O(1) operation\n",
    "def is_well_formed_parenthesis(s):\n",
    "    hm = {\n",
    "        ']': '[', \n",
    "        ')': '(',\n",
    "        '}': '{'\n",
    "    }\n",
    "    \n",
    "    stack = []\n",
    "    \n",
    "    for item in s:\n",
    "        if hm.get(item) not in stack:\n",
    "            stack.append(item)\n",
    "            print(\"Stack current value --->\", stack)\n",
    "        else:\n",
    "            print(\"matches --->\", item)\n",
    "            if stack.pop() != hm[item]:\n",
    "                return False\n",
    "    return len(stack) == 0\n",
    "\n",
    "is_well_formed_parenthesis(\"({{{{}}}}))\")"
   ]
  },
  {
   "cell_type": "code",
   "execution_count": null,
   "metadata": {},
   "outputs": [],
   "source": []
  },
  {
   "cell_type": "markdown",
   "metadata": {},
   "source": [
    "> Another practice solution"
   ]
  },
  {
   "cell_type": "code",
   "execution_count": null,
   "metadata": {},
   "outputs": [],
   "source": [
    "def is_well_formed(s: str) -> bool:\n",
    "    pm = {\n",
    "        ')': '(', ']':'[', '}': '{'\n",
    "    }\n",
    "    \n",
    "    p_stack = []\n",
    "    \n",
    "    for c in s:\n",
    "        if pm.get(c, None) not in p_stack:\n",
    "            p_stack.append(c)\n",
    "        else:\n",
    "            if p_stack.pop() != pm.get(c, None):\n",
    "                return False\n",
    "    return len(p_stack) == 0"
   ]
  }
 ],
 "metadata": {
  "kernelspec": {
   "display_name": "Python 3",
   "language": "python",
   "name": "python3"
  },
  "language_info": {
   "codemirror_mode": {
    "name": "ipython",
    "version": 3
   },
   "file_extension": ".py",
   "mimetype": "text/x-python",
   "name": "python",
   "nbconvert_exporter": "python",
   "pygments_lexer": "ipython3",
   "version": "3.9.1"
  }
 },
 "nbformat": 4,
 "nbformat_minor": 4
}
