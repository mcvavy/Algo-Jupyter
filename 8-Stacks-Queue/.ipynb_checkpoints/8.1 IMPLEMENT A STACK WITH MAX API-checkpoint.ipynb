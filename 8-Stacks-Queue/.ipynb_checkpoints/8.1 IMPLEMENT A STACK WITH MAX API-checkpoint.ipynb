{
 "cells": [
  {
   "cell_type": "markdown",
   "metadata": {},
   "source": [
    "> **Design a stack that includes a max operation, in addition to push and pop. The max method should return the maximum value stored in the stack.**\n",
    "\n",
    "- [Neat video Explanation](https://www.youtube.com/watch?v=nGwn8_-6e7w&t=99s&ab_channel=BackToBackSWE)\n",
    "\n",
    "_Hint: Use additional storage to track the maximum value._    "
   ]
  },
  {
   "cell_type": "code",
   "execution_count": 1,
   "metadata": {},
   "outputs": [],
   "source": [
    "class Stack:\n",
    "    def __init__(self):\n",
    "        self.res = []\n",
    "    def empty(self) -> bool:\n",
    "        return len(self.res) == 0\n",
    "\n",
    "    def max(self) -> int:\n",
    "        if self.empty():\n",
    "            return -1\n",
    "        else:\n",
    "            return max(self.res)\n",
    "\n",
    "    def pop(self) -> int:\n",
    "        if self.empty():\n",
    "            return -1\n",
    "        else:\n",
    "            return self.res.pop()\n",
    "\n",
    "    def push(self, x: int) -> None:\n",
    "        self.res.append(x)"
   ]
  },
  {
   "cell_type": "code",
   "execution_count": null,
   "metadata": {},
   "outputs": [],
   "source": []
  },
  {
   "cell_type": "code",
   "execution_count": null,
   "metadata": {},
   "outputs": [],
   "source": []
  },
  {
   "cell_type": "markdown",
   "metadata": {},
   "source": [
    "> Optimal solution when dequeing"
   ]
  },
  {
   "cell_type": "code",
   "execution_count": null,
   "metadata": {},
   "outputs": [],
   "source": [
    "class Stack:\n",
    "    def __init__(self):\n",
    "        self.entries = []\n",
    "        self.cachedMax = []\n",
    "        \n",
    "    def empty(self) -> bool:\n",
    "        return len(self.entries) == 0\n",
    "\n",
    "    def max(self) -> int:\n",
    "        if self.empty():\n",
    "            return -1\n",
    "        else:\n",
    "            return self.cachedMax[-1][0]\n",
    "\n",
    "    def pop(self) -> int:\n",
    "        if self.empty():\n",
    "            return -1\n",
    "        else:\n",
    "            val = self.entries.pop()\n",
    "            if val == self.cachedMax[-1][0]:\n",
    "                if self.cachedMax[-1][1] == 1:\n",
    "                    self.cachedMax.pop()\n",
    "                else:\n",
    "                    self.cachedMax[-1] = (val, self.cachedMax[-1][1] - 1)\n",
    "            return val\n",
    "\n",
    "    def push(self, x: int) -> None:\n",
    "        self.entries.append(x)\n",
    "        \n",
    "        if len(self.cachedMax) == 0:\n",
    "            self.cachedMax.append((x, 1))\n",
    "        else:\n",
    "            if self.cachedMax[-1][0] == x:\n",
    "                self.cachedMax[-1] = (x, self.cachedMax[-1][1] + 1)\n",
    "            \n",
    "            if self.cachedMax[-1][0] < x:\n",
    "                self.cachedMax.append((x, 1))"
   ]
  },
  {
   "cell_type": "code",
   "execution_count": null,
   "metadata": {},
   "outputs": [],
   "source": []
  },
  {
   "cell_type": "markdown",
   "metadata": {},
   "source": [
    "> Another variation"
   ]
  },
  {
   "cell_type": "code",
   "execution_count": null,
   "metadata": {},
   "outputs": [],
   "source": [
    "class Stack:\n",
    "    class MaxWithCount:\n",
    "        def __init__(self, max, count):\n",
    "            self.max = max; self.count = count\n",
    "            \n",
    "    def __init__(self):\n",
    "        self.entries = []; self.cachedMax = []\n",
    "        \n",
    "    def empty(self) -> bool:\n",
    "        return len(self.entries) == 0\n",
    "\n",
    "    def max(self) -> int:\n",
    "        if self.empty():\n",
    "            return -1\n",
    "        else:\n",
    "            return self.cachedMax[-1].max\n",
    "\n",
    "    def pop(self) -> int:\n",
    "        if self.empty():\n",
    "            return -1\n",
    "        else:\n",
    "            popItem = self.entries.pop()\n",
    "            current_max = self.cachedMax[-1].max\n",
    "            \n",
    "            if popItem == current_max:\n",
    "                if self.cachedMax[-1].count == 1:\n",
    "                    self.cachedMax.pop()\n",
    "                else:\n",
    "                    self.cachedMax[-1].count -= 1\n",
    "            return popItem\n",
    "\n",
    "    def push(self, x: int) -> None:\n",
    "        self.entries.append(x)\n",
    "        \n",
    "        if len(self.cachedMax) == 0:\n",
    "            self.cachedMax.append(self.MaxWithCount(x, 1))\n",
    "        else:\n",
    "            current_max = self.cachedMax[-1].max\n",
    "            \n",
    "            if current_max == x:\n",
    "                self.cachedMax[-1].count += 1\n",
    "            elif x > current_max:\n",
    "                self.cachedMax.append(self.MaxWithCount(x, 1))"
   ]
  }
 ],
 "metadata": {
  "kernelspec": {
   "display_name": "Python 3",
   "language": "python",
   "name": "python3"
  },
  "language_info": {
   "codemirror_mode": {
    "name": "ipython",
    "version": 3
   },
   "file_extension": ".py",
   "mimetype": "text/x-python",
   "name": "python",
   "nbconvert_exporter": "python",
   "pygments_lexer": "ipython3",
   "version": "3.8.3"
  }
 },
 "nbformat": 4,
 "nbformat_minor": 4
}
