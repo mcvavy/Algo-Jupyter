{
 "cells": [
  {
   "cell_type": "markdown",
   "metadata": {},
   "source": [
    "> **Implement a queue API using an array for storing elements. Your API should include a constructor functioru which takes as argument the initial capacity of the queue, enqueue and dequeue functions, and a function which retums the number of elements stored. Implement dynamic resizing to support storing an arbitrarily large number of elements.**   \n",
    "\n",
    "_Hint:Track the head and tail. How can you differentiate a full queue from an empty one?_    \n",
    "\n",
    "[Circular array explanation 1](https://www.youtube.com/watch?v=8sjFA-IX-Ww&t=185s&ab_channel=BlueTreeCode)  \n",
    "\n",
    "[Circular array explanation 2](https://www.youtube.com/watch?v=dn01XST9-bI&ab_channel=Jenny%27slecturesCS%2FITNET%26JRF)"
   ]
  },
  {
   "cell_type": "code",
   "execution_count": 48,
   "metadata": {},
   "outputs": [
    {
     "name": "stdout",
     "output_type": "stream",
     "text": [
      "-394--304\n",
      "Dequeue is  -394\n",
      "-394--304\n"
     ]
    }
   ],
   "source": [
    "class Queue:\n",
    "    SCALE_FACTOR = 2\n",
    "    def __init__(self, capacity: int) -> None:\n",
    "        self.queue = [None] * capacity\n",
    "        self.front = self.rear = -1\n",
    "        self.queue_size = 0\n",
    "\n",
    "    def enqueue(self, x: int) -> None:\n",
    "        if self.is_empty:\n",
    "            self.front = self.rear = 0\n",
    "            self.queue[self.rear] = x\n",
    "            self.queue_size += 1\n",
    "        elif self.is_full:\n",
    "            self.__resize()\n",
    "            self.rear = (self.rear + 1)%len(self.queue)\n",
    "            self.queue[self.rear] = x\n",
    "            self.queue_size += 1\n",
    "        else:\n",
    "            self.rear = (self.rear + 1)%len(self.queue)\n",
    "            self.queue[self.rear] = x\n",
    "            self.queue_size += 1\n",
    "\n",
    "    def dequeue(self) -> int:\n",
    "        res = -1\n",
    "        if self.is_empty:\n",
    "            raise IndexError(\"empty queue\")\n",
    "        elif self.front == self.rear:\n",
    "            res = self.queue[self.front]\n",
    "            self.front = self.rear = -1\n",
    "            self.queue_size -= 1\n",
    "        else:\n",
    "            res = self.queue[self.front]\n",
    "            self.front = (self.front + 1)%len(self.queue)\n",
    "            self.queue_size -= 1\n",
    "        return res\n",
    "            \n",
    "    def size(self) -> int:\n",
    "        return self.queue_size\n",
    "    \n",
    "    @property\n",
    "    def is_full(self):\n",
    "        return self.queue_size == len(self.queue)\n",
    "    \n",
    "    @property\n",
    "    def is_empty(self):\n",
    "        return self.front == -1 and self.rear == -1\n",
    "    \n",
    "    def __resize(self):\n",
    "        temp_queue = [None] * (self.queue_size * self.SCALE_FACTOR)\n",
    "        j = self.front\n",
    "        i = 0\n",
    "        \n",
    "        while True:\n",
    "            temp_queue[i] = self.queue[j]\n",
    "            i += 1\n",
    "            j = (j + 1) % len(self.queue)\n",
    "            \n",
    "            if(j == self.front):\n",
    "                break\n",
    "        \n",
    "        self.front = 0\n",
    "        self.rear = len(self.queue) - 1\n",
    "        self.queue = temp_queue\n",
    "    \n",
    "    def __str__(self):\n",
    "        return '-'.join([str(x) for x in self.queue])\n",
    "        \n",
    "    \n",
    "q = Queue(1)\n",
    "q.enqueue(-394)\n",
    "q.enqueue(-304)\n",
    "print(q)\n",
    "print(\"Dequeue is \", q.dequeue())\n",
    "print(q)\n",
    "    "
   ]
  }
 ],
 "metadata": {
  "kernelspec": {
   "display_name": "Python 3",
   "language": "python",
   "name": "python3"
  },
  "language_info": {
   "codemirror_mode": {
    "name": "ipython",
    "version": 3
   },
   "file_extension": ".py",
   "mimetype": "text/x-python",
   "name": "python",
   "nbconvert_exporter": "python",
   "pygments_lexer": "ipython3",
   "version": "3.8.3"
  }
 },
 "nbformat": 4,
 "nbformat_minor": 4
}
