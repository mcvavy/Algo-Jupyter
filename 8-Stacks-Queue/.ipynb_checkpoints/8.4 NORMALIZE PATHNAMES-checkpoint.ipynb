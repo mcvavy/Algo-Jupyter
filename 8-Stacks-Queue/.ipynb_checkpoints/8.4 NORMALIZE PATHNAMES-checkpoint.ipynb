{
 "cells": [
  {
   "cell_type": "markdown",
   "metadata": {},
   "source": [
    "> **Write a program which takes a pathname, and returns the shortest equivalent pathname. Assume individual directories and files have names that use only alphanumeric characters. Subdirectory names may be combined using forward slashes (/), the current directory (.) and parent directory (. .).**\n",
    "\n",
    "_Hint: Trace the cases. How should . and . . be handled? Watch for invalid paths._    "
   ]
  },
  {
   "cell_type": "code",
   "execution_count": 2,
   "metadata": {},
   "outputs": [],
   "source": [
    "# Time complexity: O(n) where n is the length of the pathname\n",
    "def shortest_equivalent_path(path: str) -> str:\n",
    "    if not path:\n",
    "        raise ValueError(\"Empty string is not a valid path\")\n",
    "        \n",
    "    DELIMETER = '/'\n",
    "    PARENT_DIR = '..'\n",
    "    path_names = []\n",
    "\n",
    "    if path[0] == '/':\n",
    "        path_names.append('/')\n",
    "\n",
    "    tokens = [token for token in path.split(DELIMETER) if token not in ['', '.']]\n",
    "\n",
    "    for token in tokens:\n",
    "        if token == PARENT_DIR:\n",
    "            if not path_names or path_names[-1] == PARENT_DIR:\n",
    "                path_names.append(token)\n",
    "            else:\n",
    "                if path_names[-1] == '/':\n",
    "                    raise ValueError('Path error')\n",
    "                else:\n",
    "                    path_names.pop()\n",
    "        else:\n",
    "            path_names.append(token)\n",
    "\n",
    "    result = '/'.join(path_names)\n",
    "    return result[result.startswith(\"//\"):]"
   ]
  }
 ],
 "metadata": {
  "kernelspec": {
   "display_name": "Python 3",
   "language": "python",
   "name": "python3"
  },
  "language_info": {
   "codemirror_mode": {
    "name": "ipython",
    "version": 3
   },
   "file_extension": ".py",
   "mimetype": "text/x-python",
   "name": "python",
   "nbconvert_exporter": "python",
   "pygments_lexer": "ipython3",
   "version": "3.8.3"
  }
 },
 "nbformat": 4,
 "nbformat_minor": 4
}
