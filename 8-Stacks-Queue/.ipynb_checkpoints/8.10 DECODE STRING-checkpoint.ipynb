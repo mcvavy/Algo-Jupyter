{
 "cells": [
  {
   "cell_type": "markdown",
   "metadata": {},
   "source": [
    "> **394. Decode String**   \n",
    "\n",
    "- [Leet Code Problem](https://leetcode.com/problems/decode-string/)\n",
    "- [Solution Explanation](https://www.youtube.com/watch?v=CW3ZYAN5Huo&ab_channel=jayatitiwari)"
   ]
  },
  {
   "cell_type": "code",
   "execution_count": 11,
   "metadata": {},
   "outputs": [
    {
     "data": {
      "text/plain": [
       "'accaccacc'"
      ]
     },
     "execution_count": 11,
     "metadata": {},
     "output_type": "execute_result"
    }
   ],
   "source": [
    "import string\n",
    "def decodeString(s: str) -> str:\n",
    "        SS = []\n",
    "        IS = []\n",
    "        res = \"\"\n",
    "        \n",
    "        i = 0\n",
    "        while i < len(s):\n",
    "            if s[i].isdigit():\n",
    "                num = 0\n",
    "                while s[i].isdigit():\n",
    "                    num = num * 10 + int(s[i])\n",
    "                    i += 1\n",
    "                IS.append(num)\n",
    "            elif s[i] == \"[\":\n",
    "                SS.append(res)\n",
    "                res = \"\"\n",
    "                i += 1\n",
    "            elif s[i] == \"]\":\n",
    "                temp = SS.pop()\n",
    "                integer = IS.pop()\n",
    "                for _ in range(integer):\n",
    "                    temp += res\n",
    "                res = temp\n",
    "                i += 1\n",
    "            else:\n",
    "                res = res + s[i]\n",
    "                i += 1\n",
    "        return res\n",
    "decodeString(\"3[a2[c]]\")\n",
    "                \n",
    "                "
   ]
  }
 ],
 "metadata": {
  "kernelspec": {
   "display_name": "Python 3",
   "language": "python",
   "name": "python3"
  },
  "language_info": {
   "codemirror_mode": {
    "name": "ipython",
    "version": 3
   },
   "file_extension": ".py",
   "mimetype": "text/x-python",
   "name": "python",
   "nbconvert_exporter": "python",
   "pygments_lexer": "ipython3",
   "version": "3.8.3"
  }
 },
 "nbformat": 4,
 "nbformat_minor": 4
}
