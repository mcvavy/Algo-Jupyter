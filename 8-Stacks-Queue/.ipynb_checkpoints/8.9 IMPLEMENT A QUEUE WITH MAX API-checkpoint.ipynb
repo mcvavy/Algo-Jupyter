{
 "cells": [
  {
   "cell_type": "markdown",
   "metadata": {},
   "source": [
    "> **Implement a queue with enqueue, dequeue, and max operations. The max operation returns the maximum element currently stored in the queue.**   \n",
    "\n",
    "_Hint: When can an element never be returned by max, regardless of future updates?_    "
   ]
  },
  {
   "cell_type": "code",
   "execution_count": null,
   "metadata": {},
   "outputs": [],
   "source": [
    "from collections import deque\n",
    "\n",
    "class QueueWithMax:\n",
    "    def __init__(self):\n",
    "        self._entries = deque()\n",
    "        self._max_entries = deque()\n",
    "        \n",
    "    def enqueue(self, x: int) -> None:\n",
    "        self._entries.append(x)\n",
    "        \n",
    "        while self._max_entries and self._max_entries[-1] < x:\n",
    "            self._max_enties.pop()\n",
    "        self._max_entries.append(x)\n",
    "\n",
    "    def dequeue(self) -> int:\n",
    "        if self._entries:\n",
    "            result = self._entries.popleft()\n",
    "            if result == self._max_entries[0]:\n",
    "                self._max_entries.popleft()\n",
    "            return result\n",
    "        raise IndexError(\"Empty queue\")\n",
    "\n",
    "    def max(self) -> int:\n",
    "        if self._max_entries:\n",
    "            return self._max_entries[0]\n",
    "        raise IndexError(\"Empty queue\")"
   ]
  }
 ],
 "metadata": {
  "kernelspec": {
   "display_name": "Python 3",
   "language": "python",
   "name": "python3"
  },
  "language_info": {
   "codemirror_mode": {
    "name": "ipython",
    "version": 3
   },
   "file_extension": ".py",
   "mimetype": "text/x-python",
   "name": "python",
   "nbconvert_exporter": "python",
   "pygments_lexer": "ipython3",
   "version": "3.8.3"
  }
 },
 "nbformat": 4,
 "nbformat_minor": 4
}
