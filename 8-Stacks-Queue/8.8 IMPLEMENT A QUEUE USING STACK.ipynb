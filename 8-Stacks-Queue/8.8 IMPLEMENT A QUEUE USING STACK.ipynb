{
 "cells": [
  {
   "cell_type": "markdown",
   "metadata": {},
   "source": [
    "> **How would you implement a queue given a library implementing stacks?**   \n",
    "\n",
    "_Hint:lt is impossible to solve this problem with a single stack._    "
   ]
  },
  {
   "cell_type": "code",
   "execution_count": 1,
   "metadata": {},
   "outputs": [],
   "source": [
    "class Queue:\n",
    "    def __init__(self):\n",
    "        self.queue = []\n",
    "    def enqueue(self, x: int) -> None:\n",
    "        self.queue.append(x)\n",
    "\n",
    "    def dequeue(self) -> int:\n",
    "        return self.queue.pop(0)"
   ]
  },
  {
   "cell_type": "code",
   "execution_count": null,
   "metadata": {},
   "outputs": [],
   "source": []
  },
  {
   "cell_type": "markdown",
   "metadata": {},
   "source": [
    "> More optimal"
   ]
  },
  {
   "cell_type": "code",
   "execution_count": null,
   "metadata": {},
   "outputs": [],
   "source": [
    "class Queue:\n",
    "    def __init__(self):\n",
    "        self.enq = []\n",
    "        self.deq = []\n",
    "    def enqueue(self, x: int) -> None:\n",
    "        self.enq.append(x)\n",
    "\n",
    "    def dequeue(self) -> int:\n",
    "        if not self.deq:\n",
    "            # Transfer all elements from enq to deq\n",
    "            while self.enq:\n",
    "                self.deq.append(self.enq.pop())\n",
    "        if not self.deq: #deq is still empty\n",
    "            raise IndexError('empty queue')\n",
    "        return self.deq.pop()"
   ]
  }
 ],
 "metadata": {
  "kernelspec": {
   "display_name": "Python 3",
   "language": "python",
   "name": "python3"
  },
  "language_info": {
   "codemirror_mode": {
    "name": "ipython",
    "version": 3
   },
   "file_extension": ".py",
   "mimetype": "text/x-python",
   "name": "python",
   "nbconvert_exporter": "python",
   "pygments_lexer": "ipython3",
   "version": "3.8.3"
  }
 },
 "nbformat": 4,
 "nbformat_minor": 4
}
